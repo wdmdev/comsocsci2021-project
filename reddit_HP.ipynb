{
  "cells": [
    {
      "cell_type": "code",
      "metadata": {
        "tags": [],
        "cell_id": "00000-bd579ada-1d3c-4ed5-841d-5293ee41672d",
        "deepnote_to_be_reexecuted": false,
        "source_hash": "a999e357",
        "execution_millis": 4154,
        "execution_start": 1619004230386,
        "deepnote_cell_type": "code"
      },
      "source": "!pip install psaw\nfrom psaw import PushshiftAPI\nimport pandas as pd\nimport numpy as np\nimport datetime\nimport matplotlib.pyplot as plt\nfrom tqdm import tqdm\n",
      "execution_count": 5,
      "outputs": [
        {
          "name": "stdout",
          "text": "Requirement already satisfied: psaw in /root/venv/lib/python3.8/site-packages (0.1.0)\r\nRequirement already satisfied: requests in /shared-libs/python3.8/py/lib/python3.8/site-packages (from psaw) (2.25.1)\r\nRequirement already satisfied: Click in /shared-libs/python3.8/py/lib/python3.8/site-packages (from psaw) (7.1.2)\r\nRequirement already satisfied: urllib3<1.27,>=1.21.1 in /shared-libs/python3.8/py/lib/python3.8/site-packages (from requests->psaw) (1.26.4)\r\nRequirement already satisfied: certifi>=2017.4.17 in /shared-libs/python3.8/py/lib/python3.8/site-packages (from requests->psaw) (2020.12.5)\r\nRequirement already satisfied: chardet<5,>=3.0.2 in /shared-libs/python3.8/py/lib/python3.8/site-packages (from requests->psaw) (3.0.4)\r\nRequirement already satisfied: idna<3,>=2.5 in /shared-libs/python3.8/py/lib/python3.8/site-packages (from requests->psaw) (2.10)\r\n",
          "output_type": "stream"
        }
      ]
    },
    {
      "cell_type": "code",
      "source": "api = PushshiftAPI()",
      "metadata": {
        "tags": [],
        "cell_id": "00001-05993260-a534-4168-8076-7dc55086a69c",
        "deepnote_to_be_reexecuted": false,
        "source_hash": "7322360b",
        "execution_start": 1619004237262,
        "execution_millis": 539,
        "deepnote_cell_type": "code"
      },
      "outputs": [],
      "execution_count": 6
    },
    {
      "cell_type": "code",
      "source": "my_subreddit = \"harrypotter\"\ndate1 = int(datetime.datetime(2021, 1, 1).timestamp())\ndate2 = int(datetime.datetime(2021, 3, 25).timestamp())\nquery = \"Gryffindor\"\n\ngen = api.search_submissions(subreddit = my_subreddit,\n                            after = date1,\n                            before = date2,\n                            q = query)\n\n# consider adding filter\n# ,\n#                             filter=['author', 'title', 'id', 'score', 'created_utc', 'num_comments']\n\nresults = list(gen)\n\n\n# try threading\n\n# def get_subs()\n#     gen = api.search_submissions(subreddit = my_subreddit,\n#                                 after = date1,\n#                                 before = date2,\n#                                 q = query)\n\n#     results = list(gen)",
      "metadata": {
        "tags": [],
        "cell_id": "00002-5e1db015-8a91-4795-bae1-b36c0e5b5679",
        "deepnote_to_be_reexecuted": false,
        "source_hash": "78bdd147",
        "execution_millis": 3905,
        "execution_start": 1619004269066,
        "deepnote_cell_type": "code"
      },
      "outputs": [],
      "execution_count": 8
    },
    {
      "cell_type": "code",
      "source": "df_submissions = pd.DataFrame([(p.d_[\"title\"], \n                        p.d_[\"id\"], \n                        p.d_[\"score\"], \n                        p.d_[\"created_utc\"],\n                        datetime.datetime.utcfromtimestamp(p.d_[\"created_utc\"]).strftime(\"%Y-%m-%d\"),\n                        p.d_[\"author\"],\n                        p.d_[\"num_comments\"],\n                        p.d_[\"author_flair_richtext\"]) \n                        for p in results], \n                        columns = [\"title\", \"id\", \"score\", \"created_utc\", \"creation_date\", \"author\", \"num_comments\", \"author_flair_text\"])\ndf_submissions",
      "metadata": {
        "tags": [],
        "cell_id": "00003-ceba97e5-8b43-4e01-8777-8cd771e96d2d",
        "deepnote_to_be_reexecuted": false,
        "source_hash": "3b500818",
        "execution_millis": 5,
        "execution_start": 1619004633673,
        "deepnote_cell_type": "code"
      },
      "outputs": [
        {
          "output_type": "error",
          "ename": "KeyError",
          "evalue": "'author_flair_richtext'",
          "traceback": [
            "\u001b[0;31m---------------------------------------------------------------------------\u001b[0m",
            "\u001b[0;31mKeyError\u001b[0m                                  Traceback (most recent call last)",
            "\u001b[0;32m<ipython-input-19-490e96d1ea57>\u001b[0m in \u001b[0;36m<module>\u001b[0;34m\u001b[0m\n\u001b[0;32m----> 1\u001b[0;31m df_submissions = pd.DataFrame([(p.d_[\"title\"], \n\u001b[0m\u001b[1;32m      2\u001b[0m                         \u001b[0mp\u001b[0m\u001b[0;34m.\u001b[0m\u001b[0md_\u001b[0m\u001b[0;34m[\u001b[0m\u001b[0;34m\"id\"\u001b[0m\u001b[0;34m]\u001b[0m\u001b[0;34m,\u001b[0m\u001b[0;34m\u001b[0m\u001b[0;34m\u001b[0m\u001b[0m\n\u001b[1;32m      3\u001b[0m                         \u001b[0mp\u001b[0m\u001b[0;34m.\u001b[0m\u001b[0md_\u001b[0m\u001b[0;34m[\u001b[0m\u001b[0;34m\"score\"\u001b[0m\u001b[0;34m]\u001b[0m\u001b[0;34m,\u001b[0m\u001b[0;34m\u001b[0m\u001b[0;34m\u001b[0m\u001b[0m\n\u001b[1;32m      4\u001b[0m                         \u001b[0mp\u001b[0m\u001b[0;34m.\u001b[0m\u001b[0md_\u001b[0m\u001b[0;34m[\u001b[0m\u001b[0;34m\"created_utc\"\u001b[0m\u001b[0;34m]\u001b[0m\u001b[0;34m,\u001b[0m\u001b[0;34m\u001b[0m\u001b[0;34m\u001b[0m\u001b[0m\n\u001b[1;32m      5\u001b[0m                         \u001b[0mdatetime\u001b[0m\u001b[0;34m.\u001b[0m\u001b[0mdatetime\u001b[0m\u001b[0;34m.\u001b[0m\u001b[0mutcfromtimestamp\u001b[0m\u001b[0;34m(\u001b[0m\u001b[0mp\u001b[0m\u001b[0;34m.\u001b[0m\u001b[0md_\u001b[0m\u001b[0;34m[\u001b[0m\u001b[0;34m\"created_utc\"\u001b[0m\u001b[0;34m]\u001b[0m\u001b[0;34m)\u001b[0m\u001b[0;34m.\u001b[0m\u001b[0mstrftime\u001b[0m\u001b[0;34m(\u001b[0m\u001b[0;34m\"%Y-%m-%d\"\u001b[0m\u001b[0;34m)\u001b[0m\u001b[0;34m,\u001b[0m\u001b[0;34m\u001b[0m\u001b[0;34m\u001b[0m\u001b[0m\n",
            "\u001b[0;32m<ipython-input-19-490e96d1ea57>\u001b[0m in \u001b[0;36m<listcomp>\u001b[0;34m(.0)\u001b[0m\n\u001b[1;32m      6\u001b[0m                         \u001b[0mp\u001b[0m\u001b[0;34m.\u001b[0m\u001b[0md_\u001b[0m\u001b[0;34m[\u001b[0m\u001b[0;34m\"author\"\u001b[0m\u001b[0;34m]\u001b[0m\u001b[0;34m,\u001b[0m\u001b[0;34m\u001b[0m\u001b[0;34m\u001b[0m\u001b[0m\n\u001b[1;32m      7\u001b[0m                         \u001b[0mp\u001b[0m\u001b[0;34m.\u001b[0m\u001b[0md_\u001b[0m\u001b[0;34m[\u001b[0m\u001b[0;34m\"num_comments\"\u001b[0m\u001b[0;34m]\u001b[0m\u001b[0;34m,\u001b[0m\u001b[0;34m\u001b[0m\u001b[0;34m\u001b[0m\u001b[0m\n\u001b[0;32m----> 8\u001b[0;31m                         p.d_[\"author_flair_richtext\"]) \n\u001b[0m\u001b[1;32m      9\u001b[0m                         for p in results], \n\u001b[1;32m     10\u001b[0m                         columns = [\"title\", \"id\", \"score\", \"created_utc\", \"creation_date\", \"author\", \"num_comments\", \"author_flair_text\"])\n",
            "\u001b[0;31mKeyError\u001b[0m: 'author_flair_richtext'"
          ]
        }
      ],
      "execution_count": 19
    },
    {
      "cell_type": "code",
      "source": "results[0][]",
      "metadata": {
        "tags": [],
        "cell_id": "00004-08f69ec7-4b79-4360-925a-b3a3bc385589",
        "deepnote_to_be_reexecuted": false,
        "source_hash": "1df200da",
        "execution_millis": 9,
        "execution_start": 1619004659711,
        "deepnote_cell_type": "code"
      },
      "outputs": [
        {
          "output_type": "execute_result",
          "execution_count": 21,
          "data": {
            "text/plain": "False"
          },
          "metadata": {}
        }
      ],
      "execution_count": 21
    },
    {
      "cell_type": "markdown",
      "source": "<a style='text-decoration:none;line-height:16px;display:flex;color:#5B5B62;padding:10px;justify-content:end;' href='https://deepnote.com?utm_source=created-in-deepnote-cell&projectId=85fb65b4-b596-4730-837e-04e86eafe419' target=\"_blank\">\n<img alt='Created in deepnote.com' style='display:inline;max-height:16px;margin:0px;margin-right:7.5px;' src='data:image/svg+xml;base64,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' > </img>\nCreated in <span style='font-weight:600;margin-left:4px;'>Deepnote</span></a>",
      "metadata": {
        "tags": [],
        "created_in_deepnote_cell": true,
        "deepnote_cell_type": "markdown"
      }
    }
  ],
  "nbformat": 4,
  "nbformat_minor": 2,
  "metadata": {
    "orig_nbformat": 2,
    "deepnote": {
      "is_reactive": false
    },
    "deepnote_notebook_id": "7063a63f-ca29-4767-9e55-b50cd6334903",
    "deepnote_execution_queue": []
  }
}
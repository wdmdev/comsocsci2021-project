{
  "cells": [
    {
      "cell_type": "markdown",
      "source": "# Network Analysis of Harry Potter Book Series",
      "metadata": {
        "tags": [],
        "cell_id": "00000-4d23abd9-b58b-4aea-a498-866116ddb763",
        "deepnote_cell_type": "markdown"
      }
    },
    {
      "cell_type": "markdown",
      "source": "## Setup",
      "metadata": {
        "tags": [],
        "cell_id": "00001-27188239-fd56-4eb0-b754-1283ccba604b",
        "deepnote_cell_type": "markdown"
      }
    },
    {
      "cell_type": "code",
      "metadata": {
        "tags": [],
        "cell_id": "00001-be655e51-da84-4934-9889-166a2db6df9c",
        "deepnote_to_be_reexecuted": false,
        "source_hash": "eaaa5c1d",
        "execution_millis": 6357,
        "execution_start": 1617804700859,
        "deepnote_cell_type": "code"
      },
      "source": "!pip install -r requirements.txt\nfrom sentiment import *",
      "execution_count": 3,
      "outputs": [
        {
          "name": "stdout",
          "text": "Requirement already satisfied: tqdm in /shared-libs/python3.8/py/lib/python3.8/site-packages (from -r requirements.txt (line 1)) (4.59.0)\nCollecting beautifulsoup4\n  Downloading beautifulsoup4-4.9.3-py3-none-any.whl (115 kB)\n\u001b[K     |████████████████████████████████| 115 kB 24.5 MB/s \n\u001b[?25hRequirement already satisfied: nltk in /shared-libs/python3.8/py/lib/python3.8/site-packages (from -r requirements.txt (line 3)) (3.5)\nCollecting vaderSentiment\n  Downloading vaderSentiment-3.3.2-py2.py3-none-any.whl (125 kB)\n\u001b[K     |████████████████████████████████| 125 kB 54.0 MB/s \n\u001b[?25hCollecting soupsieve>1.2; python_version >= \"3.0\"\n  Downloading soupsieve-2.2.1-py3-none-any.whl (33 kB)\nRequirement already satisfied: click in /shared-libs/python3.8/py/lib/python3.8/site-packages (from nltk->-r requirements.txt (line 3)) (7.1.2)\nRequirement already satisfied: regex in /shared-libs/python3.8/py/lib/python3.8/site-packages (from nltk->-r requirements.txt (line 3)) (2020.11.13)\nRequirement already satisfied: joblib in /shared-libs/python3.8/py/lib/python3.8/site-packages (from nltk->-r requirements.txt (line 3)) (1.0.1)\nRequirement already satisfied: requests in /shared-libs/python3.8/py/lib/python3.8/site-packages (from vaderSentiment->-r requirements.txt (line 4)) (2.25.1)\nRequirement already satisfied: certifi>=2017.4.17 in /shared-libs/python3.8/py/lib/python3.8/site-packages (from requests->vaderSentiment->-r requirements.txt (line 4)) (2020.12.5)\nRequirement already satisfied: urllib3<1.27,>=1.21.1 in /shared-libs/python3.8/py/lib/python3.8/site-packages (from requests->vaderSentiment->-r requirements.txt (line 4)) (1.26.4)\nRequirement already satisfied: idna<3,>=2.5 in /shared-libs/python3.8/py/lib/python3.8/site-packages (from requests->vaderSentiment->-r requirements.txt (line 4)) (2.10)\nRequirement already satisfied: chardet<5,>=3.0.2 in /shared-libs/python3.8/py/lib/python3.8/site-packages (from requests->vaderSentiment->-r requirements.txt (line 4)) (3.0.4)\nInstalling collected packages: soupsieve, beautifulsoup4, vaderSentiment\nSuccessfully installed beautifulsoup4-4.9.3 soupsieve-2.2.1 vaderSentiment-3.3.2\n\u001b[33mWARNING: You are using pip version 20.2.3; however, version 21.0.1 is available.\nYou should consider upgrading via the '/root/venv/bin/python -m pip install --upgrade pip' command.\u001b[0m\n",
          "output_type": "stream"
        }
      ]
    },
    {
      "cell_type": "markdown",
      "source": "## Function Definitions for Text Analysis",
      "metadata": {
        "tags": [],
        "cell_id": "00001-7260aeac-dc55-44c5-99cf-4627d2547e71",
        "deepnote_cell_type": "markdown"
      }
    },
    {
      "cell_type": "markdown",
      "source": "`happiness(doc)` takes a list of words and computes the average happiness score using the Hedonometer\n\n`emotion_score(doc)` takes a list of words and computes a dictionary of average emotion scores among the emotions: _Anger, Anticipation,\tDisgust, Fear, Joy, Sadness, Surprise_ and _Trust_\n\n`vader_sentiment(doc)` takes a list of words and/or sentences and computes the average VADER compund score\n\n`TF_IDF(docs_to_analyse, all_docs)` computes TF and TF-IDF score of terms in docs_to_analyse. all_docs are used to comput IDF scores \n",
      "metadata": {
        "tags": [],
        "cell_id": "00002-661015eb-5176-421b-bac4-e5ad36546c5e",
        "deepnote_cell_type": "markdown"
      }
    },
    {
      "cell_type": "code",
      "metadata": {
        "tags": [],
        "cell_id": "00004-0bbc3bd5-c43b-4217-9b83-4d5eba75832b",
        "deepnote_to_be_reexecuted": false,
        "source_hash": "e26e8fea",
        "execution_millis": 2,
        "execution_start": 1617804747297,
        "deepnote_cell_type": "code"
      },
      "source": "import pandas as pd\nimport pickle as pkl\nfrom clean_books import clean_book",
      "execution_count": 5,
      "outputs": []
    },
    {
      "cell_type": "code",
      "metadata": {
        "tags": [],
        "cell_id": "00007-31995f99-1250-4f26-b933-74d9cc4bd16c",
        "deepnote_to_be_reexecuted": false,
        "source_hash": "131f3747",
        "execution_millis": 73,
        "execution_start": 1617807041068,
        "deepnote_cell_type": "code"
      },
      "source": "chapter_info = pd.read_pickle('data/chapter_dataframe.pkl')\n# Add book number to chapters\nidx = list(np.where(chapter_info[\"Local Chapter\"].values == 1)[0])\nfor i in range(7):\n    chapter_info.loc[idx[i]:(idx[i+1] if i+1 < len(idx) else None), \"Book\"] = int(i+1)\n\nchapter_info",
      "execution_count": 103,
      "outputs": [
        {
          "output_type": "execute_result",
          "execution_count": 103,
          "data": {
            "application/vnd.deepnote.dataframe.v2+json": {
              "row_count": 199,
              "column_count": 5,
              "columns": [
                {
                  "name": "Global Chapter",
                  "dtype": "int64",
                  "stats": {
                    "unique_count": 199,
                    "nan_count": 0,
                    "min": 1,
                    "max": 199,
                    "histogram": [
                      {
                        "bin_start": 1,
                        "bin_end": 20.8,
                        "count": 20
                      },
                      {
                        "bin_start": 20.8,
                        "bin_end": 40.6,
                        "count": 20
                      },
                      {
                        "bin_start": 40.6,
                        "bin_end": 60.400000000000006,
                        "count": 20
                      },
                      {
                        "bin_start": 60.400000000000006,
                        "bin_end": 80.2,
                        "count": 20
                      },
                      {
                        "bin_start": 80.2,
                        "bin_end": 100,
                        "count": 19
                      },
                      {
                        "bin_start": 100,
                        "bin_end": 119.80000000000001,
                        "count": 20
                      },
                      {
                        "bin_start": 119.80000000000001,
                        "bin_end": 139.6,
                        "count": 20
                      },
                      {
                        "bin_start": 139.6,
                        "bin_end": 159.4,
                        "count": 20
                      },
                      {
                        "bin_start": 159.4,
                        "bin_end": 179.20000000000002,
                        "count": 20
                      },
                      {
                        "bin_start": 179.20000000000002,
                        "bin_end": 199,
                        "count": 20
                      }
                    ]
                  }
                },
                {
                  "name": "Local Chapter",
                  "dtype": "int64",
                  "stats": {
                    "unique_count": 38,
                    "nan_count": 0,
                    "min": 1,
                    "max": 38,
                    "histogram": [
                      {
                        "bin_start": 1,
                        "bin_end": 4.7,
                        "count": 28
                      },
                      {
                        "bin_start": 4.7,
                        "bin_end": 8.4,
                        "count": 28
                      },
                      {
                        "bin_start": 8.4,
                        "bin_end": 12.100000000000001,
                        "count": 28
                      },
                      {
                        "bin_start": 12.100000000000001,
                        "bin_end": 15.8,
                        "count": 21
                      },
                      {
                        "bin_start": 15.8,
                        "bin_end": 19.5,
                        "count": 25
                      },
                      {
                        "bin_start": 19.5,
                        "bin_end": 23.200000000000003,
                        "count": 19
                      },
                      {
                        "bin_start": 23.200000000000003,
                        "bin_end": 26.900000000000002,
                        "count": 12
                      },
                      {
                        "bin_start": 26.900000000000002,
                        "bin_end": 30.6,
                        "count": 16
                      },
                      {
                        "bin_start": 30.6,
                        "bin_end": 34.300000000000004,
                        "count": 12
                      },
                      {
                        "bin_start": 34.300000000000004,
                        "bin_end": 38,
                        "count": 10
                      }
                    ]
                  }
                },
                {
                  "name": "Title",
                  "dtype": "object",
                  "stats": {
                    "unique_count": 199,
                    "nan_count": 0,
                    "categories": [
                      {
                        "name": "The Boy Who Lived",
                        "count": 1
                      },
                      {
                        "name": "The Vanishing Glass",
                        "count": 1
                      },
                      {
                        "name": "197 others",
                        "count": 197
                      }
                    ]
                  }
                },
                {
                  "name": "Approx Story Time",
                  "dtype": "datetime64[ns]",
                  "stats": {
                    "unique_count": 146,
                    "nan_count": 0,
                    "min": "1981-11-01T00:00:00.000000",
                    "max": "2017-09-01T00:00:00.000000",
                    "histogram": [
                      {
                        "bin_start": 373420800000000000,
                        "bin_end": 486501120000000000,
                        "count": 1
                      },
                      {
                        "bin_start": 486501120000000000,
                        "bin_end": 599581440000000000,
                        "count": 0
                      },
                      {
                        "bin_start": 599581440000000000,
                        "bin_end": 712661760000000000,
                        "count": 18
                      },
                      {
                        "bin_start": 712661760000000000,
                        "bin_end": 825742080000000000,
                        "count": 101
                      },
                      {
                        "bin_start": 825742080000000000,
                        "bin_end": 938822400000000000,
                        "count": 78
                      },
                      {
                        "bin_start": 938822400000000000,
                        "bin_end": 1051902720000000000,
                        "count": 0
                      },
                      {
                        "bin_start": 1051902720000000000,
                        "bin_end": 1164983040000000000,
                        "count": 0
                      },
                      {
                        "bin_start": 1164983040000000000,
                        "bin_end": 1278063360000000000,
                        "count": 0
                      },
                      {
                        "bin_start": 1278063360000000000,
                        "bin_end": 1391143680000000000,
                        "count": 0
                      },
                      {
                        "bin_start": 1391143680000000000,
                        "bin_end": 1504224000000000000,
                        "count": 1
                      }
                    ]
                  }
                },
                {
                  "name": "Book",
                  "dtype": "float64",
                  "stats": {
                    "unique_count": 7,
                    "nan_count": 0,
                    "min": 1,
                    "max": 7,
                    "histogram": [
                      {
                        "bin_start": 1,
                        "bin_end": 1.6,
                        "count": 17
                      },
                      {
                        "bin_start": 1.6,
                        "bin_end": 2.2,
                        "count": 18
                      },
                      {
                        "bin_start": 2.2,
                        "bin_end": 2.8,
                        "count": 0
                      },
                      {
                        "bin_start": 2.8,
                        "bin_end": 3.4,
                        "count": 22
                      },
                      {
                        "bin_start": 3.4,
                        "bin_end": 4,
                        "count": 0
                      },
                      {
                        "bin_start": 4,
                        "bin_end": 4.6,
                        "count": 37
                      },
                      {
                        "bin_start": 4.6,
                        "bin_end": 5.2,
                        "count": 38
                      },
                      {
                        "bin_start": 5.2,
                        "bin_end": 5.8,
                        "count": 0
                      },
                      {
                        "bin_start": 5.8,
                        "bin_end": 6.3999999999999995,
                        "count": 30
                      },
                      {
                        "bin_start": 6.3999999999999995,
                        "bin_end": 7,
                        "count": 37
                      }
                    ]
                  }
                },
                {
                  "name": "_deepnote_index_column",
                  "dtype": "int64"
                }
              ],
              "rows_top": [
                {
                  "Global Chapter": 1,
                  "Local Chapter": 1,
                  "Title": "The Boy Who Lived",
                  "Approx Story Time": "1981-11-01T00:00:00.000000",
                  "Book": 1,
                  "_deepnote_index_column": 0
                },
                {
                  "Global Chapter": 2,
                  "Local Chapter": 2,
                  "Title": "The Vanishing Glass",
                  "Approx Story Time": "1991-06-23T00:00:00.000000",
                  "Book": 1,
                  "_deepnote_index_column": 1
                },
                {
                  "Global Chapter": 3,
                  "Local Chapter": 3,
                  "Title": "The Letters from No One",
                  "Approx Story Time": "1991-07-23T00:00:00.000000",
                  "Book": 1,
                  "_deepnote_index_column": 2
                },
                {
                  "Global Chapter": 4,
                  "Local Chapter": 4,
                  "Title": "The Keeper of Keys",
                  "Approx Story Time": "1991-07-31T00:00:00.000000",
                  "Book": 1,
                  "_deepnote_index_column": 3
                },
                {
                  "Global Chapter": 5,
                  "Local Chapter": 5,
                  "Title": "Diagon Alley",
                  "Approx Story Time": "1991-07-31T00:00:00.000000",
                  "Book": 1,
                  "_deepnote_index_column": 4
                },
                {
                  "Global Chapter": 6,
                  "Local Chapter": 6,
                  "Title": "The Journey from Platform Nine and Three-Quarters",
                  "Approx Story Time": "1991-08-01T00:00:00.000000",
                  "Book": 1,
                  "_deepnote_index_column": 5
                },
                {
                  "Global Chapter": 7,
                  "Local Chapter": 7,
                  "Title": "The Sorting Hat",
                  "Approx Story Time": "1991-09-01T00:00:00.000000",
                  "Book": 1,
                  "_deepnote_index_column": 6
                },
                {
                  "Global Chapter": 8,
                  "Local Chapter": 8,
                  "Title": "The Potions Master",
                  "Approx Story Time": "1991-09-02T00:00:00.000000",
                  "Book": 1,
                  "_deepnote_index_column": 7
                },
                {
                  "Global Chapter": 9,
                  "Local Chapter": 9,
                  "Title": "The Midnight Duel",
                  "Approx Story Time": "1991-09-12T00:00:00.000000",
                  "Book": 1,
                  "_deepnote_index_column": 8
                },
                {
                  "Global Chapter": 10,
                  "Local Chapter": 10,
                  "Title": "Hallowe'en",
                  "Approx Story Time": "1991-09-13T00:00:00.000000",
                  "Book": 1,
                  "_deepnote_index_column": 9
                },
                {
                  "Global Chapter": 11,
                  "Local Chapter": 11,
                  "Title": "Quidditch",
                  "Approx Story Time": "1991-11-08T00:00:00.000000",
                  "Book": 1,
                  "_deepnote_index_column": 10
                },
                {
                  "Global Chapter": 12,
                  "Local Chapter": 12,
                  "Title": "The Mirror of Erised",
                  "Approx Story Time": "1991-12-21T00:00:00.000000",
                  "Book": 1,
                  "_deepnote_index_column": 11
                },
                {
                  "Global Chapter": 13,
                  "Local Chapter": 13,
                  "Title": "Nicolas Flamel",
                  "Approx Story Time": "1992-01-05T00:00:00.000000",
                  "Book": 1,
                  "_deepnote_index_column": 12
                },
                {
                  "Global Chapter": 14,
                  "Local Chapter": 14,
                  "Title": "Norbert the Norwegian Ridgeback",
                  "Approx Story Time": "1992-03-23T00:00:00.000000",
                  "Book": 1,
                  "_deepnote_index_column": 13
                },
                {
                  "Global Chapter": 15,
                  "Local Chapter": 15,
                  "Title": "The Forbidden Forest",
                  "Approx Story Time": "1992-05-10T00:00:00.000000",
                  "Book": 1,
                  "_deepnote_index_column": 14
                },
                {
                  "Global Chapter": 16,
                  "Local Chapter": 16,
                  "Title": "Through the Trapdoor",
                  "Approx Story Time": "1992-06-04T00:00:00.000000",
                  "Book": 1,
                  "_deepnote_index_column": 15
                },
                {
                  "Global Chapter": 17,
                  "Local Chapter": 17,
                  "Title": "The Man with Two Faces",
                  "Approx Story Time": "1992-06-04T00:00:00.000000",
                  "Book": 1,
                  "_deepnote_index_column": 16
                },
                {
                  "Global Chapter": 18,
                  "Local Chapter": 1,
                  "Title": "The Worst Birthday",
                  "Approx Story Time": "1992-07-31T00:00:00.000000",
                  "Book": 2,
                  "_deepnote_index_column": 17
                },
                {
                  "Global Chapter": 19,
                  "Local Chapter": 2,
                  "Title": "Dobby’s Warning",
                  "Approx Story Time": "1992-07-31T00:00:00.000000",
                  "Book": 2,
                  "_deepnote_index_column": 18
                },
                {
                  "Global Chapter": 20,
                  "Local Chapter": 3,
                  "Title": "The Burrow",
                  "Approx Story Time": "1992-08-03T00:00:00.000000",
                  "Book": 2,
                  "_deepnote_index_column": 19
                },
                {
                  "Global Chapter": 21,
                  "Local Chapter": 4,
                  "Title": "At Flourish and Blotts",
                  "Approx Story Time": "1992-08-12T00:00:00.000000",
                  "Book": 2,
                  "_deepnote_index_column": 20
                },
                {
                  "Global Chapter": 22,
                  "Local Chapter": 5,
                  "Title": "The Whomping Willow",
                  "Approx Story Time": "1992-08-31T00:00:00.000000",
                  "Book": 2,
                  "_deepnote_index_column": 21
                },
                {
                  "Global Chapter": 23,
                  "Local Chapter": 6,
                  "Title": "Gilderoy Lockhart",
                  "Approx Story Time": "1992-09-02T00:00:00.000000",
                  "Book": 2,
                  "_deepnote_index_column": 22
                },
                {
                  "Global Chapter": 24,
                  "Local Chapter": 7,
                  "Title": "Mudbloods and Murmurs",
                  "Approx Story Time": "1992-09-05T00:00:00.000000",
                  "Book": 2,
                  "_deepnote_index_column": 23
                },
                {
                  "Global Chapter": 25,
                  "Local Chapter": 8,
                  "Title": "The Deathday Party",
                  "Approx Story Time": "1992-10-24T00:00:00.000000",
                  "Book": 2,
                  "_deepnote_index_column": 24
                },
                {
                  "Global Chapter": 26,
                  "Local Chapter": 9,
                  "Title": "The Writing on the Wall",
                  "Approx Story Time": "1992-10-31T00:00:00.000000",
                  "Book": 2,
                  "_deepnote_index_column": 25
                },
                {
                  "Global Chapter": 27,
                  "Local Chapter": 10,
                  "Title": "The Rogue Bludger",
                  "Approx Story Time": "1992-11-05T00:00:00.000000",
                  "Book": 2,
                  "_deepnote_index_column": 26
                },
                {
                  "Global Chapter": 28,
                  "Local Chapter": 11,
                  "Title": "The Duelling Club",
                  "Approx Story Time": "1992-11-08T00:00:00.000000",
                  "Book": 2,
                  "_deepnote_index_column": 27
                },
                {
                  "Global Chapter": 29,
                  "Local Chapter": 12,
                  "Title": "The Polyjuice Potion",
                  "Approx Story Time": "1992-12-18T00:00:00.000000",
                  "Book": 2,
                  "_deepnote_index_column": 28
                },
                {
                  "Global Chapter": 30,
                  "Local Chapter": 13,
                  "Title": "The Very Secret Diary",
                  "Approx Story Time": "1993-01-31T00:00:00.000000",
                  "Book": 2,
                  "_deepnote_index_column": 29
                },
                {
                  "Global Chapter": 31,
                  "Local Chapter": 14,
                  "Title": "Cornelius Fudge",
                  "Approx Story Time": "1993-02-15T00:00:00.000000",
                  "Book": 2,
                  "_deepnote_index_column": 30
                },
                {
                  "Global Chapter": 32,
                  "Local Chapter": 15,
                  "Title": "Aragog",
                  "Approx Story Time": "1993-05-24T00:00:00.000000",
                  "Book": 2,
                  "_deepnote_index_column": 31
                },
                {
                  "Global Chapter": 33,
                  "Local Chapter": 16,
                  "Title": "The Chamber of Secrets",
                  "Approx Story Time": "1993-05-25T00:00:00.000000",
                  "Book": 2,
                  "_deepnote_index_column": 32
                },
                {
                  "Global Chapter": 34,
                  "Local Chapter": 17,
                  "Title": "The Heir of Slytherin",
                  "Approx Story Time": "1993-05-29T00:00:00.000000",
                  "Book": 2,
                  "_deepnote_index_column": 33
                },
                {
                  "Global Chapter": 35,
                  "Local Chapter": 18,
                  "Title": "Dobby’s Reward",
                  "Approx Story Time": "1993-05-30T00:00:00.000000",
                  "Book": 2,
                  "_deepnote_index_column": 34
                },
                {
                  "Global Chapter": 36,
                  "Local Chapter": 1,
                  "Title": "Owl Post",
                  "Approx Story Time": "1993-07-30T00:00:00.000000",
                  "Book": 3,
                  "_deepnote_index_column": 35
                },
                {
                  "Global Chapter": 37,
                  "Local Chapter": 2,
                  "Title": "Aunt Marge’s Big Mistake",
                  "Approx Story Time": "1993-07-31T00:00:00.000000",
                  "Book": 3,
                  "_deepnote_index_column": 36
                },
                {
                  "Global Chapter": 38,
                  "Local Chapter": 3,
                  "Title": "The Knight Bus",
                  "Approx Story Time": "1993-08-06T00:00:00.000000",
                  "Book": 3,
                  "_deepnote_index_column": 37
                },
                {
                  "Global Chapter": 39,
                  "Local Chapter": 4,
                  "Title": "The Leaky Cauldron",
                  "Approx Story Time": "1993-08-16T00:00:00.000000",
                  "Book": 3,
                  "_deepnote_index_column": 38
                },
                {
                  "Global Chapter": 40,
                  "Local Chapter": 5,
                  "Title": "The Dementor",
                  "Approx Story Time": "1993-09-01T00:00:00.000000",
                  "Book": 3,
                  "_deepnote_index_column": 39
                },
                {
                  "Global Chapter": 41,
                  "Local Chapter": 6,
                  "Title": "Talons and Tea Leaves",
                  "Approx Story Time": "1993-09-02T00:00:00.000000",
                  "Book": 3,
                  "_deepnote_index_column": 40
                },
                {
                  "Global Chapter": 42,
                  "Local Chapter": 7,
                  "Title": "The Boggart in the Wardrobe",
                  "Approx Story Time": "1993-09-09T00:00:00.000000",
                  "Book": 3,
                  "_deepnote_index_column": 41
                },
                {
                  "Global Chapter": 43,
                  "Local Chapter": 8,
                  "Title": "Flight of the Fat Lady",
                  "Approx Story Time": "1993-10-07T00:00:00.000000",
                  "Book": 3,
                  "_deepnote_index_column": 42
                },
                {
                  "Global Chapter": 44,
                  "Local Chapter": 9,
                  "Title": "Grim Defeat",
                  "Approx Story Time": "1993-10-31T00:00:00.000000",
                  "Book": 3,
                  "_deepnote_index_column": 43
                },
                {
                  "Global Chapter": 45,
                  "Local Chapter": 10,
                  "Title": "The Marauder's Map",
                  "Approx Story Time": "1993-11-07T00:00:00.000000",
                  "Book": 3,
                  "_deepnote_index_column": 44
                },
                {
                  "Global Chapter": 46,
                  "Local Chapter": 11,
                  "Title": "The Firebolt",
                  "Approx Story Time": "1993-12-18T00:00:00.000000",
                  "Book": 3,
                  "_deepnote_index_column": 45
                },
                {
                  "Global Chapter": 47,
                  "Local Chapter": 12,
                  "Title": "The Patronus",
                  "Approx Story Time": "1994-01-02T00:00:00.000000",
                  "Book": 3,
                  "_deepnote_index_column": 46
                },
                {
                  "Global Chapter": 48,
                  "Local Chapter": 13,
                  "Title": "Gryffindor versus Ravenclaw",
                  "Approx Story Time": "1994-02-04T00:00:00.000000",
                  "Book": 3,
                  "_deepnote_index_column": 47
                },
                {
                  "Global Chapter": 49,
                  "Local Chapter": 14,
                  "Title": "Snape's Grudge",
                  "Approx Story Time": "1994-02-05T00:00:00.000000",
                  "Book": 3,
                  "_deepnote_index_column": 48
                },
                {
                  "Global Chapter": 50,
                  "Local Chapter": 15,
                  "Title": "The Quidditch Final",
                  "Approx Story Time": "1994-02-12T00:00:00.000000",
                  "Book": 3,
                  "_deepnote_index_column": 49
                },
                {
                  "Global Chapter": 51,
                  "Local Chapter": 16,
                  "Title": "Professor Trelawney's Prediction",
                  "Approx Story Time": "1994-06-05T00:00:00.000000",
                  "Book": 3,
                  "_deepnote_index_column": 50
                },
                {
                  "Global Chapter": 52,
                  "Local Chapter": 17,
                  "Title": "Cat, Rat, and Dog",
                  "Approx Story Time": "1994-06-09T00:00:00.000000",
                  "Book": 3,
                  "_deepnote_index_column": 51
                },
                {
                  "Global Chapter": 53,
                  "Local Chapter": 18,
                  "Title": "Moony, Wormtail, Padfoot and Prongs",
                  "Approx Story Time": "1994-06-09T00:00:00.000000",
                  "Book": 3,
                  "_deepnote_index_column": 52
                },
                {
                  "Global Chapter": 54,
                  "Local Chapter": 19,
                  "Title": "The Servant of Lord Voldemort",
                  "Approx Story Time": "1994-06-09T00:00:00.000000",
                  "Book": 3,
                  "_deepnote_index_column": 53
                },
                {
                  "Global Chapter": 55,
                  "Local Chapter": 20,
                  "Title": "The Dementor’s Kiss",
                  "Approx Story Time": "1994-06-09T00:00:00.000000",
                  "Book": 3,
                  "_deepnote_index_column": 54
                },
                {
                  "Global Chapter": 56,
                  "Local Chapter": 21,
                  "Title": "Hermione’s Secret",
                  "Approx Story Time": "1994-06-09T00:00:00.000000",
                  "Book": 3,
                  "_deepnote_index_column": 55
                },
                {
                  "Global Chapter": 57,
                  "Local Chapter": 22,
                  "Title": "Owl Post Again",
                  "Approx Story Time": "1994-06-09T00:00:00.000000",
                  "Book": 3,
                  "_deepnote_index_column": 56
                },
                {
                  "Global Chapter": 58,
                  "Local Chapter": 1,
                  "Title": "The Riddle House",
                  "Approx Story Time": "1994-08-23T00:00:00.000000",
                  "Book": 4,
                  "_deepnote_index_column": 57
                },
                {
                  "Global Chapter": 59,
                  "Local Chapter": 2,
                  "Title": "The Scar",
                  "Approx Story Time": "1994-08-23T00:00:00.000000",
                  "Book": 4,
                  "_deepnote_index_column": 58
                },
                {
                  "Global Chapter": 60,
                  "Local Chapter": 3,
                  "Title": "The Invitation",
                  "Approx Story Time": "1994-08-23T00:00:00.000000",
                  "Book": 4,
                  "_deepnote_index_column": 59
                },
                {
                  "Global Chapter": 61,
                  "Local Chapter": 4,
                  "Title": "Back to the Burrow",
                  "Approx Story Time": "1994-08-24T00:00:00.000000",
                  "Book": 4,
                  "_deepnote_index_column": 60
                },
                {
                  "Global Chapter": 62,
                  "Local Chapter": 5,
                  "Title": "Weasley’s Wizard Wheezes",
                  "Approx Story Time": "1994-08-24T00:00:00.000000",
                  "Book": 4,
                  "_deepnote_index_column": 61
                },
                {
                  "Global Chapter": 63,
                  "Local Chapter": 6,
                  "Title": "The Portkey",
                  "Approx Story Time": "1994-08-25T00:00:00.000000",
                  "Book": 4,
                  "_deepnote_index_column": 62
                },
                {
                  "Global Chapter": 64,
                  "Local Chapter": 7,
                  "Title": "Bagman and Crouch",
                  "Approx Story Time": "1994-08-25T00:00:00.000000",
                  "Book": 4,
                  "_deepnote_index_column": 63
                },
                {
                  "Global Chapter": 65,
                  "Local Chapter": 8,
                  "Title": "The Quidditch World Cup",
                  "Approx Story Time": "1994-08-25T00:00:00.000000",
                  "Book": 4,
                  "_deepnote_index_column": 64
                },
                {
                  "Global Chapter": 66,
                  "Local Chapter": 9,
                  "Title": "The Dark Mark",
                  "Approx Story Time": "1994-08-25T00:00:00.000000",
                  "Book": 4,
                  "_deepnote_index_column": 65
                },
                {
                  "Global Chapter": 67,
                  "Local Chapter": 10,
                  "Title": "Mayhem at the Ministry",
                  "Approx Story Time": "1994-08-26T00:00:00.000000",
                  "Book": 4,
                  "_deepnote_index_column": 66
                },
                {
                  "Global Chapter": 68,
                  "Local Chapter": 11,
                  "Title": "Aboard the Hogwarts Express",
                  "Approx Story Time": "1994-09-01T00:00:00.000000",
                  "Book": 4,
                  "_deepnote_index_column": 67
                },
                {
                  "Global Chapter": 69,
                  "Local Chapter": 12,
                  "Title": "The Triwizard Tournament",
                  "Approx Story Time": "1994-09-01T00:00:00.000000",
                  "Book": 4,
                  "_deepnote_index_column": 68
                },
                {
                  "Global Chapter": 70,
                  "Local Chapter": 13,
                  "Title": "Mad-Eye Moody",
                  "Approx Story Time": "1994-09-02T00:00:00.000000",
                  "Book": 4,
                  "_deepnote_index_column": 69
                },
                {
                  "Global Chapter": 71,
                  "Local Chapter": 14,
                  "Title": "The Unforgivable Curses",
                  "Approx Story Time": "1994-09-04T00:00:00.000000",
                  "Book": 4,
                  "_deepnote_index_column": 70
                },
                {
                  "Global Chapter": 72,
                  "Local Chapter": 15,
                  "Title": "Beauxbatons and Durmstrang",
                  "Approx Story Time": "1994-10-23T00:00:00.000000",
                  "Book": 4,
                  "_deepnote_index_column": 71
                },
                {
                  "Global Chapter": 73,
                  "Local Chapter": 16,
                  "Title": "The Goblet of Fire",
                  "Approx Story Time": "1994-10-30T00:00:00.000000",
                  "Book": 4,
                  "_deepnote_index_column": 72
                },
                {
                  "Global Chapter": 74,
                  "Local Chapter": 17,
                  "Title": "The Four Champions",
                  "Approx Story Time": "1994-10-31T00:00:00.000000",
                  "Book": 4,
                  "_deepnote_index_column": 73
                },
                {
                  "Global Chapter": 75,
                  "Local Chapter": 18,
                  "Title": "The Weighing of the Wands",
                  "Approx Story Time": "1994-11-01T00:00:00.000000",
                  "Book": 4,
                  "_deepnote_index_column": 74
                },
                {
                  "Global Chapter": 76,
                  "Local Chapter": 19,
                  "Title": "The Hungarian Horntail",
                  "Approx Story Time": "1994-11-13T00:00:00.000000",
                  "Book": 4,
                  "_deepnote_index_column": 75
                },
                {
                  "Global Chapter": 77,
                  "Local Chapter": 20,
                  "Title": "The First Task",
                  "Approx Story Time": "1994-11-23T00:00:00.000000",
                  "Book": 4,
                  "_deepnote_index_column": 76
                },
                {
                  "Global Chapter": 78,
                  "Local Chapter": 21,
                  "Title": "The House-Elf Liberation Front",
                  "Approx Story Time": "1994-11-24T00:00:00.000000",
                  "Book": 4,
                  "_deepnote_index_column": 77
                },
                {
                  "Global Chapter": 79,
                  "Local Chapter": 22,
                  "Title": "The Unexpected Task",
                  "Approx Story Time": "1994-12-08T00:00:00.000000",
                  "Book": 4,
                  "_deepnote_index_column": 78
                },
                {
                  "Global Chapter": 80,
                  "Local Chapter": 23,
                  "Title": "The Yule Ball",
                  "Approx Story Time": "1994-12-19T00:00:00.000000",
                  "Book": 4,
                  "_deepnote_index_column": 79
                },
                {
                  "Global Chapter": 81,
                  "Local Chapter": 24,
                  "Title": "Rita Skeeter’s Scoop",
                  "Approx Story Time": "1994-12-26T00:00:00.000000",
                  "Book": 4,
                  "_deepnote_index_column": 80
                },
                {
                  "Global Chapter": 82,
                  "Local Chapter": 25,
                  "Title": "The Egg and the Eye",
                  "Approx Story Time": "1995-01-16T00:00:00.000000",
                  "Book": 4,
                  "_deepnote_index_column": 81
                },
                {
                  "Global Chapter": 83,
                  "Local Chapter": 26,
                  "Title": "The Second Task",
                  "Approx Story Time": "1995-02-23T00:00:00.000000",
                  "Book": 4,
                  "_deepnote_index_column": 82
                },
                {
                  "Global Chapter": 84,
                  "Local Chapter": 27,
                  "Title": "Padfoot Returns",
                  "Approx Story Time": "1995-02-25T00:00:00.000000",
                  "Book": 4,
                  "_deepnote_index_column": 83
                },
                {
                  "Global Chapter": 85,
                  "Local Chapter": 28,
                  "Title": "The Madness of Mr Crouch",
                  "Approx Story Time": "1995-02-26T00:00:00.000000",
                  "Book": 4,
                  "_deepnote_index_column": 84
                },
                {
                  "Global Chapter": 86,
                  "Local Chapter": 29,
                  "Title": "The Dream",
                  "Approx Story Time": "1995-05-24T00:00:00.000000",
                  "Book": 4,
                  "_deepnote_index_column": 85
                },
                {
                  "Global Chapter": 87,
                  "Local Chapter": 30,
                  "Title": "The Pensieve",
                  "Approx Story Time": "1995-05-26T00:00:00.000000",
                  "Book": 4,
                  "_deepnote_index_column": 86
                },
                {
                  "Global Chapter": 88,
                  "Local Chapter": 31,
                  "Title": "The Third Task",
                  "Approx Story Time": "1995-05-26T00:00:00.000000",
                  "Book": 4,
                  "_deepnote_index_column": 87
                },
                {
                  "Global Chapter": 89,
                  "Local Chapter": 32,
                  "Title": "Flesh, Blood, and Bone",
                  "Approx Story Time": "1995-06-24T00:00:00.000000",
                  "Book": 4,
                  "_deepnote_index_column": 88
                },
                {
                  "Global Chapter": 90,
                  "Local Chapter": 33,
                  "Title": "The Death Eaters",
                  "Approx Story Time": "1995-06-24T00:00:00.000000",
                  "Book": 4,
                  "_deepnote_index_column": 89
                },
                {
                  "Global Chapter": 91,
                  "Local Chapter": 34,
                  "Title": "Priori Incantatem",
                  "Approx Story Time": "1995-06-24T00:00:00.000000",
                  "Book": 4,
                  "_deepnote_index_column": 90
                },
                {
                  "Global Chapter": 92,
                  "Local Chapter": 35,
                  "Title": "Veritaserum",
                  "Approx Story Time": "1995-06-25T00:00:00.000000",
                  "Book": 4,
                  "_deepnote_index_column": 91
                },
                {
                  "Global Chapter": 93,
                  "Local Chapter": 36,
                  "Title": "The Parting of the Ways",
                  "Approx Story Time": "1995-06-25T00:00:00.000000",
                  "Book": 4,
                  "_deepnote_index_column": 92
                },
                {
                  "Global Chapter": 94,
                  "Local Chapter": 37,
                  "Title": "The Beginning",
                  "Approx Story Time": "1995-06-26T00:00:00.000000",
                  "Book": 4,
                  "_deepnote_index_column": 93
                },
                {
                  "Global Chapter": 95,
                  "Local Chapter": 1,
                  "Title": "Dudley Demented",
                  "Approx Story Time": "1995-07-31T00:00:00.000000",
                  "Book": 5,
                  "_deepnote_index_column": 94
                },
                {
                  "Global Chapter": 96,
                  "Local Chapter": 2,
                  "Title": "A Peck of Owls",
                  "Approx Story Time": "1995-08-02T00:00:00.000000",
                  "Book": 5,
                  "_deepnote_index_column": 95
                },
                {
                  "Global Chapter": 97,
                  "Local Chapter": 3,
                  "Title": "The Advance Guard",
                  "Approx Story Time": "1995-08-02T00:00:00.000000",
                  "Book": 5,
                  "_deepnote_index_column": 96
                },
                {
                  "Global Chapter": 98,
                  "Local Chapter": 4,
                  "Title": "Number Twelve, Grimmauld Place",
                  "Approx Story Time": "1995-08-06T00:00:00.000000",
                  "Book": 5,
                  "_deepnote_index_column": 97
                },
                {
                  "Global Chapter": 99,
                  "Local Chapter": 5,
                  "Title": "The Order of the Phoenix",
                  "Approx Story Time": "1995-08-06T00:00:00.000000",
                  "Book": 5,
                  "_deepnote_index_column": 98
                },
                {
                  "Global Chapter": 100,
                  "Local Chapter": 6,
                  "Title": "The Noble and Most Ancient House of Black",
                  "Approx Story Time": "1995-08-06T00:00:00.000000",
                  "Book": 5,
                  "_deepnote_index_column": 99
                },
                {
                  "Global Chapter": 101,
                  "Local Chapter": 7,
                  "Title": "The Ministry of Magic",
                  "Approx Story Time": "1995-08-08T00:00:00.000000",
                  "Book": 5,
                  "_deepnote_index_column": 100
                },
                {
                  "Global Chapter": 102,
                  "Local Chapter": 8,
                  "Title": "The Hearing",
                  "Approx Story Time": "1995-08-12T00:00:00.000000",
                  "Book": 5,
                  "_deepnote_index_column": 101
                },
                {
                  "Global Chapter": 103,
                  "Local Chapter": 9,
                  "Title": "The Woes of Mrs Weasley",
                  "Approx Story Time": "1995-08-12T00:00:00.000000",
                  "Book": 5,
                  "_deepnote_index_column": 102
                },
                {
                  "Global Chapter": 104,
                  "Local Chapter": 10,
                  "Title": "Luna Lovegood",
                  "Approx Story Time": "1995-09-01T00:00:00.000000",
                  "Book": 5,
                  "_deepnote_index_column": 103
                },
                {
                  "Global Chapter": 105,
                  "Local Chapter": 11,
                  "Title": "The Sorting Hat's New Song",
                  "Approx Story Time": "1995-09-01T00:00:00.000000",
                  "Book": 5,
                  "_deepnote_index_column": 104
                },
                {
                  "Global Chapter": 106,
                  "Local Chapter": 12,
                  "Title": "Professor Umbridge",
                  "Approx Story Time": "1995-09-02T00:00:00.000000",
                  "Book": 5,
                  "_deepnote_index_column": 105
                },
                {
                  "Global Chapter": 107,
                  "Local Chapter": 13,
                  "Title": "Detention with Dolores",
                  "Approx Story Time": "1995-09-02T00:00:00.000000",
                  "Book": 5,
                  "_deepnote_index_column": 106
                },
                {
                  "Global Chapter": 108,
                  "Local Chapter": 14,
                  "Title": "Percy and Padfoot",
                  "Approx Story Time": "1995-09-08T00:00:00.000000",
                  "Book": 5,
                  "_deepnote_index_column": 107
                },
                {
                  "Global Chapter": 109,
                  "Local Chapter": 15,
                  "Title": "The Hogwarts High Inquisitor",
                  "Approx Story Time": "1995-09-09T00:00:00.000000",
                  "Book": 5,
                  "_deepnote_index_column": 108
                },
                {
                  "Global Chapter": 110,
                  "Local Chapter": 16,
                  "Title": "In the Hog's Head",
                  "Approx Story Time": "1995-09-26T00:00:00.000000",
                  "Book": 5,
                  "_deepnote_index_column": 109
                },
                {
                  "Global Chapter": 111,
                  "Local Chapter": 17,
                  "Title": "Educational Decree Number Twenty-four",
                  "Approx Story Time": "1995-10-05T00:00:00.000000",
                  "Book": 5,
                  "_deepnote_index_column": 110
                },
                {
                  "Global Chapter": 112,
                  "Local Chapter": 18,
                  "Title": "Dumbledore's Army",
                  "Approx Story Time": "1995-10-08T00:00:00.000000",
                  "Book": 5,
                  "_deepnote_index_column": 111
                },
                {
                  "Global Chapter": 113,
                  "Local Chapter": 19,
                  "Title": "The Lion and the Serpent",
                  "Approx Story Time": "1995-11-06T00:00:00.000000",
                  "Book": 5,
                  "_deepnote_index_column": 112
                },
                {
                  "Global Chapter": 114,
                  "Local Chapter": 20,
                  "Title": "Hagrid’s Tale",
                  "Approx Story Time": "1995-11-07T00:00:00.000000",
                  "Book": 5,
                  "_deepnote_index_column": 113
                },
                {
                  "Global Chapter": 115,
                  "Local Chapter": 21,
                  "Title": "The Eye of the Snake",
                  "Approx Story Time": "1995-11-12T00:00:00.000000",
                  "Book": 5,
                  "_deepnote_index_column": 114
                },
                {
                  "Global Chapter": 116,
                  "Local Chapter": 22,
                  "Title": "St Mungo's Hospital for Magical Maladies and Injuries",
                  "Approx Story Time": "1995-12-18T00:00:00.000000",
                  "Book": 5,
                  "_deepnote_index_column": 115
                },
                {
                  "Global Chapter": 117,
                  "Local Chapter": 23,
                  "Title": "Christmas on the Closed Ward",
                  "Approx Story Time": "1995-12-19T00:00:00.000000",
                  "Book": 5,
                  "_deepnote_index_column": 116
                },
                {
                  "Global Chapter": 118,
                  "Local Chapter": 24,
                  "Title": "Occlumency",
                  "Approx Story Time": "1995-12-26T00:00:00.000000",
                  "Book": 5,
                  "_deepnote_index_column": 117
                },
                {
                  "Global Chapter": 119,
                  "Local Chapter": 25,
                  "Title": "The Beetle at Bay",
                  "Approx Story Time": "1996-01-09T00:00:00.000000",
                  "Book": 5,
                  "_deepnote_index_column": 118
                },
                {
                  "Global Chapter": 120,
                  "Local Chapter": 26,
                  "Title": "Seen and Unforeseen",
                  "Approx Story Time": "1996-02-14T00:00:00.000000",
                  "Book": 5,
                  "_deepnote_index_column": 119
                },
                {
                  "Global Chapter": 121,
                  "Local Chapter": 27,
                  "Title": "The Centaur and the Sneak",
                  "Approx Story Time": "1996-03-10T00:00:00.000000",
                  "Book": 5,
                  "_deepnote_index_column": 120
                },
                {
                  "Global Chapter": 122,
                  "Local Chapter": 28,
                  "Title": "Snape’s Worst Memory",
                  "Approx Story Time": "1996-03-31T00:00:00.000000",
                  "Book": 5,
                  "_deepnote_index_column": 121
                },
                {
                  "Global Chapter": 123,
                  "Local Chapter": 29,
                  "Title": "Career Advice",
                  "Approx Story Time": "1996-04-01T00:00:00.000000",
                  "Book": 5,
                  "_deepnote_index_column": 122
                },
                {
                  "Global Chapter": 124,
                  "Local Chapter": 30,
                  "Title": "Grawp",
                  "Approx Story Time": "1996-04-28T00:00:00.000000",
                  "Book": 5,
                  "_deepnote_index_column": 123
                },
                {
                  "Global Chapter": 125,
                  "Local Chapter": 31,
                  "Title": "O.W.L.S",
                  "Approx Story Time": "1996-05-31T00:00:00.000000",
                  "Book": 5,
                  "_deepnote_index_column": 124
                },
                {
                  "Global Chapter": 126,
                  "Local Chapter": 32,
                  "Title": "Out of the Fire",
                  "Approx Story Time": "1996-06-18T00:00:00.000000",
                  "Book": 5,
                  "_deepnote_index_column": 125
                },
                {
                  "Global Chapter": 127,
                  "Local Chapter": 33,
                  "Title": "Fight and Flight",
                  "Approx Story Time": "1996-06-18T00:00:00.000000",
                  "Book": 5,
                  "_deepnote_index_column": 126
                },
                {
                  "Global Chapter": 128,
                  "Local Chapter": 34,
                  "Title": "The Department of Mysteries",
                  "Approx Story Time": "1996-06-18T00:00:00.000000",
                  "Book": 5,
                  "_deepnote_index_column": 127
                },
                {
                  "Global Chapter": 129,
                  "Local Chapter": 35,
                  "Title": "Beyond the Veil",
                  "Approx Story Time": "1996-06-18T00:00:00.000000",
                  "Book": 5,
                  "_deepnote_index_column": 128
                },
                {
                  "Global Chapter": 130,
                  "Local Chapter": 36,
                  "Title": "The Only One He Ever Feared",
                  "Approx Story Time": "1996-06-18T00:00:00.000000",
                  "Book": 5,
                  "_deepnote_index_column": 129
                },
                {
                  "Global Chapter": 131,
                  "Local Chapter": 37,
                  "Title": "The Lost Prophecy",
                  "Approx Story Time": "1996-06-19T00:00:00.000000",
                  "Book": 5,
                  "_deepnote_index_column": 130
                },
                {
                  "Global Chapter": 132,
                  "Local Chapter": 38,
                  "Title": "The Second War Begins",
                  "Approx Story Time": "1996-06-21T00:00:00.000000",
                  "Book": 5,
                  "_deepnote_index_column": 131
                },
                {
                  "Global Chapter": 133,
                  "Local Chapter": 1,
                  "Title": "The Other Minister\n",
                  "Approx Story Time": "1996-07-12T00:00:00.000000",
                  "Book": 6,
                  "_deepnote_index_column": 132
                },
                {
                  "Global Chapter": 134,
                  "Local Chapter": 2,
                  "Title": "Spinner’s End\n",
                  "Approx Story Time": "1996-07-12T00:00:00.000000",
                  "Book": 6,
                  "_deepnote_index_column": 133
                },
                {
                  "Global Chapter": 135,
                  "Local Chapter": 3,
                  "Title": "Will and Won’t\n",
                  "Approx Story Time": "1996-07-12T00:00:00.000000",
                  "Book": 6,
                  "_deepnote_index_column": 134
                },
                {
                  "Global Chapter": 136,
                  "Local Chapter": 4,
                  "Title": "Horace Slughorn\n",
                  "Approx Story Time": "1996-07-12T00:00:00.000000",
                  "Book": 6,
                  "_deepnote_index_column": 135
                },
                {
                  "Global Chapter": 137,
                  "Local Chapter": 5,
                  "Title": "An Excess of Phlegm\n",
                  "Approx Story Time": "1996-07-13T00:00:00.000000",
                  "Book": 6,
                  "_deepnote_index_column": 136
                },
                {
                  "Global Chapter": 138,
                  "Local Chapter": 6,
                  "Title": "Draco’s Detour\n",
                  "Approx Story Time": "1996-07-14T00:00:00.000000",
                  "Book": 6,
                  "_deepnote_index_column": 137
                },
                {
                  "Global Chapter": 139,
                  "Local Chapter": 7,
                  "Title": "The Slug Club\n",
                  "Approx Story Time": "1996-08-04T00:00:00.000000",
                  "Book": 6,
                  "_deepnote_index_column": 138
                },
                {
                  "Global Chapter": 140,
                  "Local Chapter": 8,
                  "Title": "Snape Victorious\n",
                  "Approx Story Time": "1996-09-01T00:00:00.000000",
                  "Book": 6,
                  "_deepnote_index_column": 139
                },
                {
                  "Global Chapter": 141,
                  "Local Chapter": 9,
                  "Title": "The Half-Blood Prince\n",
                  "Approx Story Time": "1996-09-02T00:00:00.000000",
                  "Book": 6,
                  "_deepnote_index_column": 140
                },
                {
                  "Global Chapter": 142,
                  "Local Chapter": 10,
                  "Title": "The House of Gaunt\n",
                  "Approx Story Time": "1996-09-03T00:00:00.000000",
                  "Book": 6,
                  "_deepnote_index_column": 141
                },
                {
                  "Global Chapter": 143,
                  "Local Chapter": 11,
                  "Title": "Hermione’s Helping Hand\n",
                  "Approx Story Time": "1996-09-08T00:00:00.000000",
                  "Book": 6,
                  "_deepnote_index_column": 142
                },
                {
                  "Global Chapter": 144,
                  "Local Chapter": 12,
                  "Title": "Silver and Opals\n",
                  "Approx Story Time": "1996-10-12T00:00:00.000000",
                  "Book": 6,
                  "_deepnote_index_column": 143
                },
                {
                  "Global Chapter": 145,
                  "Local Chapter": 13,
                  "Title": "The Secret Riddle\n",
                  "Approx Story Time": "1996-10-14T00:00:00.000000",
                  "Book": 6,
                  "_deepnote_index_column": 144
                },
                {
                  "Global Chapter": 146,
                  "Local Chapter": 14,
                  "Title": "Felix Felicis\n",
                  "Approx Story Time": "1996-10-15T00:00:00.000000",
                  "Book": 6,
                  "_deepnote_index_column": 145
                },
                {
                  "Global Chapter": 147,
                  "Local Chapter": 15,
                  "Title": "The Unbreakable Vow\n",
                  "Approx Story Time": "1996-11-19T00:00:00.000000",
                  "Book": 6,
                  "_deepnote_index_column": 146
                },
                {
                  "Global Chapter": 148,
                  "Local Chapter": 16,
                  "Title": "A Very Frosty Christmas\n",
                  "Approx Story Time": "1996-12-21T00:00:00.000000",
                  "Book": 6,
                  "_deepnote_index_column": 147
                },
                {
                  "Global Chapter": 149,
                  "Local Chapter": 17,
                  "Title": "A Sluggish Memory\n",
                  "Approx Story Time": "1997-01-03T00:00:00.000000",
                  "Book": 6,
                  "_deepnote_index_column": 148
                },
                {
                  "Global Chapter": 150,
                  "Local Chapter": 18,
                  "Title": "Birthday Surprises\n",
                  "Approx Story Time": "1997-01-07T00:00:00.000000",
                  "Book": 6,
                  "_deepnote_index_column": 149
                },
                {
                  "Global Chapter": 151,
                  "Local Chapter": 19,
                  "Title": "Elf Tails\n",
                  "Approx Story Time": "1997-03-02T00:00:00.000000",
                  "Book": 6,
                  "_deepnote_index_column": 150
                },
                {
                  "Global Chapter": 152,
                  "Local Chapter": 20,
                  "Title": "Lord Voldemort’s Request\n",
                  "Approx Story Time": "1997-03-10T00:00:00.000000",
                  "Book": 6,
                  "_deepnote_index_column": 151
                },
                {
                  "Global Chapter": 153,
                  "Local Chapter": 21,
                  "Title": "The Unknowable Room\n",
                  "Approx Story Time": "1997-03-16T00:00:00.000000",
                  "Book": 6,
                  "_deepnote_index_column": 152
                },
                {
                  "Global Chapter": 154,
                  "Local Chapter": 22,
                  "Title": "After the Burial\n",
                  "Approx Story Time": "1997-04-21T00:00:00.000000",
                  "Book": 6,
                  "_deepnote_index_column": 153
                },
                {
                  "Global Chapter": 155,
                  "Local Chapter": 23,
                  "Title": "Horcruxes\n",
                  "Approx Story Time": "1997-04-21T00:00:00.000000",
                  "Book": 6,
                  "_deepnote_index_column": 154
                },
                {
                  "Global Chapter": 156,
                  "Local Chapter": 24,
                  "Title": "Sectumsempra\n",
                  "Approx Story Time": "1997-04-21T00:00:00.000000",
                  "Book": 6,
                  "_deepnote_index_column": 155
                },
                {
                  "Global Chapter": 157,
                  "Local Chapter": 25,
                  "Title": "The Seer Overheard\n",
                  "Approx Story Time": "1997-06-02T00:00:00.000000",
                  "Book": 6,
                  "_deepnote_index_column": 156
                },
                {
                  "Global Chapter": 158,
                  "Local Chapter": 26,
                  "Title": "The Cave\n",
                  "Approx Story Time": "1997-06-04T00:00:00.000000",
                  "Book": 6,
                  "_deepnote_index_column": 157
                },
                {
                  "Global Chapter": 159,
                  "Local Chapter": 27,
                  "Title": "The Lightning Struck Tower\n",
                  "Approx Story Time": "1997-06-04T00:00:00.000000",
                  "Book": 6,
                  "_deepnote_index_column": 158
                },
                {
                  "Global Chapter": 160,
                  "Local Chapter": 28,
                  "Title": "Flight of the Prince\n",
                  "Approx Story Time": "1997-06-04T00:00:00.000000",
                  "Book": 6,
                  "_deepnote_index_column": 159
                },
                {
                  "Global Chapter": 161,
                  "Local Chapter": 29,
                  "Title": "The Phoenix Lament\n",
                  "Approx Story Time": "1997-06-04T00:00:00.000000",
                  "Book": 6,
                  "_deepnote_index_column": 160
                },
                {
                  "Global Chapter": 162,
                  "Local Chapter": 30,
                  "Title": "The White Tomb\n",
                  "Approx Story Time": "1997-06-06T00:00:00.000000",
                  "Book": 6,
                  "_deepnote_index_column": 161
                },
                {
                  "Global Chapter": 163,
                  "Local Chapter": 1,
                  "Title": "The Dark Lord Ascending",
                  "Approx Story Time": "1997-07-20T00:00:00.000000",
                  "Book": 7,
                  "_deepnote_index_column": 162
                },
                {
                  "Global Chapter": 164,
                  "Local Chapter": 2,
                  "Title": "In Memoriam",
                  "Approx Story Time": "1997-07-27T00:00:00.000000",
                  "Book": 7,
                  "_deepnote_index_column": 163
                },
                {
                  "Global Chapter": 165,
                  "Local Chapter": 3,
                  "Title": "The Dursleys Departing",
                  "Approx Story Time": "1997-07-27T00:00:00.000000",
                  "Book": 7,
                  "_deepnote_index_column": 164
                },
                {
                  "Global Chapter": 166,
                  "Local Chapter": 4,
                  "Title": "The Seven Potters",
                  "Approx Story Time": "1997-07-27T00:00:00.000000",
                  "Book": 7,
                  "_deepnote_index_column": 165
                },
                {
                  "Global Chapter": 167,
                  "Local Chapter": 5,
                  "Title": "Fallen Warrior",
                  "Approx Story Time": "1997-07-27T00:00:00.000000",
                  "Book": 7,
                  "_deepnote_index_column": 166
                },
                {
                  "Global Chapter": 168,
                  "Local Chapter": 6,
                  "Title": "The Ghoul in Pyjamas",
                  "Approx Story Time": "1997-07-30T00:00:00.000000",
                  "Book": 7,
                  "_deepnote_index_column": 167
                },
                {
                  "Global Chapter": 169,
                  "Local Chapter": 7,
                  "Title": "The Will of Albus Dumbledore",
                  "Approx Story Time": "1997-08-01T00:00:00.000000",
                  "Book": 7,
                  "_deepnote_index_column": 168
                },
                {
                  "Global Chapter": 170,
                  "Local Chapter": 8,
                  "Title": "The Wedding",
                  "Approx Story Time": "1997-08-01T00:00:00.000000",
                  "Book": 7,
                  "_deepnote_index_column": 169
                },
                {
                  "Global Chapter": 171,
                  "Local Chapter": 9,
                  "Title": "A Place to Hide",
                  "Approx Story Time": "1997-08-02T00:00:00.000000",
                  "Book": 7,
                  "_deepnote_index_column": 170
                },
                {
                  "Global Chapter": 172,
                  "Local Chapter": 10,
                  "Title": "Kreacher’s Tale",
                  "Approx Story Time": "1997-08-03T00:00:00.000000",
                  "Book": 7,
                  "_deepnote_index_column": 171
                },
                {
                  "Global Chapter": 173,
                  "Local Chapter": 11,
                  "Title": "The Bribe",
                  "Approx Story Time": "1997-08-31T00:00:00.000000",
                  "Book": 7,
                  "_deepnote_index_column": 172
                },
                {
                  "Global Chapter": 174,
                  "Local Chapter": 12,
                  "Title": "Magic is Might",
                  "Approx Story Time": "1997-09-02T00:00:00.000000",
                  "Book": 7,
                  "_deepnote_index_column": 173
                },
                {
                  "Global Chapter": 175,
                  "Local Chapter": 13,
                  "Title": "The Muggle-Born Registration Commission",
                  "Approx Story Time": "1997-09-02T00:00:00.000000",
                  "Book": 7,
                  "_deepnote_index_column": 174
                },
                {
                  "Global Chapter": 176,
                  "Local Chapter": 14,
                  "Title": "The Thief",
                  "Approx Story Time": "1997-09-03T00:00:00.000000",
                  "Book": 7,
                  "_deepnote_index_column": 175
                },
                {
                  "Global Chapter": 177,
                  "Local Chapter": 15,
                  "Title": "The Goblin’s Revenge",
                  "Approx Story Time": "1997-10-13T00:00:00.000000",
                  "Book": 7,
                  "_deepnote_index_column": 176
                },
                {
                  "Global Chapter": 178,
                  "Local Chapter": 16,
                  "Title": "Godric’s Hollow",
                  "Approx Story Time": "1997-12-24T00:00:00.000000",
                  "Book": 7,
                  "_deepnote_index_column": 177
                },
                {
                  "Global Chapter": 179,
                  "Local Chapter": 17,
                  "Title": "Bathilda’s Secret",
                  "Approx Story Time": "1997-12-25T00:00:00.000000",
                  "Book": 7,
                  "_deepnote_index_column": 178
                },
                {
                  "Global Chapter": 180,
                  "Local Chapter": 18,
                  "Title": "The Life and Lies of Albus Dumbledore",
                  "Approx Story Time": "1997-12-26T00:00:00.000000",
                  "Book": 7,
                  "_deepnote_index_column": 179
                },
                {
                  "Global Chapter": 181,
                  "Local Chapter": 19,
                  "Title": "The Silver Doe",
                  "Approx Story Time": "1997-12-27T00:00:00.000000",
                  "Book": 7,
                  "_deepnote_index_column": 180
                },
                {
                  "Global Chapter": 182,
                  "Local Chapter": 20,
                  "Title": "Xenophilius Lovegood",
                  "Approx Story Time": "1997-12-28T00:00:00.000000",
                  "Book": 7,
                  "_deepnote_index_column": 181
                },
                {
                  "Global Chapter": 183,
                  "Local Chapter": 21,
                  "Title": "The Tale of the Three Brothers",
                  "Approx Story Time": "1997-12-28T00:00:00.000000",
                  "Book": 7,
                  "_deepnote_index_column": 182
                },
                {
                  "Global Chapter": 184,
                  "Local Chapter": 22,
                  "Title": "The Deathly Hallows",
                  "Approx Story Time": "1998-03-23T00:00:00.000000",
                  "Book": 7,
                  "_deepnote_index_column": 183
                },
                {
                  "Global Chapter": 185,
                  "Local Chapter": 23,
                  "Title": "Malfoy Manor",
                  "Approx Story Time": "1998-03-24T00:00:00.000000",
                  "Book": 7,
                  "_deepnote_index_column": 184
                },
                {
                  "Global Chapter": 186,
                  "Local Chapter": 24,
                  "Title": "The Wandmaker",
                  "Approx Story Time": "1998-03-24T00:00:00.000000",
                  "Book": 7,
                  "_deepnote_index_column": 185
                },
                {
                  "Global Chapter": 187,
                  "Local Chapter": 25,
                  "Title": "Shell Cottage",
                  "Approx Story Time": "1998-03-24T00:00:00.000000",
                  "Book": 7,
                  "_deepnote_index_column": 186
                },
                {
                  "Global Chapter": 188,
                  "Local Chapter": 26,
                  "Title": "Gringotts",
                  "Approx Story Time": "1998-04-30T00:00:00.000000",
                  "Book": 7,
                  "_deepnote_index_column": 187
                },
                {
                  "Global Chapter": 189,
                  "Local Chapter": 27,
                  "Title": "The Final Hiding Place",
                  "Approx Story Time": "1998-05-01T00:00:00.000000",
                  "Book": 7,
                  "_deepnote_index_column": 188
                },
                {
                  "Global Chapter": 190,
                  "Local Chapter": 28,
                  "Title": "The Missing Mirror",
                  "Approx Story Time": "1998-05-01T00:00:00.000000",
                  "Book": 7,
                  "_deepnote_index_column": 189
                },
                {
                  "Global Chapter": 191,
                  "Local Chapter": 29,
                  "Title": "The Lost Diadem",
                  "Approx Story Time": "1998-05-01T00:00:00.000000",
                  "Book": 7,
                  "_deepnote_index_column": 190
                },
                {
                  "Global Chapter": 192,
                  "Local Chapter": 30,
                  "Title": "The Sacking of Severus Snape",
                  "Approx Story Time": "1998-05-01T00:00:00.000000",
                  "Book": 7,
                  "_deepnote_index_column": 191
                },
                {
                  "Global Chapter": 193,
                  "Local Chapter": 31,
                  "Title": "The Battle of Hogwarts",
                  "Approx Story Time": "1998-05-01T00:00:00.000000",
                  "Book": 7,
                  "_deepnote_index_column": 192
                },
                {
                  "Global Chapter": 194,
                  "Local Chapter": 32,
                  "Title": "The Elder Wand",
                  "Approx Story Time": "1998-05-02T00:00:00.000000",
                  "Book": 7,
                  "_deepnote_index_column": 193
                },
                {
                  "Global Chapter": 195,
                  "Local Chapter": 33,
                  "Title": "The Prince’s Tale",
                  "Approx Story Time": "1998-05-02T00:00:00.000000",
                  "Book": 7,
                  "_deepnote_index_column": 194
                },
                {
                  "Global Chapter": 196,
                  "Local Chapter": 34,
                  "Title": "The Forest Again",
                  "Approx Story Time": "1998-05-02T00:00:00.000000",
                  "Book": 7,
                  "_deepnote_index_column": 195
                },
                {
                  "Global Chapter": 197,
                  "Local Chapter": 35,
                  "Title": "King’s Cross",
                  "Approx Story Time": "1998-05-02T00:00:00.000000",
                  "Book": 7,
                  "_deepnote_index_column": 196
                },
                {
                  "Global Chapter": 198,
                  "Local Chapter": 36,
                  "Title": "The Flaw in the Plan",
                  "Approx Story Time": "1998-05-02T00:00:00.000000",
                  "Book": 7,
                  "_deepnote_index_column": 197
                },
                {
                  "Global Chapter": 199,
                  "Local Chapter": 37,
                  "Title": "Epilogue",
                  "Approx Story Time": "2017-09-01T00:00:00.000000",
                  "Book": 7,
                  "_deepnote_index_column": 198
                }
              ],
              "rows_bottom": null
            },
            "text/plain": "     Global Chapter  Local Chapter                    Title Approx Story Time  \\\n0                 1              1        The Boy Who Lived        1981-11-01   \n1                 2              2      The Vanishing Glass        1991-06-23   \n2                 3              3  The Letters from No One        1991-07-23   \n3                 4              4       The Keeper of Keys        1991-07-31   \n4                 5              5             Diagon Alley        1991-07-31   \n..              ...            ...                      ...               ...   \n194             195             33        The Prince’s Tale        1998-05-02   \n195             196             34         The Forest Again        1998-05-02   \n196             197             35             King’s Cross        1998-05-02   \n197             198             36     The Flaw in the Plan        1998-05-02   \n198             199             37                 Epilogue        2017-09-01   \n\n     Book  \n0     1.0  \n1     1.0  \n2     1.0  \n3     1.0  \n4     1.0  \n..    ...  \n194   7.0  \n195   7.0  \n196   7.0  \n197   7.0  \n198   7.0  \n\n[199 rows x 5 columns]",
            "text/html": "<div>\n<style scoped>\n    .dataframe tbody tr th:only-of-type {\n        vertical-align: middle;\n    }\n\n    .dataframe tbody tr th {\n        vertical-align: top;\n    }\n\n    .dataframe thead th {\n        text-align: right;\n    }\n</style>\n<table border=\"1\" class=\"dataframe\">\n  <thead>\n    <tr style=\"text-align: right;\">\n      <th></th>\n      <th>Global Chapter</th>\n      <th>Local Chapter</th>\n      <th>Title</th>\n      <th>Approx Story Time</th>\n      <th>Book</th>\n    </tr>\n  </thead>\n  <tbody>\n    <tr>\n      <th>0</th>\n      <td>1</td>\n      <td>1</td>\n      <td>The Boy Who Lived</td>\n      <td>1981-11-01</td>\n      <td>1.0</td>\n    </tr>\n    <tr>\n      <th>1</th>\n      <td>2</td>\n      <td>2</td>\n      <td>The Vanishing Glass</td>\n      <td>1991-06-23</td>\n      <td>1.0</td>\n    </tr>\n    <tr>\n      <th>2</th>\n      <td>3</td>\n      <td>3</td>\n      <td>The Letters from No One</td>\n      <td>1991-07-23</td>\n      <td>1.0</td>\n    </tr>\n    <tr>\n      <th>3</th>\n      <td>4</td>\n      <td>4</td>\n      <td>The Keeper of Keys</td>\n      <td>1991-07-31</td>\n      <td>1.0</td>\n    </tr>\n    <tr>\n      <th>4</th>\n      <td>5</td>\n      <td>5</td>\n      <td>Diagon Alley</td>\n      <td>1991-07-31</td>\n      <td>1.0</td>\n    </tr>\n    <tr>\n      <th>...</th>\n      <td>...</td>\n      <td>...</td>\n      <td>...</td>\n      <td>...</td>\n      <td>...</td>\n    </tr>\n    <tr>\n      <th>194</th>\n      <td>195</td>\n      <td>33</td>\n      <td>The Prince’s Tale</td>\n      <td>1998-05-02</td>\n      <td>7.0</td>\n    </tr>\n    <tr>\n      <th>195</th>\n      <td>196</td>\n      <td>34</td>\n      <td>The Forest Again</td>\n      <td>1998-05-02</td>\n      <td>7.0</td>\n    </tr>\n    <tr>\n      <th>196</th>\n      <td>197</td>\n      <td>35</td>\n      <td>King’s Cross</td>\n      <td>1998-05-02</td>\n      <td>7.0</td>\n    </tr>\n    <tr>\n      <th>197</th>\n      <td>198</td>\n      <td>36</td>\n      <td>The Flaw in the Plan</td>\n      <td>1998-05-02</td>\n      <td>7.0</td>\n    </tr>\n    <tr>\n      <th>198</th>\n      <td>199</td>\n      <td>37</td>\n      <td>Epilogue</td>\n      <td>2017-09-01</td>\n      <td>7.0</td>\n    </tr>\n  </tbody>\n</table>\n<p>199 rows × 5 columns</p>\n</div>"
          },
          "metadata": {}
        }
      ]
    },
    {
      "cell_type": "code",
      "metadata": {
        "tags": [],
        "cell_id": "00008-25f64887-dcfb-41c4-a821-b2cce3a45438",
        "deepnote_to_be_reexecuted": false,
        "source_hash": "b7be2013",
        "execution_millis": 17,
        "execution_start": 1617804755499,
        "deepnote_cell_type": "code"
      },
      "source": "with open('data/characters_by_house.pkl', 'rb') as file:\n    characters_by_communities = pkl.load(file)\n\ncharacters_by_communities",
      "execution_count": 8,
      "outputs": [
        {
          "output_type": "execute_result",
          "execution_count": 8,
          "data": {
            "text/plain": "{'Gryffindor': ['Albus Dumbledore',\n  'Alicia Spinnet',\n  'Andrew Kirke',\n  'Angelina Johnson',\n  'Bill Weasley',\n  'Celestina Warbeck',\n  'Charlie Weasley',\n  'Cormac McLaggen',\n  'Dean Thomas',\n  'Demelza Robins',\n  'Dennis Creevey',\n  'Euan Abercrombie',\n  'Fred Weasley',\n  'Geoffrey Hooper',\n  'George Weasley',\n  'Ginny Weasley',\n  'Godric Gryffindor',\n  'Harry Potter',\n  'Jack Sloper',\n  'James Potter',\n  'James Sirius Potter',\n  'Jimmy Peakes',\n  'Katie Bell',\n  'Kenneth Towler',\n  'Lavender Brown',\n  'Lee Jordan',\n  'Lily Potter',\n  'Minerva McGonagall',\n  'Natalie McDonald',\n  'Nearly-Headless Nick',\n  'Neville Longbottom',\n  'Oliver Wood',\n  'Panju Weasley',\n  'Parvati Patil',\n  'Patricia Stimpson',\n  'Percy Weasley',\n  'Peter Pettigrew',\n  'Remus Lupin',\n  'Ritchie Coote',\n  'Romilda Vane',\n  'Ron Weasley',\n  'Rose Granger-Weasley',\n  'Rubeus Hagrid',\n  'Seamus Finnigan',\n  'Sir Cadogan',\n  'Vicky Frobisher',\n  'Wormtail',\n  'Yann Fredericks'],\n 'Hufflepuff': ['Artemisia Lufkin',\n  'Bridget Wenlock',\n  'Cadwallader',\n  'Cedric Diggory',\n  'Dugald McPhail',\n  'Eglantine Puffett',\n  'Eleanor Branstone',\n  'Ernie Macmillan',\n  'Fan Conversations: Hufflepuff Characters',\n  'Grogan Stump',\n  'Hannah Abbott',\n  'Helga Hufflepuff',\n  'Hengist of Woodcroft',\n  'Justin Finch-Fletchley',\n  'Laura Madley',\n  'Megan Jones',\n  'Newt Scamander',\n  'Nymphadora Tonks',\n  'Owen Cauldwell',\n  'Pomona Sprout',\n  'Silvanus Kettleburn',\n  'Stebbins',\n  'Summerby',\n  'Summers',\n  'Susan Bones',\n  'Teddy Lupin',\n  'The Fat Friar',\n  'Zacharias Smith'],\n 'Ravenclaw': ['Anthony Goldstein',\n  'Bradley',\n  'Chambers',\n  'Cho Chang',\n  'Eddie Carmichael',\n  'Filius Flitwick',\n  'Gilderoy Lockhart',\n  'Helena Ravenclaw',\n  'Ignatia Wildsmith',\n  'Kevin Entwhistle',\n  'Laverne de Montmorency',\n  'Lisa Turpin',\n  'Luna Lovegood',\n  'Mandy Brocklehurst',\n  'Marcus Belby',\n  'Marietta Edgecombe',\n  'Michael Corner',\n  'Millicent Bagnold',\n  'Miss S. Fawcett',\n  'Moaning Myrtle',\n  'Morag Macdougal',\n  'Orla Quirke',\n  'Padma Patil',\n  'Penelope Clearwater',\n  'Perpetua Fancourt',\n  'Robert Hilliard',\n  'Roger Davies',\n  'Rowena Ravenclaw',\n  'Stephen Cornfoot',\n  'Stewart Ackerley',\n  'Su Li',\n  'Terry Boot',\n  'The Grey Lady',\n  'Uric the Oddball'],\n 'Slytherin': ['Abraxas Malfoy',\n  'Adrian Pucey',\n  'Albus Potter',\n  'Andromeda Tonks',\n  'Astoria Greengrass',\n  'Avery',\n  'Bellatrix Lestrange',\n  'Blaise Zabini',\n  'Bole',\n  'Corvinus Gaunt',\n  'Crabbe Sr.',\n  'Craig Bowker Jr.',\n  'Daphne Greengrass',\n  'Derrick',\n  'Dolores Umbridge',\n  'Draco Malfoy',\n  'Gemma Farley',\n  'Graham Pritchard',\n  'Gregory Goyle',\n  'Harper',\n  'Horace Slughorn',\n  'Lucius Malfoy',\n  'Malcolm Baddock',\n  'Marcus Flint',\n  'Merlin',\n  'Miles Bletchley',\n  'Millicent Bulstrode',\n  'Montague',\n  'Mulciber',\n  'Narcissa Malfoy',\n  'Nott',\n  'Pansy Parkinson',\n  'Phineas Nigellus Black',\n  'Rabastan Lestrange',\n  'Regulus Black',\n  'Rodolphus Lestrange',\n  'Salazar Slytherin',\n  'Scorpius Malfoy',\n  'Severus Snape',\n  'Terence Higgs',\n  'The Bloody Baron',\n  'Theodore Nott',\n  'Tom Marvolo Riddle',\n  'Urquhart',\n  'Vaisey',\n  'Vincent Crabbe',\n  'Warrington'],\n 'House Unknown': ['B. Dunstan',\n  'Bertha Jorkins',\n  'Davey Gudgeon',\n  'Derek',\n  'Eloise Midgen/Eloise Midgeon',\n  'Emma Dobbs',\n  'Gwenog Jones',\n  'J. Dorny',\n  'K. Bundy',\n  'Olive Hornby',\n  'Polly Chapman',\n  'S. Capper',\n  'Sally-Anne Perks']}"
          },
          "metadata": {}
        }
      ]
    },
    {
      "cell_type": "code",
      "metadata": {
        "tags": [],
        "cell_id": "00005-2b5659a3-9473-47e5-bbc4-4b087c0a5934",
        "deepnote_to_be_reexecuted": false,
        "source_hash": "1898bc21",
        "execution_millis": 36,
        "execution_start": 1617808521764,
        "deepnote_cell_type": "code"
      },
      "source": "import os, re\npath = \"data/books/\"\nbooks = os.listdir(path)\nbooks.sort()\nfor i in range(1):\n    book = clean_book(path + books[i])\n    chapters = [chapter.upper() for chapter in chapter_info.loc[chapter_info[\"Book\"] == i+1, \"Title\"]]\n    regexPattern = '|'.join(chapters)\n    book_ = re.split(regexPattern, book)\n",
      "execution_count": 148,
      "outputs": []
    },
    {
      "cell_type": "code",
      "source": "print(chapters)",
      "metadata": {
        "tags": [],
        "cell_id": "00009-34c750b6-a480-4212-a3b1-042eb63037ac",
        "deepnote_to_be_reexecuted": false,
        "source_hash": "3aaef0ec",
        "execution_millis": 18,
        "execution_start": 1617808601354,
        "deepnote_cell_type": "code"
      },
      "outputs": [
        {
          "name": "stdout",
          "text": "['THE BOY WHO LIVED', 'THE VANISHING GLASS', 'THE LETTERS FROM NO ONE', 'THE KEEPER OF KEYS', 'DIAGON ALLEY', 'THE JOURNEY FROM PLATFORM NINE AND THREE-QUARTERS', 'THE SORTING HAT', 'THE POTIONS MASTER', 'THE MIDNIGHT DUEL', \"HALLOWE'EN\", 'QUIDDITCH', 'THE MIRROR OF ERISED', 'NICOLAS FLAMEL', 'NORBERT THE NORWEGIAN RIDGEBACK', 'THE FORBIDDEN FOREST', 'THROUGH THE TRAPDOOR', 'THE MAN WITH TWO FACES']\n",
          "output_type": "stream"
        }
      ],
      "execution_count": 155
    },
    {
      "cell_type": "markdown",
      "source": "<a style='text-decoration:none;line-height:16px;display:flex;color:#5B5B62;padding:10px;justify-content:end;' href='https://deepnote.com?utm_source=created-in-deepnote-cell&projectId=85fb65b4-b596-4730-837e-04e86eafe419' target=\"_blank\">\n<img alt='Created in deepnote.com' style='display:inline;max-height:16px;margin:0px;margin-right:7.5px;' src='data:image/svg+xml;base64,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' > </img>\nCreated in <span style='font-weight:600;margin-left:4px;'>Deepnote</span></a>",
      "metadata": {
        "tags": [],
        "created_in_deepnote_cell": true,
        "deepnote_cell_type": "markdown"
      }
    }
  ],
  "nbformat": 4,
  "nbformat_minor": 2,
  "metadata": {
    "orig_nbformat": 2,
    "deepnote_notebook_id": "253b8311-4ad2-46a6-a216-14d708b89b81",
    "deepnote": {},
    "deepnote_execution_queue": []
  }
}
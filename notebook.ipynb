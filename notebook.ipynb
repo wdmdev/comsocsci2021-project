{
  "cells": [
    {
      "cell_type": "markdown",
      "source": [
        "# Network Analysis of Harry Potter Book Series"
      ],
      "metadata": {
        "tags": [],
        "cell_id": "00000-4d23abd9-b58b-4aea-a498-866116ddb763",
        "deepnote_cell_type": "markdown"
      }
    },
    {
      "cell_type": "markdown",
      "source": [
        "## Setup"
      ],
      "metadata": {
        "tags": [],
        "cell_id": "00001-27188239-fd56-4eb0-b754-1283ccba604b",
        "deepnote_cell_type": "markdown"
      }
    },
    {
      "cell_type": "code",
      "metadata": {
        "tags": [],
        "cell_id": "00001-be655e51-da84-4934-9889-166a2db6df9c",
        "deepnote_to_be_reexecuted": false,
        "source_hash": "eaaa5c1d",
        "execution_millis": 6357,
        "execution_start": 1617804700859,
        "deepnote_cell_type": "code"
      },
      "source": [
        "!pip install -r requirements.txt"
      ],
      "execution_count": 138,
      "outputs": [
        {
          "output_type": "stream",
          "name": "stdout",
          "text": [
            "Requirement already satisfied: tqdm in c:\\users\\peter\\onedrive - danmarks tekniske universitet\\dtu\\6. semester\\02467 - computational social science\\env\\lib\\site-packages (4.60.0)\n"
          ]
        }
      ]
    },
    {
      "cell_type": "markdown",
      "source": [
        "## Function Definitions for Text Analysis"
      ],
      "metadata": {
        "tags": [],
        "cell_id": "00001-7260aeac-dc55-44c5-99cf-4627d2547e71",
        "deepnote_cell_type": "markdown"
      }
    },
    {
      "cell_type": "markdown",
      "source": [
        "`happiness(doc)` takes a list of words and computes the average happiness score using the Hedonometer\n",
        "\n",
        "`emotion_score(doc)` takes a list of words and computes a dictionary of average emotion scores among the emotions: _Anger, Anticipation,\tDisgust, Fear, Joy, Sadness, Surprise_ and _Trust_\n",
        "\n",
        "`vader_sentiment(doc)` takes a list of words and/or sentences and computes the average VADER compund score\n",
        "\n",
        "`TF_IDF(docs_to_analyse, all_docs)` computes TF and TF-IDF score of terms in docs_to_analyse. all_docs are used to comput IDF scores \n"
      ],
      "metadata": {
        "tags": [],
        "cell_id": "00002-661015eb-5176-421b-bac4-e5ad36546c5e",
        "deepnote_cell_type": "markdown"
      }
    },
    {
      "cell_type": "code",
      "execution_count": null,
      "metadata": {},
      "outputs": [],
      "source": [
        "\n"
      ]
    },
    {
      "cell_type": "code",
      "metadata": {
        "tags": [],
        "cell_id": "00004-0bbc3bd5-c43b-4217-9b83-4d5eba75832b",
        "deepnote_to_be_reexecuted": false,
        "source_hash": "e26e8fea",
        "execution_millis": 2,
        "execution_start": 1617804747297,
        "deepnote_cell_type": "code"
      },
      "source": [
        "import numpy as np\n",
        "import pickle as pkl\n",
        "import pandas as pd\n",
        "import nltk\n",
        "from clean_books import clean_book\n",
        "import os, re\n",
        "from difflib import SequenceMatcher\n",
        "from tqdm.auto import tqdm"
      ],
      "execution_count": 415,
      "outputs": []
    },
    {
      "cell_type": "code",
      "metadata": {
        "tags": [],
        "cell_id": "00007-31995f99-1250-4f26-b933-74d9cc4bd16c",
        "deepnote_to_be_reexecuted": false,
        "source_hash": "131f3747",
        "execution_millis": 73,
        "execution_start": 1617807041068,
        "deepnote_cell_type": "code"
      },
      "source": [
        "chapter_info = pd.read_pickle('data/chapter_dataframe.pkl')\n",
        "#Add book number to chapters\n",
        "idx = chapter_info.index[chapter_info[\"Local Chapter\"] == 1]\n",
        "for i in range(7):\n",
        "    chapter_info.loc[idx[i]:(idx[i+1] if i+1 < len(idx) else None), \"Book\"] = int(i+1)\n",
        "chapter_info"
      ],
      "execution_count": 133,
      "outputs": [
        {
          "output_type": "execute_result",
          "data": {
            "text/plain": [
              "     Global Chapter  Local Chapter                    Title Approx Story Time  \\\n",
              "0                 1              1        The Boy Who Lived        1981-11-01   \n",
              "1                 2              2      The Vanishing Glass        1991-06-23   \n",
              "2                 3              3  The Letters from No One        1991-07-23   \n",
              "3                 4              4       The Keeper of Keys        1991-07-31   \n",
              "4                 5              5             Diagon Alley        1991-07-31   \n",
              "..              ...            ...                      ...               ...   \n",
              "194             195             33        The Prince’s Tale        1998-05-02   \n",
              "195             196             34         The Forest Again        1998-05-02   \n",
              "196             197             35             King’s Cross        1998-05-02   \n",
              "197             198             36     The Flaw in the Plan        1998-05-02   \n",
              "198             199             37                 Epilogue        2017-09-01   \n",
              "\n",
              "     Book  \n",
              "0     1.0  \n",
              "1     1.0  \n",
              "2     1.0  \n",
              "3     1.0  \n",
              "4     1.0  \n",
              "..    ...  \n",
              "194   7.0  \n",
              "195   7.0  \n",
              "196   7.0  \n",
              "197   7.0  \n",
              "198   7.0  \n",
              "\n",
              "[199 rows x 5 columns]"
            ],
            "text/html": "<div>\n<style scoped>\n    .dataframe tbody tr th:only-of-type {\n        vertical-align: middle;\n    }\n\n    .dataframe tbody tr th {\n        vertical-align: top;\n    }\n\n    .dataframe thead th {\n        text-align: right;\n    }\n</style>\n<table border=\"1\" class=\"dataframe\">\n  <thead>\n    <tr style=\"text-align: right;\">\n      <th></th>\n      <th>Global Chapter</th>\n      <th>Local Chapter</th>\n      <th>Title</th>\n      <th>Approx Story Time</th>\n      <th>Book</th>\n    </tr>\n  </thead>\n  <tbody>\n    <tr>\n      <th>0</th>\n      <td>1</td>\n      <td>1</td>\n      <td>The Boy Who Lived</td>\n      <td>1981-11-01</td>\n      <td>1.0</td>\n    </tr>\n    <tr>\n      <th>1</th>\n      <td>2</td>\n      <td>2</td>\n      <td>The Vanishing Glass</td>\n      <td>1991-06-23</td>\n      <td>1.0</td>\n    </tr>\n    <tr>\n      <th>2</th>\n      <td>3</td>\n      <td>3</td>\n      <td>The Letters from No One</td>\n      <td>1991-07-23</td>\n      <td>1.0</td>\n    </tr>\n    <tr>\n      <th>3</th>\n      <td>4</td>\n      <td>4</td>\n      <td>The Keeper of Keys</td>\n      <td>1991-07-31</td>\n      <td>1.0</td>\n    </tr>\n    <tr>\n      <th>4</th>\n      <td>5</td>\n      <td>5</td>\n      <td>Diagon Alley</td>\n      <td>1991-07-31</td>\n      <td>1.0</td>\n    </tr>\n    <tr>\n      <th>...</th>\n      <td>...</td>\n      <td>...</td>\n      <td>...</td>\n      <td>...</td>\n      <td>...</td>\n    </tr>\n    <tr>\n      <th>194</th>\n      <td>195</td>\n      <td>33</td>\n      <td>The Prince’s Tale</td>\n      <td>1998-05-02</td>\n      <td>7.0</td>\n    </tr>\n    <tr>\n      <th>195</th>\n      <td>196</td>\n      <td>34</td>\n      <td>The Forest Again</td>\n      <td>1998-05-02</td>\n      <td>7.0</td>\n    </tr>\n    <tr>\n      <th>196</th>\n      <td>197</td>\n      <td>35</td>\n      <td>King’s Cross</td>\n      <td>1998-05-02</td>\n      <td>7.0</td>\n    </tr>\n    <tr>\n      <th>197</th>\n      <td>198</td>\n      <td>36</td>\n      <td>The Flaw in the Plan</td>\n      <td>1998-05-02</td>\n      <td>7.0</td>\n    </tr>\n    <tr>\n      <th>198</th>\n      <td>199</td>\n      <td>37</td>\n      <td>Epilogue</td>\n      <td>2017-09-01</td>\n      <td>7.0</td>\n    </tr>\n  </tbody>\n</table>\n<p>199 rows × 5 columns</p>\n</div>"
          },
          "metadata": {},
          "execution_count": 133
        }
      ]
    },
    {
      "cell_type": "code",
      "metadata": {
        "tags": [],
        "cell_id": "00008-25f64887-dcfb-41c4-a821-b2cce3a45438",
        "deepnote_to_be_reexecuted": false,
        "source_hash": "b7be2013",
        "execution_millis": 17,
        "execution_start": 1617804755499,
        "deepnote_cell_type": "code"
      },
      "source": [
        "with open('data/characters_by_house.pkl', 'rb') as file:\n",
        "    characters_by_communities = pkl.load(file)\n",
        "\n",
        "# characters_by_communities"
      ],
      "execution_count": 352,
      "outputs": []
    },
    {
      "source": [
        "# Get a list of paths to books\n",
        "path = \"data/books/\"\n",
        "books = os.listdir(path)\n",
        "books.sort()\n",
        "books_in_chapters = []\n",
        "\n",
        "for i in tqdm(range(7), desc='Book Loop'): # For every book\n",
        "    # Remove HTML TAGS and double spacing\n",
        "    print(\"\\n\", file = sys.stderr)\n",
        "    book = clean_book(path + books[i]) \n",
        "    book = re.sub('\\n{2,}', '\\n', book)\n",
        "    # Get chapters of book\n",
        "    chapters = [chapter.upper() for chapter in chapter_info.loc[chapter_info[\"Book\"] == i+1, \"Title\"]]\n",
        "\n",
        "    # Split Lines and remove lines including page numbering or J.K. Rowling\n",
        "    lines[:] = [line for line in book.splitlines() if not re.search(r'Page \\| [0-9]{1,} | J.K. Rowling', line)]        \n",
        "\n",
        "    # Find lines with the title of the chapters\n",
        "    chapter_idx = []\n",
        "    for chapter in chapters:\n",
        "        # Use SequenceMatcher to find similarity between line and a given chapter. Threshold of 0.6\n",
        "        ties = [(i, line) for i, line in enumerate(lines) if SequenceMatcher(None, chapter, line).ratio() >.6]\n",
        "\n",
        "        # If 2 or more lines have a similarity of above .8 with the chapter find the most similar\n",
        "        idx, title = ties[np.argmax([SequenceMatcher(None, chapter, title).ratio() for _, title in ties])]\n",
        "        chapter_idx.append(idx)\n",
        "        print(title, chapter, file = sys.stderr)\n",
        "\n",
        "    print(\"\\n\", file = sys.stderr)  \n",
        "    # Get a list of chapters - List of strings\n",
        "    chapters = [\"\\n\".join(lines[chapter_idx[i]:chapter_idx[i+1] if len(chapters) > i+1 else None]) for i in range(len(chapter_idx))]\n",
        "    books_in_chapters.append(chapters)  \n",
        "\n",
        "pkl.dump(books_in_chapters, open(\"data/books_in_chapters.pkl\",\"wb\")) "
      ],
      "cell_type": "code",
      "metadata": {
        "tags": [],
        "cell_id": "00009-34c750b6-a480-4212-a3b1-042eb63037ac",
        "deepnote_to_be_reexecuted": false,
        "source_hash": "988e76c9",
        "execution_millis": 13,
        "execution_start": 1617808953187,
        "deepnote_cell_type": "code"
      },
      "execution_count": 440,
      "outputs": [
        {
          "output_type": "stream",
          "name": "stderr",
          "text": [
            "Book Loop:   0%|          | 0/7 [00:00<?, ?it/s]\n",
            "\n",
            "THE BOY WHO LIVED  THE BOY WHO LIVED\n",
            "THE VANASHING GLASS  THE VANISHING GLASS\n",
            "THE LETTERS FROM NO ONE  THE LETTERS FROM NO ONE\n",
            "THE KEEPER OF KEYS  THE KEEPER OF KEYS\n",
            "DIAGON ALLEY  DIAGON ALLEY\n",
            "Book Loop:   0%|          | 0/7 [00:03<?, ?it/s]\n"
          ]
        },
        {
          "output_type": "error",
          "ename": "KeyboardInterrupt",
          "evalue": "",
          "traceback": [
            "\u001b[1;31m---------------------------------------------------------------------------\u001b[0m",
            "\u001b[1;31mKeyboardInterrupt\u001b[0m                         Traceback (most recent call last)",
            "\u001b[1;32m<ipython-input-440-8d91df1bc763>\u001b[0m in \u001b[0;36m<module>\u001b[1;34m\u001b[0m\n\u001b[0;32m     20\u001b[0m     \u001b[1;32mfor\u001b[0m \u001b[0mchapter\u001b[0m \u001b[1;32min\u001b[0m \u001b[0mchapters\u001b[0m\u001b[1;33m:\u001b[0m\u001b[1;33m\u001b[0m\u001b[1;33m\u001b[0m\u001b[0m\n\u001b[0;32m     21\u001b[0m         \u001b[1;31m# Use SequenceMatcher to find similarity between line and a given chapter. Threshold of 0.6\u001b[0m\u001b[1;33m\u001b[0m\u001b[1;33m\u001b[0m\u001b[1;33m\u001b[0m\u001b[0m\n\u001b[1;32m---> 22\u001b[1;33m         \u001b[0mties\u001b[0m \u001b[1;33m=\u001b[0m \u001b[1;33m[\u001b[0m\u001b[1;33m(\u001b[0m\u001b[0mi\u001b[0m\u001b[1;33m,\u001b[0m \u001b[0mline\u001b[0m\u001b[1;33m)\u001b[0m \u001b[1;32mfor\u001b[0m \u001b[0mi\u001b[0m\u001b[1;33m,\u001b[0m \u001b[0mline\u001b[0m \u001b[1;32min\u001b[0m \u001b[0menumerate\u001b[0m\u001b[1;33m(\u001b[0m\u001b[0mlines\u001b[0m\u001b[1;33m)\u001b[0m \u001b[1;32mif\u001b[0m \u001b[0mSequenceMatcher\u001b[0m\u001b[1;33m(\u001b[0m\u001b[1;32mNone\u001b[0m\u001b[1;33m,\u001b[0m \u001b[0mchapter\u001b[0m\u001b[1;33m,\u001b[0m \u001b[0mline\u001b[0m\u001b[1;33m)\u001b[0m\u001b[1;33m.\u001b[0m\u001b[0mratio\u001b[0m\u001b[1;33m(\u001b[0m\u001b[1;33m)\u001b[0m \u001b[1;33m>\u001b[0m\u001b[1;36m.6\u001b[0m\u001b[1;33m]\u001b[0m\u001b[1;33m\u001b[0m\u001b[1;33m\u001b[0m\u001b[0m\n\u001b[0m\u001b[0;32m     23\u001b[0m \u001b[1;33m\u001b[0m\u001b[0m\n\u001b[0;32m     24\u001b[0m         \u001b[1;31m# If 2 or more lines have a similarity of above .8 with the chapter find the most similar\u001b[0m\u001b[1;33m\u001b[0m\u001b[1;33m\u001b[0m\u001b[1;33m\u001b[0m\u001b[0m\n",
            "\u001b[1;32m<ipython-input-440-8d91df1bc763>\u001b[0m in \u001b[0;36m<listcomp>\u001b[1;34m(.0)\u001b[0m\n\u001b[0;32m     20\u001b[0m     \u001b[1;32mfor\u001b[0m \u001b[0mchapter\u001b[0m \u001b[1;32min\u001b[0m \u001b[0mchapters\u001b[0m\u001b[1;33m:\u001b[0m\u001b[1;33m\u001b[0m\u001b[1;33m\u001b[0m\u001b[0m\n\u001b[0;32m     21\u001b[0m         \u001b[1;31m# Use SequenceMatcher to find similarity between line and a given chapter. Threshold of 0.6\u001b[0m\u001b[1;33m\u001b[0m\u001b[1;33m\u001b[0m\u001b[1;33m\u001b[0m\u001b[0m\n\u001b[1;32m---> 22\u001b[1;33m         \u001b[0mties\u001b[0m \u001b[1;33m=\u001b[0m \u001b[1;33m[\u001b[0m\u001b[1;33m(\u001b[0m\u001b[0mi\u001b[0m\u001b[1;33m,\u001b[0m \u001b[0mline\u001b[0m\u001b[1;33m)\u001b[0m \u001b[1;32mfor\u001b[0m \u001b[0mi\u001b[0m\u001b[1;33m,\u001b[0m \u001b[0mline\u001b[0m \u001b[1;32min\u001b[0m \u001b[0menumerate\u001b[0m\u001b[1;33m(\u001b[0m\u001b[0mlines\u001b[0m\u001b[1;33m)\u001b[0m \u001b[1;32mif\u001b[0m \u001b[0mSequenceMatcher\u001b[0m\u001b[1;33m(\u001b[0m\u001b[1;32mNone\u001b[0m\u001b[1;33m,\u001b[0m \u001b[0mchapter\u001b[0m\u001b[1;33m,\u001b[0m \u001b[0mline\u001b[0m\u001b[1;33m)\u001b[0m\u001b[1;33m.\u001b[0m\u001b[0mratio\u001b[0m\u001b[1;33m(\u001b[0m\u001b[1;33m)\u001b[0m \u001b[1;33m>\u001b[0m\u001b[1;36m.6\u001b[0m\u001b[1;33m]\u001b[0m\u001b[1;33m\u001b[0m\u001b[1;33m\u001b[0m\u001b[0m\n\u001b[0m\u001b[0;32m     23\u001b[0m \u001b[1;33m\u001b[0m\u001b[0m\n\u001b[0;32m     24\u001b[0m         \u001b[1;31m# If 2 or more lines have a similarity of above .8 with the chapter find the most similar\u001b[0m\u001b[1;33m\u001b[0m\u001b[1;33m\u001b[0m\u001b[1;33m\u001b[0m\u001b[0m\n",
            "\u001b[1;32m~\\AppData\\Local\\Programs\\Python\\Python39\\lib\\difflib.py\u001b[0m in \u001b[0;36mratio\u001b[1;34m(self)\u001b[0m\n\u001b[0;32m    649\u001b[0m         \"\"\"\n\u001b[0;32m    650\u001b[0m \u001b[1;33m\u001b[0m\u001b[0m\n\u001b[1;32m--> 651\u001b[1;33m         \u001b[0mmatches\u001b[0m \u001b[1;33m=\u001b[0m \u001b[0msum\u001b[0m\u001b[1;33m(\u001b[0m\u001b[0mtriple\u001b[0m\u001b[1;33m[\u001b[0m\u001b[1;33m-\u001b[0m\u001b[1;36m1\u001b[0m\u001b[1;33m]\u001b[0m \u001b[1;32mfor\u001b[0m \u001b[0mtriple\u001b[0m \u001b[1;32min\u001b[0m \u001b[0mself\u001b[0m\u001b[1;33m.\u001b[0m\u001b[0mget_matching_blocks\u001b[0m\u001b[1;33m(\u001b[0m\u001b[1;33m)\u001b[0m\u001b[1;33m)\u001b[0m\u001b[1;33m\u001b[0m\u001b[1;33m\u001b[0m\u001b[0m\n\u001b[0m\u001b[0;32m    652\u001b[0m         \u001b[1;32mreturn\u001b[0m \u001b[0m_calculate_ratio\u001b[0m\u001b[1;33m(\u001b[0m\u001b[0mmatches\u001b[0m\u001b[1;33m,\u001b[0m \u001b[0mlen\u001b[0m\u001b[1;33m(\u001b[0m\u001b[0mself\u001b[0m\u001b[1;33m.\u001b[0m\u001b[0ma\u001b[0m\u001b[1;33m)\u001b[0m \u001b[1;33m+\u001b[0m \u001b[0mlen\u001b[0m\u001b[1;33m(\u001b[0m\u001b[0mself\u001b[0m\u001b[1;33m.\u001b[0m\u001b[0mb\u001b[0m\u001b[1;33m)\u001b[0m\u001b[1;33m)\u001b[0m\u001b[1;33m\u001b[0m\u001b[1;33m\u001b[0m\u001b[0m\n\u001b[0;32m    653\u001b[0m \u001b[1;33m\u001b[0m\u001b[0m\n",
            "\u001b[1;31mKeyboardInterrupt\u001b[0m: "
          ]
        }
      ]
    },
    {
      "cell_type": "code",
      "execution_count": 436,
      "metadata": {},
      "outputs": [
        {
          "output_type": "stream",
          "name": "stdout",
          "text": [
            "een a cat sit so stiffly.” \n“You’d be stiff if you’d been sitting on a brick wall all \nday,” said Professor McGonagall. \n“All day? When you could have been celebrating? I \nmust have passed a dozen feasts and parties on my \nway here.” \nProfessor McGonagall sniffed angrily. \n“Oh yes, everyone’s celebrating, all right,” she said \nimpatiently. “You’d think they’d be a bit more careful, \nbut no — even the Muggles have noticed something’s \ngoing on. It was on their news.” She jerked her head \nback at  \n\n something. Shooting stars down in Kent — I’ll \nbet that was Dedalus Diggle. He never had much \nsense.” \n“You can’t blame them,” said Dumbledore gently. \n“We’ve had precious little to celebrate for eleven \nyears.” \n“I know that,” said Professor McGonagall irritably. \n“But that’s no reason to lose our heads. People are \nbeing downright careless, out on the streets in broad \ndaylight, not even dressed in Muggle clothes, \nswapping rumors.” \nShe threw a sharp, sideways glance at Dumbledore \nhere, as \n\none, \nDumbledore?” \n“It certainly seems so,” said Dumbledore. “We have \nmuch to be thankful for. Would you care for a lemon \ndrop?” \n“A what?” \n“A lemon drop. They’re a kind of Muggle sweet I’m \nrather fond of.” \n“No, thank you,” said Professor McGonagall coldly, as \nthough she didn’t think this was the moment for \nlemon drops. “As I say, even if You-Know-Who has \ngone — ” \n“My dear Professor, surely a sensible person like \nyourself can call him by his name? All this You- \nKnow-Who’ nonsense — f \n\n \ngone — ” \n“My dear Professor, surely a sensible person like \nyourself can call him by his name? All this You- \nKnow-Who’ nonsense — for eleven years I have been \ntrying to persuade people to call him by his proper \nname: Voldemort.” Professor McGonagall flinched, but \nDumbledore, who was unsticking two lemon drops, \nseemed not to notice. “It all gets so confusing if we \nkeep saying You-Know-Who.’ I have never seen any \nreason to be frightened of saying Voldemort’s name.” \n“I know you haven’t,” \n\ne,” said Dumbledore calmly. “Voldemort \nhad powers I will never have.” \n“Only because you’re too — well — noble to use \nthem.” \n“It’s lucky it’s dark. I haven’t blushed so much since \nMadam Pomfrey told me she liked my new earmuffs.” \nProfessor McGonagall shot a sharp look at \nDumbledore and said, “The owls are nothing next to \nthe rumors that are flying around. You know what \neveryone’s saying? About why he’s disappeared? \nAbout what finally stopped him?” \nIt seemed that Professor McGonagall ha \n\nor McGonagall shot a sharp look at \nDumbledore and said, “The owls are nothing next to \nthe rumors that are flying around. You know what \neveryone’s saying? About why he’s disappeared? \nAbout what finally stopped him?” \nIt seemed that Professor McGonagall had reached the \npoint she was most anxious to discuss, the real \nreason she had been waiting on a cold, hard wall all \nday, for neither as a cat nor as a woman had she \nfixed Dumbledore with such a piercing stare as she \ndid now. It was plain  \n\n \n“What they’re saying,” she pressed on, “is that last \nnight Voldemort turned up in Godric’s Hollow. He \nwent to find the Potters. The rumor is that Lily and \nJames Potter are — are — that they’re — dead.” \nDumbledore bowed his head. Professor McGonagall \ngasped. \n“Lily and James ... I can’t believe it ... I didn’t want to \nbelieve it ... Oh, Albus ...” \nDumbledore reached out and patted her on the \nshoulder. “I know ... I know ...” he said heavily. \nProfessor McGonagall’s voice trembled as she \n\n the people he’s killed ... he couldn’t \nkill a little boy? It’s just astounding ... of all the \nthings to stop him . . . but how in the name of heaven \ndid Harry survive?” \n“We can only guess,” said Dumbledore. “We may \nnever know.” \nProfessor McGonagall pulled out a lace handkerchief \nand dabbed at her eyes beneath her spectacles. \nDumbledore gave a great sniff as he took a golden \nwatch from his pocket and examined it. It was a very \nodd watch. It had twelve hands but no numbers; \ninstead, li \n\nfor sweets. Harry Potter \ncome and live here!” \n“It’s the best place for him,” said Dumbledore firmly. \n“His aunt and uncle will be able to explain everything \nto him when he’s older. I’ve written them a letter.” \n“A letter?” repeated Professor McGonagall faintly, \nsitting back down on the wall. “Really, Dumbledore, \nyou think you can explain all this in a letter? These \npeople will never understand him! He’ll be famous — \na legend — I wouldn’t be surprised if today was \nknown as Harry Potter Da \n\n“It would be \nenough to turn any boy’s head. Famous before he can \nwalk and talk! Famous for something he won’t even \nremember! Can’t you see how much better off he’ll be, \ngrowing up away from all that until he’s ready to take \nit?” \nProfessor McGonagall opened her mouth, changed her \nmind, swallowed, and then said, “Yes — yes, you’re \nright, of course. But how is the boy getting here, \nDumbledore?” She eyed his cloak suddenly as though \nshe thought he might be hiding Harry underneath it. \n“Hag \n\nunderneath it. \n“Hagrid’s bringing him.” \n“You think it — wise — to trust Hagrid with \nsomething as important as this?” \n“I would trust Hagrid with my life,” said Dumbledore. \n“I’m not saying his heart isn’t in the right place,” said \nProfessor McGonagall grudgingly, “but you can’t \npretend he’s not careless. He does tend to — what \nwas that?” \nA low rumbling sound had broken the silence around \nthem. It grew steadily louder as they looked up and \ndown the street for some sign of a headlight; it \n\nt to me. I’ve got him, \nsir.” \n“No problems, were there?” \n“No, sir — house was almost destroyed, but I got him \nout all right before the Muggles started swarmin’ \naround. He fell asleep as we was flyin’ over Bristol.” \nDumbledore and Professor McGonagall bent forward \nover the bundle of blankets. Inside, just visible, was a \nbaby boy, fast asleep. Under a tuft of jet-black hair \nover his forehead they could see a curiously shaped \ncut, like a bolt of lightning. \n“Is that where — ?” whispered Pr \n\n\nhandkerchief and burying his face in it. “But I c-c- \ncan’t stand it — Lily an’ James dead — an’ poor little \nHarry off ter live with Muggles — ” \n“Yes, yes, it’s all very sad, but get a grip on yourself, \nHagrid, or we’ll be found,” Professor McGonagall \nwhispered, patting Hagrid gingerly on the arm as \nDumbledore stepped over the low garden wall and \nwalked to the front door. He laid Harry gently on the \ndoorstep, took a letter out of his cloak, tucked it \ninside Harry’s blankets, and then ca \n\n gently on the \ndoorstep, took a letter out of his cloak, tucked it \ninside Harry’s blankets, and then came back to the \nother two. For a full minute the three of them stood \nand looked at the little bundle; Hagrid’s shoulders \nshook, Professor McGonagall blinked furiously, and \nthe twinkling light that usually shone from \nDumbledore’s eyes seemed to have gone out. \n“Well,” said Dumbledore finally, “that’s that. We’ve no \nbusiness staying here. We may as well go and join the \ncelebrations.” \n“Ye \n\nd to have gone out. \n“Well,” said Dumbledore finally, “that’s that. We’ve no \nbusiness staying here. We may as well go and join the \ncelebrations.” \n“Yeah,” said Hagrid in a very muffled voice, “I’d best \nget this bike away. G ’night, Professor McGonagall — \nProfessor Dumbledore, sir.” \nWiping his streaming eyes on his jacket sleeve, Hagrid \nswung himself onto the motorcycle and kicked the \nengine into life; with a roar it rose into the air and off \ninto the night. \n“I shall see you soon, I expe \n\n"
          ]
        }
      ],
      "source": [
        "with open('data/books_in_chapters.pkl', 'rb') as file:\n",
        "    books_in_chapters = pkl.load(file)\n"
      ]
    }
  ],
  "nbformat": 4,
  "nbformat_minor": 2,
  "metadata": {
    "orig_nbformat": 2,
    "deepnote_notebook_id": "253b8311-4ad2-46a6-a216-14d708b89b81",
    "deepnote": {},
    "deepnote_execution_queue": [],
    "kernelspec": {
      "name": "python3",
      "display_name": "Python 3.9.4 64-bit ('env': venv)",
      "metadata": {
        "interpreter": {
          "hash": "36cbeea209a033ffca249d07085cb224d3b3a93f291cf5a03f0ca42984277c5c"
        }
      }
    }
  }
}
{
  "cells": [
    {
      "cell_type": "markdown",
      "source": "# Network Analysis of Harry Potter Book Series",
      "metadata": {
        "tags": [],
        "cell_id": "00000-4d23abd9-b58b-4aea-a498-866116ddb763",
        "deepnote_cell_type": "markdown"
      }
    },
    {
      "cell_type": "markdown",
      "source": "## Setup",
      "metadata": {
        "tags": [],
        "cell_id": "00001-27188239-fd56-4eb0-b754-1283ccba604b",
        "deepnote_cell_type": "markdown"
      }
    },
    {
      "cell_type": "code",
      "metadata": {
        "tags": [],
        "cell_id": "00001-be655e51-da84-4934-9889-166a2db6df9c",
        "deepnote_to_be_reexecuted": false,
        "source_hash": "26f11dbf",
        "execution_millis": 21613,
        "execution_start": 1619591527654,
        "deepnote_cell_type": "code"
      },
      "source": "!pip install -r requirements.txt\n!pip install matplotlib\n!pip install netwulf networkx",
      "execution_count": 2,
      "outputs": [
        {
          "name": "stdout",
          "text": "Requirement already satisfied: tqdm in /shared-libs/python3.8/py/lib/python3.8/site-packages (from -r requirements.txt (line 1)) (4.60.0)\nCollecting beautifulsoup4\n  Downloading beautifulsoup4-4.9.3-py3-none-any.whl (115 kB)\n\u001b[K     |████████████████████████████████| 115 kB 31.3 MB/s \n\u001b[?25hRequirement already satisfied: nltk in /shared-libs/python3.8/py/lib/python3.8/site-packages (from -r requirements.txt (line 3)) (3.6.1)\nCollecting vaderSentiment\n  Downloading vaderSentiment-3.3.2-py2.py3-none-any.whl (125 kB)\n\u001b[K     |████████████████████████████████| 125 kB 31.6 MB/s \n\u001b[?25hRequirement already satisfied: pandas in /shared-libs/python3.8/py/lib/python3.8/site-packages (from -r requirements.txt (line 5)) (1.2.4)\nCollecting networkx\n  Downloading networkx-2.5.1-py3-none-any.whl (1.6 MB)\n\u001b[K     |████████████████████████████████| 1.6 MB 41.9 MB/s \n\u001b[?25hCollecting bs4\n  Downloading bs4-0.0.1.tar.gz (1.1 kB)\nCollecting soupsieve>1.2\n  Downloading soupsieve-2.2.1-py3-none-any.whl (33 kB)\nCollecting decorator<5,>=4.3\n  Downloading decorator-4.4.2-py2.py3-none-any.whl (9.2 kB)\nRequirement already satisfied: joblib in /shared-libs/python3.8/py/lib/python3.8/site-packages (from nltk->-r requirements.txt (line 3)) (1.0.1)\nRequirement already satisfied: regex in /shared-libs/python3.8/py/lib/python3.8/site-packages (from nltk->-r requirements.txt (line 3)) (2021.4.4)\nRequirement already satisfied: click in /shared-libs/python3.8/py/lib/python3.8/site-packages (from nltk->-r requirements.txt (line 3)) (7.1.2)\nRequirement already satisfied: pytz>=2017.3 in /shared-libs/python3.8/py/lib/python3.8/site-packages (from pandas->-r requirements.txt (line 5)) (2021.1)\nRequirement already satisfied: numpy>=1.16.5 in /shared-libs/python3.8/py/lib/python3.8/site-packages (from pandas->-r requirements.txt (line 5)) (1.19.5)\nRequirement already satisfied: python-dateutil>=2.7.3 in /shared-libs/python3.8/py-core/lib/python3.8/site-packages (from pandas->-r requirements.txt (line 5)) (2.8.1)\nRequirement already satisfied: six>=1.5 in /shared-libs/python3.8/py-core/lib/python3.8/site-packages (from python-dateutil>=2.7.3->pandas->-r requirements.txt (line 5)) (1.15.0)\nRequirement already satisfied: requests in /shared-libs/python3.8/py/lib/python3.8/site-packages (from vaderSentiment->-r requirements.txt (line 4)) (2.25.1)\nRequirement already satisfied: urllib3<1.27,>=1.21.1 in /shared-libs/python3.8/py/lib/python3.8/site-packages (from requests->vaderSentiment->-r requirements.txt (line 4)) (1.26.4)\nRequirement already satisfied: chardet<5,>=3.0.2 in /shared-libs/python3.8/py/lib/python3.8/site-packages (from requests->vaderSentiment->-r requirements.txt (line 4)) (3.0.4)\nRequirement already satisfied: certifi>=2017.4.17 in /shared-libs/python3.8/py/lib/python3.8/site-packages (from requests->vaderSentiment->-r requirements.txt (line 4)) (2020.12.5)\nRequirement already satisfied: idna<3,>=2.5 in /shared-libs/python3.8/py/lib/python3.8/site-packages (from requests->vaderSentiment->-r requirements.txt (line 4)) (2.10)\nBuilding wheels for collected packages: bs4\n  Building wheel for bs4 (setup.py) ... \u001b[?25ldone\n\u001b[?25h  Created wheel for bs4: filename=bs4-0.0.1-py3-none-any.whl size=1273 sha256=fa000ce6e5581352a3b4650da12ff009172d150dae006a1517fd39b46426fd90\n  Stored in directory: /root/.cache/pip/wheels/75/78/21/68b124549c9bdc94f822c02fb9aa3578a669843f9767776bca\nSuccessfully built bs4\nInstalling collected packages: soupsieve, decorator, beautifulsoup4, vaderSentiment, networkx, bs4\n  Attempting uninstall: decorator\n    Found existing installation: decorator 5.0.6\n    Not uninstalling decorator at /shared-libs/python3.8/py-core/lib/python3.8/site-packages, outside environment /root/venv\n    Can't uninstall 'decorator'. No files were found to uninstall.\nSuccessfully installed beautifulsoup4-4.9.3 bs4-0.0.1 decorator-4.4.2 networkx-2.5.1 soupsieve-2.2.1 vaderSentiment-3.3.2\n\u001b[33mWARNING: You are using pip version 21.0.1; however, version 21.1 is available.\nYou should consider upgrading via the '/root/venv/bin/python -m pip install --upgrade pip' command.\u001b[0m\nRequirement already satisfied: matplotlib in /shared-libs/python3.8/py/lib/python3.8/site-packages (3.4.1)\nRequirement already satisfied: cycler>=0.10 in /shared-libs/python3.8/py/lib/python3.8/site-packages (from matplotlib) (0.10.0)\nRequirement already satisfied: kiwisolver>=1.0.1 in /shared-libs/python3.8/py/lib/python3.8/site-packages (from matplotlib) (1.3.1)\nRequirement already satisfied: python-dateutil>=2.7 in /shared-libs/python3.8/py-core/lib/python3.8/site-packages (from matplotlib) (2.8.1)\nRequirement already satisfied: pyparsing>=2.2.1 in /shared-libs/python3.8/py-core/lib/python3.8/site-packages (from matplotlib) (2.4.7)\nRequirement already satisfied: numpy>=1.16 in /shared-libs/python3.8/py/lib/python3.8/site-packages (from matplotlib) (1.19.5)\nRequirement already satisfied: pillow>=6.2.0 in /shared-libs/python3.8/py/lib/python3.8/site-packages (from matplotlib) (8.2.0)\nRequirement already satisfied: six in /shared-libs/python3.8/py-core/lib/python3.8/site-packages (from cycler>=0.10->matplotlib) (1.15.0)\n\u001b[33mWARNING: You are using pip version 21.0.1; however, version 21.1 is available.\nYou should consider upgrading via the '/root/venv/bin/python -m pip install --upgrade pip' command.\u001b[0m\nCollecting netwulf\n  Downloading netwulf-0.1.5.tar.gz (236 kB)\n\u001b[K     |████████████████████████████████| 236 kB 13.0 MB/s \n\u001b[?25hRequirement already satisfied: networkx in /root/venv/lib/python3.8/site-packages (2.5.1)\nCollecting decorator<5,>=4.3\n  Using cached decorator-4.4.2-py2.py3-none-any.whl (9.2 kB)\nRequirement already satisfied: numpy>=0.14 in /shared-libs/python3.8/py/lib/python3.8/site-packages (from netwulf) (1.19.5)\nRequirement already satisfied: matplotlib>=3.0 in /shared-libs/python3.8/py/lib/python3.8/site-packages (from netwulf) (3.4.1)\nCollecting simplejson>=3.0\n  Downloading simplejson-3.17.2-cp38-cp38-manylinux2010_x86_64.whl (137 kB)\n\u001b[K     |████████████████████████████████| 137 kB 55.3 MB/s \n\u001b[?25hRequirement already satisfied: cycler>=0.10 in /shared-libs/python3.8/py/lib/python3.8/site-packages (from matplotlib>=3.0->netwulf) (0.10.0)\nRequirement already satisfied: pyparsing>=2.2.1 in /shared-libs/python3.8/py-core/lib/python3.8/site-packages (from matplotlib>=3.0->netwulf) (2.4.7)\nRequirement already satisfied: pillow>=6.2.0 in /shared-libs/python3.8/py/lib/python3.8/site-packages (from matplotlib>=3.0->netwulf) (8.2.0)\nRequirement already satisfied: kiwisolver>=1.0.1 in /shared-libs/python3.8/py/lib/python3.8/site-packages (from matplotlib>=3.0->netwulf) (1.3.1)\nRequirement already satisfied: python-dateutil>=2.7 in /shared-libs/python3.8/py-core/lib/python3.8/site-packages (from matplotlib>=3.0->netwulf) (2.8.1)\nRequirement already satisfied: six in /shared-libs/python3.8/py-core/lib/python3.8/site-packages (from cycler>=0.10->matplotlib>=3.0->netwulf) (1.15.0)\nBuilding wheels for collected packages: netwulf\n  Building wheel for netwulf (setup.py) ... \u001b[?25ldone\n\u001b[?25h  Created wheel for netwulf: filename=netwulf-0.1.5-py3-none-any.whl size=237996 sha256=37b305eb6332efe5b83045abce2140a26b5c1432300a923409e5b2e75c4b743d\n  Stored in directory: /root/.cache/pip/wheels/fc/af/4a/427c740fbcf298f4d7af1b7defe300ccce1731d828d345c6d1\nSuccessfully built netwulf\nInstalling collected packages: decorator, simplejson, netwulf\n  Attempting uninstall: decorator\n    Found existing installation: decorator 5.0.6\n    Not uninstalling decorator at /shared-libs/python3.8/py-core/lib/python3.8/site-packages, outside environment /root/venv\n    Can't uninstall 'decorator'. No files were found to uninstall.\nSuccessfully installed decorator-4.4.2 netwulf-0.1.5 simplejson-3.17.2\n\u001b[33mWARNING: You are using pip version 21.0.1; however, version 21.1 is available.\nYou should consider upgrading via the '/root/venv/bin/python -m pip install --upgrade pip' command.\u001b[0m\n",
          "output_type": "stream"
        }
      ]
    },
    {
      "cell_type": "code",
      "metadata": {
        "tags": [],
        "cell_id": "00003-8da2407a-3464-4262-87c1-96b0d3f90af5",
        "deepnote_to_be_reexecuted": false,
        "source_hash": "800d6283",
        "execution_millis": 11,
        "execution_start": 1619593201666,
        "deepnote_cell_type": "code"
      },
      "source": "import numpy as np\nimport pickle as pkl\nimport pandas as pd\nimport nltk\nfrom clean_books import clean_book\nfrom sentiment import *\nimport os, re, sys\nfrom difflib import SequenceMatcher\nfrom tqdm import tqdm\nimport itertools\nimport networkx as nx\nimport netwulf as nw\nfrom collections import defaultdict",
      "execution_count": 47,
      "outputs": []
    },
    {
      "cell_type": "code",
      "metadata": {
        "tags": [],
        "cell_id": "00004-ff1f0df7-96ae-4fbb-b467-32ee6e6b9a4a",
        "deepnote_to_be_reexecuted": false,
        "source_hash": "53a91fb8",
        "execution_start": 1619591557806,
        "execution_millis": 737,
        "deepnote_cell_type": "code"
      },
      "source": "nltk.download('stopwords')\nnltk.download('punkt')\n\nfrom nltk.corpus import stopwords",
      "execution_count": 4,
      "outputs": [
        {
          "name": "stderr",
          "text": "[nltk_data] Downloading package stopwords to /root/nltk_data...\n[nltk_data]   Unzipping corpora/stopwords.zip.\n[nltk_data] Downloading package punkt to /root/nltk_data...\n[nltk_data]   Unzipping tokenizers/punkt.zip.\n",
          "output_type": "stream"
        }
      ]
    },
    {
      "cell_type": "markdown",
      "source": "## Function Definitions for Text Analysis",
      "metadata": {
        "tags": [],
        "cell_id": "00001-7260aeac-dc55-44c5-99cf-4627d2547e71",
        "deepnote_cell_type": "markdown"
      }
    },
    {
      "cell_type": "markdown",
      "source": "Some useful function can be found in `sentiment.py`:\n\n`happiness(doc)` takes a list of words and computes the average happiness score using the Hedonometer\n\n`emotion_score(doc)` takes a list of words and computes a dictionary of average emotion scores among the emotions: _Anger, Anticipation,\tDisgust, Fear, Joy, Sadness, Surprise_ and _Trust_\n\n`vader_sentiment(doc)` takes a list of words and/or sentences and computes the average VADER compund score\n\n`TF_IDF(docs_to_analyse, all_docs)` computes TF and TF-IDF score of terms in docs_to_analyse. all_docs are used to comput IDF scores \n",
      "metadata": {
        "tags": [],
        "cell_id": "00002-661015eb-5176-421b-bac4-e5ad36546c5e",
        "deepnote_cell_type": "markdown"
      }
    },
    {
      "cell_type": "markdown",
      "source": "## Scraping the internet for information\nBelow the chapter titles of the the books and characters by house has been scraped from the internet with the script `scrape_book_chapters.py` and `scrape_characters_by_house`",
      "metadata": {
        "tags": [],
        "cell_id": "00006-7f86b715-2cb3-4ce4-8623-e416d2c104a1",
        "deepnote_cell_type": "markdown"
      }
    },
    {
      "cell_type": "code",
      "metadata": {
        "tags": [],
        "cell_id": "00007-31995f99-1250-4f26-b933-74d9cc4bd16c",
        "deepnote_to_be_reexecuted": false,
        "source_hash": "dfbcf89f",
        "execution_millis": 267,
        "execution_start": 1619591563287,
        "deepnote_cell_type": "code"
      },
      "source": "chapter_info = pd.read_pickle('data/chapter_dataframe.pkl')\n#Add book number to chapters\nidx = chapter_info.index[chapter_info[\"Local Chapter\"] == 1]\nfor i in range(7):\n    chapter_info.loc[idx[i]:(idx[i+1] if i+1 < len(idx) else None), \"Book\"] = int(i+1)\nchapter_info",
      "execution_count": 5,
      "outputs": [
        {
          "output_type": "execute_result",
          "execution_count": 5,
          "data": {
            "application/vnd.deepnote.dataframe.v2+json": {
              "row_count": 199,
              "column_count": 5,
              "columns": [
                {
                  "name": "Global Chapter",
                  "dtype": "int64",
                  "stats": {
                    "unique_count": 199,
                    "nan_count": 0,
                    "min": "1",
                    "max": "199",
                    "histogram": [
                      {
                        "bin_start": 1,
                        "bin_end": 20.8,
                        "count": 20
                      },
                      {
                        "bin_start": 20.8,
                        "bin_end": 40.6,
                        "count": 20
                      },
                      {
                        "bin_start": 40.6,
                        "bin_end": 60.400000000000006,
                        "count": 20
                      },
                      {
                        "bin_start": 60.400000000000006,
                        "bin_end": 80.2,
                        "count": 20
                      },
                      {
                        "bin_start": 80.2,
                        "bin_end": 100,
                        "count": 19
                      },
                      {
                        "bin_start": 100,
                        "bin_end": 119.80000000000001,
                        "count": 20
                      },
                      {
                        "bin_start": 119.80000000000001,
                        "bin_end": 139.6,
                        "count": 20
                      },
                      {
                        "bin_start": 139.6,
                        "bin_end": 159.4,
                        "count": 20
                      },
                      {
                        "bin_start": 159.4,
                        "bin_end": 179.20000000000002,
                        "count": 20
                      },
                      {
                        "bin_start": 179.20000000000002,
                        "bin_end": 199,
                        "count": 20
                      }
                    ]
                  }
                },
                {
                  "name": "Local Chapter",
                  "dtype": "int64",
                  "stats": {
                    "unique_count": 38,
                    "nan_count": 0,
                    "min": "1",
                    "max": "38",
                    "histogram": [
                      {
                        "bin_start": 1,
                        "bin_end": 4.7,
                        "count": 28
                      },
                      {
                        "bin_start": 4.7,
                        "bin_end": 8.4,
                        "count": 28
                      },
                      {
                        "bin_start": 8.4,
                        "bin_end": 12.100000000000001,
                        "count": 28
                      },
                      {
                        "bin_start": 12.100000000000001,
                        "bin_end": 15.8,
                        "count": 21
                      },
                      {
                        "bin_start": 15.8,
                        "bin_end": 19.5,
                        "count": 25
                      },
                      {
                        "bin_start": 19.5,
                        "bin_end": 23.200000000000003,
                        "count": 19
                      },
                      {
                        "bin_start": 23.200000000000003,
                        "bin_end": 26.900000000000002,
                        "count": 12
                      },
                      {
                        "bin_start": 26.900000000000002,
                        "bin_end": 30.6,
                        "count": 16
                      },
                      {
                        "bin_start": 30.6,
                        "bin_end": 34.300000000000004,
                        "count": 12
                      },
                      {
                        "bin_start": 34.300000000000004,
                        "bin_end": 38,
                        "count": 10
                      }
                    ]
                  }
                },
                {
                  "name": "Title",
                  "dtype": "object",
                  "stats": {
                    "unique_count": 199,
                    "nan_count": 0,
                    "categories": [
                      {
                        "name": "The Boy Who Lived",
                        "count": 1
                      },
                      {
                        "name": "The Vanishing Glass",
                        "count": 1
                      },
                      {
                        "name": "197 others",
                        "count": 197
                      }
                    ]
                  }
                },
                {
                  "name": "Approx Story Time",
                  "dtype": "datetime64[ns]",
                  "stats": {
                    "unique_count": 146,
                    "nan_count": 0,
                    "min": "1981-11-01 00:00:00",
                    "max": "2017-09-01 00:00:00",
                    "histogram": [
                      {
                        "bin_start": 373420800000000000,
                        "bin_end": 486501120000000000,
                        "count": 1
                      },
                      {
                        "bin_start": 486501120000000000,
                        "bin_end": 599581440000000000,
                        "count": 0
                      },
                      {
                        "bin_start": 599581440000000000,
                        "bin_end": 712661760000000000,
                        "count": 18
                      },
                      {
                        "bin_start": 712661760000000000,
                        "bin_end": 825742080000000000,
                        "count": 101
                      },
                      {
                        "bin_start": 825742080000000000,
                        "bin_end": 938822400000000000,
                        "count": 78
                      },
                      {
                        "bin_start": 938822400000000000,
                        "bin_end": 1051902720000000000,
                        "count": 0
                      },
                      {
                        "bin_start": 1051902720000000000,
                        "bin_end": 1164983040000000000,
                        "count": 0
                      },
                      {
                        "bin_start": 1164983040000000000,
                        "bin_end": 1278063360000000000,
                        "count": 0
                      },
                      {
                        "bin_start": 1278063360000000000,
                        "bin_end": 1391143680000000000,
                        "count": 0
                      },
                      {
                        "bin_start": 1391143680000000000,
                        "bin_end": 1504224000000000000,
                        "count": 1
                      }
                    ]
                  }
                },
                {
                  "name": "Book",
                  "dtype": "float64",
                  "stats": {
                    "unique_count": 7,
                    "nan_count": 0,
                    "min": "1.0",
                    "max": "7.0",
                    "histogram": [
                      {
                        "bin_start": 1,
                        "bin_end": 1.6,
                        "count": 17
                      },
                      {
                        "bin_start": 1.6,
                        "bin_end": 2.2,
                        "count": 18
                      },
                      {
                        "bin_start": 2.2,
                        "bin_end": 2.8,
                        "count": 0
                      },
                      {
                        "bin_start": 2.8,
                        "bin_end": 3.4,
                        "count": 22
                      },
                      {
                        "bin_start": 3.4,
                        "bin_end": 4,
                        "count": 0
                      },
                      {
                        "bin_start": 4,
                        "bin_end": 4.6,
                        "count": 37
                      },
                      {
                        "bin_start": 4.6,
                        "bin_end": 5.2,
                        "count": 38
                      },
                      {
                        "bin_start": 5.2,
                        "bin_end": 5.8,
                        "count": 0
                      },
                      {
                        "bin_start": 5.8,
                        "bin_end": 6.3999999999999995,
                        "count": 30
                      },
                      {
                        "bin_start": 6.3999999999999995,
                        "bin_end": 7,
                        "count": 37
                      }
                    ]
                  }
                },
                {
                  "name": "_deepnote_index_column",
                  "dtype": "int64"
                }
              ],
              "rows_top": [
                {
                  "Global Chapter": 1,
                  "Local Chapter": 1,
                  "Title": "The Boy Who Lived",
                  "Approx Story Time": "1981-11-01T00:00:00.000000",
                  "Book": 1,
                  "_deepnote_index_column": 0
                },
                {
                  "Global Chapter": 2,
                  "Local Chapter": 2,
                  "Title": "The Vanishing Glass",
                  "Approx Story Time": "1991-06-23T00:00:00.000000",
                  "Book": 1,
                  "_deepnote_index_column": 1
                },
                {
                  "Global Chapter": 3,
                  "Local Chapter": 3,
                  "Title": "The Letters from No One",
                  "Approx Story Time": "1991-07-23T00:00:00.000000",
                  "Book": 1,
                  "_deepnote_index_column": 2
                },
                {
                  "Global Chapter": 4,
                  "Local Chapter": 4,
                  "Title": "The Keeper of Keys",
                  "Approx Story Time": "1991-07-31T00:00:00.000000",
                  "Book": 1,
                  "_deepnote_index_column": 3
                },
                {
                  "Global Chapter": 5,
                  "Local Chapter": 5,
                  "Title": "Diagon Alley",
                  "Approx Story Time": "1991-07-31T00:00:00.000000",
                  "Book": 1,
                  "_deepnote_index_column": 4
                },
                {
                  "Global Chapter": 6,
                  "Local Chapter": 6,
                  "Title": "The Journey from Platform Nine and Three-Quarters",
                  "Approx Story Time": "1991-08-01T00:00:00.000000",
                  "Book": 1,
                  "_deepnote_index_column": 5
                },
                {
                  "Global Chapter": 7,
                  "Local Chapter": 7,
                  "Title": "The Sorting Hat",
                  "Approx Story Time": "1991-09-01T00:00:00.000000",
                  "Book": 1,
                  "_deepnote_index_column": 6
                },
                {
                  "Global Chapter": 8,
                  "Local Chapter": 8,
                  "Title": "The Potions Master",
                  "Approx Story Time": "1991-09-02T00:00:00.000000",
                  "Book": 1,
                  "_deepnote_index_column": 7
                },
                {
                  "Global Chapter": 9,
                  "Local Chapter": 9,
                  "Title": "The Midnight Duel",
                  "Approx Story Time": "1991-09-12T00:00:00.000000",
                  "Book": 1,
                  "_deepnote_index_column": 8
                },
                {
                  "Global Chapter": 10,
                  "Local Chapter": 10,
                  "Title": "Hallowe'en",
                  "Approx Story Time": "1991-09-13T00:00:00.000000",
                  "Book": 1,
                  "_deepnote_index_column": 9
                },
                {
                  "Global Chapter": 11,
                  "Local Chapter": 11,
                  "Title": "Quidditch",
                  "Approx Story Time": "1991-11-08T00:00:00.000000",
                  "Book": 1,
                  "_deepnote_index_column": 10
                },
                {
                  "Global Chapter": 12,
                  "Local Chapter": 12,
                  "Title": "The Mirror of Erised",
                  "Approx Story Time": "1991-12-21T00:00:00.000000",
                  "Book": 1,
                  "_deepnote_index_column": 11
                },
                {
                  "Global Chapter": 13,
                  "Local Chapter": 13,
                  "Title": "Nicolas Flamel",
                  "Approx Story Time": "1992-01-05T00:00:00.000000",
                  "Book": 1,
                  "_deepnote_index_column": 12
                },
                {
                  "Global Chapter": 14,
                  "Local Chapter": 14,
                  "Title": "Norbert the Norwegian Ridgeback",
                  "Approx Story Time": "1992-03-23T00:00:00.000000",
                  "Book": 1,
                  "_deepnote_index_column": 13
                },
                {
                  "Global Chapter": 15,
                  "Local Chapter": 15,
                  "Title": "The Forbidden Forest",
                  "Approx Story Time": "1992-05-10T00:00:00.000000",
                  "Book": 1,
                  "_deepnote_index_column": 14
                },
                {
                  "Global Chapter": 16,
                  "Local Chapter": 16,
                  "Title": "Through the Trapdoor",
                  "Approx Story Time": "1992-06-04T00:00:00.000000",
                  "Book": 1,
                  "_deepnote_index_column": 15
                },
                {
                  "Global Chapter": 17,
                  "Local Chapter": 17,
                  "Title": "The Man with Two Faces",
                  "Approx Story Time": "1992-06-04T00:00:00.000000",
                  "Book": 1,
                  "_deepnote_index_column": 16
                },
                {
                  "Global Chapter": 18,
                  "Local Chapter": 1,
                  "Title": "The Worst Birthday",
                  "Approx Story Time": "1992-07-31T00:00:00.000000",
                  "Book": 2,
                  "_deepnote_index_column": 17
                },
                {
                  "Global Chapter": 19,
                  "Local Chapter": 2,
                  "Title": "Dobby’s Warning",
                  "Approx Story Time": "1992-07-31T00:00:00.000000",
                  "Book": 2,
                  "_deepnote_index_column": 18
                },
                {
                  "Global Chapter": 20,
                  "Local Chapter": 3,
                  "Title": "The Burrow",
                  "Approx Story Time": "1992-08-03T00:00:00.000000",
                  "Book": 2,
                  "_deepnote_index_column": 19
                },
                {
                  "Global Chapter": 21,
                  "Local Chapter": 4,
                  "Title": "At Flourish and Blotts",
                  "Approx Story Time": "1992-08-12T00:00:00.000000",
                  "Book": 2,
                  "_deepnote_index_column": 20
                },
                {
                  "Global Chapter": 22,
                  "Local Chapter": 5,
                  "Title": "The Whomping Willow",
                  "Approx Story Time": "1992-08-31T00:00:00.000000",
                  "Book": 2,
                  "_deepnote_index_column": 21
                },
                {
                  "Global Chapter": 23,
                  "Local Chapter": 6,
                  "Title": "Gilderoy Lockhart",
                  "Approx Story Time": "1992-09-02T00:00:00.000000",
                  "Book": 2,
                  "_deepnote_index_column": 22
                },
                {
                  "Global Chapter": 24,
                  "Local Chapter": 7,
                  "Title": "Mudbloods and Murmurs",
                  "Approx Story Time": "1992-09-05T00:00:00.000000",
                  "Book": 2,
                  "_deepnote_index_column": 23
                },
                {
                  "Global Chapter": 25,
                  "Local Chapter": 8,
                  "Title": "The Deathday Party",
                  "Approx Story Time": "1992-10-24T00:00:00.000000",
                  "Book": 2,
                  "_deepnote_index_column": 24
                },
                {
                  "Global Chapter": 26,
                  "Local Chapter": 9,
                  "Title": "The Writing on the Wall",
                  "Approx Story Time": "1992-10-31T00:00:00.000000",
                  "Book": 2,
                  "_deepnote_index_column": 25
                },
                {
                  "Global Chapter": 27,
                  "Local Chapter": 10,
                  "Title": "The Rogue Bludger",
                  "Approx Story Time": "1992-11-05T00:00:00.000000",
                  "Book": 2,
                  "_deepnote_index_column": 26
                },
                {
                  "Global Chapter": 28,
                  "Local Chapter": 11,
                  "Title": "The Duelling Club",
                  "Approx Story Time": "1992-11-08T00:00:00.000000",
                  "Book": 2,
                  "_deepnote_index_column": 27
                },
                {
                  "Global Chapter": 29,
                  "Local Chapter": 12,
                  "Title": "The Polyjuice Potion",
                  "Approx Story Time": "1992-12-18T00:00:00.000000",
                  "Book": 2,
                  "_deepnote_index_column": 28
                },
                {
                  "Global Chapter": 30,
                  "Local Chapter": 13,
                  "Title": "The Very Secret Diary",
                  "Approx Story Time": "1993-01-31T00:00:00.000000",
                  "Book": 2,
                  "_deepnote_index_column": 29
                },
                {
                  "Global Chapter": 31,
                  "Local Chapter": 14,
                  "Title": "Cornelius Fudge",
                  "Approx Story Time": "1993-02-15T00:00:00.000000",
                  "Book": 2,
                  "_deepnote_index_column": 30
                },
                {
                  "Global Chapter": 32,
                  "Local Chapter": 15,
                  "Title": "Aragog",
                  "Approx Story Time": "1993-05-24T00:00:00.000000",
                  "Book": 2,
                  "_deepnote_index_column": 31
                },
                {
                  "Global Chapter": 33,
                  "Local Chapter": 16,
                  "Title": "The Chamber of Secrets",
                  "Approx Story Time": "1993-05-25T00:00:00.000000",
                  "Book": 2,
                  "_deepnote_index_column": 32
                },
                {
                  "Global Chapter": 34,
                  "Local Chapter": 17,
                  "Title": "The Heir of Slytherin",
                  "Approx Story Time": "1993-05-29T00:00:00.000000",
                  "Book": 2,
                  "_deepnote_index_column": 33
                },
                {
                  "Global Chapter": 35,
                  "Local Chapter": 18,
                  "Title": "Dobby’s Reward",
                  "Approx Story Time": "1993-05-30T00:00:00.000000",
                  "Book": 2,
                  "_deepnote_index_column": 34
                },
                {
                  "Global Chapter": 36,
                  "Local Chapter": 1,
                  "Title": "Owl Post",
                  "Approx Story Time": "1993-07-30T00:00:00.000000",
                  "Book": 3,
                  "_deepnote_index_column": 35
                },
                {
                  "Global Chapter": 37,
                  "Local Chapter": 2,
                  "Title": "Aunt Marge’s Big Mistake",
                  "Approx Story Time": "1993-07-31T00:00:00.000000",
                  "Book": 3,
                  "_deepnote_index_column": 36
                },
                {
                  "Global Chapter": 38,
                  "Local Chapter": 3,
                  "Title": "The Knight Bus",
                  "Approx Story Time": "1993-08-06T00:00:00.000000",
                  "Book": 3,
                  "_deepnote_index_column": 37
                },
                {
                  "Global Chapter": 39,
                  "Local Chapter": 4,
                  "Title": "The Leaky Cauldron",
                  "Approx Story Time": "1993-08-16T00:00:00.000000",
                  "Book": 3,
                  "_deepnote_index_column": 38
                },
                {
                  "Global Chapter": 40,
                  "Local Chapter": 5,
                  "Title": "The Dementor",
                  "Approx Story Time": "1993-09-01T00:00:00.000000",
                  "Book": 3,
                  "_deepnote_index_column": 39
                },
                {
                  "Global Chapter": 41,
                  "Local Chapter": 6,
                  "Title": "Talons and Tea Leaves",
                  "Approx Story Time": "1993-09-02T00:00:00.000000",
                  "Book": 3,
                  "_deepnote_index_column": 40
                },
                {
                  "Global Chapter": 42,
                  "Local Chapter": 7,
                  "Title": "The Boggart in the Wardrobe",
                  "Approx Story Time": "1993-09-09T00:00:00.000000",
                  "Book": 3,
                  "_deepnote_index_column": 41
                },
                {
                  "Global Chapter": 43,
                  "Local Chapter": 8,
                  "Title": "Flight of the Fat Lady",
                  "Approx Story Time": "1993-10-07T00:00:00.000000",
                  "Book": 3,
                  "_deepnote_index_column": 42
                },
                {
                  "Global Chapter": 44,
                  "Local Chapter": 9,
                  "Title": "Grim Defeat",
                  "Approx Story Time": "1993-10-31T00:00:00.000000",
                  "Book": 3,
                  "_deepnote_index_column": 43
                },
                {
                  "Global Chapter": 45,
                  "Local Chapter": 10,
                  "Title": "The Marauder's Map",
                  "Approx Story Time": "1993-11-07T00:00:00.000000",
                  "Book": 3,
                  "_deepnote_index_column": 44
                },
                {
                  "Global Chapter": 46,
                  "Local Chapter": 11,
                  "Title": "The Firebolt",
                  "Approx Story Time": "1993-12-18T00:00:00.000000",
                  "Book": 3,
                  "_deepnote_index_column": 45
                },
                {
                  "Global Chapter": 47,
                  "Local Chapter": 12,
                  "Title": "The Patronus",
                  "Approx Story Time": "1994-01-02T00:00:00.000000",
                  "Book": 3,
                  "_deepnote_index_column": 46
                },
                {
                  "Global Chapter": 48,
                  "Local Chapter": 13,
                  "Title": "Gryffindor versus Ravenclaw",
                  "Approx Story Time": "1994-02-04T00:00:00.000000",
                  "Book": 3,
                  "_deepnote_index_column": 47
                },
                {
                  "Global Chapter": 49,
                  "Local Chapter": 14,
                  "Title": "Snape's Grudge",
                  "Approx Story Time": "1994-02-05T00:00:00.000000",
                  "Book": 3,
                  "_deepnote_index_column": 48
                },
                {
                  "Global Chapter": 50,
                  "Local Chapter": 15,
                  "Title": "The Quidditch Final",
                  "Approx Story Time": "1994-02-12T00:00:00.000000",
                  "Book": 3,
                  "_deepnote_index_column": 49
                },
                {
                  "Global Chapter": 51,
                  "Local Chapter": 16,
                  "Title": "Professor Trelawney's Prediction",
                  "Approx Story Time": "1994-06-05T00:00:00.000000",
                  "Book": 3,
                  "_deepnote_index_column": 50
                },
                {
                  "Global Chapter": 52,
                  "Local Chapter": 17,
                  "Title": "Cat, Rat, and Dog",
                  "Approx Story Time": "1994-06-09T00:00:00.000000",
                  "Book": 3,
                  "_deepnote_index_column": 51
                },
                {
                  "Global Chapter": 53,
                  "Local Chapter": 18,
                  "Title": "Moony, Wormtail, Padfoot and Prongs",
                  "Approx Story Time": "1994-06-09T00:00:00.000000",
                  "Book": 3,
                  "_deepnote_index_column": 52
                },
                {
                  "Global Chapter": 54,
                  "Local Chapter": 19,
                  "Title": "The Servant of Lord Voldemort",
                  "Approx Story Time": "1994-06-09T00:00:00.000000",
                  "Book": 3,
                  "_deepnote_index_column": 53
                },
                {
                  "Global Chapter": 55,
                  "Local Chapter": 20,
                  "Title": "The Dementor’s Kiss",
                  "Approx Story Time": "1994-06-09T00:00:00.000000",
                  "Book": 3,
                  "_deepnote_index_column": 54
                },
                {
                  "Global Chapter": 56,
                  "Local Chapter": 21,
                  "Title": "Hermione’s Secret",
                  "Approx Story Time": "1994-06-09T00:00:00.000000",
                  "Book": 3,
                  "_deepnote_index_column": 55
                },
                {
                  "Global Chapter": 57,
                  "Local Chapter": 22,
                  "Title": "Owl Post Again",
                  "Approx Story Time": "1994-06-09T00:00:00.000000",
                  "Book": 3,
                  "_deepnote_index_column": 56
                },
                {
                  "Global Chapter": 58,
                  "Local Chapter": 1,
                  "Title": "The Riddle House",
                  "Approx Story Time": "1994-08-23T00:00:00.000000",
                  "Book": 4,
                  "_deepnote_index_column": 57
                },
                {
                  "Global Chapter": 59,
                  "Local Chapter": 2,
                  "Title": "The Scar",
                  "Approx Story Time": "1994-08-23T00:00:00.000000",
                  "Book": 4,
                  "_deepnote_index_column": 58
                },
                {
                  "Global Chapter": 60,
                  "Local Chapter": 3,
                  "Title": "The Invitation",
                  "Approx Story Time": "1994-08-23T00:00:00.000000",
                  "Book": 4,
                  "_deepnote_index_column": 59
                },
                {
                  "Global Chapter": 61,
                  "Local Chapter": 4,
                  "Title": "Back to the Burrow",
                  "Approx Story Time": "1994-08-24T00:00:00.000000",
                  "Book": 4,
                  "_deepnote_index_column": 60
                },
                {
                  "Global Chapter": 62,
                  "Local Chapter": 5,
                  "Title": "Weasley’s Wizard Wheezes",
                  "Approx Story Time": "1994-08-24T00:00:00.000000",
                  "Book": 4,
                  "_deepnote_index_column": 61
                },
                {
                  "Global Chapter": 63,
                  "Local Chapter": 6,
                  "Title": "The Portkey",
                  "Approx Story Time": "1994-08-25T00:00:00.000000",
                  "Book": 4,
                  "_deepnote_index_column": 62
                },
                {
                  "Global Chapter": 64,
                  "Local Chapter": 7,
                  "Title": "Bagman and Crouch",
                  "Approx Story Time": "1994-08-25T00:00:00.000000",
                  "Book": 4,
                  "_deepnote_index_column": 63
                },
                {
                  "Global Chapter": 65,
                  "Local Chapter": 8,
                  "Title": "The Quidditch World Cup",
                  "Approx Story Time": "1994-08-25T00:00:00.000000",
                  "Book": 4,
                  "_deepnote_index_column": 64
                },
                {
                  "Global Chapter": 66,
                  "Local Chapter": 9,
                  "Title": "The Dark Mark",
                  "Approx Story Time": "1994-08-25T00:00:00.000000",
                  "Book": 4,
                  "_deepnote_index_column": 65
                },
                {
                  "Global Chapter": 67,
                  "Local Chapter": 10,
                  "Title": "Mayhem at the Ministry",
                  "Approx Story Time": "1994-08-26T00:00:00.000000",
                  "Book": 4,
                  "_deepnote_index_column": 66
                },
                {
                  "Global Chapter": 68,
                  "Local Chapter": 11,
                  "Title": "Aboard the Hogwarts Express",
                  "Approx Story Time": "1994-09-01T00:00:00.000000",
                  "Book": 4,
                  "_deepnote_index_column": 67
                },
                {
                  "Global Chapter": 69,
                  "Local Chapter": 12,
                  "Title": "The Triwizard Tournament",
                  "Approx Story Time": "1994-09-01T00:00:00.000000",
                  "Book": 4,
                  "_deepnote_index_column": 68
                },
                {
                  "Global Chapter": 70,
                  "Local Chapter": 13,
                  "Title": "Mad-Eye Moody",
                  "Approx Story Time": "1994-09-02T00:00:00.000000",
                  "Book": 4,
                  "_deepnote_index_column": 69
                },
                {
                  "Global Chapter": 71,
                  "Local Chapter": 14,
                  "Title": "The Unforgivable Curses",
                  "Approx Story Time": "1994-09-04T00:00:00.000000",
                  "Book": 4,
                  "_deepnote_index_column": 70
                },
                {
                  "Global Chapter": 72,
                  "Local Chapter": 15,
                  "Title": "Beauxbatons and Durmstrang",
                  "Approx Story Time": "1994-10-23T00:00:00.000000",
                  "Book": 4,
                  "_deepnote_index_column": 71
                },
                {
                  "Global Chapter": 73,
                  "Local Chapter": 16,
                  "Title": "The Goblet of Fire",
                  "Approx Story Time": "1994-10-30T00:00:00.000000",
                  "Book": 4,
                  "_deepnote_index_column": 72
                },
                {
                  "Global Chapter": 74,
                  "Local Chapter": 17,
                  "Title": "The Four Champions",
                  "Approx Story Time": "1994-10-31T00:00:00.000000",
                  "Book": 4,
                  "_deepnote_index_column": 73
                },
                {
                  "Global Chapter": 75,
                  "Local Chapter": 18,
                  "Title": "The Weighing of the Wands",
                  "Approx Story Time": "1994-11-01T00:00:00.000000",
                  "Book": 4,
                  "_deepnote_index_column": 74
                },
                {
                  "Global Chapter": 76,
                  "Local Chapter": 19,
                  "Title": "The Hungarian Horntail",
                  "Approx Story Time": "1994-11-13T00:00:00.000000",
                  "Book": 4,
                  "_deepnote_index_column": 75
                },
                {
                  "Global Chapter": 77,
                  "Local Chapter": 20,
                  "Title": "The First Task",
                  "Approx Story Time": "1994-11-23T00:00:00.000000",
                  "Book": 4,
                  "_deepnote_index_column": 76
                },
                {
                  "Global Chapter": 78,
                  "Local Chapter": 21,
                  "Title": "The House-Elf Liberation Front",
                  "Approx Story Time": "1994-11-24T00:00:00.000000",
                  "Book": 4,
                  "_deepnote_index_column": 77
                },
                {
                  "Global Chapter": 79,
                  "Local Chapter": 22,
                  "Title": "The Unexpected Task",
                  "Approx Story Time": "1994-12-08T00:00:00.000000",
                  "Book": 4,
                  "_deepnote_index_column": 78
                },
                {
                  "Global Chapter": 80,
                  "Local Chapter": 23,
                  "Title": "The Yule Ball",
                  "Approx Story Time": "1994-12-19T00:00:00.000000",
                  "Book": 4,
                  "_deepnote_index_column": 79
                },
                {
                  "Global Chapter": 81,
                  "Local Chapter": 24,
                  "Title": "Rita Skeeter’s Scoop",
                  "Approx Story Time": "1994-12-26T00:00:00.000000",
                  "Book": 4,
                  "_deepnote_index_column": 80
                },
                {
                  "Global Chapter": 82,
                  "Local Chapter": 25,
                  "Title": "The Egg and the Eye",
                  "Approx Story Time": "1995-01-16T00:00:00.000000",
                  "Book": 4,
                  "_deepnote_index_column": 81
                },
                {
                  "Global Chapter": 83,
                  "Local Chapter": 26,
                  "Title": "The Second Task",
                  "Approx Story Time": "1995-02-23T00:00:00.000000",
                  "Book": 4,
                  "_deepnote_index_column": 82
                },
                {
                  "Global Chapter": 84,
                  "Local Chapter": 27,
                  "Title": "Padfoot Returns",
                  "Approx Story Time": "1995-02-25T00:00:00.000000",
                  "Book": 4,
                  "_deepnote_index_column": 83
                },
                {
                  "Global Chapter": 85,
                  "Local Chapter": 28,
                  "Title": "The Madness of Mr Crouch",
                  "Approx Story Time": "1995-02-26T00:00:00.000000",
                  "Book": 4,
                  "_deepnote_index_column": 84
                },
                {
                  "Global Chapter": 86,
                  "Local Chapter": 29,
                  "Title": "The Dream",
                  "Approx Story Time": "1995-05-24T00:00:00.000000",
                  "Book": 4,
                  "_deepnote_index_column": 85
                },
                {
                  "Global Chapter": 87,
                  "Local Chapter": 30,
                  "Title": "The Pensieve",
                  "Approx Story Time": "1995-05-26T00:00:00.000000",
                  "Book": 4,
                  "_deepnote_index_column": 86
                },
                {
                  "Global Chapter": 88,
                  "Local Chapter": 31,
                  "Title": "The Third Task",
                  "Approx Story Time": "1995-05-26T00:00:00.000000",
                  "Book": 4,
                  "_deepnote_index_column": 87
                },
                {
                  "Global Chapter": 89,
                  "Local Chapter": 32,
                  "Title": "Flesh, Blood, and Bone",
                  "Approx Story Time": "1995-06-24T00:00:00.000000",
                  "Book": 4,
                  "_deepnote_index_column": 88
                },
                {
                  "Global Chapter": 90,
                  "Local Chapter": 33,
                  "Title": "The Death Eaters",
                  "Approx Story Time": "1995-06-24T00:00:00.000000",
                  "Book": 4,
                  "_deepnote_index_column": 89
                },
                {
                  "Global Chapter": 91,
                  "Local Chapter": 34,
                  "Title": "Priori Incantatem",
                  "Approx Story Time": "1995-06-24T00:00:00.000000",
                  "Book": 4,
                  "_deepnote_index_column": 90
                },
                {
                  "Global Chapter": 92,
                  "Local Chapter": 35,
                  "Title": "Veritaserum",
                  "Approx Story Time": "1995-06-25T00:00:00.000000",
                  "Book": 4,
                  "_deepnote_index_column": 91
                },
                {
                  "Global Chapter": 93,
                  "Local Chapter": 36,
                  "Title": "The Parting of the Ways",
                  "Approx Story Time": "1995-06-25T00:00:00.000000",
                  "Book": 4,
                  "_deepnote_index_column": 92
                },
                {
                  "Global Chapter": 94,
                  "Local Chapter": 37,
                  "Title": "The Beginning",
                  "Approx Story Time": "1995-06-26T00:00:00.000000",
                  "Book": 4,
                  "_deepnote_index_column": 93
                },
                {
                  "Global Chapter": 95,
                  "Local Chapter": 1,
                  "Title": "Dudley Demented",
                  "Approx Story Time": "1995-07-31T00:00:00.000000",
                  "Book": 5,
                  "_deepnote_index_column": 94
                },
                {
                  "Global Chapter": 96,
                  "Local Chapter": 2,
                  "Title": "A Peck of Owls",
                  "Approx Story Time": "1995-08-02T00:00:00.000000",
                  "Book": 5,
                  "_deepnote_index_column": 95
                },
                {
                  "Global Chapter": 97,
                  "Local Chapter": 3,
                  "Title": "The Advance Guard",
                  "Approx Story Time": "1995-08-02T00:00:00.000000",
                  "Book": 5,
                  "_deepnote_index_column": 96
                },
                {
                  "Global Chapter": 98,
                  "Local Chapter": 4,
                  "Title": "Number Twelve, Grimmauld Place",
                  "Approx Story Time": "1995-08-06T00:00:00.000000",
                  "Book": 5,
                  "_deepnote_index_column": 97
                },
                {
                  "Global Chapter": 99,
                  "Local Chapter": 5,
                  "Title": "The Order of the Phoenix",
                  "Approx Story Time": "1995-08-06T00:00:00.000000",
                  "Book": 5,
                  "_deepnote_index_column": 98
                },
                {
                  "Global Chapter": 100,
                  "Local Chapter": 6,
                  "Title": "The Noble and Most Ancient House of Black",
                  "Approx Story Time": "1995-08-06T00:00:00.000000",
                  "Book": 5,
                  "_deepnote_index_column": 99
                },
                {
                  "Global Chapter": 101,
                  "Local Chapter": 7,
                  "Title": "The Ministry of Magic",
                  "Approx Story Time": "1995-08-08T00:00:00.000000",
                  "Book": 5,
                  "_deepnote_index_column": 100
                },
                {
                  "Global Chapter": 102,
                  "Local Chapter": 8,
                  "Title": "The Hearing",
                  "Approx Story Time": "1995-08-12T00:00:00.000000",
                  "Book": 5,
                  "_deepnote_index_column": 101
                },
                {
                  "Global Chapter": 103,
                  "Local Chapter": 9,
                  "Title": "The Woes of Mrs Weasley",
                  "Approx Story Time": "1995-08-12T00:00:00.000000",
                  "Book": 5,
                  "_deepnote_index_column": 102
                },
                {
                  "Global Chapter": 104,
                  "Local Chapter": 10,
                  "Title": "Luna Lovegood",
                  "Approx Story Time": "1995-09-01T00:00:00.000000",
                  "Book": 5,
                  "_deepnote_index_column": 103
                },
                {
                  "Global Chapter": 105,
                  "Local Chapter": 11,
                  "Title": "The Sorting Hat's New Song",
                  "Approx Story Time": "1995-09-01T00:00:00.000000",
                  "Book": 5,
                  "_deepnote_index_column": 104
                },
                {
                  "Global Chapter": 106,
                  "Local Chapter": 12,
                  "Title": "Professor Umbridge",
                  "Approx Story Time": "1995-09-02T00:00:00.000000",
                  "Book": 5,
                  "_deepnote_index_column": 105
                },
                {
                  "Global Chapter": 107,
                  "Local Chapter": 13,
                  "Title": "Detention with Dolores",
                  "Approx Story Time": "1995-09-02T00:00:00.000000",
                  "Book": 5,
                  "_deepnote_index_column": 106
                },
                {
                  "Global Chapter": 108,
                  "Local Chapter": 14,
                  "Title": "Percy and Padfoot",
                  "Approx Story Time": "1995-09-08T00:00:00.000000",
                  "Book": 5,
                  "_deepnote_index_column": 107
                },
                {
                  "Global Chapter": 109,
                  "Local Chapter": 15,
                  "Title": "The Hogwarts High Inquisitor",
                  "Approx Story Time": "1995-09-09T00:00:00.000000",
                  "Book": 5,
                  "_deepnote_index_column": 108
                },
                {
                  "Global Chapter": 110,
                  "Local Chapter": 16,
                  "Title": "In the Hog's Head",
                  "Approx Story Time": "1995-09-26T00:00:00.000000",
                  "Book": 5,
                  "_deepnote_index_column": 109
                },
                {
                  "Global Chapter": 111,
                  "Local Chapter": 17,
                  "Title": "Educational Decree Number Twenty-four",
                  "Approx Story Time": "1995-10-05T00:00:00.000000",
                  "Book": 5,
                  "_deepnote_index_column": 110
                },
                {
                  "Global Chapter": 112,
                  "Local Chapter": 18,
                  "Title": "Dumbledore's Army",
                  "Approx Story Time": "1995-10-08T00:00:00.000000",
                  "Book": 5,
                  "_deepnote_index_column": 111
                },
                {
                  "Global Chapter": 113,
                  "Local Chapter": 19,
                  "Title": "The Lion and the Serpent",
                  "Approx Story Time": "1995-11-06T00:00:00.000000",
                  "Book": 5,
                  "_deepnote_index_column": 112
                },
                {
                  "Global Chapter": 114,
                  "Local Chapter": 20,
                  "Title": "Hagrid’s Tale",
                  "Approx Story Time": "1995-11-07T00:00:00.000000",
                  "Book": 5,
                  "_deepnote_index_column": 113
                },
                {
                  "Global Chapter": 115,
                  "Local Chapter": 21,
                  "Title": "The Eye of the Snake",
                  "Approx Story Time": "1995-11-12T00:00:00.000000",
                  "Book": 5,
                  "_deepnote_index_column": 114
                },
                {
                  "Global Chapter": 116,
                  "Local Chapter": 22,
                  "Title": "St Mungo's Hospital for Magical Maladies and Injuries",
                  "Approx Story Time": "1995-12-18T00:00:00.000000",
                  "Book": 5,
                  "_deepnote_index_column": 115
                },
                {
                  "Global Chapter": 117,
                  "Local Chapter": 23,
                  "Title": "Christmas on the Closed Ward",
                  "Approx Story Time": "1995-12-19T00:00:00.000000",
                  "Book": 5,
                  "_deepnote_index_column": 116
                },
                {
                  "Global Chapter": 118,
                  "Local Chapter": 24,
                  "Title": "Occlumency",
                  "Approx Story Time": "1995-12-26T00:00:00.000000",
                  "Book": 5,
                  "_deepnote_index_column": 117
                },
                {
                  "Global Chapter": 119,
                  "Local Chapter": 25,
                  "Title": "The Beetle at Bay",
                  "Approx Story Time": "1996-01-09T00:00:00.000000",
                  "Book": 5,
                  "_deepnote_index_column": 118
                },
                {
                  "Global Chapter": 120,
                  "Local Chapter": 26,
                  "Title": "Seen and Unforeseen",
                  "Approx Story Time": "1996-02-14T00:00:00.000000",
                  "Book": 5,
                  "_deepnote_index_column": 119
                },
                {
                  "Global Chapter": 121,
                  "Local Chapter": 27,
                  "Title": "The Centaur and the Sneak",
                  "Approx Story Time": "1996-03-10T00:00:00.000000",
                  "Book": 5,
                  "_deepnote_index_column": 120
                },
                {
                  "Global Chapter": 122,
                  "Local Chapter": 28,
                  "Title": "Snape’s Worst Memory",
                  "Approx Story Time": "1996-03-31T00:00:00.000000",
                  "Book": 5,
                  "_deepnote_index_column": 121
                },
                {
                  "Global Chapter": 123,
                  "Local Chapter": 29,
                  "Title": "Career Advice",
                  "Approx Story Time": "1996-04-01T00:00:00.000000",
                  "Book": 5,
                  "_deepnote_index_column": 122
                },
                {
                  "Global Chapter": 124,
                  "Local Chapter": 30,
                  "Title": "Grawp",
                  "Approx Story Time": "1996-04-28T00:00:00.000000",
                  "Book": 5,
                  "_deepnote_index_column": 123
                },
                {
                  "Global Chapter": 125,
                  "Local Chapter": 31,
                  "Title": "O.W.L.S",
                  "Approx Story Time": "1996-05-31T00:00:00.000000",
                  "Book": 5,
                  "_deepnote_index_column": 124
                },
                {
                  "Global Chapter": 126,
                  "Local Chapter": 32,
                  "Title": "Out of the Fire",
                  "Approx Story Time": "1996-06-18T00:00:00.000000",
                  "Book": 5,
                  "_deepnote_index_column": 125
                },
                {
                  "Global Chapter": 127,
                  "Local Chapter": 33,
                  "Title": "Fight and Flight",
                  "Approx Story Time": "1996-06-18T00:00:00.000000",
                  "Book": 5,
                  "_deepnote_index_column": 126
                },
                {
                  "Global Chapter": 128,
                  "Local Chapter": 34,
                  "Title": "The Department of Mysteries",
                  "Approx Story Time": "1996-06-18T00:00:00.000000",
                  "Book": 5,
                  "_deepnote_index_column": 127
                },
                {
                  "Global Chapter": 129,
                  "Local Chapter": 35,
                  "Title": "Beyond the Veil",
                  "Approx Story Time": "1996-06-18T00:00:00.000000",
                  "Book": 5,
                  "_deepnote_index_column": 128
                },
                {
                  "Global Chapter": 130,
                  "Local Chapter": 36,
                  "Title": "The Only One He Ever Feared",
                  "Approx Story Time": "1996-06-18T00:00:00.000000",
                  "Book": 5,
                  "_deepnote_index_column": 129
                },
                {
                  "Global Chapter": 131,
                  "Local Chapter": 37,
                  "Title": "The Lost Prophecy",
                  "Approx Story Time": "1996-06-19T00:00:00.000000",
                  "Book": 5,
                  "_deepnote_index_column": 130
                },
                {
                  "Global Chapter": 132,
                  "Local Chapter": 38,
                  "Title": "The Second War Begins",
                  "Approx Story Time": "1996-06-21T00:00:00.000000",
                  "Book": 5,
                  "_deepnote_index_column": 131
                },
                {
                  "Global Chapter": 133,
                  "Local Chapter": 1,
                  "Title": "The Other Minister\n",
                  "Approx Story Time": "1996-07-12T00:00:00.000000",
                  "Book": 6,
                  "_deepnote_index_column": 132
                },
                {
                  "Global Chapter": 134,
                  "Local Chapter": 2,
                  "Title": "Spinner’s End\n",
                  "Approx Story Time": "1996-07-12T00:00:00.000000",
                  "Book": 6,
                  "_deepnote_index_column": 133
                },
                {
                  "Global Chapter": 135,
                  "Local Chapter": 3,
                  "Title": "Will and Won’t\n",
                  "Approx Story Time": "1996-07-12T00:00:00.000000",
                  "Book": 6,
                  "_deepnote_index_column": 134
                },
                {
                  "Global Chapter": 136,
                  "Local Chapter": 4,
                  "Title": "Horace Slughorn\n",
                  "Approx Story Time": "1996-07-12T00:00:00.000000",
                  "Book": 6,
                  "_deepnote_index_column": 135
                },
                {
                  "Global Chapter": 137,
                  "Local Chapter": 5,
                  "Title": "An Excess of Phlegm\n",
                  "Approx Story Time": "1996-07-13T00:00:00.000000",
                  "Book": 6,
                  "_deepnote_index_column": 136
                },
                {
                  "Global Chapter": 138,
                  "Local Chapter": 6,
                  "Title": "Draco’s Detour\n",
                  "Approx Story Time": "1996-07-14T00:00:00.000000",
                  "Book": 6,
                  "_deepnote_index_column": 137
                },
                {
                  "Global Chapter": 139,
                  "Local Chapter": 7,
                  "Title": "The Slug Club\n",
                  "Approx Story Time": "1996-08-04T00:00:00.000000",
                  "Book": 6,
                  "_deepnote_index_column": 138
                },
                {
                  "Global Chapter": 140,
                  "Local Chapter": 8,
                  "Title": "Snape Victorious\n",
                  "Approx Story Time": "1996-09-01T00:00:00.000000",
                  "Book": 6,
                  "_deepnote_index_column": 139
                },
                {
                  "Global Chapter": 141,
                  "Local Chapter": 9,
                  "Title": "The Half-Blood Prince\n",
                  "Approx Story Time": "1996-09-02T00:00:00.000000",
                  "Book": 6,
                  "_deepnote_index_column": 140
                },
                {
                  "Global Chapter": 142,
                  "Local Chapter": 10,
                  "Title": "The House of Gaunt\n",
                  "Approx Story Time": "1996-09-03T00:00:00.000000",
                  "Book": 6,
                  "_deepnote_index_column": 141
                },
                {
                  "Global Chapter": 143,
                  "Local Chapter": 11,
                  "Title": "Hermione’s Helping Hand\n",
                  "Approx Story Time": "1996-09-08T00:00:00.000000",
                  "Book": 6,
                  "_deepnote_index_column": 142
                },
                {
                  "Global Chapter": 144,
                  "Local Chapter": 12,
                  "Title": "Silver and Opals\n",
                  "Approx Story Time": "1996-10-12T00:00:00.000000",
                  "Book": 6,
                  "_deepnote_index_column": 143
                },
                {
                  "Global Chapter": 145,
                  "Local Chapter": 13,
                  "Title": "The Secret Riddle\n",
                  "Approx Story Time": "1996-10-14T00:00:00.000000",
                  "Book": 6,
                  "_deepnote_index_column": 144
                },
                {
                  "Global Chapter": 146,
                  "Local Chapter": 14,
                  "Title": "Felix Felicis\n",
                  "Approx Story Time": "1996-10-15T00:00:00.000000",
                  "Book": 6,
                  "_deepnote_index_column": 145
                },
                {
                  "Global Chapter": 147,
                  "Local Chapter": 15,
                  "Title": "The Unbreakable Vow\n",
                  "Approx Story Time": "1996-11-19T00:00:00.000000",
                  "Book": 6,
                  "_deepnote_index_column": 146
                },
                {
                  "Global Chapter": 148,
                  "Local Chapter": 16,
                  "Title": "A Very Frosty Christmas\n",
                  "Approx Story Time": "1996-12-21T00:00:00.000000",
                  "Book": 6,
                  "_deepnote_index_column": 147
                },
                {
                  "Global Chapter": 149,
                  "Local Chapter": 17,
                  "Title": "A Sluggish Memory\n",
                  "Approx Story Time": "1997-01-03T00:00:00.000000",
                  "Book": 6,
                  "_deepnote_index_column": 148
                },
                {
                  "Global Chapter": 150,
                  "Local Chapter": 18,
                  "Title": "Birthday Surprises\n",
                  "Approx Story Time": "1997-01-07T00:00:00.000000",
                  "Book": 6,
                  "_deepnote_index_column": 149
                },
                {
                  "Global Chapter": 151,
                  "Local Chapter": 19,
                  "Title": "Elf Tails\n",
                  "Approx Story Time": "1997-03-02T00:00:00.000000",
                  "Book": 6,
                  "_deepnote_index_column": 150
                },
                {
                  "Global Chapter": 152,
                  "Local Chapter": 20,
                  "Title": "Lord Voldemort’s Request\n",
                  "Approx Story Time": "1997-03-10T00:00:00.000000",
                  "Book": 6,
                  "_deepnote_index_column": 151
                },
                {
                  "Global Chapter": 153,
                  "Local Chapter": 21,
                  "Title": "The Unknowable Room\n",
                  "Approx Story Time": "1997-03-16T00:00:00.000000",
                  "Book": 6,
                  "_deepnote_index_column": 152
                },
                {
                  "Global Chapter": 154,
                  "Local Chapter": 22,
                  "Title": "After the Burial\n",
                  "Approx Story Time": "1997-04-21T00:00:00.000000",
                  "Book": 6,
                  "_deepnote_index_column": 153
                },
                {
                  "Global Chapter": 155,
                  "Local Chapter": 23,
                  "Title": "Horcruxes\n",
                  "Approx Story Time": "1997-04-21T00:00:00.000000",
                  "Book": 6,
                  "_deepnote_index_column": 154
                },
                {
                  "Global Chapter": 156,
                  "Local Chapter": 24,
                  "Title": "Sectumsempra\n",
                  "Approx Story Time": "1997-04-21T00:00:00.000000",
                  "Book": 6,
                  "_deepnote_index_column": 155
                },
                {
                  "Global Chapter": 157,
                  "Local Chapter": 25,
                  "Title": "The Seer Overheard\n",
                  "Approx Story Time": "1997-06-02T00:00:00.000000",
                  "Book": 6,
                  "_deepnote_index_column": 156
                },
                {
                  "Global Chapter": 158,
                  "Local Chapter": 26,
                  "Title": "The Cave\n",
                  "Approx Story Time": "1997-06-04T00:00:00.000000",
                  "Book": 6,
                  "_deepnote_index_column": 157
                },
                {
                  "Global Chapter": 159,
                  "Local Chapter": 27,
                  "Title": "The Lightning Struck Tower\n",
                  "Approx Story Time": "1997-06-04T00:00:00.000000",
                  "Book": 6,
                  "_deepnote_index_column": 158
                },
                {
                  "Global Chapter": 160,
                  "Local Chapter": 28,
                  "Title": "Flight of the Prince\n",
                  "Approx Story Time": "1997-06-04T00:00:00.000000",
                  "Book": 6,
                  "_deepnote_index_column": 159
                },
                {
                  "Global Chapter": 161,
                  "Local Chapter": 29,
                  "Title": "The Phoenix Lament\n",
                  "Approx Story Time": "1997-06-04T00:00:00.000000",
                  "Book": 6,
                  "_deepnote_index_column": 160
                },
                {
                  "Global Chapter": 162,
                  "Local Chapter": 30,
                  "Title": "The White Tomb\n",
                  "Approx Story Time": "1997-06-06T00:00:00.000000",
                  "Book": 6,
                  "_deepnote_index_column": 161
                },
                {
                  "Global Chapter": 163,
                  "Local Chapter": 1,
                  "Title": "The Dark Lord Ascending",
                  "Approx Story Time": "1997-07-20T00:00:00.000000",
                  "Book": 7,
                  "_deepnote_index_column": 162
                },
                {
                  "Global Chapter": 164,
                  "Local Chapter": 2,
                  "Title": "In Memoriam",
                  "Approx Story Time": "1997-07-27T00:00:00.000000",
                  "Book": 7,
                  "_deepnote_index_column": 163
                },
                {
                  "Global Chapter": 165,
                  "Local Chapter": 3,
                  "Title": "The Dursleys Departing",
                  "Approx Story Time": "1997-07-27T00:00:00.000000",
                  "Book": 7,
                  "_deepnote_index_column": 164
                },
                {
                  "Global Chapter": 166,
                  "Local Chapter": 4,
                  "Title": "The Seven Potters",
                  "Approx Story Time": "1997-07-27T00:00:00.000000",
                  "Book": 7,
                  "_deepnote_index_column": 165
                },
                {
                  "Global Chapter": 167,
                  "Local Chapter": 5,
                  "Title": "Fallen Warrior",
                  "Approx Story Time": "1997-07-27T00:00:00.000000",
                  "Book": 7,
                  "_deepnote_index_column": 166
                },
                {
                  "Global Chapter": 168,
                  "Local Chapter": 6,
                  "Title": "The Ghoul in Pyjamas",
                  "Approx Story Time": "1997-07-30T00:00:00.000000",
                  "Book": 7,
                  "_deepnote_index_column": 167
                },
                {
                  "Global Chapter": 169,
                  "Local Chapter": 7,
                  "Title": "The Will of Albus Dumbledore",
                  "Approx Story Time": "1997-08-01T00:00:00.000000",
                  "Book": 7,
                  "_deepnote_index_column": 168
                },
                {
                  "Global Chapter": 170,
                  "Local Chapter": 8,
                  "Title": "The Wedding",
                  "Approx Story Time": "1997-08-01T00:00:00.000000",
                  "Book": 7,
                  "_deepnote_index_column": 169
                },
                {
                  "Global Chapter": 171,
                  "Local Chapter": 9,
                  "Title": "A Place to Hide",
                  "Approx Story Time": "1997-08-02T00:00:00.000000",
                  "Book": 7,
                  "_deepnote_index_column": 170
                },
                {
                  "Global Chapter": 172,
                  "Local Chapter": 10,
                  "Title": "Kreacher’s Tale",
                  "Approx Story Time": "1997-08-03T00:00:00.000000",
                  "Book": 7,
                  "_deepnote_index_column": 171
                },
                {
                  "Global Chapter": 173,
                  "Local Chapter": 11,
                  "Title": "The Bribe",
                  "Approx Story Time": "1997-08-31T00:00:00.000000",
                  "Book": 7,
                  "_deepnote_index_column": 172
                },
                {
                  "Global Chapter": 174,
                  "Local Chapter": 12,
                  "Title": "Magic is Might",
                  "Approx Story Time": "1997-09-02T00:00:00.000000",
                  "Book": 7,
                  "_deepnote_index_column": 173
                },
                {
                  "Global Chapter": 175,
                  "Local Chapter": 13,
                  "Title": "The Muggle-Born Registration Commission",
                  "Approx Story Time": "1997-09-02T00:00:00.000000",
                  "Book": 7,
                  "_deepnote_index_column": 174
                },
                {
                  "Global Chapter": 176,
                  "Local Chapter": 14,
                  "Title": "The Thief",
                  "Approx Story Time": "1997-09-03T00:00:00.000000",
                  "Book": 7,
                  "_deepnote_index_column": 175
                },
                {
                  "Global Chapter": 177,
                  "Local Chapter": 15,
                  "Title": "The Goblin’s Revenge",
                  "Approx Story Time": "1997-10-13T00:00:00.000000",
                  "Book": 7,
                  "_deepnote_index_column": 176
                },
                {
                  "Global Chapter": 178,
                  "Local Chapter": 16,
                  "Title": "Godric’s Hollow",
                  "Approx Story Time": "1997-12-24T00:00:00.000000",
                  "Book": 7,
                  "_deepnote_index_column": 177
                },
                {
                  "Global Chapter": 179,
                  "Local Chapter": 17,
                  "Title": "Bathilda’s Secret",
                  "Approx Story Time": "1997-12-25T00:00:00.000000",
                  "Book": 7,
                  "_deepnote_index_column": 178
                },
                {
                  "Global Chapter": 180,
                  "Local Chapter": 18,
                  "Title": "The Life and Lies of Albus Dumbledore",
                  "Approx Story Time": "1997-12-26T00:00:00.000000",
                  "Book": 7,
                  "_deepnote_index_column": 179
                },
                {
                  "Global Chapter": 181,
                  "Local Chapter": 19,
                  "Title": "The Silver Doe",
                  "Approx Story Time": "1997-12-27T00:00:00.000000",
                  "Book": 7,
                  "_deepnote_index_column": 180
                },
                {
                  "Global Chapter": 182,
                  "Local Chapter": 20,
                  "Title": "Xenophilius Lovegood",
                  "Approx Story Time": "1997-12-28T00:00:00.000000",
                  "Book": 7,
                  "_deepnote_index_column": 181
                },
                {
                  "Global Chapter": 183,
                  "Local Chapter": 21,
                  "Title": "The Tale of the Three Brothers",
                  "Approx Story Time": "1997-12-28T00:00:00.000000",
                  "Book": 7,
                  "_deepnote_index_column": 182
                },
                {
                  "Global Chapter": 184,
                  "Local Chapter": 22,
                  "Title": "The Deathly Hallows",
                  "Approx Story Time": "1998-03-23T00:00:00.000000",
                  "Book": 7,
                  "_deepnote_index_column": 183
                },
                {
                  "Global Chapter": 185,
                  "Local Chapter": 23,
                  "Title": "Malfoy Manor",
                  "Approx Story Time": "1998-03-24T00:00:00.000000",
                  "Book": 7,
                  "_deepnote_index_column": 184
                },
                {
                  "Global Chapter": 186,
                  "Local Chapter": 24,
                  "Title": "The Wandmaker",
                  "Approx Story Time": "1998-03-24T00:00:00.000000",
                  "Book": 7,
                  "_deepnote_index_column": 185
                },
                {
                  "Global Chapter": 187,
                  "Local Chapter": 25,
                  "Title": "Shell Cottage",
                  "Approx Story Time": "1998-03-24T00:00:00.000000",
                  "Book": 7,
                  "_deepnote_index_column": 186
                },
                {
                  "Global Chapter": 188,
                  "Local Chapter": 26,
                  "Title": "Gringotts",
                  "Approx Story Time": "1998-04-30T00:00:00.000000",
                  "Book": 7,
                  "_deepnote_index_column": 187
                },
                {
                  "Global Chapter": 189,
                  "Local Chapter": 27,
                  "Title": "The Final Hiding Place",
                  "Approx Story Time": "1998-05-01T00:00:00.000000",
                  "Book": 7,
                  "_deepnote_index_column": 188
                },
                {
                  "Global Chapter": 190,
                  "Local Chapter": 28,
                  "Title": "The Missing Mirror",
                  "Approx Story Time": "1998-05-01T00:00:00.000000",
                  "Book": 7,
                  "_deepnote_index_column": 189
                },
                {
                  "Global Chapter": 191,
                  "Local Chapter": 29,
                  "Title": "The Lost Diadem",
                  "Approx Story Time": "1998-05-01T00:00:00.000000",
                  "Book": 7,
                  "_deepnote_index_column": 190
                },
                {
                  "Global Chapter": 192,
                  "Local Chapter": 30,
                  "Title": "The Sacking of Severus Snape",
                  "Approx Story Time": "1998-05-01T00:00:00.000000",
                  "Book": 7,
                  "_deepnote_index_column": 191
                },
                {
                  "Global Chapter": 193,
                  "Local Chapter": 31,
                  "Title": "The Battle of Hogwarts",
                  "Approx Story Time": "1998-05-01T00:00:00.000000",
                  "Book": 7,
                  "_deepnote_index_column": 192
                },
                {
                  "Global Chapter": 194,
                  "Local Chapter": 32,
                  "Title": "The Elder Wand",
                  "Approx Story Time": "1998-05-02T00:00:00.000000",
                  "Book": 7,
                  "_deepnote_index_column": 193
                },
                {
                  "Global Chapter": 195,
                  "Local Chapter": 33,
                  "Title": "The Prince’s Tale",
                  "Approx Story Time": "1998-05-02T00:00:00.000000",
                  "Book": 7,
                  "_deepnote_index_column": 194
                },
                {
                  "Global Chapter": 196,
                  "Local Chapter": 34,
                  "Title": "The Forest Again",
                  "Approx Story Time": "1998-05-02T00:00:00.000000",
                  "Book": 7,
                  "_deepnote_index_column": 195
                },
                {
                  "Global Chapter": 197,
                  "Local Chapter": 35,
                  "Title": "King’s Cross",
                  "Approx Story Time": "1998-05-02T00:00:00.000000",
                  "Book": 7,
                  "_deepnote_index_column": 196
                },
                {
                  "Global Chapter": 198,
                  "Local Chapter": 36,
                  "Title": "The Flaw in the Plan",
                  "Approx Story Time": "1998-05-02T00:00:00.000000",
                  "Book": 7,
                  "_deepnote_index_column": 197
                },
                {
                  "Global Chapter": 199,
                  "Local Chapter": 37,
                  "Title": "Epilogue",
                  "Approx Story Time": "2017-09-01T00:00:00.000000",
                  "Book": 7,
                  "_deepnote_index_column": 198
                }
              ],
              "rows_bottom": null
            },
            "text/plain": "     Global Chapter  Local Chapter                    Title Approx Story Time  \\\n0                 1              1        The Boy Who Lived        1981-11-01   \n1                 2              2      The Vanishing Glass        1991-06-23   \n2                 3              3  The Letters from No One        1991-07-23   \n3                 4              4       The Keeper of Keys        1991-07-31   \n4                 5              5             Diagon Alley        1991-07-31   \n..              ...            ...                      ...               ...   \n194             195             33        The Prince’s Tale        1998-05-02   \n195             196             34         The Forest Again        1998-05-02   \n196             197             35             King’s Cross        1998-05-02   \n197             198             36     The Flaw in the Plan        1998-05-02   \n198             199             37                 Epilogue        2017-09-01   \n\n     Book  \n0     1.0  \n1     1.0  \n2     1.0  \n3     1.0  \n4     1.0  \n..    ...  \n194   7.0  \n195   7.0  \n196   7.0  \n197   7.0  \n198   7.0  \n\n[199 rows x 5 columns]",
            "text/html": "<div>\n<style scoped>\n    .dataframe tbody tr th:only-of-type {\n        vertical-align: middle;\n    }\n\n    .dataframe tbody tr th {\n        vertical-align: top;\n    }\n\n    .dataframe thead th {\n        text-align: right;\n    }\n</style>\n<table border=\"1\" class=\"dataframe\">\n  <thead>\n    <tr style=\"text-align: right;\">\n      <th></th>\n      <th>Global Chapter</th>\n      <th>Local Chapter</th>\n      <th>Title</th>\n      <th>Approx Story Time</th>\n      <th>Book</th>\n    </tr>\n  </thead>\n  <tbody>\n    <tr>\n      <th>0</th>\n      <td>1</td>\n      <td>1</td>\n      <td>The Boy Who Lived</td>\n      <td>1981-11-01</td>\n      <td>1.0</td>\n    </tr>\n    <tr>\n      <th>1</th>\n      <td>2</td>\n      <td>2</td>\n      <td>The Vanishing Glass</td>\n      <td>1991-06-23</td>\n      <td>1.0</td>\n    </tr>\n    <tr>\n      <th>2</th>\n      <td>3</td>\n      <td>3</td>\n      <td>The Letters from No One</td>\n      <td>1991-07-23</td>\n      <td>1.0</td>\n    </tr>\n    <tr>\n      <th>3</th>\n      <td>4</td>\n      <td>4</td>\n      <td>The Keeper of Keys</td>\n      <td>1991-07-31</td>\n      <td>1.0</td>\n    </tr>\n    <tr>\n      <th>4</th>\n      <td>5</td>\n      <td>5</td>\n      <td>Diagon Alley</td>\n      <td>1991-07-31</td>\n      <td>1.0</td>\n    </tr>\n    <tr>\n      <th>...</th>\n      <td>...</td>\n      <td>...</td>\n      <td>...</td>\n      <td>...</td>\n      <td>...</td>\n    </tr>\n    <tr>\n      <th>194</th>\n      <td>195</td>\n      <td>33</td>\n      <td>The Prince’s Tale</td>\n      <td>1998-05-02</td>\n      <td>7.0</td>\n    </tr>\n    <tr>\n      <th>195</th>\n      <td>196</td>\n      <td>34</td>\n      <td>The Forest Again</td>\n      <td>1998-05-02</td>\n      <td>7.0</td>\n    </tr>\n    <tr>\n      <th>196</th>\n      <td>197</td>\n      <td>35</td>\n      <td>King’s Cross</td>\n      <td>1998-05-02</td>\n      <td>7.0</td>\n    </tr>\n    <tr>\n      <th>197</th>\n      <td>198</td>\n      <td>36</td>\n      <td>The Flaw in the Plan</td>\n      <td>1998-05-02</td>\n      <td>7.0</td>\n    </tr>\n    <tr>\n      <th>198</th>\n      <td>199</td>\n      <td>37</td>\n      <td>Epilogue</td>\n      <td>2017-09-01</td>\n      <td>7.0</td>\n    </tr>\n  </tbody>\n</table>\n<p>199 rows × 5 columns</p>\n</div>"
          },
          "metadata": {}
        }
      ]
    },
    {
      "cell_type": "code",
      "metadata": {
        "tags": [],
        "cell_id": "00008-25f64887-dcfb-41c4-a821-b2cce3a45438",
        "deepnote_to_be_reexecuted": false,
        "source_hash": "277763f4",
        "execution_millis": 22,
        "execution_start": 1619591568109,
        "deepnote_cell_type": "code"
      },
      "source": "with open('data/characters_by_house.pkl', 'rb') as file:\n    characters_by_communities = pkl.load(file)\n\n# characters_by_communities",
      "execution_count": 6,
      "outputs": []
    },
    {
      "cell_type": "markdown",
      "source": "# Splitting Book Chapters Into Documents",
      "metadata": {
        "tags": [],
        "cell_id": "00009-afa6c071-a1e2-422e-b1fc-c7cfe5d80368",
        "deepnote_cell_type": "markdown"
      }
    },
    {
      "cell_type": "code",
      "metadata": {
        "tags": [],
        "cell_id": "00009-34c750b6-a480-4212-a3b1-042eb63037ac",
        "deepnote_to_be_reexecuted": false,
        "source_hash": "9ffa44b3",
        "execution_millis": 9456,
        "execution_start": 1618383039785,
        "deepnote_cell_type": "code"
      },
      "source": "# Get a list of paths to books\npath = \"data/books/\"\nbooks = os.listdir(path)\nbooks.sort()\nbooks_in_chapters = []\n\nfor i in tqdm(range(7), desc='Book Loop'): # For every book\n    # Remove HTML TAGS and double spacing\n    print(\"\\n\", file = sys.stderr)\n    book = clean_book(path + books[i]) \n    # book = re.sub('\\n{2,}', '\\n', book)\n    # Get chapters of book\n    chapters = [chapter.upper() for chapter in chapter_info.loc[chapter_info[\"Book\"] == i+1, \"Title\"]]\n\n    # Split Lines and remove lines including page numbering or J.K. Rowling\n    lines = [line for line in book.splitlines() if not re.search(r'Page \\| [0-9]{1,} | J.K. Rowling', line)]        \n\n    # Find lines with the title of the chapters\n    chapter_idx = []\n    for chapter in chapters:\n        # Use SequenceMatcher to find similarity between line and a given chapter. Threshold of 0.6\n        ties = [(i, line) for i, line in enumerate(lines) if SequenceMatcher(None, chapter, line).ratio() >.6]\n\n        # If 2 or more lines have a similarity of above .6 with the chapter find the most similar\n        idx, title = ties[np.argmax([SequenceMatcher(None, chapter, title).ratio() for _, title in ties])]\n        chapter_idx.append(idx)\n        print(title, chapter, file = sys.stderr)\n\n    print(\"\\n\", file = sys.stderr)  \n    # Get a list of chapters - List of strings\n    chapters = [\"\\n\".join(lines[chapter_idx[i]:chapter_idx[i+1] if len(chapters) > i+1 else None]) for i in range(len(chapter_idx))]\n\n    chapters[:] = [re.sub(r'[a-zA-Z](\\s){0,}(\\n){2}','\\n', re.sub(r'(\\n){3,}','\\n\\n', chapter)) for chapter in chapters]\n    books_in_chapters.append(chapters)  \n\npkl.dump(books_in_chapters, open(\"data/books_in_chapters.pkl\",\"wb\")) ",
      "execution_count": 195,
      "outputs": [
        {
          "output_type": "stream",
          "name": "stderr",
          "text": "Book Loop:   0%|          | 0/7 [00:00<?, ?it/s]\n\nTHE BOY WHO LIVED  THE BOY WHO LIVED\nTHE VANASHING GLASS  THE VANISHING GLASS\nTHE LETTERS FROM NO ONE  THE LETTERS FROM NO ONE\nTHE KEEPER OF KEYS  THE KEEPER OF KEYS\nDIAGON ALLEY  DIAGON ALLEY\nTHE JOURNEY FROM PLATFORM NINE AND THREE-QUARTERS  THE JOURNEY FROM PLATFORM NINE AND THREE-QUARTERS\nTHE SORTING HAT  THE SORTING HAT\nTHE POTIONS MASTER  THE POTIONS MASTER\nTHE MIDNIGHT DUEL  THE MIDNIGHT DUEL\nHALLOWE'EN  HALLOWE'EN\nQUIDDITCH  QUIDDITCH\nTHE MIRROR OF ERISED  THE MIRROR OF ERISED\nNICOLAS FLAMEL  NICOLAS FLAMEL\nNORBERT THE NORWEGIAN RIDGEBACK  NORBERT THE NORWEGIAN RIDGEBACK\nTHE FORBIDDEN FOREST  THE FORBIDDEN FOREST\nTHROUGH THE TRAPDOOR  THROUGH THE TRAPDOOR\nTHE MAN WITH TWO FACES  THE MAN WITH TWO FACES\n\n\nBook Loop:  14%|█▍        | 1/7 [00:08<00:53,  8.93s/it]\n\nTHE WORST BIRTHDAY  THE WORST BIRTHDAY\nDOBBY’S WARNING  DOBBY’S WARNING\nTHE BURROW  THE BURROW\nAT FLOURISH AND BLOTTS  AT FLOURISH AND BLOTTS\nTHE WHOMPING WILLOW  THE WHOMPING WILLOW\nGILDEROY LOCKHART  GILDEROY LOCKHART\nMUDBLOODS AND MURMURS  MUDBLOODS AND MURMURS\nTHE DEATHDAY PARTY  THE DEATHDAY PARTY\nTHE WRITING ON THE WALL  THE WRITING ON THE WALL\nTHE ROGUE BLUDGER  THE ROGUE BLUDGER\nTHE DUELLING CLUB  THE DUELLING CLUB\nTHE POLYJUICE POTION  THE POLYJUICE POTION\nTHE VERY SECRET DIARY  THE VERY SECRET DIARY\nCORNELIUS FUDGE  CORNELIUS FUDGE\nARAGOG  ARAGOG\nTHE CHAMBER OF SECRETS  THE CHAMBER OF SECRETS\nTHE HEIR OF SLYTHERIN  THE HEIR OF SLYTHERIN\nDOBBY’S REWARD  DOBBY’S REWARD\n\n\nBook Loop:  29%|██▊       | 2/7 [00:18<00:45,  9.06s/it]\n\nOWL POST  OWL POST\nAUNT MARGE’S BIG MISTAKE  AUNT MARGE’S BIG MISTAKE\nTHE KNIGHT BUS  THE KNIGHT BUS\nTHE LEAKY CAULDRON  THE LEAKY CAULDRON\nTHE DEMENTOR  THE DEMENTOR\nTALONS AND TEA LEAVES  TALONS AND TEA LEAVES\nTHE BOGGART IN THE WARDROBE  THE BOGGART IN THE WARDROBE\nFLIGHT OF THE FAT LADY  FLIGHT OF THE FAT LADY\nGRIM DEFEAT  GRIM DEFEAT\nTHE MARAUDER’S MAP  THE MARAUDER'S MAP\nTHE FIREBOLT  THE FIREBOLT\nTHE PATRONUS  THE PATRONUS\nGRYFFINDOR VERSUS RAVENCLAW  GRYFFINDOR VERSUS RAVENCLAW\nSNAPE’S GRUDGE  SNAPE'S GRUDGE\nTHE QUIDDITCH FINAL  THE QUIDDITCH FINAL\nPROFESSOR TRELAWNEY’S  PROFESSOR TRELAWNEY'S PREDICTION\nCAT, RAT, AND DOG  CAT, RAT, AND DOG\nMOONY, WORMTAIL, PADFOOT, AND  MOONY, WORMTAIL, PADFOOT AND PRONGS\nTHE SERVANT OF LORD  THE SERVANT OF LORD VOLDEMORT\nTHE DEMENTOR’S KISS  THE DEMENTOR’S KISS\nHERMIONE’S SECRET  HERMIONE’S SECRET\nOWL POST AGAIN  OWL POST AGAIN\n\n\nBook Loop:  43%|████▎     | 3/7 [00:33<00:48, 12.13s/it]\n\nTHE RIDDLE HOUSE  THE RIDDLE HOUSE\nTHE SCAR  THE SCAR\nTHE INVITATION  THE INVITATION\nBACK TO THE BURROW  BACK TO THE BURROW\nWEASLEYS’ WIZARD WHEEZES  WEASLEY’S WIZARD WHEEZES\nTHE PORTKEY  THE PORTKEY\nBAGMAN AND CROUCH  BAGMAN AND CROUCH\nTHE QUIDDITCH WORLD CUP  THE QUIDDITCH WORLD CUP\nTHE DARK MARK  THE DARK MARK\nMAYHEM AT THE MINISTRY  MAYHEM AT THE MINISTRY\nABOARD THE HOGWARTS EXPRESS  ABOARD THE HOGWARTS EXPRESS\nTHE TRIWIZARD TOURNAMENT  THE TRIWIZARD TOURNAMENT\nMAD-EYE MOODY  MAD-EYE MOODY\nTHE UNFORGIVABLE CURSES  THE UNFORGIVABLE CURSES\nBEAUXBATONS AND DRUMSTRANG  BEAUXBATONS AND DURMSTRANG\nTHE GOBLET OF FIRE  THE GOBLET OF FIRE\nTHE FOUR CHAMPIONS  THE FOUR CHAMPIONS\nTHE WEIGHING OF THE WANDS  THE WEIGHING OF THE WANDS\nTHE HUNGARIAN HORNTAIL  THE HUNGARIAN HORNTAIL\nTHE FIRST TASK  THE FIRST TASK\nTHE HOUSE-ELF LIBERATION FRONT  THE HOUSE-ELF LIBERATION FRONT\nTHE UNEXPECTED TASK  THE UNEXPECTED TASK\nTHE YULE BALL  THE YULE BALL\nRITA SKEBTER’S SCOOP  RITA SKEETER’S SCOOP\nTHE EGG AND THE EYE  THE EGG AND THE EYE\nTHE SECOND TASK  THE SECOND TASK\nPADFOOT RETURNS  PADFOOT RETURNS\nTHE MADNESS OF MR. CROUCH  THE MADNESS OF MR CROUCH\nTHE DREAM  THE DREAM\nTHE PENSIEVE  THE PENSIEVE\nTHE THIRD TASK  THE THIRD TASK\nFLESH, BLOOD, AND BONE  FLESH, BLOOD, AND BONE\nTHE DEATH EATERS  THE DEATH EATERS\nPRIORI INCANTATEM  PRIORI INCANTATEM\nVERITASERUM  VERITASERUM\nTHE PARTING OF THE WAYS  THE PARTING OF THE WAYS\nTHE BEGINNING  THE BEGINNING\n\n\nBook Loop:  57%|█████▋    | 4/7 [01:15<01:11, 23.94s/it]\n\nDUDLEY DEMENTED  DUDLEY DEMENTED\nA PECK OF OWLS  A PECK OF OWLS\nTHE ADVANCED GUARD  THE ADVANCE GUARD\nNUMBER TWELVE, GRIMMAULD  NUMBER TWELVE, GRIMMAULD PLACE\nTHE ORDER OF THE PHOENIX  THE ORDER OF THE PHOENIX\nTHE NOBLE AND MOST ANCIENT HOUSE OF BLACK  THE NOBLE AND MOST ANCIENT HOUSE OF BLACK\nTHE MINISTRY OF MAGIC  THE MINISTRY OF MAGIC\nTHE HEARING  THE HEARING\nTHE WOES OF MRS. WEASLEY  THE WOES OF MRS WEASLEY\nLUNA LOVEGOOD  LUNA LOVEGOOD\nTHE SORTING HAT’S NEW SONG  THE SORTING HAT'S NEW SONG\nPROFESSOR UMBRIDGE  PROFESSOR UMBRIDGE\nDETENTION WITH DOLORES  DETENTION WITH DOLORES\nPERCY AND PADFOOT  PERCY AND PADFOOT\nTHE HOGWARTS HIGH INQUISITOR  THE HOGWARTS HIGH INQUISITOR\nIN THE HOG’S HEAD  IN THE HOG'S HEAD\nEDUCATIONAL DECREE NUMBER  EDUCATIONAL DECREE NUMBER TWENTY-FOUR\nDUMBLEDORE’S ARMY  DUMBLEDORE'S ARMY\nTHE LION AND THE SERPENT  THE LION AND THE SERPENT\nHAGRID’S TALE  HAGRID’S TALE\nTHE EYE OF THE SNAKE  THE EYE OF THE SNAKE\nMAGICAL MALADIES AND INJURIES  ST MUNGO'S HOSPITAL FOR MAGICAL MALADIES AND INJURIES\nCHRISTMAS ON THE CLOSED WARD  CHRISTMAS ON THE CLOSED WARD\nOCCLUMENCY  OCCLUMENCY\nTHE BEETLE AT BAY  THE BEETLE AT BAY\nSEEN AND UNFORESEEN  SEEN AND UNFORESEEN\nTHE CENTAUR AND THE SNEAK  THE CENTAUR AND THE SNEAK\nSNAPE’S WORST MEMORY  SNAPE’S WORST MEMORY\nCAREER ADVICE  CAREER ADVICE\nGRAWP  GRAWP\nO.W.L.S  O.W.L.S\nOUT OF THE FIRE  OUT OF THE FIRE\nFIGHT AND FLIGHT  FIGHT AND FLIGHT\nTHE DEPARTMENT OF MYSTERIES  THE DEPARTMENT OF MYSTERIES\nBEYOND THE VEIL  BEYOND THE VEIL\nTHE ONLY ONE HE EVER FEARED  THE ONLY ONE HE EVER FEARED\nTHE LOST PROPHECY  THE LOST PROPHECY\nTHE SECOND WAR BEGINS  THE SECOND WAR BEGINS\n\n\nBook Loop:  71%|███████▏  | 5/7 [02:24<01:19, 39.87s/it]\n\nTHE OTHER MINISTER  THE OTHER MINISTER\n\nSPINNER’S END  SPINNER’S END\n\nWILL AND WON’T  WILL AND WON’T\n\nHORACE SLUGHORN  HORACE SLUGHORN\n\nAN EXCESS OF PHLEGM  AN EXCESS OF PHLEGM\n\nDRACO’S DETOUR  DRACO’S DETOUR\n\nTHE SLUG CLUB  THE SLUG CLUB\n\nSNAPE VICTORIOUS  SNAPE VICTORIOUS\n\nTHE HALF-BLOOD PRINCE  THE HALF-BLOOD PRINCE\n\nTHE HOUSE OF GAUNT  THE HOUSE OF GAUNT\n\nHERMIONE’S HELPING HAND  HERMIONE’S HELPING HAND\n\nSILVER AND OPALS  SILVER AND OPALS\n\nTHE SECRET RIDDLE  THE SECRET RIDDLE\n\nFELIX FELICIS  FELIX FELICIS\n\nTHE UNBREAKABLE VOW  THE UNBREAKABLE VOW\n\nA VERY FROSTY CHRISTMAS  A VERY FROSTY CHRISTMAS\n\nA SLUGGISH MEMORY  A SLUGGISH MEMORY\n\nBIRTHDAY SURPRISES  BIRTHDAY SURPRISES\n\nELF TAILS  ELF TAILS\n\nLORD VOLDEMORT’S REQUEST  LORD VOLDEMORT’S REQUEST\n\nTHE UNKNOWABLE ROOM  THE UNKNOWABLE ROOM\n\nAFTER THE BURIAL  AFTER THE BURIAL\n\nHORCRUXES  HORCRUXES\n\nSECTUMSEMPRA  SECTUMSEMPRA\n\nTHE SEER OVERHEARD  THE SEER OVERHEARD\n\nTHE CAVE  THE CAVE\n\nTHE LIGHTNING-STRUCK TOWER  THE LIGHTNING STRUCK TOWER\n\nFLIGHT OF THE PRINCE  FLIGHT OF THE PRINCE\n\nTHE PHOENIX LAMENT  THE PHOENIX LAMENT\n\nTHE WHITE TOMB  THE WHITE TOMB\n\n\n\nBook Loop:  86%|████████▌ | 6/7 [02:52<00:36, 36.03s/it]\n\nTHE DARK LORD ASCENDING  THE DARK LORD ASCENDING\nIN MEMORIAM  IN MEMORIAM\nTHE DURSLEYS DEPARTING  THE DURSLEYS DEPARTING\nTHE SEVEN POTTERS  THE SEVEN POTTERS\nFALLEN WARRIOR  FALLEN WARRIOR\nTHE GHOUL IN PAJAMAS  THE GHOUL IN PYJAMAS\nTHE WILL OF ALBUS DUMBLEDORE  THE WILL OF ALBUS DUMBLEDORE\nTHE WEDDING  THE WEDDING\nA PLACE TO HIDE  A PLACE TO HIDE\nKREACHER’S TALE  KREACHER’S TALE\nTHE BRIBE  THE BRIBE\nMAGIC IS MIGHT  MAGIC IS MIGHT\nTHE MUGGLE-BORN REGISTRATION  THE MUGGLE-BORN REGISTRATION COMMISSION\nTHE THIEF  THE THIEF\nTHE GOBLIN’S REVENGE  THE GOBLIN’S REVENGE\nGODRIC’S HOLLOW  GODRIC’S HOLLOW\nBATHILDA’S SECRET  BATHILDA’S SECRET\nTHE LIFE AND LIES OF ALBUS  THE LIFE AND LIES OF ALBUS DUMBLEDORE\nTHE SILVER DOE  THE SILVER DOE\nXEN OPHILIUS LOVEGOOD  XENOPHILIUS LOVEGOOD\nTHE TALE OF THE THREE  THE TALE OF THE THREE BROTHERS\nTHE DEATHLY HALLOWS  THE DEATHLY HALLOWS\nMALFOY MANOR  MALFOY MANOR\nTHE WANDMAKER  THE WANDMAKER\nSHELL COTTAGE  SHELL COTTAGE\nGRINGOTTS  GRINGOTTS\nTHE FINAL HIDING PLACE  THE FINAL HIDING PLACE\nTHE MISSING MIRROR  THE MISSING MIRROR\nTHE LOST DIADEM  THE LOST DIADEM\nTHE SACKING OF SEVERUS SNAPE  THE SACKING OF SEVERUS SNAPE\nTHE BATTLE OF HOGWARTS  THE BATTLE OF HOGWARTS\nTHE ELDER WAND  THE ELDER WAND\nTHE PRINCE’S TALE  THE PRINCE’S TALE\nTHE FOREST AGAIN  THE FOREST AGAIN\nKING’S CROSS  KING’S CROSS\nTHE FLAW IN THE PLAN  THE FLAW IN THE PLAN\nEPILOGUE EPILOGUE\n\n\nBook Loop: 100%|██████████| 7/7 [03:36<00:00, 30.93s/it]\n"
        }
      ]
    },
    {
      "cell_type": "markdown",
      "source": "# Preprocessing and Cleaning\n\n Remove stopwords etc.",
      "metadata": {
        "tags": [],
        "cell_id": "00011-1c162afb-fbda-455b-8148-be37b98b32b5",
        "deepnote_cell_type": "markdown"
      }
    },
    {
      "cell_type": "code",
      "metadata": {
        "tags": [],
        "cell_id": "00012-cdf6fb66-a0ba-4345-85bc-576e42f0f1a4",
        "deepnote_to_be_reexecuted": false,
        "source_hash": "9dbb8ff",
        "execution_millis": 42,
        "execution_start": 1618396327014,
        "deepnote_cell_type": "code"
      },
      "source": "from nltk.tokenize import RegexpTokenizer\nwith open('data/books_in_chapters.pkl', 'rb') as file:\n    books_in_chapters = pkl.load(file)\n\nSW = stopwords.words(\"english\")\nbooks_in_chapters_clean = books_in_chapters.copy()\nfor book in range(len(books_in_chapters)):\n    for chapter in range(len(books_in_chapters_clean[book])):\n        books_in_chapters_clean[book][chapter] = re.sub(r\".*\\n\", \"\", books_in_chapters_clean[book][chapter], 1) # remove chapter title \n        # books_in_chapters_clean[book][chapter] = books_in_chapters_clean[book][chapter].replace(\" \\n\", \". \", 1) # set punctuation after chapter title\n        words = books_in_chapters_clean[book][chapter].split(' ')\n        words = [word for word in words if word.lower() not in SW]\n        tokenizer = RegexpTokenizer(r'\\w+[,\\.!\\?:]?')\n        books_in_chapters_clean[book][chapter] = \" \".join(tokenizer.tokenize(\" \".join(words)))\n\n# pkl.dump(books_in_chapters, open(\"data/books_in_chapters_clean.pkl\",\"wb\"))\n# print(books_in_chapters_clean[1][0])",
      "execution_count": 6,
      "outputs": []
    },
    {
      "cell_type": "code",
      "metadata": {
        "tags": [],
        "cell_id": "00014-e8e48b9f-71e4-4623-896b-0175e8a964a9",
        "deepnote_to_be_reexecuted": false,
        "source_hash": "d20ed622",
        "execution_millis": 22,
        "execution_start": 1618393346873,
        "deepnote_cell_type": "code"
      },
      "source": "with open('data/books_in_chapters.pkl', 'rb') as file:\n    books_in_chapters = pkl.load(file)\ntest = books_in_chapters[1][0]\n# test.replace(\" \\n\", r\". \", 1)\n# re.sub(r\".*\\n\", \"\", test, 1)",
      "execution_count": 7,
      "outputs": []
    },
    {
      "cell_type": "markdown",
      "source": "# Actor Extraction",
      "metadata": {
        "tags": [],
        "cell_id": "00010-0fce8e24-e813-45aa-9c21-af380174c3a0",
        "deepnote_cell_type": "markdown"
      }
    },
    {
      "cell_type": "markdown",
      "source": "We use the character names that we scraped from the web as search words to see if we can find them in each chapter, where they appear.\n\nBecause the characters can be called by different names and nicknames we \"normalize\" the names in the book text to begin with.\nWe make it so all names and nicknames are replaced with the corresponding first name of the character in lower case e.g. _'voldemort'_ is sometimes called _'voldemort'_ or _'he-who-must-not-be-names'_ or _'tom riddle'_. We map them all to _'voldemort'_  ",
      "metadata": {
        "tags": [],
        "cell_id": "00015-555f0a3c-d5f1-4f36-8e3a-9fe55fd4a9ce",
        "deepnote_cell_type": "markdown"
      }
    },
    {
      "cell_type": "code",
      "metadata": {
        "cell_id": "00010-50789847-30e6-4c4a-9948-8297699df62c",
        "deepnote_to_be_reexecuted": false,
        "source_hash": "7316987a",
        "execution_millis": 460,
        "execution_start": 1619602222151,
        "deepnote_cell_type": "code"
      },
      "source": "with open('data/books_in_chapters.pkl', 'rb') as file:\n    books_in_chapters = pkl.load(file)\ncharacters_by_communities_reverse = {val:key for key, value in characters_by_communities.items() for val in value if key != 'House Unknown'}\ncharacters_by_communities_reverse[\"Mr. Weasley\"] = 'Gryffindor'\ncharacters_by_communities_reverse[\"Mrs. Weasley\"] = 'Gryffindor'\ncharacters_by_communities_reverse[\"Crabbe\"] = 'Slytherin'\ncharacters_by_communities_reverse[\"Goyle\"] = 'Slytherin'\ncharacters_by_communities_reverse[\"Sirius\"] = 'Gryffindor'\ndel characters_by_communities_reverse[\"Albus Potter\"]; del characters_by_communities_reverse[\"Su Li\"]\nspecial_names = {'He-Who-Must-Not-Be-Named':'Voldemort', 'You-Know-Who':'Voldemort','Tom Riddle': 'Voldemort', 'Tom Marvolo Riddle':'Voldemort',\n                'Peter Pettigrew':'Wormtail', 'Weasley':'Ron', 'Potter':'Harry', 'Malfoy':'Draco', 'Tonks':'Nymphadora',\n                 'Mr. Weasley':'mr. Weasley', 'Mrs. Weasley':'mrs. Weasley', 'Mr. Potter': 'Harry', 'Pettigrew':'Wormtail', 'Lupin': 'Remus'}\n\nnames      = {name: name.split(\" \")[0] \n                for name in characters_by_communities_reverse.keys()\n                if ('the ' not in name.lower()) and ('.' not in name.lower()) and ('miss ' not in name.lower()) and ('sir ' not in name.lower()) }\n\n\nfirstname     = {name.split(\" \")[-1]: name.split(\" \")[0] \n                for name in characters_by_communities_reverse.keys()\n                if ('the ' not in name.lower()) and ('.' not in name.lower()) and ('miss ' not in name.lower()) and ('sir ' not in name.lower()) }\n\n# characters_by_communities_reverse\nnames.update(firstname)\nnames.update(special_names)\ndel names[\"Black\"]; del names[\"Riddle\"]; del names[\"Merlin\"]; del names[\"Slytherin\"]; del names[\"Gryffindor\"]; del names[\"Ravenclaw\"]; del names[\"Hufflepuff\"]\nregexPattern = \"|\".join(names.keys())\n\n# surnames\n\nbooks_in_chapters_names = [[re.sub(regexPattern, lambda name: names[name.group()], chapter ) for chapter                                      in book] for book in books_in_chapters]\n\nnames",
      "execution_count": 326,
      "outputs": [
        {
          "output_type": "execute_result",
          "execution_count": 326,
          "data": {
            "text/plain": "{'Albus Dumbledore': 'Albus',\n 'Alicia Spinnet': 'Alicia',\n 'Andrew Kirke': 'Andrew',\n 'Angelina Johnson': 'Angelina',\n 'Bill Weasley': 'Bill',\n 'Celestina Warbeck': 'Celestina',\n 'Charlie Weasley': 'Charlie',\n 'Cormac McLaggen': 'Cormac',\n 'Dean Thomas': 'Dean',\n 'Demelza Robins': 'Demelza',\n 'Dennis Creevey': 'Dennis',\n 'Euan Abercrombie': 'Euan',\n 'Fred Weasley': 'Fred',\n 'Geoffrey Hooper': 'Geoffrey',\n 'George Weasley': 'George',\n 'Ginny Weasley': 'Ginny',\n 'Godric Gryffindor': 'Godric',\n 'Harry Potter': 'Harry',\n 'Jack Sloper': 'Jack',\n 'James Potter': 'James',\n 'James Sirius Potter': 'James',\n 'Jimmy Peakes': 'Jimmy',\n 'Katie Bell': 'Katie',\n 'Kenneth Towler': 'Kenneth',\n 'Lavender Brown': 'Lavender',\n 'Lee Jordan': 'Lee',\n 'Lily Potter': 'Lily',\n 'Minerva McGonagall': 'Minerva',\n 'Natalie McDonald': 'Natalie',\n 'Nearly-Headless Nick': 'Nearly-Headless',\n 'Neville Longbottom': 'Neville',\n 'Oliver Wood': 'Oliver',\n 'Panju Weasley': 'Panju',\n 'Parvati Patil': 'Parvati',\n 'Patricia Stimpson': 'Patricia',\n 'Percy Weasley': 'Percy',\n 'Peter Pettigrew': 'Wormtail',\n 'Remus Lupin': 'Remus',\n 'Ritchie Coote': 'Ritchie',\n 'Romilda Vane': 'Romilda',\n 'Ron Weasley': 'Ron',\n 'Rose Granger-Weasley': 'Rose',\n 'Rubeus Hagrid': 'Rubeus',\n 'Seamus Finnigan': 'Seamus',\n 'Vicky Frobisher': 'Vicky',\n 'Wormtail': 'Wormtail',\n 'Yann Fredericks': 'Yann',\n 'Hermione Granger': 'Hermione',\n 'Artemisia Lufkin': 'Artemisia',\n 'Bridget Wenlock': 'Bridget',\n 'Cadwallader': 'Cadwallader',\n 'Cedric Diggory': 'Cedric',\n 'Dugald McPhail': 'Dugald',\n 'Eglantine Puffett': 'Eglantine',\n 'Eleanor Branstone': 'Eleanor',\n 'Ernie Macmillan': 'Ernie',\n 'Grogan Stump': 'Grogan',\n 'Hannah Abbott': 'Hannah',\n 'Helga Hufflepuff': 'Helga',\n 'Hengist of Woodcroft': 'Hengist',\n 'Justin Finch-Fletchley': 'Justin',\n 'Laura Madley': 'Laura',\n 'Megan Jones': 'Megan',\n 'Newt Scamander': 'Newt',\n 'Nymphadora Tonks': 'Nymphadora',\n 'Owen Cauldwell': 'Owen',\n 'Pomona Sprout': 'Pomona',\n 'Silvanus Kettleburn': 'Silvanus',\n 'Stebbins': 'Stebbins',\n 'Summerby': 'Summerby',\n 'Summers': 'Summers',\n 'Susan Bones': 'Susan',\n 'Teddy Lupin': 'Teddy',\n 'Zacharias Smith': 'Zacharias',\n 'Anthony Goldstein': 'Anthony',\n 'Bradley': 'Bradley',\n 'Chambers': 'Chambers',\n 'Cho Chang': 'Cho',\n 'Eddie Carmichael': 'Eddie',\n 'Filius Flitwick': 'Filius',\n 'Gilderoy Lockhart': 'Gilderoy',\n 'Helena Ravenclaw': 'Helena',\n 'Ignatia Wildsmith': 'Ignatia',\n 'Kevin Entwhistle': 'Kevin',\n 'Laverne de Montmorency': 'Laverne',\n 'Lisa Turpin': 'Lisa',\n 'Luna Lovegood': 'Luna',\n 'Mandy Brocklehurst': 'Mandy',\n 'Marcus Belby': 'Marcus',\n 'Marietta Edgecombe': 'Marietta',\n 'Michael Corner': 'Michael',\n 'Millicent Bagnold': 'Millicent',\n 'Moaning Myrtle': 'Moaning',\n 'Morag Macdougal': 'Morag',\n 'Orla Quirke': 'Orla',\n 'Padma Patil': 'Padma',\n 'Penelope Clearwater': 'Penelope',\n 'Perpetua Fancourt': 'Perpetua',\n 'Robert Hilliard': 'Robert',\n 'Roger Davies': 'Roger',\n 'Rowena Ravenclaw': 'Rowena',\n 'Stephen Cornfoot': 'Stephen',\n 'Stewart Ackerley': 'Stewart',\n 'Terry Boot': 'Terry',\n 'Abraxas Malfoy': 'Abraxas',\n 'Adrian Pucey': 'Adrian',\n 'Andromeda Tonks': 'Andromeda',\n 'Astoria Greengrass': 'Astoria',\n 'Avery': 'Avery',\n 'Bellatrix Lestrange': 'Bellatrix',\n 'Blaise Zabini': 'Blaise',\n 'Bole': 'Bole',\n 'Corvinus Gaunt': 'Corvinus',\n 'Daphne Greengrass': 'Daphne',\n 'Derrick': 'Derrick',\n 'Dolores Umbridge': 'Dolores',\n 'Draco Malfoy': 'Draco',\n 'Gemma Farley': 'Gemma',\n 'Graham Pritchard': 'Graham',\n 'Gregory Goyle': 'Gregory',\n 'Harper': 'Harper',\n 'Horace Slughorn': 'Horace',\n 'Lucius Malfoy': 'Lucius',\n 'Malcolm Baddock': 'Malcolm',\n 'Marcus Flint': 'Marcus',\n 'Miles Bletchley': 'Miles',\n 'Millicent Bulstrode': 'Millicent',\n 'Montague': 'Montague',\n 'Mulciber': 'Mulciber',\n 'Narcissa Malfoy': 'Narcissa',\n 'Nott': 'Theodore',\n 'Pansy Parkinson': 'Pansy',\n 'Phineas Nigellus Black': 'Phineas',\n 'Rabastan Lestrange': 'Rabastan',\n 'Regulus Black': 'Regulus',\n 'Rodolphus Lestrange': 'Rodolphus',\n 'Salazar Slytherin': 'Salazar',\n 'Scorpius Malfoy': 'Scorpius',\n 'Severus Snape': 'Severus',\n 'Terence Higgs': 'Terence',\n 'Theodore Nott': 'Theodore',\n 'Tom Marvolo Riddle': 'Voldemort',\n 'Urquhart': 'Urquhart',\n 'Vaisey': 'Vaisey',\n 'Vincent Crabbe': 'Vincent',\n 'Warrington': 'Warrington',\n 'Crabbe': 'Crabbe',\n 'Goyle': 'Goyle',\n 'Sirius': 'Sirius',\n 'Dumbledore': 'Albus',\n 'Spinnet': 'Alicia',\n 'Kirke': 'Andrew',\n 'Johnson': 'Angelina',\n 'Weasley': 'Ron',\n 'Warbeck': 'Celestina',\n 'McLaggen': 'Cormac',\n 'Thomas': 'Dean',\n 'Robins': 'Demelza',\n 'Creevey': 'Dennis',\n 'Abercrombie': 'Euan',\n 'Hooper': 'Geoffrey',\n 'Potter': 'Harry',\n 'Sloper': 'Jack',\n 'Peakes': 'Jimmy',\n 'Bell': 'Katie',\n 'Towler': 'Kenneth',\n 'Brown': 'Lavender',\n 'Jordan': 'Lee',\n 'McGonagall': 'Minerva',\n 'McDonald': 'Natalie',\n 'Nick': 'Nearly-Headless',\n 'Longbottom': 'Neville',\n 'Wood': 'Oliver',\n 'Patil': 'Padma',\n 'Stimpson': 'Patricia',\n 'Pettigrew': 'Wormtail',\n 'Lupin': 'Remus',\n 'Coote': 'Ritchie',\n 'Vane': 'Romilda',\n 'Granger-Weasley': 'Rose',\n 'Hagrid': 'Rubeus',\n 'Finnigan': 'Seamus',\n 'Frobisher': 'Vicky',\n 'Fredericks': 'Yann',\n 'Granger': 'Hermione',\n 'Lufkin': 'Artemisia',\n 'Wenlock': 'Bridget',\n 'Diggory': 'Cedric',\n 'McPhail': 'Dugald',\n 'Puffett': 'Eglantine',\n 'Branstone': 'Eleanor',\n 'Macmillan': 'Ernie',\n 'Stump': 'Grogan',\n 'Abbott': 'Hannah',\n 'Woodcroft': 'Hengist',\n 'Finch-Fletchley': 'Justin',\n 'Madley': 'Laura',\n 'Jones': 'Megan',\n 'Scamander': 'Newt',\n 'Tonks': 'Nymphadora',\n 'Cauldwell': 'Owen',\n 'Sprout': 'Pomona',\n 'Kettleburn': 'Silvanus',\n 'Bones': 'Susan',\n 'Smith': 'Zacharias',\n 'Goldstein': 'Anthony',\n 'Chang': 'Cho',\n 'Carmichael': 'Eddie',\n 'Flitwick': 'Filius',\n 'Lockhart': 'Gilderoy',\n 'Wildsmith': 'Ignatia',\n 'Entwhistle': 'Kevin',\n 'Montmorency': 'Laverne',\n 'Turpin': 'Lisa',\n 'Lovegood': 'Luna',\n 'Brocklehurst': 'Mandy',\n 'Belby': 'Marcus',\n 'Edgecombe': 'Marietta',\n 'Corner': 'Michael',\n 'Bagnold': 'Millicent',\n 'Myrtle': 'Moaning',\n 'Macdougal': 'Morag',\n 'Quirke': 'Orla',\n 'Clearwater': 'Penelope',\n 'Fancourt': 'Perpetua',\n 'Hilliard': 'Robert',\n 'Davies': 'Roger',\n 'Cornfoot': 'Stephen',\n 'Ackerley': 'Stewart',\n 'Boot': 'Terry',\n 'Malfoy': 'Draco',\n 'Pucey': 'Adrian',\n 'Greengrass': 'Daphne',\n 'Lestrange': 'Rodolphus',\n 'Zabini': 'Blaise',\n 'Gaunt': 'Corvinus',\n 'Umbridge': 'Dolores',\n 'Farley': 'Gemma',\n 'Pritchard': 'Graham',\n 'Slughorn': 'Horace',\n 'Baddock': 'Malcolm',\n 'Flint': 'Marcus',\n 'Bletchley': 'Miles',\n 'Bulstrode': 'Millicent',\n 'Parkinson': 'Pansy',\n 'Snape': 'Severus',\n 'Higgs': 'Terence',\n 'He-Who-Must-Not-Be-Named': 'Voldemort',\n 'You-Know-Who': 'Voldemort',\n 'Tom Riddle': 'Voldemort',\n 'Mr. Weasley': 'mr. Weasley',\n 'Mrs. Weasley': 'mrs. Weasley',\n 'Mr. Potter': 'Harry'}"
          },
          "metadata": {}
        }
      ]
    },
    {
      "cell_type": "code",
      "metadata": {
        "cell_id": "00020-39993df8-c472-45fc-aa71-f6cec43163e9",
        "deepnote_to_be_reexecuted": false,
        "source_hash": "25a8df67",
        "execution_start": 1619602227125,
        "execution_millis": 1080,
        "deepnote_cell_type": "code"
      },
      "source": "chapters = [chapter for book in books_in_chapters_names for chapter in book]\ninteractions = defaultdict(lambda: defaultdict(list))\nnames_ = set(list(names.values()) + ['he', 'she'])\nr = 3\nfor j, chapter in tqdm(enumerate(chapters[:-1])):\n    speeches, contexts, sources = [], [], []\n    split = chapter.split(\"\\n\\n\")\n    for line in split:\n        line = re.sub('\\n', ' ', line)\n        S = list(filter(None, re.split(r'“|”', re.sub('“', '“_', line))))\n        if len(S) > 1:\n            speech = ' '.join([s[1:] for s in S if s[0] == '_'])\n            context = ' '.join([s for s in S if s[0] != '_'])\n            N = [word for word in re.split(r'\\s|\\,|\\.|\\!|\\?', context) if word in names_]\n            source = None if not N else N[0]\n            speeches.append(speech); contexts.append(context); sources.append(source)\n        else:\n            speeches.append(None); contexts.append(line); sources.append(None)\n\n    \n    for i in range(len(speeches)):\n        speech, source, context = speeches[i], sources[i], contexts[i]\n    \n        if speech and source and source != 'he' and source != 'she':\n            targets = set(sources[i-r:i] + sources[i+1:i+r+1]).difference(set((source,None, 'he', 'she')))\n            \n            for target in targets:\n                \n \n                interactions[source][target].append((speech, j))\n\n",
      "execution_count": 327,
      "outputs": [
        {
          "name": "stderr",
          "text": "198it [00:00, 221.81it/s]\n",
          "output_type": "stream"
        }
      ]
    },
    {
      "cell_type": "code",
      "source": "def get_scores(source):\n    targets = []\n    C, H = [], []\n\n    for target in interactions[source].keys():\n        \n        speeches, chapter = zip(*interactions[source][target])\n        compound = [vader_sentiment(re.split(r'[\\.\\!\\?]', re.sub(r'  |\\\\', ' ', speech))) for speech in speeches]\n        happy = [happiness([word.lower() for word in re.split(r'[\\s\\.,\\!\\?]', speech) if word.isalpha()]) for speech in speeches]\n        compound = np.mean(compound)\n        happy = (np.mean(happy) - 1)/(9-1) * (1 - (-1)) -1\n        C.append(compound); H.append(happy); targets.append(target)\n    return C, H, targets\n\n\nsource = 'Albus'\nC, H, targets = get_scores(source)\nimport matplotlib.pyplot as plt\nhouses = {val:characters_by_communities_reverse[key] for key, val in names.items() if key in characters_by_communities_reverse.keys()}\ncolors = {'Gryffindor': 'red', 'Slytherin': 'darkgreen', 'Hufflepuff': 'orange', 'Ravenclaw': 'navy'}\nnbins = 40\nbins = np.linspace(-1, 1, nbins)\nhist, edges = np.histogram(C, bins = bins, density = True )\nx = (edges[1:] + edges[:-1])/2.\n# remove 0 entries\nxx, yy = zip(*[(i,j) for (i,j) in zip(x, hist) if j > 0])\n\nbins = np.linspace(-1, 1, nbins)\nhist, edges = np.histogram(H, bins = bins, density = True)\nz = (edges[1:] + edges[:-1])/2.\n# remove 0 entries\nzz, ww = zip(*[(i,j) for (i,j) in zip(z, hist) if j > 0])\n\n\nfig, ax = plt.subplots(dpi = 200)\nax.plot(xx,yy, label = \"VADER Compound\", alpha = .7)\nax.plot(zz,ww,label = \"Happiness\", alpha = .7)\nax.grid(linestyle = '--')\nfor i in range(len(xx)):\n    index_C = np.argmin(abs(np.array(C) - xx[i]))\n    valC = C[index_C]\n    ax.annotate(targets[index_C], (valC, yy[i] +.3), fontsize = 5, rotation = 90, color = colors[houses[targets[index_C]]])\n\nfor i in range(len(zz)):\n    index_H = np.argmin(abs(np.array(H) - zz[i]))\n    valH = H[index_H]\n    ax.annotate(targets[index_H], (valH, ww[i]+ .3), fontsize = 5, rotation = 90, color = colors[houses[targets[index_H]]])\nax.set_ylim(0, max(max(yy),max(ww))+3)\nax.legend()   \nax.set_title(f\"Sentiment Histogram for {source}\")\n\nplt.show()\n\n\n\n    ",
      "metadata": {
        "tags": [],
        "cell_id": "00019-35f47088-7cfc-4383-9c78-cba5f80ab227",
        "deepnote_to_be_reexecuted": false,
        "source_hash": "bde3cb6",
        "execution_start": 1619605409625,
        "execution_millis": 729,
        "deepnote_cell_type": "code"
      },
      "outputs": [
        {
          "data": {
            "text/plain": "<Figure size 1200x800 with 1 Axes>",
            "image/png": "[encoded data removed]"
          },
          "metadata": {
            "needs_background": "light",
            "image/png": {
              "width": 1024,
              "height": 734
            }
          },
          "output_type": "display_data"
        }
      ],
      "execution_count": 364
    },
    {
      "cell_type": "code",
      "metadata": {
        "cell_id": "00021-66e8e375-aebd-45d9-b80f-93f07a93e3d8",
        "deepnote_to_be_reexecuted": false,
        "source_hash": "4db26e6e",
        "execution_start": 1619605375805,
        "execution_millis": 5202,
        "deepnote_cell_type": "code"
      },
      "source": "edges = []\n\nfor source in interactions.keys():\n    C, H, targets = get_scores(source)\n    # print(C)\n    for i in range(len(C)):\n        C_ = C[:i] + C[i+1:]\n        weight = (C[i] - np.mean(C_)) * 1/np.std(C_)\n        edges.append(source, targets[i], {'weight':weight})\n\n# G = nx.DiGraph()\n# G.add_edges_from(edges)",
      "execution_count": 363,
      "outputs": [
        {
          "name": "stdout",
          "text": "Albus Minerva -0.2519247876586883\nAlbus Rubeus -0.23918067679977373\nAlbus Percy -0.13405419645882283\nAlbus Harry -0.26819879820334563\nAlbus Hermione 0.6429674362245015\nAlbus Ron 1.2135089048064094\nAlbus Severus -0.24287218857780896\nAlbus Gilderoy -0.5793170467904669\nAlbus Draco 0.023702110431569813\nAlbus Lucius -0.4516033198816003\nAlbus Ginny -0.5682342111387579\nAlbus Fred -1.21602310154197\nAlbus Seamus -0.8350354996337865\nAlbus Dean -0.33057766084291323\nAlbus Lee 2.65785955029032\nAlbus Cedric 3.705839941146305\nAlbus Wormtail -0.9183095537504932\nAlbus Sirius -0.275135339424494\nAlbus Voldemort -1.1070426750361595\nAlbus Bill 0.82794542523944\nAlbus Susan -0.9282138488203254\nAlbus Dolores -0.5369411064987274\nAlbus Phineas -0.15268994924102708\nAlbus Pomona -0.8350354996337865\nAlbus Horace -0.23574500678402632\nAlbus Remus 1.3839079130476926\nAlbus Nymphadora 1.4550458540178144\nAlbus Lily -0.8350354996337865\nMinerva Albus 0.6286814234541621\nMinerva Rubeus 0.6734250239710549\nMinerva Harry 0.2952396969490417\nMinerva Oliver -0.8217859320160056\nMinerva Hermione -0.19854138584055575\nMinerva Ron 0.005935187231730514\nMinerva Ernie -0.6352751382975523\nMinerva Filius -0.7396587033069786\nMinerva Severus 2.2968391361863207\nMinerva Remus 0.5670565878699396\nMinerva Draco -3.11710404090799\nMinerva George 0.7337617415382536\nMinerva Dolores 1.4542494010587157\nMinerva Pomona 0.4586223588363186\nMinerva Dean -0.6352751382975523\nMinerva Neville 1.997589479461723\nMinerva Cormac -0.6352751382975523\nMinerva Ginny -1.0675054430160296\nMinerva Luna -0.6352751382975523\nMinerva Nymphadora -0.5425422311354215\nMinerva Horace 0.439632999638122\nMinerva Fred -0.6352751382975523\nRubeus Minerva -0.3782794662893386\nRubeus Albus -0.2485164904016471\nRubeus Harry 0.35319446283050426\nRubeus Lavender 0.4089372083940452\nRubeus Neville 0.046671122470576434\nRubeus Ron 0.42508977308621165\nRubeus Oliver -4.476601850989989\nRubeus Seamus 0.7568480950008212\nRubeus Hermione 0.44211418936155283\nRubeus Marcus 1.6720594599134426\nRubeus Severus -2.1019306280067633\nRubeus Draco 0.4259435217263702\nRubeus Fred -1.0450913677011304\nRubeus Lucius 0.046671122470576455\nRubeus Percy 1.3279567947436617\nRubeus Pansy 1.09546284334091\nRubeus Filius -0.5901623277206512\nRubeus Pomona -1.3753081826189353\nRubeus Dean 0.4587821890860886\nRubeus Charlie 1.0743795799287958\nRubeus Dolores 0.6360573895064042\nRubeus Parvati -0.8032288768029232\nRubeus George 0.05618474240720382\nRubeus Horace 0.5246352429409149\nRubeus Remus 0.04667112247057644\nRubeus Nymphadora 0.04667112247057644\nRubeus Voldemort 0.04667112247057644\nHarry Rubeus -0.18842522230222877\nHarry Lily -1.435243604766179\nHarry Ron -0.11661194259638896\nHarry Hermione -0.18043257919203554\nHarry Draco 0.05866908484882713\nHarry Minerva -0.02727825126046462\nHarry Percy 0.12004379818417736\nHarry Severus -0.18488087953078466\nHarry Pansy -0.8074436632721379\nHarry Fred 0.06279682051578664\nHarry George -0.2270644140244424\nHarry Neville 0.03445385888533482\nHarry Filius 0.35097703689562765\nHarry Oliver -0.39420319405663407\nHarry Seamus -0.4805730229027087\nHarry Albus -0.22712180335028742\nHarry Voldemort -0.7618738195582366\nHarry Gilderoy 0.12300029635401989\nHarry Ginny 0.05979969775698363\nHarry Lee 1.3149525669171311\nHarry Dennis 1.2473533582109955\nHarry Crabbe 0.6231594739030262\nHarry Nearly-Headless 0.08403147300369099\nHarry Moaning -0.3787090845498192\nHarry Alicia -0.5731932559889357\nHarry Ernie -0.18315813202240278\nHarry Remus -0.4946733102854901\nHarry Dean 0.16364741141500572\nHarry Lavender 0.4445090992735694\nHarry Angelina -0.10727147722565268\nHarry Parvati -0.020691246088735453\nHarry Katie -0.06645284538676553\nHarry Wormtail -0.8818350190908281\nHarry Sirius -0.4956338640232619\nHarry Charlie -0.43432525521841203\nHarry Cedric -0.11261134838228556\nHarry Bill -0.0016944637031651513\nHarry Cho 0.591866965865732\nHarry Padma 1.3752797870896107\nHarry Nymphadora -0.3106249917752256\nHarry Susan 1.2625906237376359\nHarry Lucius -0.45868313182239684\nHarry Luna 0.07266613590849909\nHarry Dolores -0.22572619257650525\nHarry Michael 0.10237943767615729\nHarry Zacharias 0.5306849610663639\nHarry Justin 3.388775890816832\nHarry Terry 3.9607242503618876\nHarry Phineas -0.3997737388004435\nHarry Warrington -2.9572540699489807\nHarry Horace 0.22766954144751114\nHarry Narcissa -0.4108260335329762\nHarry Blaise -0.43432525521841203\nHarry Jack -1.4080469410265903\nHarry Corvinus -1.6369763255520622\nHarry Cormac -0.16448068681769618\nHarry Demelza 0.3347871046602506\nHarry Pomona 0.313752023031197\nHarry Jimmy 1.1301412266734319\nHarry Romilda -0.11153578569589907\nHarry Gregory -2.114281430885733\nHarry Bellatrix -0.7704648145378217\nHarry Goyle 3.2966887080040004\nHarry James -0.43432525521841203\nLavender Rubeus -0.4723928752664183\nLavender Harry -0.23142131681769132\nLavender Draco -0.4723928752664183\nLavender Seamus -0.13155476212839115\nLavender Hermione -1.0518655200240343\nLavender Dean -0.4723928752664184\nLavender Ron -0.2810689037647639\nLavender Parvati -0.39654633225491054\nLavender Dolores -1.068522717106867\nLavender Cho -1.6156313334796952\nLavender Neville 0.5024700285533324\nLavender Dennis 1.5956783720596837\nLavender Alicia 1.5956783720596837\nLavender Ginny 0.04358161808230383\nLavender Ernie 3.245764413145761\nRon Harry -0.1962202101655184\nRon Rubeus -0.6481712844436057\nRon Hermione -0.2239729771791691\nRon Draco -0.4080978690232572\nRon Neville -0.1048100682310226\nRon Percy 0.2826321701026316\nRon Seamus 0.07061393529185739\nRon Filius 3.1812549305546485\nRon Severus -0.6539119748980536\nRon Oliver 0.5283685205506444\nRon Dean 0.4082847025831424\nRon Marcus -0.2932157161023072\nRon Fred -0.052256911661775596\nRon George -0.26870253540839695\nRon Ginny 0.007232124072968201\nRon Albus -0.3089854188100299\nRon Minerva 0.06923515148476966\nRon Lee 0.6118862872161044\nRon Crabbe 0.25257444869287343\nRon Gilderoy 0.6751820037669476\nRon Moaning -1.293917312384262\nRon Pomona -2.1040783302204416\nRon Ernie 0.8929104864053193\nRon Remus -0.5184867322074103\nRon Pansy 0.4205154335746497\nRon Lavender 0.7470868514511632\nRon Voldemort -0.8739543565977744\nRon Parvati 1.3622160664960077\nRon Sirius -0.3739025368959801\nRon Wormtail 1.1143232804992904\nRon Bill -0.3078847475396548\nRon Charlie -0.8089872531950151\nRon Kevin -0.46264400539285616\nRon Cedric 1.0295816479763968\nRon Nearly-Headless -1.7305485353640742\nRon Angelina -0.1326546437354606\nRon Padma -0.7271147042510638\nRon Luna 0.02127583709760363\nRon Cho 1.0846638006952953\nRon Dolores 0.22073068605812582\nRon Katie 1.8163903280147433\nRon Alicia -0.46264400539285616\nRon Susan -0.46264400539285616\nRon Zacharias -0.46264400539285616\nRon Michael -0.054322320572898014\nRon Nymphadora -0.4398498575022112\nRon Bradley -0.46264400539285616\nRon Horace 1.5428446955054145\nRon Cormac 1.0543216297390254\nRon Demelza 2.6205311789962367\nRon Jimmy -3.9766197858689636\nRon Phineas -0.46264400539285616\nRon Lucius 0.2133802499144259\nRon Bellatrix -0.46264400539285616\nRon Terry -0.560188881886692\nHermione Harry -0.1453183734993117\nHermione Ron -0.1738039826024658\nHermione Filius 1.1810446467900861\nHermione Seamus 0.21949996141694414\nHermione Rubeus -0.6227658548204867\nHermione Neville -0.48883658968894317\nHermione Draco -0.2211496787963935\nHermione Albus -1.2706411519205472\nHermione Severus 0.6661020923774142\nHermione Minerva -0.3920589650408944\nHermione Lee -0.25653499599463325\nHermione Pomona 1.3447636823714422\nHermione Gilderoy 0.8948013837107641\nHermione Fred -0.12448818346719963\nHermione Moaning -0.8219016249515304\nHermione Percy -0.24437182062450954\nHermione Pansy -1.6265038982127626\nHermione George -0.44932747951617796\nHermione Lavender -0.3053173373901123\nHermione Parvati 0.6672904508451439\nHermione Ginny 0.37151471819575516\nHermione Dean 0.3960239016957629\nHermione Remus -0.6050092628776705\nHermione Voldemort 0.04827008663902323\nHermione Oliver 2.0854503264332407\nHermione Wormtail -0.47481133639163214\nHermione Sirius 0.10912332742310832\nHermione Cedric 0.7734292596703256\nHermione Bill 1.003912337547811\nHermione Nearly-Headless 0.6831419265320078\nHermione Angelina 0.6271601382884252\nHermione Luna 0.8146694206885604\nHermione Dolores -0.5015744615330652\nHermione Michael 2.70827006152208\nHermione Zacharias -1.2410765794367438\nHermione Justin -0.47481133639163214\nHermione Cho -0.4321880556031609\nHermione Ernie -2.5295185587421347\nHermione Katie 0.04700944684518107\nHermione Terry 2.1227468509726606\nHermione Crabbe -2.0169468262854746\nHermione Nymphadora -0.1911112261749034\nHermione Narcissa -1.089949391933695\nHermione Horace 1.2060646502638461\nHermione Cormac 1.2566360781782262\nHermione Romilda -2.4116548323189244\nHermione Celestina -0.4748113363916321\nHermione Charlie -0.4748113363916321\nHermione Regulus 0.44602157998648373\nHermione Phineas 0.8723708102358436\nHermione Bellatrix -0.47481133639163214\nDraco Harry -0.21194074974802662\nDraco Ron -0.14267329078310556\nDraco Neville -0.35139226306222077\nDraco Pansy 1.1753149765328783\nDraco Parvati -0.9919509053733868\nDraco Filius -0.35139226306222077\nDraco Hermione 0.34901882065305206\nDraco Rubeus 0.20210870803583703\nDraco Ginny -0.297200294496069\nDraco Fred -1.4605702120890287\nDraco Dennis 0.5613209015836481\nDraco Crabbe -0.06518180074329054\nDraco Gilderoy 0.7029490042068861\nDraco George -0.35139226306222077\nDraco Severus 0.5992885360418992\nDraco Percy -0.35139226306222077\nDraco Albus -0.672584782320056\nDraco Lucius -0.16904508902601212\nDraco Remus -2.235615006344051\nDraco Lavender 4.69396458006253\nDraco Lee -1.3034080099511254\nDraco Seamus -0.35139226306222077\nDraco Minerva -0.35139226306222077\nDraco Voldemort -0.49831856088134435\nDraco Luna -1.495021573122328\nDraco Angelina -0.029051283867218548\nDraco Alicia 1.3919225052613338\nDraco Ernie 0.38602123978166347\nDraco Dolores -0.35139226306222077\nDraco Narcissa 1.0080223326947322\nDraco Blaise 1.1707650215208056\nDraco Horace 1.0281572185609087\nDraco Goyle -0.35139226306222077\nNeville Rubeus -0.05342920165409517\nNeville Draco -0.5413466366266241\nNeville Ron -0.2601653335573666\nNeville Percy 0.23026772461538045\nNeville Seamus -0.0014329536747925906\nNeville Harry -0.4515993654789487\nNeville Hermione -0.03400644162608097\nNeville Dean 0.24914074203157574\nNeville Remus -0.16741902288170601\nNeville Severus -0.19492915239536238\nNeville Fred -1.7076608924899896\nNeville George -2.5245482274995896\nNeville Ginny -0.33400229003648285\nNeville Luna -0.16787711100432856\nNeville Terry 1.0280035216766084\nNeville Justin 3.312508576980261\nNeville Cho 3.1809911058903677\nNeville Dolores -0.36468647933592185\nNeville Lavender 0.032088804395612666\nNeville Lucius -0.541346636626624\nNeville Voldemort -0.646042271596662\nNeville Horace -0.541346636626624\nNeville Blaise -0.541346636626624\nNeville Minerva 0.649315193445358\nNeville Ernie 0.597427872190015\nNeville Michael 0.4705109799263874\nPercy Ron 0.08228126760773234\nPercy Harry 0.7865158063532991\nPercy Neville 1.356221173751977\nPercy Albus 0.28173990106741653\nPercy George 0.09819917429238513\nPercy Hermione -0.1788446498526464\nPercy Draco 0.8350093909350595\nPercy Fred 0.16873273572692685\nPercy Ginny 0.7407704286386427\nPercy Rubeus 0.2488051830505244\nPercy Seamus 0.41559517075312924\nPercy Oliver 0.9448722897674784\nPercy Bill -1.6831230546433698\nPercy Susan -3.5881444403790157\nPercy Remus -1.5632755307497943\nSeamus Ron -0.5276618654085551\nSeamus Nearly-Headless -1.8418818704149071\nSeamus Neville -0.3037971566028526\nSeamus Harry -0.16095780979855884\nSeamus Hermione 0.7317990198117194\nSeamus Rubeus -0.3780953953876018\nSeamus Dean -0.5073122924692781\nSeamus Gilderoy 1.48121988471446\nSeamus Parvati 0.3128785041178642\nSeamus Severus -1.0574472554500882\nSeamus Remus -0.6071986451492263\nSeamus Lavender 0.9320304367748776\nSeamus Percy -1.4000694712105113\nSeamus Oliver 1.2178129088803247\nSeamus Pomona -0.6071986451492263\nSeamus Draco -0.6071986451492263\nSeamus Albus -0.6071986451492263\nSeamus Angelina 3.0171924258832292\nSeamus Fred -0.18523491068874937\nSeamus George -0.18523491068874937\nSeamus Ernie 1.7945174635204937\nNearly-Headless Seamus -1.4919520336707022\nNearly-Headless Harry -0.5831466677553563\nNearly-Headless Ron -0.13452272838994192\nNearly-Headless Hermione 5.77633955052941\nSeverus Harry -0.30497933122239923\nSeverus Ron -0.10795082069279903\nSeverus Rubeus -0.06387279780067977\nSeverus Hermione -0.4201773248937014\nSeverus Albus -0.10533816397382602\nSeverus Gilderoy -0.6953936297373134\nSeverus Draco -0.15040785871566287\nSeverus Pomona -0.23863876347303223\nSeverus Minerva -0.1083106517638992\nSeverus Filius -1.1653348465767575\nSeverus Pansy 0.8245512801670589\nSeverus Seamus 0.5842478875828537\nSeverus Remus 0.6772775214381687\nSeverus Dean -0.9016120227674173\nSeverus Parvati -0.051787642878627305\nSeverus Neville -2.398353352186855\nSeverus Lee -0.2386387634730322\nSeverus Katie -0.2386387634730322\nSeverus Oliver -0.2386387634730322\nSeverus Sirius -0.3042791822566252\nSeverus Dolores 0.6320634133292898\nSeverus James 1.6334671415265638\nSeverus Lily 0.9349220446954933\nSeverus Narcissa 0.24780589679310416\nSeverus Nymphadora 4.4667656268787805\nSeverus Horace 0.5245682123805836\nSeverus Luna -2.3000747517221347\nSeverus Ginny -0.23863876347303223\nSeverus Voldemort 0.4446867938890421\nParvati Pansy -0.3237645160687254\nParvati Draco -0.3237645160687254\nParvati Seamus -0.3237645160687254\nParvati Dean 0.44284031716093997\nParvati Hermione -0.12333560984780352\nParvati Lavender -0.5873887558429012\nParvati Severus 0.0984181165730041\nParvati Harry 0.07795294598575603\nParvati Ron -0.14924380507622753\nParvati Padma -0.3237645160687254\nParvati Dolores 6.95135431015276\nParvati Rubeus -1.7684899816877573\nPansy Parvati -0.9704837965427594\nPansy Harry -0.3555413183952413\nPansy Draco -0.2903326287461163\nPansy Ron 0.02758572972977056\nPansy George 0.022721047486382435\nPansy Dean 0.2797860089861337\nPansy Rubeus -1.0811130642494144\nPansy Hermione 1.6529394819440162\nPansy Severus -2.6738346253081766\nPansy Angelina 1.6467033625541694\nPansy Cho 0.022721047486382435\nPansy Blaise 1.5243434680039336\nOliver Minerva -0.30401715979276805\nOliver Harry 0.008896501349206104\nOliver Filius 1.3684684399464409\nOliver Fred -0.1007832957260084\nOliver Angelina 0.1563876254577536\nOliver George -0.13294889829745055\nOliver Lee -0.8041828455946379\nOliver Ron -0.2430360199810119\nOliver Rubeus -1.2974061517799587\nOliver Marcus -0.256360450061992\nOliver Gilderoy 6.918461127300466\nOliver Katie 0.3337425451150765\nOliver Alicia -0.9352860295379865\nOliver Percy -0.3422096538073873\nOliver Seamus -0.3422096538073873\nOliver Hermione -0.3422096538073873\nOliver Severus -0.3422096538073873\nGeorge Fred 0.2070658324077664\nGeorge Harry 0.18349406028361603\nGeorge Angelina 0.23181023614366142\nGeorge Oliver 0.3465865150388754\nGeorge Ron 0.2277994726064982\nGeorge Percy 0.49097508897506353\nGeorge Draco -0.11527407602546073\nGeorge Alicia -8.300445031761656\nGeorge Ginny 0.42863283173838546\nGeorge Pansy -0.11527407602546072\nGeorge Hermione 0.37706976154823046\nGeorge Bill -0.5420332384950742\nGeorge Charlie 0.11616189545525946\nGeorge Lee 0.4486184610652643\nGeorge Minerva -0.35657700132313547\nGeorge Katie 0.34357438483923525\nGeorge Seamus -0.658422719778032\nGeorge Neville -0.4308131409250585\nGeorge Sirius -0.41032412212580843\nGeorge Dolores 1.0224904067897385\nGeorge Horace 2.0125381157045616\nGeorge Rubeus 0.11616189545525946\nGeorge Remus 0.5829560990471114\nGeorge Dean -0.1152740760254607\nFred Harry 0.08405004015786166\nFred George 0.23970836094032097\nFred Angelina 0.25124261670719145\nFred Oliver -0.4460444600905153\nFred Ron 0.3214588683333098\nFred Rubeus 0.47339693444669284\nFred Draco -0.44788421893963004\nFred Marcus -0.8654603578362247\nFred Hermione 0.5785367232785915\nFred Alicia -0.7494617625919145\nFred Ginny -0.33034464197855784\nFred Percy 0.1179588485208027\nFred Katie -0.5011931716742279\nFred Lee 0.28431390804825907\nFred Charlie -0.17435872538344574\nFred Bill -0.5469581897773479\nFred Albus 0.2863873419632097\nFred Seamus -0.24089455126134166\nFred Neville -1.0048541035833924\nFred Sirius -0.47186093582868716\nFred Terry -0.4478842189396301\nFred Ernie 1.0280665704485819\nFred Cho -1.8212808607519602\nFred Dean 1.1512248365428368\nFred Zacharias -2.2343892846010243\nFred Dolores 1.9012224988091644\nFred Remus 0.003156293800042929\nFred Minerva 4.442356592713457\nFilius Harry -0.1029743171707064\nFilius Draco 1.929038601471266\nFilius Oliver -0.6146931684951829\nFilius Hermione 0.1743160185602312\nFilius Ron 0.5844146070492564\nFilius Minerva -0.7617679409536324\nFilius Gilderoy 2.7635312845533764\nFilius Severus 0.6411785831700589\nFilius Pomona -0.6353897945474489\nFilius Rubeus -1.5437850034849405\nFilius Horace -0.8657355608275246\nFilius Luna -0.9313065451566293\nAngelina Fred -0.24903210744209986\nAngelina George -0.5167451980818732\nAngelina Oliver -0.022397640439853043\nAngelina Harry 0.7034219356223105\nAngelina Katie -1.0494395452227883\nAngelina Seamus 1.1140766264647814\nAngelina Hermione -0.024797322419353486\nAngelina Ron 0.7336697839303742\nAngelina Draco -0.21733962305455784\nAngelina Alicia -0.08143509528583642\nAngelina Pansy 2.9980609591604646\nAngelina Cho 0.2014710562537051\nAngelina Zacharias 0.9375275916912369\nAngelina Lee -0.31440315961205345\nAngelina Ginny -1.5362800930794418\nAngelina Dean -0.5167451980818732\nAngelina Dolores -2.867989094097621\nAngelina Luna 0.7237445301506477\nLee Oliver -0.40393778347695425\nLee Harry -0.10558819525035185\nLee Hermione 0.6215702154086743\nLee Ron 0.32404934262080654\nLee Katie -0.40393778347695425\nLee Severus -0.40393778347695425\nLee Fred 0.5330742126710217\nLee Draco -2.8280989250066337\nLee George 0.67828141535689\nLee Albus -0.40393778347695425\nLee Terry -0.40393778347695425\nLee Angelina 0.716596793486916\nLee Ginny 4.272109984635666\nLee Bradley -0.25872875252283467\nLee Dean -0.40393778347695425\nLee Remus -0.6850902494583067\nDean Ron 0.3650046485937161\nDean Seamus 0.6345719597908015\nDean Neville 1.1587478719610336\nDean Parvati 0.2824719245961318\nDean Gilderoy -0.4996311265606707\nDean Harry -0.24957321194890272\nDean Pansy -1.8756300498033616\nDean Remus 0.4988176432232201\nDean Lavender 0.1396511991434496\nDean Hermione 0.7865680629869164\nDean Severus 6.084330010732168\nDean Rubeus -0.4996311265606708\nDean Albus 0.635769250649872\nDean Dolores -0.21647265856745262\nDean Katie -0.4996311265606708\nDean Cho -0.4996311265606708\nDean Fred -1.1038977491156836\nDean Angelina -0.4996311265606707\nDean Minerva 0.32574783054374606\nDean Lee -0.4996311265606707\nDean Dennis -0.4996311265606707\nDean Ginny -0.4996311265606707\nDean Luna -0.8309050988626197\nDean George -0.4996311265606707\nMarcus Ron -1.0794417139280492\nMarcus Rubeus -1.0794417139280492\nMarcus Oliver 2.285910927544042\nMarcus Fred 1.636032976610425\nMarcus Horace -0.7092966586388461\nMarcus Cormac -0.37930123057403625\nVoldemort Harry 0.11201768881883481\nVoldemort Draco 0.8994412601383385\nVoldemort Wormtail 0.3209880919135071\nVoldemort Lucius 0.2682560502528647\nVoldemort Albus 0.5811155568949545\nVoldemort Neville 1.5279793451434966\nVoldemort Luna 0.16571124076964083\nVoldemort Severus 0.13949324123045478\nVoldemort Ron -1.4775240302887014\nVoldemort Hermione -4.3969497316122474\nVoldemort Rubeus 0.1657112407696408\nGinny Ron 0.25032585784877226\nGinny Harry 0.2624605424722658\nGinny Draco -0.5589600267982944\nGinny Albus -0.9088557054932829\nGinny Fred -0.29749850612820794\nGinny George -0.6824169995668737\nGinny Percy 0.6238716155147563\nGinny Hermione 0.24272074899530327\nGinny Charlie 0.3648953239752932\nGinny Bill 1.0062181185367134\nGinny Nymphadora -0.8547810020675083\nGinny Remus -1.7305513930325997\nGinny Luna 0.11840059370946851\nGinny Neville 0.15669400744971496\nGinny Cho 0.3463719776985617\nGinny Angelina 1.029717218539639\nGinny Lee 0.39086854026364154\nGinny Alicia 1.7170958400822303\nGinny Phineas -1.9553318160161879\nGinny Sirius -0.04422911822753991\nGinny Dolores -0.04422911822753991\nGinny Horace -0.04422911822753991\nGinny Dean 0.6069069647987706\nGinny Lavender 3.5695493336314907\nGinny Minerva -2.112517852965751\nGinny Cormac -0.04422911822753994\nGinny Severus -1.0698188034188094\nGilderoy Harry -0.13583838132331846\nGilderoy Pomona 0.9998070090131537\nGilderoy Draco -0.6203112322684657\nGilderoy Ron -0.1911075360344653\nGilderoy Hermione 1.430922614389619\nGilderoy Seamus -1.2752825878733811\nGilderoy Albus -1.043325339343411\nGilderoy Severus -0.620974517974025\nGilderoy Oliver 1.1132230579371338\nGilderoy Dean -1.5268373961378001\nGilderoy Filius 2.1306869144339626\nPomona Gilderoy -1.5701225053953094\nPomona Hermione -0.003324862867310721\nPomona Severus 1.4241423981109584\nPomona Ron 0.6543322435221232\nPomona Ernie 1.4241423981109584\nPomona Filius 0.024073791755414964\nPomona Seamus -0.7100725575836465\nPomona Hannah -0.6722274916795645\nPomona Rubeus -1.5010697634892047\nPomona Albus -1.5701225053953094\nPomona Minerva 0.024073791755414964\nPomona Harry 1.887710332604916\nPomona Horace 0.6212968594876932\nDennis Harry -0.577350269189626\nDennis Draco -4.041451884327384\nDennis Lavender 0.9045340337332903\nDennis Dean 0.9045340337332903\nDennis Alicia 0.9045340337332903\nCrabbe Harry 1.8297030589582315\nCrabbe Draco -5.013733874673294\nCrabbe Ron 0.42273307466400384\nCrabbe Hermione 0.10623572009864957\nCrabbe Ernie 0.10623572009864957\nCrabbe Goyle 0.10623572009864957\nMoaning Hermione -2.6478807772243673\nMoaning Harry 3.427360070755519\nMoaning Ron -0.09652706441890786\nAlicia Fred -0.8900979520146407\nAlicia Harry -0.7681631728412522\nAlicia George -0.3093230067791847\nAlicia Oliver -0.7683681914422175\nAlicia Angelina -0.06465939365889073\nAlicia Ginny -0.1806021655580501\nAlicia Dolores -1.280447812183976\nAlicia Zacharias 0.1669110681118551\nAlicia Dennis 2.5005735987523865\nAlicia Lavender 2.5005735987523865\nErnie Hannah -3.7933893321627083\nErnie Harry -0.5067579503669442\nErnie Minerva -0.20488159954912516\nErnie Ron 0.18678596281583548\nErnie Pomona 1.1955520611435275\nErnie Cho 1.586151375793786\nErnie Hermione 0.5326156033580057\nErnie Zacharias 0.8773605152374775\nErnie Fred -0.7646099035519789\nErnie Crabbe -0.20488159954912513\nErnie Draco -0.813194404280498\nErnie Horace 1.7587520073410505\nErnie Seamus -0.20488159954912513\nErnie Neville -0.20488159954912513\nErnie Lavender -0.20488159954912513\nHannah Ernie inf\nHannah Pomona -inf\nLucius Albus -0.23160129852043357\nLucius Draco -0.140048712569809\nLucius Rubeus -0.23160129852043357\nLucius Voldemort 4.181851259656177\nLucius Harry -0.19095636930674523\nLucius Neville -1.307040422209724\nLucius Narcissa 0.859261621071667\nLucius Ron -1.307040422209724\n<ipython-input-363-aa332776c3a4>:8: RuntimeWarning: divide by zero encountered in double_scalars\n  print(source, targets[i], (C[i] - np.mean(C_)) * 1/np.std(C_))\nRemus Harry -0.2641887947623841\nRemus Ron -0.02528465406262295\nRemus Draco -2.1977613680587798\nRemus Severus 1.1391643518357792\nRemus Dean 1.3533806743289603\nRemus Neville -0.8090964844780849\nRemus Seamus 0.7617677303372989\nRemus Hermione -0.129507934927356\nRemus Minerva -0.9980528940630301\nRemus Sirius -0.031372841792131886\nRemus Wormtail 0.31162908395078776\nRemus Nymphadora -0.1059781154645458\nRemus Bill 0.009093129524773707\nRemus Ginny -0.7253044500491735\nRemus Albus 0.7140088375203315\nRemus James -0.014853584722798385\nRemus Fred -0.23150439917630444\nRemus Celestina 1.5523805718838493\nRemus Rubeus -0.9744941267182345\nRemus George 0.7304055827571024\nRemus Voldemort -2.655540159736517\nRemus Lee 2.4293598756661083\nRemus Percy 0.014495461310676977\nKatie Angelina -0.028901785729662226\nKatie Fred 1.7403243555239125\nKatie Oliver 3.633761241990908\nKatie Harry -0.5996137137514614\nKatie George -0.5272773564225608\nKatie Ron -0.9622769794774236\nKatie Hermione -0.5102466713008765\nKatie Dean -0.6461314144822561\nKatie Lee -0.6461314144822561\nSirius Ron 0.1754407867327165\nSirius Remus -0.6085722892911627\nSirius Harry 0.23060452051657285\nSirius Hermione -0.37076466626832805\nSirius Severus 0.9733672848963483\nSirius Albus 0.03898112372469409\nSirius Bill 1.5882714996751401\nSirius Fred 0.37627339286819217\nSirius George 0.5918471694898223\nSirius Nymphadora -4.418313157138543\nSirius Ginny 0.32153945945527135\nSirius James 0.8606909522176392\nSirius Lily -1.261724145501819\nWormtail Remus 0.16033646517675187\nWormtail Hermione 0.7892073802146568\nWormtail Ron 0.3541919644582038\nWormtail Harry 0.00988709453703657\nWormtail Albus -7.2565816749171965\nWormtail Voldemort 1.1611430529917164\nBill Percy 0.3540476456336314\nBill Ron -0.5088198254810024\nBill Ginny -1.3516815487665248\nBill Fred 0.8923174081237178\nBill Harry -0.32009528600506454\nBill Hermione -0.5325068834425071\nBill George 1.4701147769524336\nBill Charlie 2.347016569146913\nBill Albus -2.0671065335593326\nBill Nymphadora -0.7220515601611999\nBill Sirius 0.8509430247771927\nBill Remus -0.250034549554471\nCharlie Fred -0.5630568025523167\nCharlie Harry -0.7589749906300582\nCharlie Ron -2.08936458994065\nCharlie Ginny -0.8888443264923701\nCharlie Bill 1.305747333468844\nCharlie George 0.05701456508556243\nCharlie Rubeus 1.6605237608021162\nCharlie Hermione 1.2447263598149603\nCedric Harry 0.241403581648977\nCedric Hermione 1.0765708578878355\nCedric Ron -8.669131168867157\nCedric Albus 0.8231342122366191\nKevin Ron nan\nCho Harry -0.1734298254723892\nCho Ginny -0.45313876332456876\nCho Ron 0.8341862668152406\nCho Hermione -0.12902877259520498\nCho Neville -0.8034941529415\nCho Angelina -0.6239072546210309\nCho Ernie -0.8034941529415\nCho Zacharias -0.8034941529415\nCho Fred 1.3141449027133252\nCho Dean 4.342706827083702\nCho Luna -0.14143903439889033\nCho Pansy -0.8034941529415\nCho Roger 1.4239761909337607\nCho Lavender -0.11195152383636779\nCho Michael -0.8034941529415\nCho Terry -0.8034941529415\nPadma Harry -1.0\nPadma Parvati -1.0\nPadma Ron inf\nNymphadora Remus 0.2721174828836073\nNymphadora Harry 0.6853729382143103\nNymphadora Bill -1.6411848557848177\nNymphadora Sirius 2.9134682603319453\nNymphadora Ginny 0.9948032831147655\nNymphadora Ron -1.1688525489338148\nNymphadora Hermione -1.7800147457303002\nNymphadora Albus -0.04124961611436416\nNymphadora Severus -0.04124961611436416\nNymphadora Minerva 0.18163044397925962\nNymphadora Rubeus -0.04124961611436416\nSusan Harry -0.7134869208454333\nSusan Percy 5.787264833574529\nSusan Albus 0.49407296581885163\nSusan Michael -0.7134869208454333\nSusan Ron -0.7134869208454333\nSusan Zacharias -0.7134869208454333\nLuna Harry 0.11997351221420091\nLuna Ginny 0.46469846221801714\nLuna Neville 1.8184762693804497\nLuna Hermione 0.16585867239993507\nLuna Draco 2.089219110455343\nLuna Ron -0.08752994608955939\nLuna Cho 1.1739663288349083\nLuna Angelina 0.8368384780554095\nLuna Dean 0.43194535566051273\nLuna Voldemort -0.8098234239482407\nLuna Horace -1.6981814426443103\nLuna Severus -1.2837694454066078\nLuna Cormac 0.1217352528806633\nLuna Minerva -0.5705884747338185\nLuna Michael -1.9131055412463787\nLuna Filius -0.8098234239482407\nDolores Albus 0.47895568671251265\nDolores Harry 0.21176092838625812\nDolores Parvati -1.8203675853956056\nDolores Hermione -0.38100378951264463\nDolores Ron 0.09953352405307679\nDolores Dean -3.478953886198931\nDolores George 0.7991554034920123\nDolores Minerva -0.5909892609289775\nDolores Severus 0.8126799080553158\nDolores Angelina 0.18638133184981065\nDolores Alicia 0.18638133184981065\nDolores Rubeus 0.24638849514113537\nDolores Neville -0.20811277287159152\nDolores Fred -0.133628093135934\nDolores Marietta 1.226093164836992\nDolores Warrington 2.3881642442692637\nDolores Draco -0.6051577934707864\n/shared-libs/python3.8/py/lib/python3.8/site-packages/numpy/core/fromnumeric.py:3372: RuntimeWarning: Mean of empty slice.\n  return _methods._mean(a, axis=axis, dtype=dtype,\n/shared-libs/python3.8/py/lib/python3.8/site-packages/numpy/core/_methods.py:170: RuntimeWarning: invalid value encountered in double_scalars\n  ret = ret.dtype.type(ret / rcount)\n/shared-libs/python3.8/py/lib/python3.8/site-packages/numpy/core/_methods.py:233: RuntimeWarning: Degrees of freedom <= 0 for slice\n  ret = _var(a, axis=axis, dtype=dtype, out=out, ddof=ddof,\n/shared-libs/python3.8/py/lib/python3.8/site-packages/numpy/core/_methods.py:194: RuntimeWarning: invalid value encountered in true_divide\n  arrmean = um.true_divide(\n/shared-libs/python3.8/py/lib/python3.8/site-packages/numpy/core/_methods.py:226: RuntimeWarning: invalid value encountered in double_scalars\n  ret = ret.dtype.type(ret / rcount)\nMichael Harry 0.16734245340265508\nMichael Hermione 2.1874000374069382\nMichael Susan 1.0914505632708857\nMichael Horace 0.7454619181282409\nMichael Terry 0.7454619181282409\nMichael Ron -1.2339264578829792\nMichael Neville -1.2339264578829792\nMichael Luna -1.2339264578829792\nMichael Cho -1.0412023668029413\nZacharias Harry -0.02335293544375191\nZacharias Hermione -3.9768352647410468\nZacharias Ron 2.3658583350001896\nZacharias Susan -0.07836124412426462\nZacharias Angelina -0.07836124412426462\nZacharias Cho -0.07836124412426462\nZacharias Ernie 1.004239062181304\nZacharias Fred -0.07836124412426462\nZacharias Alicia -0.07836124412426462\nTerry Harry -0.927132542974178\nTerry Fred -0.927132542974178\nTerry Justin -0.927132542974178\nTerry Lee -0.927132542974178\nTerry Neville -0.927132542974178\nTerry Hermione 0.7407139953320557\nTerry Michael 0.042953256783566804\nTerry Horace 0.042953256783566804\nTerry Cho 2.2267550167076964\nTerry Ron 2.2267550167076964\nJustin Terry nan\nJustin Harry nan\nJustin Hermione nan\nJustin Neville nan\nPhineas Albus -1.911585997643369\nPhineas Harry -0.28590377732075256\nPhineas Ginny 3.1086231954995256\nPhineas Hermione 0.5974384407151447\nPhineas Ron -0.6860021760789848\nRoger Cho nan\nMarietta Dolores nan\nJames Remus -1.1097145780303328\nJames Sirius -0.7526955792971287\nJames Severus 2.2659179160198732\nJames Lily 1.2784316194993897\nJames Harry -1.1097145780303328\nLily James -12.841629402996793\nLily Sirius 1.3377913514999644\nLily Severus 0.7110166813790018\nWarrington Harry nan\nWarrington Dolores nan\nNarcissa Severus -7.137994040917469\nNarcissa Draco 0.2837844248159427\nNarcissa Harry 0.10278946412871984\nNarcissa Hermione 0.7129893584723911\nNarcissa Lucius 1.2190409970330849\nHorace Albus -0.833361944793519\nHorace Harry -0.35330479645840007\nHorace Sirius 1.7051182637648266\nHorace Marcus 2.111029277066799\nHorace Cormac -0.4225318587109605\nHorace Ginny -1.0885928495632338\nHorace Neville -1.0885928495632338\nHorace Hermione 0.1588597633907661\nHorace Draco -0.5050781810586078\nHorace Ron 0.5946113679383052\nHorace Ernie 0.6978230230879465\nHorace Terry -1.5899299139631462\nHorace Michael -0.5365417871559214\nHorace Luna 1.8047749257305765\nHorace Severus 0.3450220692675626\nHorace Pomona 0.6112877825129234\nHorace Rubeus 1.0523652460025998\nHorace Minerva -1.432285550396811\nHorace Filius -0.9975868408141658\nCormac Horace 1.875486661541521\nCormac Marcus 1.875486661541521\nCormac Harry -0.13090226601279378\nCormac Hermione -0.371271375528394\nCormac Ron 0.6991312873800432\nCormac Minerva -1.1965488585783752\nCormac Ginny -1.1965488585783752\nCormac Luna -1.1965488585783752\nBlaise Harry -1.3946001182495038\nBlaise Draco 1.0384706767677434\nBlaise Neville -1.3946001182495038\nBlaise Pansy 1.8708366835931376\nJack Harry nan\nCorvinus Harry nan\nDemelza Harry -inf\nDemelza Ron inf\nJimmy Harry nan\nJimmy Ron nan\nRomilda Harry nan\nRomilda Hermione nan\nCelestina Hermione nan\nCelestina Remus nan\nGregory Harry nan\nBellatrix Harry nan\nBellatrix Hermione nan\nBellatrix Ron nan\nGoyle Harry nan\nGoyle Draco nan\nGoyle Crabbe nan\n<ipython-input-363-aa332776c3a4>:8: RuntimeWarning: invalid value encountered in double_scalars\n  print(source, targets[i], (C[i] - np.mean(C_)) * 1/np.std(C_))\n",
          "output_type": "stream"
        }
      ]
    },
    {
      "cell_type": "code",
      "metadata": {
        "tags": [],
        "cell_id": "00015-eb493b30-24b1-408a-acfe-75144d3f90fe",
        "deepnote_to_be_reexecuted": false,
        "source_hash": "e8e96919",
        "execution_millis": 4,
        "execution_start": 1618394880476,
        "deepnote_cell_type": "code"
      },
      "source": "def extract_characters_by_chapter(names, books):\n    '''\n        Params:\n        names:    List of character names to search for\n        books:    list of books. Each book is a list of chapters. \n                  e.g. to get text from chap. 1 in book 1 do books[0][0]\n\n        Returns: Dictionary mapping the title of a chapter to a list of\n                 the characters appearing in the chapter. If a character\n                 appear multiple times in a chapter, they will appear\n                 multiple times in the dictionary list for that chapter.\n    '''\n    characters_in_chapter = {}\n\n    global_chapter = 0\n\n    for book in tqdm(books):\n        for chapter in book:\n            global_chapter += 1\n            characters_in_chapter[global_chapter] = {}\n\n            for name in names:\n                search_results = re.findall(f' {name}[.,!?\\s] ', chapter)\n                if search_results:\n                    characters_in_chapter[global_chapter][name] = len(search_results)\n\n    return characters_in_chapter\n",
      "execution_count": 47,
      "outputs": []
    },
    {
      "cell_type": "code",
      "metadata": {
        "tags": [],
        "cell_id": "00019-461a5e1f-bd04-452f-b3ad-5f7d58fb22c7",
        "deepnote_to_be_reexecuted": false,
        "source_hash": "d168b04b",
        "execution_millis": 2356,
        "execution_start": 1618395548826,
        "deepnote_cell_type": "code"
      },
      "source": "search_names = set(names.values())\nbooks = books_in_chapters_clean_names\n\ncharacters_in_chapter = extract_characters_by_chapter(search_names, books)\ncharacters_in_chapter",
      "execution_count": 49,
      "outputs": [
        {
          "output_type": "stream",
          "name": "stderr",
          "text": "100%|██████████| 7/7 [00:02<00:00,  2.91it/s]\n"
        },
        {
          "output_type": "execute_result",
          "data": {
            "text/plain": "{1: {'Albus': 12, 'Voldemort': 1, 'Minerva': 7, 'Rubeus': 1, 'Harry': 4},\n 2: {'Harry': 15},\n 3: {'Malcolm': 1, 'Harry': 12, 'Dennis': 1},\n 4: {'Albus': 1, 'Susan': 1, 'James': 1, 'Rubeus': 12, 'Harry': 19},\n 5: {'Albus': 1, 'Lavender': 1, 'Rubeus': 30, 'Harry': 35},\n 6: {'Ginny': 3,\n  'Albus': 1,\n  'George': 3,\n  'Hermione': 4,\n  'Draco': 1,\n  'Fred': 3,\n  'Lee': 1,\n  'Ron': 24,\n  'Rubeus': 3,\n  'Harry': 27,\n  'Goyle': 1},\n 7: {'Albus': 5,\n  'Severus': 1,\n  'Hannah': 1,\n  'Percy': 7,\n  'Minerva': 2,\n  'Neville': 3,\n  'Seamus': 1,\n  'Hermione': 1,\n  'Draco': 1,\n  'Fred': 1,\n  'Ron': 3,\n  'Rubeus': 3,\n  'Harry': 3,\n  'Goyle': 1},\n 8: {'Filius': 3,\n  'Severus': 2,\n  'Pomona': 1,\n  'Minerva': 1,\n  'Neville': 2,\n  'Crabbe': 1,\n  'George': 1,\n  'Hermione': 1,\n  'Draco': 2,\n  'Ron': 7,\n  'Rubeus': 7,\n  'Harry': 8,\n  'Goyle': 1},\n 9: {'Filius': 1,\n  'Parvati': 1,\n  'Oliver': 3,\n  'Albus': 1,\n  'Minerva': 2,\n  'Neville': 8,\n  'Crabbe': 1,\n  'Hermione': 3,\n  'Draco': 9,\n  'Fred': 1,\n  'mr. Weasley': 1,\n  'Ron': 10,\n  'Rubeus': 1,\n  'Harry': 17,\n  'Goyle': 3},\n 10: {'Filius': 3,\n  'Oliver': 9,\n  'Minerva': 2,\n  'Charlie': 1,\n  'Hermione': 8,\n  'Draco': 1,\n  'Ron': 11,\n  'Harry': 14,\n  'Goyle': 1},\n 11: {'Katie': 1,\n  'Oliver': 1,\n  'Dean': 1,\n  'Severus': 5,\n  'Minerva': 2,\n  'Neville': 1,\n  'Angelina': 1,\n  'Marcus': 3,\n  'George': 2,\n  'Seamus': 1,\n  'Hermione': 3,\n  'Fred': 1,\n  'Alicia': 2,\n  'Lee': 1,\n  'Ron': 7,\n  'Rubeus': 4,\n  'Harry': 8},\n 12: {'Filius': 1,\n  'Albus': 4,\n  'Severus': 2,\n  'Percy': 1,\n  'Charlie': 1,\n  'Crabbe': 1,\n  'George': 1,\n  'Hermione': 6,\n  'Draco': 2,\n  'Fred': 1,\n  'Ron': 18,\n  'Rubeus': 5,\n  'Harry': 12},\n 13: {'Oliver': 1,\n  'Severus': 6,\n  'Neville': 4,\n  'Crabbe': 2,\n  'Hermione': 7,\n  'Draco': 3,\n  'Fred': 1,\n  'Ron': 13,\n  'Harry': 9,\n  'Goyle': 2},\n 14: {'Minerva': 1,\n  'Charlie': 1,\n  'Hermione': 5,\n  'Draco': 2,\n  'Ron': 11,\n  'Rubeus': 10,\n  'Harry': 10},\n 15: {'Albus': 1,\n  'Severus': 1,\n  'Minerva': 3,\n  'Neville': 4,\n  'Hermione': 6,\n  'Draco': 7,\n  'Ron': 3,\n  'Rubeus': 15,\n  'Harry': 21},\n 16: {'Filius': 2,\n  'Severus': 2,\n  'Voldemort': 1,\n  'Minerva': 1,\n  'Neville': 7,\n  'Hermione': 16,\n  'Ron': 30,\n  'Rubeus': 5,\n  'Harry': 25},\n 17: {'Ginny': 2,\n  'Albus': 8,\n  'Severus': 2,\n  'Voldemort': 3,\n  'Neville': 1,\n  'Hermione': 1,\n  'mrs. Weasley': 1,\n  'Draco': 2,\n  'Ron': 8,\n  'Rubeus': 2,\n  'Harry': 25,\n  'Goyle': 1},\n 18: {'Severus': 1,\n  'Voldemort': 1,\n  'Hermione': 1,\n  'Draco': 1,\n  'Rubeus': 1,\n  'Harry': 9},\n 19: {'Albus': 1, 'Voldemort': 2, 'Hermione': 1, 'Rubeus': 1, 'Harry': 16},\n 20: {'Gilderoy': 2,\n  'George': 15,\n  'mrs. Weasley': 8,\n  'Fred': 16,\n  'mr. Weasley': 2,\n  'Ron': 23,\n  'Harry': 20},\n 21: {'Ginny': 5,\n  'Percy': 3,\n  'Charlie': 1,\n  'Gilderoy': 1,\n  'George': 4,\n  'Hermione': 2,\n  'mrs. Weasley': 6,\n  'Draco': 22,\n  'Fred': 7,\n  'mr. Weasley': 5,\n  'Lee': 2,\n  'Ron': 11,\n  'Rubeus': 6,\n  'Harry': 10},\n 22: {},\n 23: {'Ginny': 4,\n  'Albus': 4,\n  'Dean': 2,\n  'Severus': 4,\n  'Pomona': 1,\n  'Minerva': 7,\n  'Neville': 4,\n  'Gilderoy': 8,\n  'George': 1,\n  'Seamus': 4,\n  'Hermione': 8,\n  'mrs. Weasley': 2,\n  'Draco': 11,\n  'Fred': 2,\n  'mr. Weasley': 2,\n  'Lee': 1,\n  'Ron': 40,\n  'Rubeus': 1,\n  'Harry': 32,\n  'Goyle': 1},\n 24: {'Oliver': 8,\n  'Dean': 1,\n  'Severus': 2,\n  'Minerva': 3,\n  'Neville': 1,\n  'Angelina': 1,\n  'Marcus': 2,\n  'Gilderoy': 3,\n  'George': 3,\n  'Seamus': 1,\n  'Hermione': 4,\n  'Draco': 3,\n  'Fred': 3,\n  'Alicia': 1,\n  'Ron': 9,\n  'Rubeus': 6,\n  'Harry': 21,\n  'Dennis': 1},\n 25: {'Percy': 1,\n  'Nearly-Headless': 6,\n  'George': 3,\n  'Hermione': 5,\n  'Moaning': 2,\n  'Draco': 1,\n  'Ron': 8,\n  'Harry': 18},\n 26: {'Parvati': 1,\n  'Albus': 1,\n  'Dean': 1,\n  'Severus': 2,\n  'Percy': 2,\n  'Bill': 1,\n  'Helga': 1,\n  'Gilderoy': 2,\n  'Seamus': 1,\n  'Salazar': 1,\n  'Hermione': 12,\n  'mrs. Weasley': 1,\n  'Moaning': 5,\n  'mr. Weasley': 1,\n  'Godric': 1,\n  'Ron': 18,\n  'Harry': 18},\n 27: {'Oliver': 5,\n  'Albus': 5,\n  'Minerva': 2,\n  'Gilderoy': 4,\n  'George': 6,\n  'Hermione': 6,\n  'Draco': 5,\n  'Fred': 4,\n  'Lee': 1,\n  'Ron': 6,\n  'Harry': 20,\n  'Dennis': 1},\n 28: {'Severus': 6,\n  'Percy': 2,\n  'Nearly-Headless': 3,\n  'Neville': 1,\n  'Gilderoy': 9,\n  'Seamus': 3,\n  'Salazar': 1,\n  'Hermione': 6,\n  'Justin': 2,\n  'Draco': 4,\n  'Ernie': 3,\n  'Ron': 9,\n  'Rubeus': 1,\n  'Harry': 25,\n  'Dennis': 2},\n 29: {'Albus': 2,\n  'Percy': 4,\n  'Crabbe': 2,\n  'George': 4,\n  'Hermione': 7,\n  'mrs. Weasley': 1,\n  'Draco': 11,\n  'Fred': 2,\n  'Lucius': 1,\n  'Ron': 17,\n  'Rubeus': 1,\n  'Harry': 18,\n  'Goyle': 6},\n 30: {'Ginny': 1,\n  'Albus': 4,\n  'Voldemort': 1,\n  'Nearly-Headless': 1,\n  'Gilderoy': 3,\n  'Hermione': 5,\n  'Moaning': 2,\n  'Draco': 4,\n  'Ron': 19,\n  'Rubeus': 2,\n  'Harry': 18},\n 31: {'Oliver': 1,\n  'Albus': 6,\n  'Dean': 2,\n  'Neville': 1,\n  'Hermione': 5,\n  'Draco': 3,\n  'Lucius': 3,\n  'Lee': 2,\n  'Ron': 10,\n  'Rubeus': 11,\n  'Harry': 11},\n 32: {'Severus': 1,\n  'Gilderoy': 2,\n  'George': 1,\n  'Seamus': 1,\n  'Hermione': 2,\n  'Draco': 3,\n  'Ernie': 2,\n  'Ron': 19,\n  'Rubeus': 4,\n  'Harry': 18,\n  'Goyle': 1},\n 33: {'Filius': 1,\n  'Ginny': 2,\n  'Albus': 1,\n  'Severus': 1,\n  'Pomona': 1,\n  'Minerva': 5,\n  'Nearly-Headless': 1,\n  'Gilderoy': 12,\n  'Seamus': 1,\n  'Hermione': 3,\n  'mrs. Weasley': 1,\n  'Moaning': 2,\n  'Fred': 1,\n  'Ron': 28,\n  'Harry': 27},\n 34: {'Ginny': 5,\n  'Albus': 1,\n  'Voldemort': 2,\n  'Gilderoy': 1,\n  'Ron': 8,\n  'Rubeus': 2,\n  'Harry': 28},\n 35: {'Ginny': 6,\n  'Albus': 13,\n  'Voldemort': 2,\n  'Minerva': 2,\n  'George': 1,\n  'Hermione': 2,\n  'mrs. Weasley': 2,\n  'Draco': 4,\n  'Fred': 2,\n  'Lucius': 1,\n  'mr. Weasley': 2,\n  'Ron': 6,\n  'Harry': 22},\n 36: {'Ginny': 1,\n  'Severus': 1,\n  'Percy': 1,\n  'Bill': 1,\n  'Hermione': 3,\n  'Ron': 2,\n  'Rubeus': 1,\n  'Harry': 8},\n 37: {'Harry': 17},\n 38: {'Neville': 2, 'Ernie': 2, 'Rubeus': 1, 'Harry': 32},\n 39: {'Ginny': 1,\n  'Albus': 1,\n  'Dean': 1,\n  'Voldemort': 1,\n  'Percy': 5,\n  'Neville': 1,\n  'George': 3,\n  'Hermione': 3,\n  'mrs. Weasley': 4,\n  'Fred': 2,\n  'mr. Weasley': 3,\n  'Ron': 14,\n  'Harry': 18},\n 40: {'Filius': 1,\n  'Silvanus': 1,\n  'Albus': 2,\n  'Severus': 1,\n  'Voldemort': 1,\n  'Percy': 1,\n  'Minerva': 3,\n  'Neville': 2,\n  'George': 2,\n  'Hermione': 12,\n  'mrs. Weasley': 3,\n  'Draco': 4,\n  'Fred': 2,\n  'Remus': 8,\n  'mr. Weasley': 6,\n  'Ron': 27,\n  'Rubeus': 4,\n  'Harry': 28},\n 41: {'Parvati': 1,\n  'Dean': 1,\n  'Minerva': 3,\n  'Neville': 1,\n  'Pansy': 2,\n  'Crabbe': 3,\n  'George': 4,\n  'Hermione': 14,\n  'Draco': 7,\n  'Fred': 4,\n  'Ron': 19,\n  'Lavender': 2,\n  'Rubeus': 20,\n  'Harry': 25,\n  'Goyle': 2},\n 42: {'Parvati': 2,\n  'Dean': 2,\n  'Severus': 5,\n  'Neville': 10,\n  'Pansy': 1,\n  'Seamus': 3,\n  'Hermione': 5,\n  'Draco': 8,\n  'Remus': 17,\n  'Ron': 9,\n  'Harry': 8},\n 43: {'Katie': 1,\n  'Filius': 1,\n  'Oliver': 1,\n  'Ginny': 1,\n  'Albus': 4,\n  'Dean': 1,\n  'Severus': 3,\n  'Minerva': 4,\n  'Nearly-Headless': 1,\n  'Angelina': 2,\n  'George': 1,\n  'Hermione': 10,\n  'Draco': 2,\n  'Fred': 3,\n  'Alicia': 1,\n  'Remus': 16,\n  'Ron': 17,\n  'Lavender': 2,\n  'Harry': 25,\n  'Goyle': 1,\n  'Dennis': 1},\n 44: {'Katie': 1,\n  'Oliver': 5,\n  'Albus': 4,\n  'Dean': 1,\n  'Severus': 10,\n  'Hannah': 1,\n  'Percy': 5,\n  'George': 2,\n  'Hermione': 7,\n  'Draco': 1,\n  'Fred': 5,\n  'Alicia': 2,\n  'Remus': 3,\n  'Cedric': 1,\n  'Ron': 7,\n  'Harry': 16,\n  'Goyle': 1},\n 45: {},\n 46: {'Katie': 2,\n  'Filius': 6,\n  'Parvati': 3,\n  'Silvanus': 1,\n  'Oliver': 8,\n  'Ginny': 3,\n  'Lily': 1,\n  'Albus': 21,\n  'Sirius': 1,\n  'Dean': 6,\n  'Severus': 24,\n  'Voldemort': 6,\n  'Hannah': 1,\n  'Percy': 13,\n  'Pomona': 1,\n  'Minerva': 23,\n  'Nearly-Headless': 1,\n  'Neville': 14,\n  'Pansy': 3,\n  'Angelina': 2,\n  'Wormtail': 3,\n  'Crabbe': 3,\n  'George': 16,\n  'James': 1,\n  'Seamus': 3,\n  'Hermione': 71,\n  'mrs. Weasley': 7,\n  'Draco': 24,\n  'Fred': 23,\n  'Alicia': 3,\n  'Lucius': 1,\n  'Remus': 45,\n  'mr. Weasley': 9,\n  'Cedric': 1,\n  'Ron': 132,\n  'Lavender': 4,\n  'Rubeus': 39,\n  'Harry': 160,\n  'Goyle': 4,\n  'Dennis': 1},\n 47: {'Oliver': 3,\n  'Severus': 1,\n  'Minerva': 1,\n  'Neville': 2,\n  'Hermione': 9,\n  'Remus': 19,\n  'Ron': 7,\n  'Harry': 22},\n 48: {'Oliver': 4,\n  'Roger': 1,\n  'Dean': 1,\n  'Penelope': 1,\n  'Percy': 5,\n  'Minerva': 1,\n  'Neville': 1,\n  'Angelina': 1,\n  'Wormtail': 1,\n  'Crabbe': 1,\n  'Marcus': 1,\n  'George': 2,\n  'Seamus': 1,\n  'Hermione': 4,\n  'Draco': 3,\n  'Fred': 1,\n  'Alicia': 2,\n  'Remus': 3,\n  'Lee': 1,\n  'Ron': 10,\n  'Harry': 12,\n  'Cho': 5,\n  'Goyle': 1},\n 49: {'Albus': 1,\n  'Severus': 16,\n  'Neville': 2,\n  'Wormtail': 1,\n  'Crabbe': 2,\n  'Hermione': 3,\n  'Draco': 5,\n  'Remus': 4,\n  'mr. Weasley': 1,\n  'Ron': 15,\n  'Rubeus': 4,\n  'Harry': 21,\n  'Goyle': 2},\n 50: {'Oliver': 5,\n  'Percy': 1,\n  'Angelina': 6,\n  'Derrick': 2,\n  'Crabbe': 2,\n  'Marcus': 1,\n  'George': 1,\n  'Hermione': 7,\n  'Draco': 3,\n  'Fred': 1,\n  'Alicia': 3,\n  'Warrington': 2,\n  'Lee': 1,\n  'Ron': 9,\n  'Rubeus': 1,\n  'Harry': 16,\n  'Cho': 1,\n  'Goyle': 1,\n  'Bole': 1},\n 51: {'Albus': 2,\n  'Severus': 1,\n  'Voldemort': 1,\n  'Hermione': 11,\n  'Draco': 2,\n  'Remus': 1,\n  'Ron': 18,\n  'Rubeus': 8,\n  'Harry': 20},\n 52: {'Voldemort': 1,\n  'Wormtail': 1,\n  'Hermione': 4,\n  'Remus': 15,\n  'Ron': 12,\n  'Rubeus': 1,\n  'Harry': 9},\n 53: {'Sirius': 2,\n  'Voldemort': 1,\n  'Minerva': 1,\n  'Wormtail': 1,\n  'James': 2,\n  'Hermione': 3,\n  'Remus': 9,\n  'Ron': 4,\n  'Harry': 5},\n 54: {'Lily': 1,\n  'Sirius': 3,\n  'Severus': 5,\n  'Voldemort': 1,\n  'Wormtail': 11,\n  'James': 3,\n  'Hermione': 5,\n  'Remus': 24,\n  'Ron': 7,\n  'Harry': 9},\n 55: {'Sirius': 2,\n  'Severus': 1,\n  'Wormtail': 3,\n  'Hermione': 3,\n  'Remus': 5,\n  'Ron': 3,\n  'Harry': 5},\n 56: {'Albus': 13,\n  'Sirius': 3,\n  'Severus': 7,\n  'Wormtail': 5,\n  'Hermione': 22,\n  'Remus': 2,\n  'Ron': 9,\n  'Rubeus': 7,\n  'Harry': 33},\n 57: {'Albus': 7,\n  'Sirius': 4,\n  'Severus': 6,\n  'Penelope': 1,\n  'Wormtail': 2,\n  'James': 1,\n  'Hermione': 9,\n  'mrs. Weasley': 1,\n  'Remus': 4,\n  'Ron': 10,\n  'Rubeus': 4,\n  'Harry': 22},\n 58: {'Voldemort': 1, 'Wormtail': 14, 'Harry': 2},\n 59: {'Albus': 2,\n  'Sirius': 3,\n  'Voldemort': 3,\n  'Wormtail': 1,\n  'George': 1,\n  'Hermione': 1,\n  'Harry': 8},\n 60: {'Sirius': 3,\n  'Voldemort': 1,\n  'Hermione': 1,\n  'mrs. Weasley': 1,\n  'Ron': 2,\n  'Rubeus': 2,\n  'Harry': 10},\n 61: {'Sirius': 1, 'George': 2, 'Fred': 2, 'mr. Weasley': 12, 'Harry': 15},\n 62: {'Ginny': 3,\n  'Sirius': 2,\n  'Percy': 2,\n  'Charlie': 2,\n  'Bill': 3,\n  'George': 4,\n  'Hermione': 3,\n  'mrs. Weasley': 4,\n  'Fred': 4,\n  'mr. Weasley': 3,\n  'Ron': 9,\n  'Harry': 16},\n 63: {'Ginny': 1,\n  'Charlie': 1,\n  'Bill': 1,\n  'George': 4,\n  'Hermione': 4,\n  'mrs. Weasley': 2,\n  'Fred': 1,\n  'mr. Weasley': 14,\n  'Cedric': 5,\n  'Ron': 2,\n  'Harry': 9},\n 64: {'Ginny': 1,\n  'Dean': 1,\n  'Percy': 3,\n  'Charlie': 3,\n  'Bill': 4,\n  'George': 2,\n  'Kevin': 2,\n  'Seamus': 2,\n  'Hermione': 5,\n  'Fred': 3,\n  'mr. Weasley': 17,\n  'Ernie': 1,\n  'Ron': 14,\n  'Harry': 9,\n  'Cho': 1},\n 65: {'Ginny': 1,\n  'Narcissa': 1,\n  'Charlie': 1,\n  'Hermione': 5,\n  'Draco': 2,\n  'mr. Weasley': 6,\n  'Ron': 6,\n  'Harry': 14},\n 66: {'Ginny': 1,\n  'Percy': 2,\n  'Charlie': 3,\n  'Bill': 5,\n  'George': 4,\n  'Hermione': 13,\n  'Draco': 4,\n  'Fred': 4,\n  'mr. Weasley': 12,\n  'Cedric': 13,\n  'Ron': 26,\n  'Harry': 18},\n 67: {'Ginny': 1,\n  'Voldemort': 1,\n  'Percy': 3,\n  'Bill': 2,\n  'Wormtail': 1,\n  'George': 1,\n  'Hermione': 2,\n  'mrs. Weasley': 10,\n  'Fred': 1,\n  'mr. Weasley': 3,\n  'Ron': 10,\n  'Harry': 12},\n 68: {'Percy': 2,\n  'Charlie': 4,\n  'Neville': 2,\n  'Bill': 7,\n  'Seamus': 1,\n  'Hermione': 5,\n  'mrs. Weasley': 6,\n  'Draco': 1,\n  'Fred': 4,\n  'mr. Weasley': 2,\n  'Cedric': 3,\n  'Ron': 17,\n  'Rubeus': 1,\n  'Harry': 11,\n  'Goyle': 2},\n 69: {'Filius': 1,\n  'Albus': 6,\n  'Pomona': 1,\n  'Minerva': 1,\n  'Nearly-Headless': 9,\n  'George': 3,\n  'Hermione': 9,\n  'Fred': 2,\n  'Remus': 1,\n  'Ron': 21,\n  'Rubeus': 3,\n  'Harry': 13,\n  'Cho': 1,\n  'Dennis': 3},\n 70: {'Parvati': 1,\n  'Dean': 1,\n  'Severus': 2,\n  'Hannah': 1,\n  'Pomona': 2,\n  'Minerva': 2,\n  'Crabbe': 3,\n  'George': 5,\n  'Seamus': 3,\n  'Hermione': 2,\n  'Draco': 7,\n  'Fred': 2,\n  'Lee': 3,\n  'Ron': 18,\n  'Lavender': 1,\n  'Rubeus': 2,\n  'Harry': 13,\n  'Goyle': 1},\n 71: {'Lily': 1,\n  'Albus': 1,\n  'Severus': 1,\n  'Voldemort': 1,\n  'Neville': 6,\n  'Hermione': 11,\n  'Fred': 1,\n  'Ron': 19,\n  'Lavender': 2,\n  'Harry': 19},\n 72: {'Albus': 9,\n  'Sirius': 2,\n  'Dean': 2,\n  'Minerva': 1,\n  'Neville': 1,\n  'George': 4,\n  'Hermione': 6,\n  'Fred': 3,\n  'Lee': 1,\n  'Ron': 9,\n  'Harry': 14,\n  'Padma': 1},\n 73: {'Albus': 7,\n  'Angelina': 2,\n  'Crabbe': 1,\n  'George': 4,\n  'Seamus': 1,\n  'Hermione': 12,\n  'Summers': 1,\n  'Draco': 1,\n  'Fred': 1,\n  'Warrington': 1,\n  'Lee': 2,\n  'Ron': 23,\n  'Rubeus': 6,\n  'Harry': 21},\n 74: {'Katie': 1,\n  'Albus': 10,\n  'Severus': 2,\n  'Voldemort': 1,\n  'Minerva': 2,\n  'George': 2,\n  'Cedric': 7,\n  'Ron': 5,\n  'Harry': 12},\n 75: {'Albus': 7,\n  'Sirius': 3,\n  'Severus': 3,\n  'Neville': 1,\n  'Hermione': 6,\n  'Draco': 2,\n  'Cedric': 5,\n  'Ron': 5,\n  'Rubeus': 1,\n  'Harry': 28,\n  'Goyle': 1},\n 76: {'Sirius': 9,\n  'Voldemort': 1,\n  'Charlie': 4,\n  'George': 1,\n  'Hermione': 5,\n  'Fred': 1,\n  'Cedric': 1,\n  'Lee': 1,\n  'Ron': 8,\n  'Rubeus': 10,\n  'Harry': 25,\n  'Cho': 1,\n  'Dennis': 1},\n 77: {'Ginny': 1,\n  'Albus': 2,\n  'Minerva': 4,\n  'Hermione': 5,\n  'Cedric': 6,\n  'Ron': 6,\n  'Rubeus': 1,\n  'Harry': 24},\n 78: {'Albus': 2,\n  'Dean': 1,\n  'Neville': 4,\n  'George': 3,\n  'Seamus': 2,\n  'Hermione': 17,\n  'Draco': 1,\n  'Fred': 3,\n  'Lee': 1,\n  'Ron': 11,\n  'Rubeus': 6,\n  'Harry': 24},\n 79: {'Filius': 1,\n  'Parvati': 3,\n  'Ginny': 6,\n  'Severus': 1,\n  'Minerva': 1,\n  'Neville': 2,\n  'George': 3,\n  'Hermione': 6,\n  'Draco': 1,\n  'Fred': 2,\n  'Ron': 24,\n  'Rubeus': 2,\n  'Harry': 30,\n  'Cho': 4,\n  'Padma': 1},\n 80: {'Parvati': 1,\n  'Roger': 1,\n  'Albus': 1,\n  'Dean': 3,\n  'Severus': 1,\n  'Percy': 3,\n  'Pomona': 1,\n  'Minerva': 1,\n  'Neville': 1,\n  'Angelina': 1,\n  'Seamus': 3,\n  'Hermione': 8,\n  'Draco': 2,\n  'Cedric': 1,\n  'Ron': 26,\n  'Rubeus': 2,\n  'Harry': 29,\n  'Cho': 1,\n  'Vicky': 1,\n  'Padma': 3},\n 81: {'Albus': 8,\n  'Sirius': 1,\n  'Dean': 1,\n  'Percy': 1,\n  'Seamus': 1,\n  'Hermione': 18,\n  'Draco': 2,\n  'Ron': 18,\n  'Lavender': 1,\n  'Rubeus': 10,\n  'Harry': 31},\n 82: {'Sirius': 1,\n  'Severus': 6,\n  'Moaning': 5,\n  'Remus': 1,\n  'Cedric': 1,\n  'Ron': 1,\n  'Harry': 17},\n 83: {'Filius': 1,\n  'Sirius': 1,\n  'Severus': 1,\n  'Percy': 2,\n  'George': 1,\n  'Hermione': 9,\n  'Remus': 1,\n  'Cedric': 3,\n  'Ron': 16,\n  'Rubeus': 2,\n  'Harry': 23,\n  'Cho': 2},\n 84: {'Sirius': 25,\n  'Severus': 12,\n  'Pansy': 2,\n  'Crabbe': 1,\n  'Hermione': 13,\n  'Ron': 18,\n  'Harry': 27},\n 85: {'Albus': 9,\n  'Sirius': 1,\n  'Severus': 3,\n  'Percy': 3,\n  'Crabbe': 1,\n  'Hermione': 10,\n  'Draco': 1,\n  'Cedric': 2,\n  'Ron': 15,\n  'Rubeus': 8,\n  'Harry': 42},\n 86: {'Albus': 4,\n  'Sirius': 1,\n  'Percy': 2,\n  'Wormtail': 1,\n  'George': 1,\n  'Hermione': 11,\n  'Fred': 4,\n  'Ron': 16,\n  'Rubeus': 1,\n  'Harry': 26},\n 87: {'Albus': 21, 'Voldemort': 1, 'Harry': 20},\n 88: {'Albus': 1,\n  'Sirius': 1,\n  'Voldemort': 1,\n  'Minerva': 1,\n  'Neville': 1,\n  'Bill': 8,\n  'Crabbe': 2,\n  'George': 1,\n  'Hermione': 7,\n  'mrs. Weasley': 7,\n  'Draco': 3,\n  'Cedric': 13,\n  'Ron': 11,\n  'Rubeus': 3,\n  'Harry': 35},\n 89: {'Wormtail': 4, 'Cedric': 2, 'Harry': 5},\n 90: {'Albus': 1,\n  'Voldemort': 9,\n  'Wormtail': 11,\n  'Crabbe': 1,\n  'Lucius': 2,\n  'Harry': 11},\n 91: {'Albus': 1, 'Voldemort': 12, 'Cedric': 4, 'Harry': 10},\n 92: {'Albus': 14,\n  'Severus': 6,\n  'Minerva': 3,\n  'Wormtail': 1,\n  'Cedric': 1,\n  'Harry': 22},\n 93: {'Albus': 34,\n  'Sirius': 8,\n  'Severus': 3,\n  'Voldemort': 1,\n  'Minerva': 4,\n  'Bill': 5,\n  'Wormtail': 1,\n  'Hermione': 5,\n  'mrs. Weasley': 3,\n  'Remus': 1,\n  'Cedric': 3,\n  'Ron': 6,\n  'Rubeus': 1,\n  'Harry': 13},\n 94: {'Albus': 8,\n  'Severus': 1,\n  'Voldemort': 4,\n  'Minerva': 1,\n  'Crabbe': 4,\n  'George': 6,\n  'Hermione': 11,\n  'Draco': 5,\n  'Fred': 6,\n  'Cedric': 4,\n  'Ron': 17,\n  'Rubeus': 7,\n  'Harry': 20,\n  'Goyle': 3},\n 95: {'Sirius': 2, 'Hermione': 1, 'Cedric': 3, 'Harry': 9},\n 96: {'Albus': 3,\n  'Sirius': 1,\n  'Voldemort': 1,\n  'Hermione': 1,\n  'mr. Weasley': 1,\n  'Ron': 1,\n  'Harry': 24},\n 97: {'Nymphadora': 12,\n  'Sirius': 3,\n  'Hermione': 1,\n  'Remus': 9,\n  'Ron': 1,\n  'Harry': 15},\n 98: {'Nymphadora': 1,\n  'Ginny': 3,\n  'Albus': 1,\n  'Sirius': 1,\n  'Severus': 1,\n  'Percy': 1,\n  'George': 9,\n  'Hermione': 5,\n  'mrs. Weasley': 2,\n  'Fred': 8,\n  'Remus': 2,\n  'mr. Weasley': 1,\n  'Ron': 19,\n  'Harry': 20},\n 99: {'Nymphadora': 4,\n  'Ginny': 3,\n  'Albus': 1,\n  'Sirius': 30,\n  'Voldemort': 1,\n  'Bill': 6,\n  'George': 14,\n  'James': 1,\n  'Hermione': 6,\n  'mrs. Weasley': 20,\n  'Fred': 17,\n  'Remus': 12,\n  'mr. Weasley': 5,\n  'Ron': 11,\n  'Rubeus': 1,\n  'Harry': 26},\n 100: {'Andromeda': 1,\n  'Nymphadora': 1,\n  'Narcissa': 1,\n  'Sirius': 15,\n  'Voldemort': 2,\n  'Minerva': 1,\n  'Rodolphus': 1,\n  'George': 1,\n  'Hermione': 1,\n  'mrs. Weasley': 1,\n  'Draco': 1,\n  'Fred': 1,\n  'Lucius': 1,\n  'Remus': 1,\n  'Harry': 6,\n  'Rabastan': 1},\n 101: {'Nymphadora': 3,\n  'Sirius': 1,\n  'mrs. Weasley': 1,\n  'Remus': 2,\n  'mr. Weasley': 16,\n  'Ron': 2,\n  'Harry': 16},\n 102: {'Albus': 15,\n  'Susan': 6,\n  'Percy': 2,\n  'James': 2,\n  'Dolores': 2,\n  'Ron': 3,\n  'Harry': 10},\n 103: {'Nymphadora': 4,\n  'Ginny': 1,\n  'Albus': 1,\n  'Sirius': 6,\n  'Susan': 2,\n  'Percy': 3,\n  'Neville': 1,\n  'George': 14,\n  'James': 1,\n  'Hermione': 10,\n  'mrs. Weasley': 4,\n  'Draco': 4,\n  'Fred': 12,\n  'Remus': 6,\n  'mr. Weasley': 8,\n  'Ron': 19,\n  'Rubeus': 1,\n  'Harry': 30},\n 104: {'Nymphadora': 3,\n  'Luna': 5,\n  'Ginny': 8,\n  'Sirius': 2,\n  'Pomona': 1,\n  'Neville': 5,\n  'Crabbe': 1,\n  'George': 1,\n  'Hermione': 14,\n  'mrs. Weasley': 3,\n  'Draco': 4,\n  'Fred': 2,\n  'Remus': 5,\n  'Lee': 1,\n  'Ron': 17,\n  'Rubeus': 1,\n  'Harry': 24,\n  'Cho': 1,\n  'Goyle': 1},\n 105: {'Parvati': 1,\n  'Luna': 1,\n  'Albus': 1,\n  'Dean': 3,\n  'Voldemort': 1,\n  'Minerva': 2,\n  'Nearly-Headless': 5,\n  'Neville': 4,\n  'Dolores': 2,\n  'Seamus': 6,\n  'Hermione': 5,\n  'Euan': 1,\n  'Ron': 19,\n  'Lavender': 2,\n  'Harry': 14,\n  'Cho': 1},\n 106: {'Parvati': 1,\n  'Newt': 1,\n  'Sirius': 1,\n  'Dean': 3,\n  'Severus': 5,\n  'Voldemort': 1,\n  'Minerva': 3,\n  'Neville': 2,\n  'George': 5,\n  'Dolores': 11,\n  'Seamus': 1,\n  'Hermione': 19,\n  'Fred': 5,\n  'Ron': 22,\n  'Harry': 34,\n  'Cho': 1},\n 107: {'Katie': 1,\n  'Filius': 1,\n  'Ginny': 1,\n  'Albus': 1,\n  'Severus': 1,\n  'Minerva': 5,\n  'Pansy': 1,\n  'Angelina': 1,\n  'Crabbe': 1,\n  'George': 6,\n  'Dolores': 7,\n  'Hermione': 15,\n  'Draco': 1,\n  'Fred': 5,\n  'Ron': 12,\n  'Lavender': 1,\n  'Harry': 30,\n  'Goyle': 1},\n 108: {'Katie': 4,\n  'Sirius': 14,\n  'Nearly-Headless': 1,\n  'Angelina': 10,\n  'George': 4,\n  'Dolores': 3,\n  'Hermione': 10,\n  'Draco': 2,\n  'Fred': 6,\n  'Alicia': 2,\n  'Cedric': 1,\n  'Ron': 34,\n  'Rubeus': 1,\n  'Harry': 27,\n  'Cho': 2,\n  'Goyle': 1},\n 109: {'Albus': 2,\n  'Dean': 2,\n  'Percy': 1,\n  'Minerva': 1,\n  'Angelina': 2,\n  'George': 2,\n  'Dolores': 16,\n  'Seamus': 1,\n  'Hermione': 18,\n  'Fred': 2,\n  'Lucius': 1,\n  'Remus': 1,\n  'Lee': 1,\n  'Ron': 14,\n  'Lavender': 2,\n  'Rubeus': 1,\n  'Harry': 18},\n 110: {'Katie': 1,\n  'Terry': 1,\n  'Luna': 3,\n  'Anthony': 1,\n  'Sirius': 2,\n  'Dean': 1,\n  'Susan': 3,\n  'Voldemort': 1,\n  'Neville': 3,\n  'Angelina': 3,\n  'George': 1,\n  'Zacharias': 2,\n  'Dolores': 1,\n  'Michael': 4,\n  'Hermione': 22,\n  'Justin': 1,\n  'Draco': 2,\n  'Fred': 6,\n  'Ernie': 5,\n  'Lee': 5,\n  'Ron': 15,\n  'Lavender': 1,\n  'Harry': 27,\n  'Cho': 3},\n 111: {'Parvati': 3,\n  'Sirius': 15,\n  'Dean': 2,\n  'Severus': 3,\n  'Hannah': 1,\n  'Minerva': 2,\n  'Neville': 5,\n  'Angelina': 1,\n  'George': 2,\n  'Dolores': 1,\n  'Hermione': 11,\n  'Draco': 4,\n  'Fred': 4,\n  'Lee': 1,\n  'Ron': 20,\n  'Rubeus': 1,\n  'Harry': 30},\n 112: {'Parvati': 1,\n  'Ginny': 2,\n  'Dean': 1,\n  'Voldemort': 2,\n  'Neville': 4,\n  'Angelina': 3,\n  'George': 3,\n  'Zacharias': 2,\n  'Dolores': 3,\n  'Hermione': 7,\n  'Fred': 4,\n  'Ron': 12,\n  'Lavender': 1,\n  'Harry': 39,\n  'Cho': 3},\n 113: {'Katie': 4,\n  'Terry': 1,\n  'Luna': 1,\n  'Adrian': 2,\n  'Albus': 1,\n  'Severus': 1,\n  'Minerva': 5,\n  'Montague': 2,\n  'Angelina': 8,\n  'George': 4,\n  'Dolores': 4,\n  'Hermione': 9,\n  'Draco': 5,\n  'Fred': 3,\n  'Alicia': 2,\n  'Warrington': 4,\n  'Lee': 1,\n  'Ron': 7,\n  'Harry': 14,\n  'Goyle': 2,\n  'Bole': 1},\n 114: {'Albus': 3,\n  'Nearly-Headless': 1,\n  'Dolores': 6,\n  'Hermione': 7,\n  'Ron': 18,\n  'Rubeus': 35,\n  'Harry': 10},\n 115: {'Katie': 2,\n  'Parvati': 1,\n  'Luna': 1,\n  'Sirius': 1,\n  'Dean': 2,\n  'Minerva': 1,\n  'Neville': 6,\n  'Pansy': 2,\n  'Angelina': 2,\n  'Crabbe': 2,\n  'George': 1,\n  'Dolores': 5,\n  'Seamus': 1,\n  'Hermione': 8,\n  'Draco': 1,\n  'Fred': 1,\n  'Alicia': 1,\n  'Cedric': 3,\n  'Lee': 1,\n  'Ron': 16,\n  'Lavender': 1,\n  'Rubeus': 12,\n  'Harry': 23,\n  'Cho': 3,\n  'Goyle': 1},\n 116: {'Nymphadora': 3,\n  'Ginny': 3,\n  'Albus': 12,\n  'Sirius': 7,\n  'Dean': 1,\n  'Minerva': 6,\n  'Neville': 1,\n  'Phineas': 1,\n  'George': 6,\n  'Seamus': 1,\n  'mrs. Weasley': 7,\n  'Fred': 13,\n  'mr. Weasley': 3,\n  'Ron': 11,\n  'Harry': 12},\n 117: {'Ginny': 6,\n  'Albus': 1,\n  'Sirius': 2,\n  'Dean': 1,\n  'Voldemort': 1,\n  'Neville': 10,\n  'Gilderoy': 2,\n  'George': 5,\n  'Hermione': 13,\n  'mrs. Weasley': 2,\n  'Fred': 3,\n  'Remus': 1,\n  'mr. Weasley': 2,\n  'Ron': 13,\n  'Harry': 23},\n 118: {'Nymphadora': 2,\n  'Ginny': 2,\n  'Sirius': 15,\n  'Severus': 22,\n  'George': 4,\n  'Dolores': 1,\n  'Hermione': 5,\n  'mrs. Weasley': 5,\n  'Remus': 1,\n  'mr. Weasley': 1,\n  'Ron': 11,\n  'Harry': 30,\n  'Cho': 2},\n 119: {'Luna': 5,\n  'Roger': 3,\n  'Albus': 1,\n  'Sirius': 1,\n  'Severus': 3,\n  'Minerva': 1,\n  'Neville': 2,\n  'Pansy': 1,\n  'Hermione': 14,\n  'Lee': 1,\n  'Ron': 9,\n  'Rubeus': 7,\n  'Harry': 26,\n  'Cho': 12},\n 120: {'Filius': 1,\n  'Luna': 2,\n  'Ginny': 3,\n  'Albus': 5,\n  'Dean': 2,\n  'Severus': 10,\n  'Voldemort': 1,\n  'Minerva': 2,\n  'Neville': 2,\n  'Crabbe': 2,\n  'George': 3,\n  'Dolores': 6,\n  'Seamus': 1,\n  'Hermione': 11,\n  'Draco': 1,\n  'Fred': 7,\n  'mr. Weasley': 1,\n  'Ron': 10,\n  'Harry': 38,\n  'Cho': 1},\n 121: {'Parvati': 4,\n  'Albus': 12,\n  'Dean': 1,\n  'Percy': 1,\n  'Minerva': 4,\n  'Dolores': 8,\n  'Seamus': 1,\n  'Hermione': 1,\n  'Draco': 2,\n  'Lucius': 1,\n  'Marietta': 7,\n  'Ron': 4,\n  'Lavender': 2,\n  'Rubeus': 2,\n  'Harry': 18},\n 122: {'Filius': 3,\n  'Lily': 2,\n  'Sirius': 3,\n  'Severus': 11,\n  'Montague': 1,\n  'George': 6,\n  'James': 9,\n  'Dolores': 7,\n  'Seamus': 1,\n  'Hermione': 8,\n  'Draco': 4,\n  'Fred': 4,\n  'Stebbins': 1,\n  'Remus': 3,\n  'Ernie': 1,\n  'Ron': 7,\n  'Lavender': 1,\n  'Rubeus': 1,\n  'Harry': 20,\n  'Cho': 1,\n  'Goyle': 1},\n 123: {'Ginny': 5,\n  'Sirius': 9,\n  'Severus': 1,\n  'Minerva': 7,\n  'George': 7,\n  'James': 1,\n  'Dolores': 12,\n  'Hermione': 5,\n  'Draco': 1,\n  'Fred': 8,\n  'Remus': 4,\n  'Marietta': 1,\n  'Ron': 4,\n  'Harry': 30},\n 124: {'Katie': 1,\n  'Sirius': 1,\n  'Pansy': 1,\n  'Angelina': 1,\n  'Dolores': 1,\n  'Hermione': 27,\n  'Lee': 1,\n  'Ron': 6,\n  'Rubeus': 37,\n  'Harry': 20},\n 125: {'Katie': 1,\n  'Gregory': 1,\n  'Parvati': 2,\n  'Anthony': 1,\n  'Sirius': 2,\n  'Dean': 2,\n  'Severus': 1,\n  'Minerva': 2,\n  'Neville': 1,\n  'Angelina': 1,\n  'Dolores': 5,\n  'Hermione': 12,\n  'Ernie': 2,\n  'Lee': 1,\n  'Ron': 20,\n  'Lavender': 1,\n  'Rubeus': 3,\n  'Harry': 15,\n  'Eddie': 1,\n  'Padma': 2,\n  'Dennis': 1},\n 126: {'Millicent': 1,\n  'Luna': 6,\n  'Ginny': 6,\n  'Albus': 1,\n  'Sirius': 2,\n  'Severus': 7,\n  'Minerva': 1,\n  'Neville': 4,\n  'Crabbe': 1,\n  'Dolores': 18,\n  'Hermione': 24,\n  'Draco': 3,\n  'Warrington': 1,\n  'Ron': 7,\n  'Rubeus': 1,\n  'Harry': 33},\n 127: {'Luna': 2,\n  'Ginny': 7,\n  'Neville': 3,\n  'Dolores': 5,\n  'Hermione': 13,\n  'Ron': 4,\n  'Harry': 12},\n 128: {'Luna': 4,\n  'Ginny': 4,\n  'Neville': 1,\n  'Hermione': 12,\n  'Ron': 10,\n  'Harry': 17},\n 129: {'Nymphadora': 2,\n  'Luna': 3,\n  'Ginny': 5,\n  'Albus': 1,\n  'Sirius': 2,\n  'Rodolphus': 1,\n  'Neville': 18,\n  'Crabbe': 1,\n  'Hermione': 10,\n  'Draco': 3,\n  'Lucius': 3,\n  'Ron': 9,\n  'Harry': 39,\n  'Rabastan': 1},\n 130: {'Luna': 1,\n  'Ginny': 1,\n  'Albus': 11,\n  'Sirius': 1,\n  'Voldemort': 6,\n  'Neville': 2,\n  'Remus': 4,\n  'Ron': 1,\n  'Harry': 13},\n 131: {'Nymphadora': 1,\n  'Albus': 32,\n  'Sirius': 5,\n  'Severus': 4,\n  'Voldemort': 5,\n  'Neville': 1,\n  'Phineas': 1,\n  'Dolores': 1,\n  'Harry': 25},\n 132: {'Nymphadora': 1,\n  'Luna': 6,\n  'Anthony': 1,\n  'Ginny': 5,\n  'Albus': 2,\n  'Sirius': 6,\n  'Dean': 1,\n  'Susan': 1,\n  'Severus': 2,\n  'Hannah': 1,\n  'Minerva': 3,\n  'Nearly-Headless': 6,\n  'Neville': 3,\n  'Crabbe': 4,\n  'George': 1,\n  'Dolores': 1,\n  'Hermione': 12,\n  'mrs. Weasley': 2,\n  'Draco': 5,\n  'Fred': 1,\n  'Remus': 2,\n  'mr. Weasley': 4,\n  'Marietta': 1,\n  'Ron': 11,\n  'Rubeus': 5,\n  'Harry': 22,\n  'Goyle': 1},\n 133: {'Susan': 1, 'Voldemort': 1},\n 134: {'Avery': 1,\n  'Narcissa': 13,\n  'Albus': 1,\n  'Severus': 29,\n  'Wormtail': 2,\n  'Draco': 3,\n  'Harry': 1},\n 135: {'Albus': 17, 'Bellatrix': 1, 'Regulus': 1, 'Rubeus': 1, 'Harry': 9},\n 136: {'Albus': 34,\n  'Sirius': 1,\n  'Susan': 1,\n  'Severus': 2,\n  'Regulus': 1,\n  'Horace': 8,\n  'Megan': 1,\n  'Harry': 31},\n 137: {'Nymphadora': 2,\n  'Ginny': 4,\n  'Albus': 4,\n  'Sirius': 1,\n  'Voldemort': 3,\n  'Bellatrix': 1,\n  'Hermione': 13,\n  'mrs. Weasley': 9,\n  'mr. Weasley': 3,\n  'Ron': 23,\n  'Harry': 24},\n 138: {'Ginny': 4,\n  'Narcissa': 2,\n  'Bill': 4,\n  'George': 5,\n  'Regulus': 1,\n  'Hermione': 11,\n  'mrs. Weasley': 7,\n  'Draco': 12,\n  'Fred': 6,\n  'Lucius': 1,\n  'Remus': 2,\n  'mr. Weasley': 4,\n  'Ron': 20,\n  'Rubeus': 6,\n  'Harry': 31},\n 139: {'Luna': 6,\n  'Ginny': 8,\n  'Albus': 1,\n  'Blaise': 9,\n  'Cormac': 4,\n  'Neville': 16,\n  'Bill': 1,\n  'Pansy': 4,\n  'Marcus': 7,\n  'Dolores': 1,\n  'Hermione': 2,\n  'Romilda': 1,\n  'Horace': 7,\n  'Megan': 1,\n  'Draco': 8,\n  'mr. Weasley': 4,\n  'Ron': 4,\n  'Harry': 33,\n  'Cho': 1,\n  'Goyle': 1},\n 140: {'Nymphadora': 9,\n  'Ginny': 1,\n  'Albus': 5,\n  'Sirius': 1,\n  'Dean': 1,\n  'Severus': 8,\n  'Blaise': 1,\n  'Minerva': 1,\n  'Nearly-Headless': 1,\n  'Neville': 1,\n  'Pansy': 1,\n  'Crabbe': 1,\n  'Hermione': 10,\n  'Draco': 1,\n  'Ron': 5,\n  'Harry': 19,\n  'Goyle': 1},\n 141: {'Parvati': 1,\n  'Jack': 2,\n  'Ginny': 1,\n  'Dean': 1,\n  'Severus': 8,\n  'Theodore': 1,\n  'Minerva': 5,\n  'Neville': 4,\n  'Pansy': 1,\n  'Hermione': 14,\n  'Horace': 12,\n  'Draco': 2,\n  'Ernie': 2,\n  'Ron': 12,\n  'Rubeus': 1,\n  'Harry': 22},\n 142: {'Albus': 17,\n  'Voldemort': 1,\n  'Hermione': 3,\n  'Horace': 1,\n  'Corvinus': 14,\n  'Ron': 2,\n  'Harry': 19},\n 143: {'Katie': 2,\n  'Filius': 1,\n  'Parvati': 2,\n  'Ginny': 1,\n  'Albus': 1,\n  'Blaise': 1,\n  'Cormac': 2,\n  'George': 1,\n  'Jimmy': 1,\n  'Demelza': 4,\n  'Hermione': 22,\n  'Horace': 2,\n  'Ron': 17,\n  'Lavender': 3,\n  'Rubeus': 11,\n  'Harry': 30,\n  'Ritchie': 1},\n 144: {'Katie': 2,\n  'Nymphadora': 1,\n  'Ginny': 2,\n  'Albus': 3,\n  'Sirius': 1,\n  'Severus': 1,\n  'Blaise': 1,\n  'Minerva': 6,\n  'Hermione': 22,\n  'Horace': 4,\n  'Ron': 13,\n  'Rubeus': 3,\n  'Harry': 29},\n 145: {'Albus': 45,\n  'Voldemort': 2,\n  'Phineas': 1,\n  'Hermione': 1,\n  'Draco': 1,\n  'Ron': 1,\n  'Harry': 15},\n 146: {'Ginny': 14,\n  'Dean': 3,\n  'Pomona': 1,\n  'Minerva': 1,\n  'Cormac': 1,\n  'Zacharias': 2,\n  'Jimmy': 1,\n  'Demelza': 1,\n  'Hermione': 11,\n  'Romilda': 1,\n  'Megan': 1,\n  'Ron': 32,\n  'Lavender': 2,\n  'Harry': 24,\n  'Ritchie': 2},\n 147: {'Parvati': 5,\n  'Luna': 10,\n  'Ginny': 1,\n  'Dean': 1,\n  'Severus': 3,\n  'Cormac': 2,\n  'Hermione': 14,\n  'Romilda': 3,\n  'Horace': 7,\n  'Draco': 5,\n  'Ron': 2,\n  'Lavender': 2,\n  'Harry': 25},\n 148: {'Nymphadora': 2,\n  'Ginny': 2,\n  'Severus': 4,\n  'Percy': 3,\n  'Cormac': 1,\n  'George': 6,\n  'James': 1,\n  'mrs. Weasley': 4,\n  'Draco': 1,\n  'Fred': 8,\n  'Remus': 9,\n  'mr. Weasley': 7,\n  'Ron': 16,\n  'Harry': 36},\n 149: {'Ginny': 2,\n  'Albus': 24,\n  'Dean': 1,\n  'Severus': 3,\n  'Voldemort': 5,\n  'Percy': 1,\n  'Rodolphus': 1,\n  'Neville': 1,\n  'Bill': 1,\n  'George': 2,\n  'Seamus': 2,\n  'Hermione': 8,\n  'Horace': 3,\n  'Corvinus': 1,\n  'Draco': 2,\n  'mr. Weasley': 1,\n  'Ron': 6,\n  'Lavender': 1,\n  'Harry': 25},\n 150: {'Filius': 1,\n  'Severus': 2,\n  'Voldemort': 1,\n  'Pomona': 1,\n  'Neville': 1,\n  'Crabbe': 3,\n  'Hermione': 3,\n  'Romilda': 1,\n  'Horace': 12,\n  'Draco': 4,\n  'Ernie': 3,\n  'Ron': 13,\n  'Lavender': 1,\n  'Harry': 34},\n 151: {'Katie': 1,\n  'Luna': 2,\n  'Ginny': 8,\n  'Albus': 1,\n  'Severus': 2,\n  'Minerva': 1,\n  'Cadwallader': 1,\n  'Cormac': 1,\n  'Gilderoy': 1,\n  'George': 3,\n  'Zacharias': 1,\n  'Jimmy': 3,\n  'Hermione': 4,\n  'Horace': 2,\n  'Draco': 7,\n  'Fred': 4,\n  'Ron': 11,\n  'Lavender': 1,\n  'Rubeus': 5,\n  'Harry': 34},\n 152: {'Luna': 1,\n  'Albus': 31,\n  'Dean': 1,\n  'Voldemort': 14,\n  'Theodore': 1,\n  'Hermione': 4,\n  'Horace': 1,\n  'Lavender': 1,\n  'Harry': 14},\n 153: {'Gregory': 1,\n  'Nymphadora': 7,\n  'Albus': 2,\n  'Severus': 5,\n  'Seamus': 1,\n  'Hermione': 18,\n  'Horace': 2,\n  'Moaning': 2,\n  'Draco': 1,\n  'Ron': 20,\n  'Harry': 26},\n 154: {'Nymphadora': 1,\n  'Ginny': 1,\n  'Dean': 2,\n  'Voldemort': 2,\n  'Pomona': 1,\n  'Neville': 1,\n  'Hermione': 16,\n  'Horace': 14,\n  'Draco': 3,\n  'Ernie': 1,\n  'Ron': 10,\n  'Rubeus': 16,\n  'Harry': 27},\n 155: {'Albus': 21,\n  'Sirius': 1,\n  'Voldemort': 1,\n  'Nearly-Headless': 2,\n  'Rodolphus': 1,\n  'Horace': 4,\n  'Cedric': 1,\n  'Harry': 40},\n 156: {'Katie': 3,\n  'Filius': 1,\n  'Ginny': 8,\n  'Dean': 3,\n  'Severus': 12,\n  'Minerva': 1,\n  'Cormac': 1,\n  'Pansy': 1,\n  'Hermione': 11,\n  'Moaning': 4,\n  'Draco': 5,\n  'Ron': 9,\n  'Lavender': 2,\n  'Harry': 20,\n  'Goyle': 1},\n 157: {'Ginny': 6,\n  'Albus': 7,\n  'Sirius': 1,\n  'Severus': 4,\n  'Voldemort': 1,\n  'Jimmy': 1,\n  'Hermione': 6,\n  'Horace': 1,\n  'Ron': 3,\n  'Lavender': 1,\n  'Harry': 27},\n 158: {'Albus': 35, 'Voldemort': 3, 'Harry': 25},\n 159: {'Luna': 1,\n  'Albus': 33,\n  'Severus': 1,\n  'Neville': 1,\n  'Hermione': 1,\n  'Draco': 26,\n  'Ron': 2,\n  'Harry': 5},\n 160: {'Albus': 1,\n  'Severus': 8,\n  'Minerva': 2,\n  'Neville': 1,\n  'Draco': 2,\n  'Remus': 1,\n  'Ron': 1,\n  'Rubeus': 3,\n  'Harry': 16},\n 161: {'Filius': 4,\n  'Nymphadora': 6,\n  'Luna': 2,\n  'Ginny': 10,\n  'Albus': 1,\n  'Pomona': 4,\n  'Minerva': 10,\n  'Neville': 1,\n  'Bill': 4,\n  'James': 1,\n  'Hermione': 3,\n  'mrs. Weasley': 2,\n  'Horace': 1,\n  'Remus': 11,\n  'mr. Weasley': 3,\n  'Ron': 9,\n  'Rubeus': 3,\n  'Harry': 27},\n 162: {'Luna': 1,\n  'Ginny': 4,\n  'Albus': 3,\n  'Sirius': 1,\n  'Severus': 2,\n  'Voldemort': 4,\n  'Percy': 2,\n  'Pomona': 1,\n  'Minerva': 1,\n  'George': 1,\n  'Dolores': 1,\n  'Seamus': 1,\n  'Hermione': 8,\n  'Remus': 1,\n  'Ron': 14,\n  'Rubeus': 1,\n  'Harry': 21},\n 163: {'Narcissa': 1,\n  'Severus': 10,\n  'Voldemort': 19,\n  'Draco': 2,\n  'Lucius': 7,\n  'Remus': 1,\n  'Harry': 1},\n 164: {'Albus': 3, 'Severus': 1, 'Voldemort': 2, 'Harry': 2},\n 165: {'Harry': 25},\n 166: {'Nymphadora': 2,\n  'Bill': 3,\n  'George': 4,\n  'Hermione': 6,\n  'Fred': 4,\n  'Remus': 3,\n  'mr. Weasley': 2,\n  'Ron': 5,\n  'Rubeus': 14,\n  'Harry': 22,\n  'Goyle': 1},\n 167: {'Nymphadora': 7,\n  'Ginny': 2,\n  'Albus': 1,\n  'Sirius': 1,\n  'Voldemort': 3,\n  'Rodolphus': 1,\n  'Bill': 6,\n  'Wormtail': 1,\n  'George': 10,\n  'Zacharias': 1,\n  'Hermione': 7,\n  'mrs. Weasley': 8,\n  'Fred': 2,\n  'Remus': 15,\n  'mr. Weasley': 4,\n  'Ron': 4,\n  'Rubeus': 16,\n  'Harry': 32},\n 168: {'Ginny': 2,\n  'Albus': 2,\n  'Charlie': 1,\n  'Bill': 2,\n  'Hermione': 29,\n  'mrs. Weasley': 6,\n  'mr. Weasley': 3,\n  'Ron': 39,\n  'Harry': 34},\n 169: {'Nymphadora': 2,\n  'Ginny': 4,\n  'Albus': 4,\n  'Voldemort': 1,\n  'Charlie': 5,\n  'George': 2,\n  'Hermione': 26,\n  'mrs. Weasley': 5,\n  'Megan': 1,\n  'Fred': 1,\n  'Remus': 1,\n  'mr. Weasley': 3,\n  'Ron': 34,\n  'Rubeus': 3,\n  'Harry': 32},\n 170: {'Nymphadora': 1,\n  'Luna': 6,\n  'Ginny': 1,\n  'Albus': 2,\n  'Charlie': 1,\n  'George': 3,\n  'Hermione': 7,\n  'Fred': 6,\n  'Lee': 1,\n  'Ron': 11,\n  'Rubeus': 1,\n  'Harry': 26},\n 171: {'Nymphadora': 1,\n  'Ginny': 2,\n  'Albus': 2,\n  'Hermione': 18,\n  'Draco': 1,\n  'Ron': 21,\n  'Harry': 19},\n 172: {'Albus': 4,\n  'Sirius': 1,\n  'Severus': 1,\n  'Voldemort': 5,\n  'Wormtail': 2,\n  'Phineas': 1,\n  'Hermione': 8,\n  'Remus': 1,\n  'Ron': 8,\n  'Harry': 27},\n 173: {'Nymphadora': 2,\n  'Severus': 1,\n  'Voldemort': 2,\n  'James': 1,\n  'Hermione': 16,\n  'Remus': 21,\n  'Ron': 10,\n  'Harry': 33},\n 174: {'Ginny': 1,\n  'Albus': 2,\n  'Sirius': 1,\n  'Severus': 1,\n  'Voldemort': 2,\n  'Neville': 1,\n  'Wormtail': 1,\n  'Dolores': 3,\n  'Hermione': 11,\n  'Remus': 1,\n  'Ron': 18,\n  'Harry': 29},\n 175: {'Albus': 1,\n  'Percy': 1,\n  'Dolores': 8,\n  'Hermione': 10,\n  'mr. Weasley': 2,\n  'Ron': 8,\n  'Harry': 13},\n 176: {'Severus': 1, 'Voldemort': 2, 'Hermione': 14, 'Ron': 9, 'Harry': 11},\n 177: {'Ginny': 2,\n  'Dean': 5,\n  'Severus': 1,\n  'Voldemort': 4,\n  'Neville': 1,\n  'Phineas': 1,\n  'Hermione': 18,\n  'Ron': 19,\n  'Rubeus': 1,\n  'Harry': 41},\n 178: {'Ginny': 1,\n  'Albus': 3,\n  'Severus': 1,\n  'Voldemort': 1,\n  'Hannah': 2,\n  'Hermione': 5,\n  'Harry': 7},\n 179: {'Lily': 1,\n  'Albus': 2,\n  'Voldemort': 2,\n  'James': 1,\n  'Hermione': 15,\n  'Ron': 1,\n  'Harry': 23},\n 180: {'Albus': 8, 'Hermione': 6, 'Ron': 1, 'Harry': 6},\n 181: {'Hermione': 6, 'Ron': 29, 'Harry': 27},\n 182: {'Luna': 9,\n  'Ginny': 1,\n  'Albus': 4,\n  'Hermione': 13,\n  'Ron': 19,\n  'Harry': 22,\n  'Rowena': 1},\n 183: {'Luna': 11, 'Neville': 1, 'Hermione': 18, 'Ron': 17, 'Harry': 16},\n 184: {'Nymphadora': 2,\n  'Luna': 3,\n  'Albus': 1,\n  'Voldemort': 2,\n  'Hermione': 17,\n  'Fred': 4,\n  'Remus': 2,\n  'Lee': 4,\n  'Ron': 20,\n  'Harry': 18},\n 185: {'Luna': 5,\n  'Narcissa': 1,\n  'Dean': 6,\n  'Voldemort': 2,\n  'Wormtail': 1,\n  'Hermione': 5,\n  'Draco': 8,\n  'Lucius': 7,\n  'Ron': 15,\n  'Harry': 20},\n 186: {'Luna': 4,\n  'Albus': 2,\n  'Sirius': 1,\n  'Dean': 2,\n  'Severus': 1,\n  'Voldemort': 2,\n  'Bill': 7,\n  'Wormtail': 2,\n  'Hermione': 11,\n  'Ron': 9,\n  'Harry': 40},\n 187: {'Luna': 2,\n  'Albus': 1,\n  'Bill': 6,\n  'George': 1,\n  'Hermione': 8,\n  'Remus': 3,\n  'Godric': 1,\n  'Ron': 14,\n  'Harry': 15},\n 188: {'Luna': 1,\n  'Dean': 3,\n  'Bill': 1,\n  'Zacharias': 1,\n  'Hermione': 19,\n  'Draco': 1,\n  'Ron': 16,\n  'Harry': 16},\n 189: {'Albus': 1, 'Severus': 1, 'Voldemort': 2, 'Ron': 5, 'Harry': 1},\n 190: {'Albus': 4,\n  'Neville': 1,\n  'Hermione': 3,\n  'Ron': 5,\n  'Rubeus': 1,\n  'Harry': 22},\n 191: {'Terry': 3,\n  'Luna': 7,\n  'Anthony': 1,\n  'Albus': 1,\n  'Dean': 2,\n  'Severus': 1,\n  'Voldemort': 1,\n  'Neville': 22,\n  'George': 3,\n  'Michael': 3,\n  'Seamus': 3,\n  'Hermione': 5,\n  'Fred': 3,\n  'Ernie': 1,\n  'Lee': 1,\n  'Ron': 12,\n  'Lavender': 1,\n  'Harry': 19,\n  'Cho': 3,\n  'Padma': 1},\n 192: {'Filius': 6,\n  'Oliver': 1,\n  'Luna': 3,\n  'Ginny': 1,\n  'Severus': 3,\n  'Percy': 3,\n  'Pomona': 2,\n  'Minerva': 23,\n  'Bill': 2,\n  'George': 4,\n  'mrs. Weasley': 3,\n  'Horace': 1,\n  'Fred': 5,\n  'Alicia': 1,\n  'Remus': 3,\n  'Harry': 14},\n 193: {'Filius': 3,\n  'Nymphadora': 4,\n  'Ginny': 2,\n  'Albus': 1,\n  'Percy': 2,\n  'Pomona': 2,\n  'Minerva': 5,\n  'Nearly-Headless': 1,\n  'Crabbe': 9,\n  'George': 1,\n  'Hermione': 12,\n  'Draco': 9,\n  'Fred': 3,\n  'mr. Weasley': 2,\n  'Ron': 21,\n  'Rubeus': 4,\n  'Harry': 32,\n  'Goyle': 4,\n  'Dennis': 1},\n 194: {'Filius': 1,\n  'Luna': 2,\n  'Albus': 1,\n  'Severus': 15,\n  'Voldemort': 8,\n  'Percy': 2,\n  'Minerva': 1,\n  'Neville': 1,\n  'Seamus': 2,\n  'Hermione': 12,\n  'Draco': 4,\n  'Fred': 1,\n  'Lucius': 3,\n  'Ernie': 2,\n  'Ron': 12,\n  'Rubeus': 1,\n  'Harry': 15},\n 195: {'Ginny': 1,\n  'Avery': 1,\n  'Lily': 20,\n  'Albus': 18,\n  'Sirius': 3,\n  'Dean': 1,\n  'Severus': 43,\n  'Voldemort': 2,\n  'Percy': 1,\n  'Minerva': 1,\n  'Bill': 1,\n  'George': 1,\n  'James': 3,\n  'Hermione': 1,\n  'Lucius': 1,\n  'Remus': 3,\n  'Ron': 1,\n  'Harry': 9},\n 196: {'Oliver': 1,\n  'Luna': 1,\n  'Ginny': 5,\n  'Lily': 1,\n  'Narcissa': 1,\n  'Albus': 1,\n  'Sirius': 3,\n  'Severus': 1,\n  'Voldemort': 6,\n  'Neville': 2,\n  'Crabbe': 1,\n  'James': 3,\n  'Hermione': 2,\n  'Draco': 1,\n  'Fred': 1,\n  'Lucius': 1,\n  'Remus': 5,\n  'Ron': 2,\n  'Harry': 10,\n  'Dennis': 1},\n 197: {'Albus': 18, 'Severus': 1, 'Voldemort': 5, 'Harry': 43},\n 198: {'Luna': 2,\n  'Ginny': 2,\n  'Albus': 3,\n  'Voldemort': 22,\n  'Hannah': 1,\n  'Pomona': 1,\n  'Minerva': 1,\n  'Neville': 8,\n  'Regulus': 1,\n  'Hermione': 3,\n  'mrs. Weasley': 1,\n  'Horace': 2,\n  'Draco': 1,\n  'Fred': 1,\n  'Remus': 1,\n  'Ron': 5,\n  'Rubeus': 5,\n  'Harry': 25,\n  'Dennis': 1},\n 199: {'Ginny': 7,\n  'Lily': 2,\n  'Albus': 2,\n  'James': 1,\n  'Hermione': 3,\n  'Rose': 2,\n  'Ron': 3,\n  'Harry': 7,\n  'Teddy': 1}}"
          },
          "metadata": {},
          "execution_count": 49
        }
      ]
    },
    {
      "cell_type": "markdown",
      "source": "# Creating the Network",
      "metadata": {
        "tags": [],
        "cell_id": "00020-748ab100-223b-4e47-8ddb-61385b4b76db",
        "deepnote_cell_type": "markdown"
      }
    },
    {
      "cell_type": "code",
      "metadata": {
        "tags": [],
        "cell_id": "00020-b57fb6a7-cb9c-4b40-b664-dc8fe0484e8a",
        "deepnote_to_be_reexecuted": false,
        "source_hash": "4cd1a67b",
        "execution_millis": 196,
        "execution_start": 1618395560878,
        "deepnote_cell_type": "code"
      },
      "source": "# Computer character nodes\ncharacter_nodes = list(search_names)\n\ncoorcurrence_edges = []\n\ndf_dict = {\"source\": [], \"target\": [], \"weight\": [], \"global_chapter\":[]}\n# Compute edges as coorcurrences in chapters\nfor chapter, characters in characters_in_chapter.items():\n    print(characters)\n    for character, occurences in characters.items():\n        other_characters = list(characters.keys())\n        other_characters.remove(character)\n        \n        for o_char in other_characters:\n            if character != o_char:\n                coorcurrence_edges += [(character, o_char)]\n                df_dict[\"source\"].append(character)\n                df_dict[\"target\"].append(o_char) \n                df_dict[\"weight\"].append(0)\n                df_dict[\"global_chapter\"].append(chapter)\n\ndf = pd.DataFrame(df_dict)\n# df",
      "execution_count": 50,
      "outputs": [
        {
          "output_type": "stream",
          "name": "stdout",
          "text": "{'Albus': 12, 'Voldemort': 1, 'Minerva': 7, 'Rubeus': 1, 'Harry': 4}\n{'Harry': 15}\n{'Malcolm': 1, 'Harry': 12, 'Dennis': 1}\n{'Albus': 1, 'Susan': 1, 'James': 1, 'Rubeus': 12, 'Harry': 19}\n{'Albus': 1, 'Lavender': 1, 'Rubeus': 30, 'Harry': 35}\n{'Ginny': 3, 'Albus': 1, 'George': 3, 'Hermione': 4, 'Draco': 1, 'Fred': 3, 'Lee': 1, 'Ron': 24, 'Rubeus': 3, 'Harry': 27, 'Goyle': 1}\n{'Albus': 5, 'Severus': 1, 'Hannah': 1, 'Percy': 7, 'Minerva': 2, 'Neville': 3, 'Seamus': 1, 'Hermione': 1, 'Draco': 1, 'Fred': 1, 'Ron': 3, 'Rubeus': 3, 'Harry': 3, 'Goyle': 1}\n{'Filius': 3, 'Severus': 2, 'Pomona': 1, 'Minerva': 1, 'Neville': 2, 'Crabbe': 1, 'George': 1, 'Hermione': 1, 'Draco': 2, 'Ron': 7, 'Rubeus': 7, 'Harry': 8, 'Goyle': 1}\n{'Filius': 1, 'Parvati': 1, 'Oliver': 3, 'Albus': 1, 'Minerva': 2, 'Neville': 8, 'Crabbe': 1, 'Hermione': 3, 'Draco': 9, 'Fred': 1, 'mr. Weasley': 1, 'Ron': 10, 'Rubeus': 1, 'Harry': 17, 'Goyle': 3}\n{'Filius': 3, 'Oliver': 9, 'Minerva': 2, 'Charlie': 1, 'Hermione': 8, 'Draco': 1, 'Ron': 11, 'Harry': 14, 'Goyle': 1}\n{'Katie': 1, 'Oliver': 1, 'Dean': 1, 'Severus': 5, 'Minerva': 2, 'Neville': 1, 'Angelina': 1, 'Marcus': 3, 'George': 2, 'Seamus': 1, 'Hermione': 3, 'Fred': 1, 'Alicia': 2, 'Lee': 1, 'Ron': 7, 'Rubeus': 4, 'Harry': 8}\n{'Filius': 1, 'Albus': 4, 'Severus': 2, 'Percy': 1, 'Charlie': 1, 'Crabbe': 1, 'George': 1, 'Hermione': 6, 'Draco': 2, 'Fred': 1, 'Ron': 18, 'Rubeus': 5, 'Harry': 12}\n{'Oliver': 1, 'Severus': 6, 'Neville': 4, 'Crabbe': 2, 'Hermione': 7, 'Draco': 3, 'Fred': 1, 'Ron': 13, 'Harry': 9, 'Goyle': 2}\n{'Minerva': 1, 'Charlie': 1, 'Hermione': 5, 'Draco': 2, 'Ron': 11, 'Rubeus': 10, 'Harry': 10}\n{'Albus': 1, 'Severus': 1, 'Minerva': 3, 'Neville': 4, 'Hermione': 6, 'Draco': 7, 'Ron': 3, 'Rubeus': 15, 'Harry': 21}\n{'Filius': 2, 'Severus': 2, 'Voldemort': 1, 'Minerva': 1, 'Neville': 7, 'Hermione': 16, 'Ron': 30, 'Rubeus': 5, 'Harry': 25}\n{'Ginny': 2, 'Albus': 8, 'Severus': 2, 'Voldemort': 3, 'Neville': 1, 'Hermione': 1, 'mrs. Weasley': 1, 'Draco': 2, 'Ron': 8, 'Rubeus': 2, 'Harry': 25, 'Goyle': 1}\n{'Severus': 1, 'Voldemort': 1, 'Hermione': 1, 'Draco': 1, 'Rubeus': 1, 'Harry': 9}\n{'Albus': 1, 'Voldemort': 2, 'Hermione': 1, 'Rubeus': 1, 'Harry': 16}\n{'Gilderoy': 2, 'George': 15, 'mrs. Weasley': 8, 'Fred': 16, 'mr. Weasley': 2, 'Ron': 23, 'Harry': 20}\n{'Ginny': 5, 'Percy': 3, 'Charlie': 1, 'Gilderoy': 1, 'George': 4, 'Hermione': 2, 'mrs. Weasley': 6, 'Draco': 22, 'Fred': 7, 'mr. Weasley': 5, 'Lee': 2, 'Ron': 11, 'Rubeus': 6, 'Harry': 10}\n{}\n{'Ginny': 4, 'Albus': 4, 'Dean': 2, 'Severus': 4, 'Pomona': 1, 'Minerva': 7, 'Neville': 4, 'Gilderoy': 8, 'George': 1, 'Seamus': 4, 'Hermione': 8, 'mrs. Weasley': 2, 'Draco': 11, 'Fred': 2, 'mr. Weasley': 2, 'Lee': 1, 'Ron': 40, 'Rubeus': 1, 'Harry': 32, 'Goyle': 1}\n{'Oliver': 8, 'Dean': 1, 'Severus': 2, 'Minerva': 3, 'Neville': 1, 'Angelina': 1, 'Marcus': 2, 'Gilderoy': 3, 'George': 3, 'Seamus': 1, 'Hermione': 4, 'Draco': 3, 'Fred': 3, 'Alicia': 1, 'Ron': 9, 'Rubeus': 6, 'Harry': 21, 'Dennis': 1}\n{'Percy': 1, 'Nearly-Headless': 6, 'George': 3, 'Hermione': 5, 'Moaning': 2, 'Draco': 1, 'Ron': 8, 'Harry': 18}\n{'Parvati': 1, 'Albus': 1, 'Dean': 1, 'Severus': 2, 'Percy': 2, 'Bill': 1, 'Helga': 1, 'Gilderoy': 2, 'Seamus': 1, 'Salazar': 1, 'Hermione': 12, 'mrs. Weasley': 1, 'Moaning': 5, 'mr. Weasley': 1, 'Godric': 1, 'Ron': 18, 'Harry': 18}\n{'Oliver': 5, 'Albus': 5, 'Minerva': 2, 'Gilderoy': 4, 'George': 6, 'Hermione': 6, 'Draco': 5, 'Fred': 4, 'Lee': 1, 'Ron': 6, 'Harry': 20, 'Dennis': 1}\n{'Severus': 6, 'Percy': 2, 'Nearly-Headless': 3, 'Neville': 1, 'Gilderoy': 9, 'Seamus': 3, 'Salazar': 1, 'Hermione': 6, 'Justin': 2, 'Draco': 4, 'Ernie': 3, 'Ron': 9, 'Rubeus': 1, 'Harry': 25, 'Dennis': 2}\n{'Albus': 2, 'Percy': 4, 'Crabbe': 2, 'George': 4, 'Hermione': 7, 'mrs. Weasley': 1, 'Draco': 11, 'Fred': 2, 'Lucius': 1, 'Ron': 17, 'Rubeus': 1, 'Harry': 18, 'Goyle': 6}\n{'Ginny': 1, 'Albus': 4, 'Voldemort': 1, 'Nearly-Headless': 1, 'Gilderoy': 3, 'Hermione': 5, 'Moaning': 2, 'Draco': 4, 'Ron': 19, 'Rubeus': 2, 'Harry': 18}\n{'Oliver': 1, 'Albus': 6, 'Dean': 2, 'Neville': 1, 'Hermione': 5, 'Draco': 3, 'Lucius': 3, 'Lee': 2, 'Ron': 10, 'Rubeus': 11, 'Harry': 11}\n{'Severus': 1, 'Gilderoy': 2, 'George': 1, 'Seamus': 1, 'Hermione': 2, 'Draco': 3, 'Ernie': 2, 'Ron': 19, 'Rubeus': 4, 'Harry': 18, 'Goyle': 1}\n{'Filius': 1, 'Ginny': 2, 'Albus': 1, 'Severus': 1, 'Pomona': 1, 'Minerva': 5, 'Nearly-Headless': 1, 'Gilderoy': 12, 'Seamus': 1, 'Hermione': 3, 'mrs. Weasley': 1, 'Moaning': 2, 'Fred': 1, 'Ron': 28, 'Harry': 27}\n{'Ginny': 5, 'Albus': 1, 'Voldemort': 2, 'Gilderoy': 1, 'Ron': 8, 'Rubeus': 2, 'Harry': 28}\n{'Ginny': 6, 'Albus': 13, 'Voldemort': 2, 'Minerva': 2, 'George': 1, 'Hermione': 2, 'mrs. Weasley': 2, 'Draco': 4, 'Fred': 2, 'Lucius': 1, 'mr. Weasley': 2, 'Ron': 6, 'Harry': 22}\n{'Ginny': 1, 'Severus': 1, 'Percy': 1, 'Bill': 1, 'Hermione': 3, 'Ron': 2, 'Rubeus': 1, 'Harry': 8}\n{'Harry': 17}\n{'Neville': 2, 'Ernie': 2, 'Rubeus': 1, 'Harry': 32}\n{'Ginny': 1, 'Albus': 1, 'Dean': 1, 'Voldemort': 1, 'Percy': 5, 'Neville': 1, 'George': 3, 'Hermione': 3, 'mrs. Weasley': 4, 'Fred': 2, 'mr. Weasley': 3, 'Ron': 14, 'Harry': 18}\n{'Filius': 1, 'Silvanus': 1, 'Albus': 2, 'Severus': 1, 'Voldemort': 1, 'Percy': 1, 'Minerva': 3, 'Neville': 2, 'George': 2, 'Hermione': 12, 'mrs. Weasley': 3, 'Draco': 4, 'Fred': 2, 'Remus': 8, 'mr. Weasley': 6, 'Ron': 27, 'Rubeus': 4, 'Harry': 28}\n{'Parvati': 1, 'Dean': 1, 'Minerva': 3, 'Neville': 1, 'Pansy': 2, 'Crabbe': 3, 'George': 4, 'Hermione': 14, 'Draco': 7, 'Fred': 4, 'Ron': 19, 'Lavender': 2, 'Rubeus': 20, 'Harry': 25, 'Goyle': 2}\n{'Parvati': 2, 'Dean': 2, 'Severus': 5, 'Neville': 10, 'Pansy': 1, 'Seamus': 3, 'Hermione': 5, 'Draco': 8, 'Remus': 17, 'Ron': 9, 'Harry': 8}\n{'Katie': 1, 'Filius': 1, 'Oliver': 1, 'Ginny': 1, 'Albus': 4, 'Dean': 1, 'Severus': 3, 'Minerva': 4, 'Nearly-Headless': 1, 'Angelina': 2, 'George': 1, 'Hermione': 10, 'Draco': 2, 'Fred': 3, 'Alicia': 1, 'Remus': 16, 'Ron': 17, 'Lavender': 2, 'Harry': 25, 'Goyle': 1, 'Dennis': 1}\n{'Katie': 1, 'Oliver': 5, 'Albus': 4, 'Dean': 1, 'Severus': 10, 'Hannah': 1, 'Percy': 5, 'George': 2, 'Hermione': 7, 'Draco': 1, 'Fred': 5, 'Alicia': 2, 'Remus': 3, 'Cedric': 1, 'Ron': 7, 'Harry': 16, 'Goyle': 1}\n{}\n{'Katie': 2, 'Filius': 6, 'Parvati': 3, 'Silvanus': 1, 'Oliver': 8, 'Ginny': 3, 'Lily': 1, 'Albus': 21, 'Sirius': 1, 'Dean': 6, 'Severus': 24, 'Voldemort': 6, 'Hannah': 1, 'Percy': 13, 'Pomona': 1, 'Minerva': 23, 'Nearly-Headless': 1, 'Neville': 14, 'Pansy': 3, 'Angelina': 2, 'Wormtail': 3, 'Crabbe': 3, 'George': 16, 'James': 1, 'Seamus': 3, 'Hermione': 71, 'mrs. Weasley': 7, 'Draco': 24, 'Fred': 23, 'Alicia': 3, 'Lucius': 1, 'Remus': 45, 'mr. Weasley': 9, 'Cedric': 1, 'Ron': 132, 'Lavender': 4, 'Rubeus': 39, 'Harry': 160, 'Goyle': 4, 'Dennis': 1}\n{'Oliver': 3, 'Severus': 1, 'Minerva': 1, 'Neville': 2, 'Hermione': 9, 'Remus': 19, 'Ron': 7, 'Harry': 22}\n{'Oliver': 4, 'Roger': 1, 'Dean': 1, 'Penelope': 1, 'Percy': 5, 'Minerva': 1, 'Neville': 1, 'Angelina': 1, 'Wormtail': 1, 'Crabbe': 1, 'Marcus': 1, 'George': 2, 'Seamus': 1, 'Hermione': 4, 'Draco': 3, 'Fred': 1, 'Alicia': 2, 'Remus': 3, 'Lee': 1, 'Ron': 10, 'Harry': 12, 'Cho': 5, 'Goyle': 1}\n{'Albus': 1, 'Severus': 16, 'Neville': 2, 'Wormtail': 1, 'Crabbe': 2, 'Hermione': 3, 'Draco': 5, 'Remus': 4, 'mr. Weasley': 1, 'Ron': 15, 'Rubeus': 4, 'Harry': 21, 'Goyle': 2}\n{'Oliver': 5, 'Percy': 1, 'Angelina': 6, 'Derrick': 2, 'Crabbe': 2, 'Marcus': 1, 'George': 1, 'Hermione': 7, 'Draco': 3, 'Fred': 1, 'Alicia': 3, 'Warrington': 2, 'Lee': 1, 'Ron': 9, 'Rubeus': 1, 'Harry': 16, 'Cho': 1, 'Goyle': 1, 'Bole': 1}\n{'Albus': 2, 'Severus': 1, 'Voldemort': 1, 'Hermione': 11, 'Draco': 2, 'Remus': 1, 'Ron': 18, 'Rubeus': 8, 'Harry': 20}\n{'Voldemort': 1, 'Wormtail': 1, 'Hermione': 4, 'Remus': 15, 'Ron': 12, 'Rubeus': 1, 'Harry': 9}\n{'Sirius': 2, 'Voldemort': 1, 'Minerva': 1, 'Wormtail': 1, 'James': 2, 'Hermione': 3, 'Remus': 9, 'Ron': 4, 'Harry': 5}\n{'Lily': 1, 'Sirius': 3, 'Severus': 5, 'Voldemort': 1, 'Wormtail': 11, 'James': 3, 'Hermione': 5, 'Remus': 24, 'Ron': 7, 'Harry': 9}\n{'Sirius': 2, 'Severus': 1, 'Wormtail': 3, 'Hermione': 3, 'Remus': 5, 'Ron': 3, 'Harry': 5}\n{'Albus': 13, 'Sirius': 3, 'Severus': 7, 'Wormtail': 5, 'Hermione': 22, 'Remus': 2, 'Ron': 9, 'Rubeus': 7, 'Harry': 33}\n{'Albus': 7, 'Sirius': 4, 'Severus': 6, 'Penelope': 1, 'Wormtail': 2, 'James': 1, 'Hermione': 9, 'mrs. Weasley': 1, 'Remus': 4, 'Ron': 10, 'Rubeus': 4, 'Harry': 22}\n{'Voldemort': 1, 'Wormtail': 14, 'Harry': 2}\n{'Albus': 2, 'Sirius': 3, 'Voldemort': 3, 'Wormtail': 1, 'George': 1, 'Hermione': 1, 'Harry': 8}\n{'Sirius': 3, 'Voldemort': 1, 'Hermione': 1, 'mrs. Weasley': 1, 'Ron': 2, 'Rubeus': 2, 'Harry': 10}\n{'Sirius': 1, 'George': 2, 'Fred': 2, 'mr. Weasley': 12, 'Harry': 15}\n{'Ginny': 3, 'Sirius': 2, 'Percy': 2, 'Charlie': 2, 'Bill': 3, 'George': 4, 'Hermione': 3, 'mrs. Weasley': 4, 'Fred': 4, 'mr. Weasley': 3, 'Ron': 9, 'Harry': 16}\n{'Ginny': 1, 'Charlie': 1, 'Bill': 1, 'George': 4, 'Hermione': 4, 'mrs. Weasley': 2, 'Fred': 1, 'mr. Weasley': 14, 'Cedric': 5, 'Ron': 2, 'Harry': 9}\n{'Ginny': 1, 'Dean': 1, 'Percy': 3, 'Charlie': 3, 'Bill': 4, 'George': 2, 'Kevin': 2, 'Seamus': 2, 'Hermione': 5, 'Fred': 3, 'mr. Weasley': 17, 'Ernie': 1, 'Ron': 14, 'Harry': 9, 'Cho': 1}\n{'Ginny': 1, 'Narcissa': 1, 'Charlie': 1, 'Hermione': 5, 'Draco': 2, 'mr. Weasley': 6, 'Ron': 6, 'Harry': 14}\n{'Ginny': 1, 'Percy': 2, 'Charlie': 3, 'Bill': 5, 'George': 4, 'Hermione': 13, 'Draco': 4, 'Fred': 4, 'mr. Weasley': 12, 'Cedric': 13, 'Ron': 26, 'Harry': 18}\n{'Ginny': 1, 'Voldemort': 1, 'Percy': 3, 'Bill': 2, 'Wormtail': 1, 'George': 1, 'Hermione': 2, 'mrs. Weasley': 10, 'Fred': 1, 'mr. Weasley': 3, 'Ron': 10, 'Harry': 12}\n{'Percy': 2, 'Charlie': 4, 'Neville': 2, 'Bill': 7, 'Seamus': 1, 'Hermione': 5, 'mrs. Weasley': 6, 'Draco': 1, 'Fred': 4, 'mr. Weasley': 2, 'Cedric': 3, 'Ron': 17, 'Rubeus': 1, 'Harry': 11, 'Goyle': 2}\n{'Filius': 1, 'Albus': 6, 'Pomona': 1, 'Minerva': 1, 'Nearly-Headless': 9, 'George': 3, 'Hermione': 9, 'Fred': 2, 'Remus': 1, 'Ron': 21, 'Rubeus': 3, 'Harry': 13, 'Cho': 1, 'Dennis': 3}\n{'Parvati': 1, 'Dean': 1, 'Severus': 2, 'Hannah': 1, 'Pomona': 2, 'Minerva': 2, 'Crabbe': 3, 'George': 5, 'Seamus': 3, 'Hermione': 2, 'Draco': 7, 'Fred': 2, 'Lee': 3, 'Ron': 18, 'Lavender': 1, 'Rubeus': 2, 'Harry': 13, 'Goyle': 1}\n{'Lily': 1, 'Albus': 1, 'Severus': 1, 'Voldemort': 1, 'Neville': 6, 'Hermione': 11, 'Fred': 1, 'Ron': 19, 'Lavender': 2, 'Harry': 19}\n{'Albus': 9, 'Sirius': 2, 'Dean': 2, 'Minerva': 1, 'Neville': 1, 'George': 4, 'Hermione': 6, 'Fred': 3, 'Lee': 1, 'Ron': 9, 'Harry': 14, 'Padma': 1}\n{'Albus': 7, 'Angelina': 2, 'Crabbe': 1, 'George': 4, 'Seamus': 1, 'Hermione': 12, 'Summers': 1, 'Draco': 1, 'Fred': 1, 'Warrington': 1, 'Lee': 2, 'Ron': 23, 'Rubeus': 6, 'Harry': 21}\n{'Katie': 1, 'Albus': 10, 'Severus': 2, 'Voldemort': 1, 'Minerva': 2, 'George': 2, 'Cedric': 7, 'Ron': 5, 'Harry': 12}\n{'Albus': 7, 'Sirius': 3, 'Severus': 3, 'Neville': 1, 'Hermione': 6, 'Draco': 2, 'Cedric': 5, 'Ron': 5, 'Rubeus': 1, 'Harry': 28, 'Goyle': 1}\n{'Sirius': 9, 'Voldemort': 1, 'Charlie': 4, 'George': 1, 'Hermione': 5, 'Fred': 1, 'Cedric': 1, 'Lee': 1, 'Ron': 8, 'Rubeus': 10, 'Harry': 25, 'Cho': 1, 'Dennis': 1}\n{'Ginny': 1, 'Albus': 2, 'Minerva': 4, 'Hermione': 5, 'Cedric': 6, 'Ron': 6, 'Rubeus': 1, 'Harry': 24}\n{'Albus': 2, 'Dean': 1, 'Neville': 4, 'George': 3, 'Seamus': 2, 'Hermione': 17, 'Draco': 1, 'Fred': 3, 'Lee': 1, 'Ron': 11, 'Rubeus': 6, 'Harry': 24}\n{'Filius': 1, 'Parvati': 3, 'Ginny': 6, 'Severus': 1, 'Minerva': 1, 'Neville': 2, 'George': 3, 'Hermione': 6, 'Draco': 1, 'Fred': 2, 'Ron': 24, 'Rubeus': 2, 'Harry': 30, 'Cho': 4, 'Padma': 1}\n{'Parvati': 1, 'Roger': 1, 'Albus': 1, 'Dean': 3, 'Severus': 1, 'Percy': 3, 'Pomona': 1, 'Minerva': 1, 'Neville': 1, 'Angelina': 1, 'Seamus': 3, 'Hermione': 8, 'Draco': 2, 'Cedric': 1, 'Ron': 26, 'Rubeus': 2, 'Harry': 29, 'Cho': 1, 'Vicky': 1, 'Padma': 3}\n{'Albus': 8, 'Sirius': 1, 'Dean': 1, 'Percy': 1, 'Seamus': 1, 'Hermione': 18, 'Draco': 2, 'Ron': 18, 'Lavender': 1, 'Rubeus': 10, 'Harry': 31}\n{'Sirius': 1, 'Severus': 6, 'Moaning': 5, 'Remus': 1, 'Cedric': 1, 'Ron': 1, 'Harry': 17}\n{'Filius': 1, 'Sirius': 1, 'Severus': 1, 'Percy': 2, 'George': 1, 'Hermione': 9, 'Remus': 1, 'Cedric': 3, 'Ron': 16, 'Rubeus': 2, 'Harry': 23, 'Cho': 2}\n{'Sirius': 25, 'Severus': 12, 'Pansy': 2, 'Crabbe': 1, 'Hermione': 13, 'Ron': 18, 'Harry': 27}\n{'Albus': 9, 'Sirius': 1, 'Severus': 3, 'Percy': 3, 'Crabbe': 1, 'Hermione': 10, 'Draco': 1, 'Cedric': 2, 'Ron': 15, 'Rubeus': 8, 'Harry': 42}\n{'Albus': 4, 'Sirius': 1, 'Percy': 2, 'Wormtail': 1, 'George': 1, 'Hermione': 11, 'Fred': 4, 'Ron': 16, 'Rubeus': 1, 'Harry': 26}\n{'Albus': 21, 'Voldemort': 1, 'Harry': 20}\n{'Albus': 1, 'Sirius': 1, 'Voldemort': 1, 'Minerva': 1, 'Neville': 1, 'Bill': 8, 'Crabbe': 2, 'George': 1, 'Hermione': 7, 'mrs. Weasley': 7, 'Draco': 3, 'Cedric': 13, 'Ron': 11, 'Rubeus': 3, 'Harry': 35}\n{'Wormtail': 4, 'Cedric': 2, 'Harry': 5}\n{'Albus': 1, 'Voldemort': 9, 'Wormtail': 11, 'Crabbe': 1, 'Lucius': 2, 'Harry': 11}\n{'Albus': 1, 'Voldemort': 12, 'Cedric': 4, 'Harry': 10}\n{'Albus': 14, 'Severus': 6, 'Minerva': 3, 'Wormtail': 1, 'Cedric': 1, 'Harry': 22}\n{'Albus': 34, 'Sirius': 8, 'Severus': 3, 'Voldemort': 1, 'Minerva': 4, 'Bill': 5, 'Wormtail': 1, 'Hermione': 5, 'mrs. Weasley': 3, 'Remus': 1, 'Cedric': 3, 'Ron': 6, 'Rubeus': 1, 'Harry': 13}\n{'Albus': 8, 'Severus': 1, 'Voldemort': 4, 'Minerva': 1, 'Crabbe': 4, 'George': 6, 'Hermione': 11, 'Draco': 5, 'Fred': 6, 'Cedric': 4, 'Ron': 17, 'Rubeus': 7, 'Harry': 20, 'Goyle': 3}\n{'Sirius': 2, 'Hermione': 1, 'Cedric': 3, 'Harry': 9}\n{'Albus': 3, 'Sirius': 1, 'Voldemort': 1, 'Hermione': 1, 'mr. Weasley': 1, 'Ron': 1, 'Harry': 24}\n{'Nymphadora': 12, 'Sirius': 3, 'Hermione': 1, 'Remus': 9, 'Ron': 1, 'Harry': 15}\n{'Nymphadora': 1, 'Ginny': 3, 'Albus': 1, 'Sirius': 1, 'Severus': 1, 'Percy': 1, 'George': 9, 'Hermione': 5, 'mrs. Weasley': 2, 'Fred': 8, 'Remus': 2, 'mr. Weasley': 1, 'Ron': 19, 'Harry': 20}\n{'Nymphadora': 4, 'Ginny': 3, 'Albus': 1, 'Sirius': 30, 'Voldemort': 1, 'Bill': 6, 'George': 14, 'James': 1, 'Hermione': 6, 'mrs. Weasley': 20, 'Fred': 17, 'Remus': 12, 'mr. Weasley': 5, 'Ron': 11, 'Rubeus': 1, 'Harry': 26}\n{'Andromeda': 1, 'Nymphadora': 1, 'Narcissa': 1, 'Sirius': 15, 'Voldemort': 2, 'Minerva': 1, 'Rodolphus': 1, 'George': 1, 'Hermione': 1, 'mrs. Weasley': 1, 'Draco': 1, 'Fred': 1, 'Lucius': 1, 'Remus': 1, 'Harry': 6, 'Rabastan': 1}\n{'Nymphadora': 3, 'Sirius': 1, 'mrs. Weasley': 1, 'Remus': 2, 'mr. Weasley': 16, 'Ron': 2, 'Harry': 16}\n{'Albus': 15, 'Susan': 6, 'Percy': 2, 'James': 2, 'Dolores': 2, 'Ron': 3, 'Harry': 10}\n{'Nymphadora': 4, 'Ginny': 1, 'Albus': 1, 'Sirius': 6, 'Susan': 2, 'Percy': 3, 'Neville': 1, 'George': 14, 'James': 1, 'Hermione': 10, 'mrs. Weasley': 4, 'Draco': 4, 'Fred': 12, 'Remus': 6, 'mr. Weasley': 8, 'Ron': 19, 'Rubeus': 1, 'Harry': 30}\n{'Nymphadora': 3, 'Luna': 5, 'Ginny': 8, 'Sirius': 2, 'Pomona': 1, 'Neville': 5, 'Crabbe': 1, 'George': 1, 'Hermione': 14, 'mrs. Weasley': 3, 'Draco': 4, 'Fred': 2, 'Remus': 5, 'Lee': 1, 'Ron': 17, 'Rubeus': 1, 'Harry': 24, 'Cho': 1, 'Goyle': 1}\n{'Parvati': 1, 'Luna': 1, 'Albus': 1, 'Dean': 3, 'Voldemort': 1, 'Minerva': 2, 'Nearly-Headless': 5, 'Neville': 4, 'Dolores': 2, 'Seamus': 6, 'Hermione': 5, 'Euan': 1, 'Ron': 19, 'Lavender': 2, 'Harry': 14, 'Cho': 1}\n{'Parvati': 1, 'Newt': 1, 'Sirius': 1, 'Dean': 3, 'Severus': 5, 'Voldemort': 1, 'Minerva': 3, 'Neville': 2, 'George': 5, 'Dolores': 11, 'Seamus': 1, 'Hermione': 19, 'Fred': 5, 'Ron': 22, 'Harry': 34, 'Cho': 1}\n{'Katie': 1, 'Filius': 1, 'Ginny': 1, 'Albus': 1, 'Severus': 1, 'Minerva': 5, 'Pansy': 1, 'Angelina': 1, 'Crabbe': 1, 'George': 6, 'Dolores': 7, 'Hermione': 15, 'Draco': 1, 'Fred': 5, 'Ron': 12, 'Lavender': 1, 'Harry': 30, 'Goyle': 1}\n{'Katie': 4, 'Sirius': 14, 'Nearly-Headless': 1, 'Angelina': 10, 'George': 4, 'Dolores': 3, 'Hermione': 10, 'Draco': 2, 'Fred': 6, 'Alicia': 2, 'Cedric': 1, 'Ron': 34, 'Rubeus': 1, 'Harry': 27, 'Cho': 2, 'Goyle': 1}\n{'Albus': 2, 'Dean': 2, 'Percy': 1, 'Minerva': 1, 'Angelina': 2, 'George': 2, 'Dolores': 16, 'Seamus': 1, 'Hermione': 18, 'Fred': 2, 'Lucius': 1, 'Remus': 1, 'Lee': 1, 'Ron': 14, 'Lavender': 2, 'Rubeus': 1, 'Harry': 18}\n{'Katie': 1, 'Terry': 1, 'Luna': 3, 'Anthony': 1, 'Sirius': 2, 'Dean': 1, 'Susan': 3, 'Voldemort': 1, 'Neville': 3, 'Angelina': 3, 'George': 1, 'Zacharias': 2, 'Dolores': 1, 'Michael': 4, 'Hermione': 22, 'Justin': 1, 'Draco': 2, 'Fred': 6, 'Ernie': 5, 'Lee': 5, 'Ron': 15, 'Lavender': 1, 'Harry': 27, 'Cho': 3}\n{'Parvati': 3, 'Sirius': 15, 'Dean': 2, 'Severus': 3, 'Hannah': 1, 'Minerva': 2, 'Neville': 5, 'Angelina': 1, 'George': 2, 'Dolores': 1, 'Hermione': 11, 'Draco': 4, 'Fred': 4, 'Lee': 1, 'Ron': 20, 'Rubeus': 1, 'Harry': 30}\n{'Parvati': 1, 'Ginny': 2, 'Dean': 1, 'Voldemort': 2, 'Neville': 4, 'Angelina': 3, 'George': 3, 'Zacharias': 2, 'Dolores': 3, 'Hermione': 7, 'Fred': 4, 'Ron': 12, 'Lavender': 1, 'Harry': 39, 'Cho': 3}\n{'Katie': 4, 'Terry': 1, 'Luna': 1, 'Adrian': 2, 'Albus': 1, 'Severus': 1, 'Minerva': 5, 'Montague': 2, 'Angelina': 8, 'George': 4, 'Dolores': 4, 'Hermione': 9, 'Draco': 5, 'Fred': 3, 'Alicia': 2, 'Warrington': 4, 'Lee': 1, 'Ron': 7, 'Harry': 14, 'Goyle': 2, 'Bole': 1}\n{'Albus': 3, 'Nearly-Headless': 1, 'Dolores': 6, 'Hermione': 7, 'Ron': 18, 'Rubeus': 35, 'Harry': 10}\n{'Katie': 2, 'Parvati': 1, 'Luna': 1, 'Sirius': 1, 'Dean': 2, 'Minerva': 1, 'Neville': 6, 'Pansy': 2, 'Angelina': 2, 'Crabbe': 2, 'George': 1, 'Dolores': 5, 'Seamus': 1, 'Hermione': 8, 'Draco': 1, 'Fred': 1, 'Alicia': 1, 'Cedric': 3, 'Lee': 1, 'Ron': 16, 'Lavender': 1, 'Rubeus': 12, 'Harry': 23, 'Cho': 3, 'Goyle': 1}\n{'Nymphadora': 3, 'Ginny': 3, 'Albus': 12, 'Sirius': 7, 'Dean': 1, 'Minerva': 6, 'Neville': 1, 'Phineas': 1, 'George': 6, 'Seamus': 1, 'mrs. Weasley': 7, 'Fred': 13, 'mr. Weasley': 3, 'Ron': 11, 'Harry': 12}\n{'Ginny': 6, 'Albus': 1, 'Sirius': 2, 'Dean': 1, 'Voldemort': 1, 'Neville': 10, 'Gilderoy': 2, 'George': 5, 'Hermione': 13, 'mrs. Weasley': 2, 'Fred': 3, 'Remus': 1, 'mr. Weasley': 2, 'Ron': 13, 'Harry': 23}\n{'Nymphadora': 2, 'Ginny': 2, 'Sirius': 15, 'Severus': 22, 'George': 4, 'Dolores': 1, 'Hermione': 5, 'mrs. Weasley': 5, 'Remus': 1, 'mr. Weasley': 1, 'Ron': 11, 'Harry': 30, 'Cho': 2}\n{'Luna': 5, 'Roger': 3, 'Albus': 1, 'Sirius': 1, 'Severus': 3, 'Minerva': 1, 'Neville': 2, 'Pansy': 1, 'Hermione': 14, 'Lee': 1, 'Ron': 9, 'Rubeus': 7, 'Harry': 26, 'Cho': 12}\n{'Filius': 1, 'Luna': 2, 'Ginny': 3, 'Albus': 5, 'Dean': 2, 'Severus': 10, 'Voldemort': 1, 'Minerva': 2, 'Neville': 2, 'Crabbe': 2, 'George': 3, 'Dolores': 6, 'Seamus': 1, 'Hermione': 11, 'Draco': 1, 'Fred': 7, 'mr. Weasley': 1, 'Ron': 10, 'Harry': 38, 'Cho': 1}\n{'Parvati': 4, 'Albus': 12, 'Dean': 1, 'Percy': 1, 'Minerva': 4, 'Dolores': 8, 'Seamus': 1, 'Hermione': 1, 'Draco': 2, 'Lucius': 1, 'Marietta': 7, 'Ron': 4, 'Lavender': 2, 'Rubeus': 2, 'Harry': 18}\n{'Filius': 3, 'Lily': 2, 'Sirius': 3, 'Severus': 11, 'Montague': 1, 'George': 6, 'James': 9, 'Dolores': 7, 'Seamus': 1, 'Hermione': 8, 'Draco': 4, 'Fred': 4, 'Stebbins': 1, 'Remus': 3, 'Ernie': 1, 'Ron': 7, 'Lavender': 1, 'Rubeus': 1, 'Harry': 20, 'Cho': 1, 'Goyle': 1}\n{'Ginny': 5, 'Sirius': 9, 'Severus': 1, 'Minerva': 7, 'George': 7, 'James': 1, 'Dolores': 12, 'Hermione': 5, 'Draco': 1, 'Fred': 8, 'Remus': 4, 'Marietta': 1, 'Ron': 4, 'Harry': 30}\n{'Katie': 1, 'Sirius': 1, 'Pansy': 1, 'Angelina': 1, 'Dolores': 1, 'Hermione': 27, 'Lee': 1, 'Ron': 6, 'Rubeus': 37, 'Harry': 20}\n{'Katie': 1, 'Gregory': 1, 'Parvati': 2, 'Anthony': 1, 'Sirius': 2, 'Dean': 2, 'Severus': 1, 'Minerva': 2, 'Neville': 1, 'Angelina': 1, 'Dolores': 5, 'Hermione': 12, 'Ernie': 2, 'Lee': 1, 'Ron': 20, 'Lavender': 1, 'Rubeus': 3, 'Harry': 15, 'Eddie': 1, 'Padma': 2, 'Dennis': 1}\n{'Millicent': 1, 'Luna': 6, 'Ginny': 6, 'Albus': 1, 'Sirius': 2, 'Severus': 7, 'Minerva': 1, 'Neville': 4, 'Crabbe': 1, 'Dolores': 18, 'Hermione': 24, 'Draco': 3, 'Warrington': 1, 'Ron': 7, 'Rubeus': 1, 'Harry': 33}\n{'Luna': 2, 'Ginny': 7, 'Neville': 3, 'Dolores': 5, 'Hermione': 13, 'Ron': 4, 'Harry': 12}\n{'Luna': 4, 'Ginny': 4, 'Neville': 1, 'Hermione': 12, 'Ron': 10, 'Harry': 17}\n{'Nymphadora': 2, 'Luna': 3, 'Ginny': 5, 'Albus': 1, 'Sirius': 2, 'Rodolphus': 1, 'Neville': 18, 'Crabbe': 1, 'Hermione': 10, 'Draco': 3, 'Lucius': 3, 'Ron': 9, 'Harry': 39, 'Rabastan': 1}\n{'Luna': 1, 'Ginny': 1, 'Albus': 11, 'Sirius': 1, 'Voldemort': 6, 'Neville': 2, 'Remus': 4, 'Ron': 1, 'Harry': 13}\n{'Nymphadora': 1, 'Albus': 32, 'Sirius': 5, 'Severus': 4, 'Voldemort': 5, 'Neville': 1, 'Phineas': 1, 'Dolores': 1, 'Harry': 25}\n{'Nymphadora': 1, 'Luna': 6, 'Anthony': 1, 'Ginny': 5, 'Albus': 2, 'Sirius': 6, 'Dean': 1, 'Susan': 1, 'Severus': 2, 'Hannah': 1, 'Minerva': 3, 'Nearly-Headless': 6, 'Neville': 3, 'Crabbe': 4, 'George': 1, 'Dolores': 1, 'Hermione': 12, 'mrs. Weasley': 2, 'Draco': 5, 'Fred': 1, 'Remus': 2, 'mr. Weasley': 4, 'Marietta': 1, 'Ron': 11, 'Rubeus': 5, 'Harry': 22, 'Goyle': 1}\n{'Susan': 1, 'Voldemort': 1}\n{'Avery': 1, 'Narcissa': 13, 'Albus': 1, 'Severus': 29, 'Wormtail': 2, 'Draco': 3, 'Harry': 1}\n{'Albus': 17, 'Bellatrix': 1, 'Regulus': 1, 'Rubeus': 1, 'Harry': 9}\n{'Albus': 34, 'Sirius': 1, 'Susan': 1, 'Severus': 2, 'Regulus': 1, 'Horace': 8, 'Megan': 1, 'Harry': 31}\n{'Nymphadora': 2, 'Ginny': 4, 'Albus': 4, 'Sirius': 1, 'Voldemort': 3, 'Bellatrix': 1, 'Hermione': 13, 'mrs. Weasley': 9, 'mr. Weasley': 3, 'Ron': 23, 'Harry': 24}\n{'Ginny': 4, 'Narcissa': 2, 'Bill': 4, 'George': 5, 'Regulus': 1, 'Hermione': 11, 'mrs. Weasley': 7, 'Draco': 12, 'Fred': 6, 'Lucius': 1, 'Remus': 2, 'mr. Weasley': 4, 'Ron': 20, 'Rubeus': 6, 'Harry': 31}\n{'Luna': 6, 'Ginny': 8, 'Albus': 1, 'Blaise': 9, 'Cormac': 4, 'Neville': 16, 'Bill': 1, 'Pansy': 4, 'Marcus': 7, 'Dolores': 1, 'Hermione': 2, 'Romilda': 1, 'Horace': 7, 'Megan': 1, 'Draco': 8, 'mr. Weasley': 4, 'Ron': 4, 'Harry': 33, 'Cho': 1, 'Goyle': 1}\n{'Nymphadora': 9, 'Ginny': 1, 'Albus': 5, 'Sirius': 1, 'Dean': 1, 'Severus': 8, 'Blaise': 1, 'Minerva': 1, 'Nearly-Headless': 1, 'Neville': 1, 'Pansy': 1, 'Crabbe': 1, 'Hermione': 10, 'Draco': 1, 'Ron': 5, 'Harry': 19, 'Goyle': 1}\n{'Parvati': 1, 'Jack': 2, 'Ginny': 1, 'Dean': 1, 'Severus': 8, 'Theodore': 1, 'Minerva': 5, 'Neville': 4, 'Pansy': 1, 'Hermione': 14, 'Horace': 12, 'Draco': 2, 'Ernie': 2, 'Ron': 12, 'Rubeus': 1, 'Harry': 22}\n{'Albus': 17, 'Voldemort': 1, 'Hermione': 3, 'Horace': 1, 'Corvinus': 14, 'Ron': 2, 'Harry': 19}\n{'Katie': 2, 'Filius': 1, 'Parvati': 2, 'Ginny': 1, 'Albus': 1, 'Blaise': 1, 'Cormac': 2, 'George': 1, 'Jimmy': 1, 'Demelza': 4, 'Hermione': 22, 'Horace': 2, 'Ron': 17, 'Lavender': 3, 'Rubeus': 11, 'Harry': 30, 'Ritchie': 1}\n{'Katie': 2, 'Nymphadora': 1, 'Ginny': 2, 'Albus': 3, 'Sirius': 1, 'Severus': 1, 'Blaise': 1, 'Minerva': 6, 'Hermione': 22, 'Horace': 4, 'Ron': 13, 'Rubeus': 3, 'Harry': 29}\n{'Albus': 45, 'Voldemort': 2, 'Phineas': 1, 'Hermione': 1, 'Draco': 1, 'Ron': 1, 'Harry': 15}\n{'Ginny': 14, 'Dean': 3, 'Pomona': 1, 'Minerva': 1, 'Cormac': 1, 'Zacharias': 2, 'Jimmy': 1, 'Demelza': 1, 'Hermione': 11, 'Romilda': 1, 'Megan': 1, 'Ron': 32, 'Lavender': 2, 'Harry': 24, 'Ritchie': 2}\n{'Parvati': 5, 'Luna': 10, 'Ginny': 1, 'Dean': 1, 'Severus': 3, 'Cormac': 2, 'Hermione': 14, 'Romilda': 3, 'Horace': 7, 'Draco': 5, 'Ron': 2, 'Lavender': 2, 'Harry': 25}\n{'Nymphadora': 2, 'Ginny': 2, 'Severus': 4, 'Percy': 3, 'Cormac': 1, 'George': 6, 'James': 1, 'mrs. Weasley': 4, 'Draco': 1, 'Fred': 8, 'Remus': 9, 'mr. Weasley': 7, 'Ron': 16, 'Harry': 36}\n{'Ginny': 2, 'Albus': 24, 'Dean': 1, 'Severus': 3, 'Voldemort': 5, 'Percy': 1, 'Rodolphus': 1, 'Neville': 1, 'Bill': 1, 'George': 2, 'Seamus': 2, 'Hermione': 8, 'Horace': 3, 'Corvinus': 1, 'Draco': 2, 'mr. Weasley': 1, 'Ron': 6, 'Lavender': 1, 'Harry': 25}\n{'Filius': 1, 'Severus': 2, 'Voldemort': 1, 'Pomona': 1, 'Neville': 1, 'Crabbe': 3, 'Hermione': 3, 'Romilda': 1, 'Horace': 12, 'Draco': 4, 'Ernie': 3, 'Ron': 13, 'Lavender': 1, 'Harry': 34}\n{'Katie': 1, 'Luna': 2, 'Ginny': 8, 'Albus': 1, 'Severus': 2, 'Minerva': 1, 'Cadwallader': 1, 'Cormac': 1, 'Gilderoy': 1, 'George': 3, 'Zacharias': 1, 'Jimmy': 3, 'Hermione': 4, 'Horace': 2, 'Draco': 7, 'Fred': 4, 'Ron': 11, 'Lavender': 1, 'Rubeus': 5, 'Harry': 34}\n{'Luna': 1, 'Albus': 31, 'Dean': 1, 'Voldemort': 14, 'Theodore': 1, 'Hermione': 4, 'Horace': 1, 'Lavender': 1, 'Harry': 14}\n{'Gregory': 1, 'Nymphadora': 7, 'Albus': 2, 'Severus': 5, 'Seamus': 1, 'Hermione': 18, 'Horace': 2, 'Moaning': 2, 'Draco': 1, 'Ron': 20, 'Harry': 26}\n{'Nymphadora': 1, 'Ginny': 1, 'Dean': 2, 'Voldemort': 2, 'Pomona': 1, 'Neville': 1, 'Hermione': 16, 'Horace': 14, 'Draco': 3, 'Ernie': 1, 'Ron': 10, 'Rubeus': 16, 'Harry': 27}\n{'Albus': 21, 'Sirius': 1, 'Voldemort': 1, 'Nearly-Headless': 2, 'Rodolphus': 1, 'Horace': 4, 'Cedric': 1, 'Harry': 40}\n{'Katie': 3, 'Filius': 1, 'Ginny': 8, 'Dean': 3, 'Severus': 12, 'Minerva': 1, 'Cormac': 1, 'Pansy': 1, 'Hermione': 11, 'Moaning': 4, 'Draco': 5, 'Ron': 9, 'Lavender': 2, 'Harry': 20, 'Goyle': 1}\n{'Ginny': 6, 'Albus': 7, 'Sirius': 1, 'Severus': 4, 'Voldemort': 1, 'Jimmy': 1, 'Hermione': 6, 'Horace': 1, 'Ron': 3, 'Lavender': 1, 'Harry': 27}\n{'Albus': 35, 'Voldemort': 3, 'Harry': 25}\n{'Luna': 1, 'Albus': 33, 'Severus': 1, 'Neville': 1, 'Hermione': 1, 'Draco': 26, 'Ron': 2, 'Harry': 5}\n{'Albus': 1, 'Severus': 8, 'Minerva': 2, 'Neville': 1, 'Draco': 2, 'Remus': 1, 'Ron': 1, 'Rubeus': 3, 'Harry': 16}\n{'Filius': 4, 'Nymphadora': 6, 'Luna': 2, 'Ginny': 10, 'Albus': 1, 'Pomona': 4, 'Minerva': 10, 'Neville': 1, 'Bill': 4, 'James': 1, 'Hermione': 3, 'mrs. Weasley': 2, 'Horace': 1, 'Remus': 11, 'mr. Weasley': 3, 'Ron': 9, 'Rubeus': 3, 'Harry': 27}\n{'Luna': 1, 'Ginny': 4, 'Albus': 3, 'Sirius': 1, 'Severus': 2, 'Voldemort': 4, 'Percy': 2, 'Pomona': 1, 'Minerva': 1, 'George': 1, 'Dolores': 1, 'Seamus': 1, 'Hermione': 8, 'Remus': 1, 'Ron': 14, 'Rubeus': 1, 'Harry': 21}\n{'Narcissa': 1, 'Severus': 10, 'Voldemort': 19, 'Draco': 2, 'Lucius': 7, 'Remus': 1, 'Harry': 1}\n{'Albus': 3, 'Severus': 1, 'Voldemort': 2, 'Harry': 2}\n{'Harry': 25}\n{'Nymphadora': 2, 'Bill': 3, 'George': 4, 'Hermione': 6, 'Fred': 4, 'Remus': 3, 'mr. Weasley': 2, 'Ron': 5, 'Rubeus': 14, 'Harry': 22, 'Goyle': 1}\n{'Nymphadora': 7, 'Ginny': 2, 'Albus': 1, 'Sirius': 1, 'Voldemort': 3, 'Rodolphus': 1, 'Bill': 6, 'Wormtail': 1, 'George': 10, 'Zacharias': 1, 'Hermione': 7, 'mrs. Weasley': 8, 'Fred': 2, 'Remus': 15, 'mr. Weasley': 4, 'Ron': 4, 'Rubeus': 16, 'Harry': 32}\n{'Ginny': 2, 'Albus': 2, 'Charlie': 1, 'Bill': 2, 'Hermione': 29, 'mrs. Weasley': 6, 'mr. Weasley': 3, 'Ron': 39, 'Harry': 34}\n{'Nymphadora': 2, 'Ginny': 4, 'Albus': 4, 'Voldemort': 1, 'Charlie': 5, 'George': 2, 'Hermione': 26, 'mrs. Weasley': 5, 'Megan': 1, 'Fred': 1, 'Remus': 1, 'mr. Weasley': 3, 'Ron': 34, 'Rubeus': 3, 'Harry': 32}\n{'Nymphadora': 1, 'Luna': 6, 'Ginny': 1, 'Albus': 2, 'Charlie': 1, 'George': 3, 'Hermione': 7, 'Fred': 6, 'Lee': 1, 'Ron': 11, 'Rubeus': 1, 'Harry': 26}\n{'Nymphadora': 1, 'Ginny': 2, 'Albus': 2, 'Hermione': 18, 'Draco': 1, 'Ron': 21, 'Harry': 19}\n{'Albus': 4, 'Sirius': 1, 'Severus': 1, 'Voldemort': 5, 'Wormtail': 2, 'Phineas': 1, 'Hermione': 8, 'Remus': 1, 'Ron': 8, 'Harry': 27}\n{'Nymphadora': 2, 'Severus': 1, 'Voldemort': 2, 'James': 1, 'Hermione': 16, 'Remus': 21, 'Ron': 10, 'Harry': 33}\n{'Ginny': 1, 'Albus': 2, 'Sirius': 1, 'Severus': 1, 'Voldemort': 2, 'Neville': 1, 'Wormtail': 1, 'Dolores': 3, 'Hermione': 11, 'Remus': 1, 'Ron': 18, 'Harry': 29}\n{'Albus': 1, 'Percy': 1, 'Dolores': 8, 'Hermione': 10, 'mr. Weasley': 2, 'Ron': 8, 'Harry': 13}\n{'Severus': 1, 'Voldemort': 2, 'Hermione': 14, 'Ron': 9, 'Harry': 11}\n{'Ginny': 2, 'Dean': 5, 'Severus': 1, 'Voldemort': 4, 'Neville': 1, 'Phineas': 1, 'Hermione': 18, 'Ron': 19, 'Rubeus': 1, 'Harry': 41}\n{'Ginny': 1, 'Albus': 3, 'Severus': 1, 'Voldemort': 1, 'Hannah': 2, 'Hermione': 5, 'Harry': 7}\n{'Lily': 1, 'Albus': 2, 'Voldemort': 2, 'James': 1, 'Hermione': 15, 'Ron': 1, 'Harry': 23}\n{'Albus': 8, 'Hermione': 6, 'Ron': 1, 'Harry': 6}\n{'Hermione': 6, 'Ron': 29, 'Harry': 27}\n{'Luna': 9, 'Ginny': 1, 'Albus': 4, 'Hermione': 13, 'Ron': 19, 'Harry': 22, 'Rowena': 1}\n{'Luna': 11, 'Neville': 1, 'Hermione': 18, 'Ron': 17, 'Harry': 16}\n{'Nymphadora': 2, 'Luna': 3, 'Albus': 1, 'Voldemort': 2, 'Hermione': 17, 'Fred': 4, 'Remus': 2, 'Lee': 4, 'Ron': 20, 'Harry': 18}\n{'Luna': 5, 'Narcissa': 1, 'Dean': 6, 'Voldemort': 2, 'Wormtail': 1, 'Hermione': 5, 'Draco': 8, 'Lucius': 7, 'Ron': 15, 'Harry': 20}\n{'Luna': 4, 'Albus': 2, 'Sirius': 1, 'Dean': 2, 'Severus': 1, 'Voldemort': 2, 'Bill': 7, 'Wormtail': 2, 'Hermione': 11, 'Ron': 9, 'Harry': 40}\n{'Luna': 2, 'Albus': 1, 'Bill': 6, 'George': 1, 'Hermione': 8, 'Remus': 3, 'Godric': 1, 'Ron': 14, 'Harry': 15}\n{'Luna': 1, 'Dean': 3, 'Bill': 1, 'Zacharias': 1, 'Hermione': 19, 'Draco': 1, 'Ron': 16, 'Harry': 16}\n{'Albus': 1, 'Severus': 1, 'Voldemort': 2, 'Ron': 5, 'Harry': 1}\n{'Albus': 4, 'Neville': 1, 'Hermione': 3, 'Ron': 5, 'Rubeus': 1, 'Harry': 22}\n{'Terry': 3, 'Luna': 7, 'Anthony': 1, 'Albus': 1, 'Dean': 2, 'Severus': 1, 'Voldemort': 1, 'Neville': 22, 'George': 3, 'Michael': 3, 'Seamus': 3, 'Hermione': 5, 'Fred': 3, 'Ernie': 1, 'Lee': 1, 'Ron': 12, 'Lavender': 1, 'Harry': 19, 'Cho': 3, 'Padma': 1}\n{'Filius': 6, 'Oliver': 1, 'Luna': 3, 'Ginny': 1, 'Severus': 3, 'Percy': 3, 'Pomona': 2, 'Minerva': 23, 'Bill': 2, 'George': 4, 'mrs. Weasley': 3, 'Horace': 1, 'Fred': 5, 'Alicia': 1, 'Remus': 3, 'Harry': 14}\n{'Filius': 3, 'Nymphadora': 4, 'Ginny': 2, 'Albus': 1, 'Percy': 2, 'Pomona': 2, 'Minerva': 5, 'Nearly-Headless': 1, 'Crabbe': 9, 'George': 1, 'Hermione': 12, 'Draco': 9, 'Fred': 3, 'mr. Weasley': 2, 'Ron': 21, 'Rubeus': 4, 'Harry': 32, 'Goyle': 4, 'Dennis': 1}\n{'Filius': 1, 'Luna': 2, 'Albus': 1, 'Severus': 15, 'Voldemort': 8, 'Percy': 2, 'Minerva': 1, 'Neville': 1, 'Seamus': 2, 'Hermione': 12, 'Draco': 4, 'Fred': 1, 'Lucius': 3, 'Ernie': 2, 'Ron': 12, 'Rubeus': 1, 'Harry': 15}\n{'Ginny': 1, 'Avery': 1, 'Lily': 20, 'Albus': 18, 'Sirius': 3, 'Dean': 1, 'Severus': 43, 'Voldemort': 2, 'Percy': 1, 'Minerva': 1, 'Bill': 1, 'George': 1, 'James': 3, 'Hermione': 1, 'Lucius': 1, 'Remus': 3, 'Ron': 1, 'Harry': 9}\n{'Oliver': 1, 'Luna': 1, 'Ginny': 5, 'Lily': 1, 'Narcissa': 1, 'Albus': 1, 'Sirius': 3, 'Severus': 1, 'Voldemort': 6, 'Neville': 2, 'Crabbe': 1, 'James': 3, 'Hermione': 2, 'Draco': 1, 'Fred': 1, 'Lucius': 1, 'Remus': 5, 'Ron': 2, 'Harry': 10, 'Dennis': 1}\n{'Albus': 18, 'Severus': 1, 'Voldemort': 5, 'Harry': 43}\n{'Luna': 2, 'Ginny': 2, 'Albus': 3, 'Voldemort': 22, 'Hannah': 1, 'Pomona': 1, 'Minerva': 1, 'Neville': 8, 'Regulus': 1, 'Hermione': 3, 'mrs. Weasley': 1, 'Horace': 2, 'Draco': 1, 'Fred': 1, 'Remus': 1, 'Ron': 5, 'Rubeus': 5, 'Harry': 25, 'Dennis': 1}\n{'Ginny': 7, 'Lily': 2, 'Albus': 2, 'James': 1, 'Hermione': 3, 'Rose': 2, 'Ron': 3, 'Harry': 7, 'Teddy': 1}\n"
        }
      ]
    },
    {
      "cell_type": "code",
      "metadata": {
        "cell_id": "00026-873b4ce1-b1e8-4d59-b226-0b90375a8b8e",
        "deepnote_cell_type": "code"
      },
      "source": "# Undirected graph - Add edge between 2 characters if the ever cooccur\n# The weight is the the sum of log of the min number of mentions of the 2 characters in a chapter\nfrom collections import defaultdict\ncharacter_nodes = list(search_names)\n\ncoorcurrence_edges = []\n\ndf_dict = defaultdict(lambda: defaultdict(float))\n# Compute edges as coorcurrences in chapters\nfor chapter, characters in characters_in_chapter.items():\n    vals = list(\n        characters.values())\n    characters = list(characters.items())\n    \n    for i in range(len(characters) - 1):\n        character, count = characters[i]\n        for other_character, other_count in characters[i+1:]:\n            if min((count, other_count)) > 1:\n                source = min((character,other_character))\n                target = max((character,other_character))\n                weight = np.log(min((count, other_count)))\n                df_dict[source][target] += weight\ns, t, w = [], [], []\nfor source, val in df_dict.items():\n    for target, weight in val.items():\n        s.append(source)\n        t.append(target) \n        w.append(weight)\ndf = pd.DataFrame({\"source\":s, 'target':t, 'weight':w})\ndf.head(10)\n",
      "execution_count": 51,
      "outputs": [
        {
          "output_type": "execute_result",
          "data": {
            "text/plain": "  source    target      weight\n0  Albus   Minerva   20.069772\n1  Albus     Harry  126.245261\n2  Albus     Percy    9.431883\n3  Albus   Neville    9.688312\n4  Albus       Ron   74.586397\n5  Albus    Rubeus   28.895037\n6  Albus   Severus   30.573468\n7  Albus  Hermione   68.972707\n8  Albus     Draco   22.403609\n9  Albus     Ginny   17.682029",
            "text/html": "<div>\n<style scoped>\n    .dataframe tbody tr th:only-of-type {\n        vertical-align: middle;\n    }\n\n    .dataframe tbody tr th {\n        vertical-align: top;\n    }\n\n    .dataframe thead th {\n        text-align: right;\n    }\n</style>\n<table border=\"1\" class=\"dataframe\">\n  <thead>\n    <tr style=\"text-align: right;\">\n      <th></th>\n      <th>source</th>\n      <th>target</th>\n      <th>weight</th>\n    </tr>\n  </thead>\n  <tbody>\n    <tr>\n      <th>0</th>\n      <td>Albus</td>\n      <td>Minerva</td>\n      <td>20.069772</td>\n    </tr>\n    <tr>\n      <th>1</th>\n      <td>Albus</td>\n      <td>Harry</td>\n      <td>126.245261</td>\n    </tr>\n    <tr>\n      <th>2</th>\n      <td>Albus</td>\n      <td>Percy</td>\n      <td>9.431883</td>\n    </tr>\n    <tr>\n      <th>3</th>\n      <td>Albus</td>\n      <td>Neville</td>\n      <td>9.688312</td>\n    </tr>\n    <tr>\n      <th>4</th>\n      <td>Albus</td>\n      <td>Ron</td>\n      <td>74.586397</td>\n    </tr>\n    <tr>\n      <th>5</th>\n      <td>Albus</td>\n      <td>Rubeus</td>\n      <td>28.895037</td>\n    </tr>\n    <tr>\n      <th>6</th>\n      <td>Albus</td>\n      <td>Severus</td>\n      <td>30.573468</td>\n    </tr>\n    <tr>\n      <th>7</th>\n      <td>Albus</td>\n      <td>Hermione</td>\n      <td>68.972707</td>\n    </tr>\n    <tr>\n      <th>8</th>\n      <td>Albus</td>\n      <td>Draco</td>\n      <td>22.403609</td>\n    </tr>\n    <tr>\n      <th>9</th>\n      <td>Albus</td>\n      <td>Ginny</td>\n      <td>17.682029</td>\n    </tr>\n  </tbody>\n</table>\n</div>"
          },
          "metadata": {},
          "execution_count": 51
        }
      ]
    },
    {
      "cell_type": "code",
      "metadata": {
        "tags": [],
        "cell_id": "00022-d261b931-6d9b-4841-baa1-a685c3eca1dc",
        "deepnote_to_be_reexecuted": false,
        "source_hash": "2aba2a55",
        "execution_millis": 6,
        "execution_start": 1618396739374,
        "deepnote_cell_type": "code"
      },
      "source": "\nwith open('data/chapter_dataframe.pkl', 'rb') as file:\n    chapter_dataframe = pkl.load(file)\n# chapter_dataframe.columns\njoined_df = df.join(chapter_dataframe.set_index('Global Chapter'), on='global_chapter', how='left')\njoined_df.head(20)",
      "execution_count": 178,
      "outputs": [
        {
          "output_type": "execute_result",
          "data": {
            "text/plain": "     source     target    weight  global_chapter  Local Chapter  \\\n0     Albus    Minerva  2.197225               1              1   \n1     Albus     Rubeus  1.386294               1              1   \n2     Albus      Harry  1.945910               1              1   \n3     Albus  Voldemort  0.693147               1              1   \n4   Minerva     Rubeus  1.386294               1              1   \n5   Minerva      Harry  1.945910               1              1   \n6   Minerva  Voldemort  0.693147               1              1   \n7    Rubeus      Harry  1.386294               1              1   \n8    Rubeus  Voldemort  0.693147               1              1   \n9     Harry  Voldemort  0.693147               1              1   \n10   Dennis    Malcolm  0.000000               3              3   \n11   Dennis      Harry  0.000000               3              3   \n12  Malcolm      Harry  0.000000               3              3   \n13    Albus      James  0.000000               4              4   \n14    Albus      Susan  0.000000               4              4   \n15    Albus    Minerva  0.000000               4              4   \n16    Albus     Rubeus  0.693147               4              4   \n17    Albus      Harry  0.693147               4              4   \n18    Albus  Voldemort  0.000000               4              4   \n19    James      Susan  0.000000               4              4   \n\n                      Title Approx Story Time  \n0         The Boy Who Lived        1981-11-01  \n1         The Boy Who Lived        1981-11-01  \n2         The Boy Who Lived        1981-11-01  \n3         The Boy Who Lived        1981-11-01  \n4         The Boy Who Lived        1981-11-01  \n5         The Boy Who Lived        1981-11-01  \n6         The Boy Who Lived        1981-11-01  \n7         The Boy Who Lived        1981-11-01  \n8         The Boy Who Lived        1981-11-01  \n9         The Boy Who Lived        1981-11-01  \n10  The Letters from No One        1991-07-23  \n11  The Letters from No One        1991-07-23  \n12  The Letters from No One        1991-07-23  \n13       The Keeper of Keys        1991-07-31  \n14       The Keeper of Keys        1991-07-31  \n15       The Keeper of Keys        1991-07-31  \n16       The Keeper of Keys        1991-07-31  \n17       The Keeper of Keys        1991-07-31  \n18       The Keeper of Keys        1991-07-31  \n19       The Keeper of Keys        1991-07-31  ",
            "text/html": "<div>\n<style scoped>\n    .dataframe tbody tr th:only-of-type {\n        vertical-align: middle;\n    }\n\n    .dataframe tbody tr th {\n        vertical-align: top;\n    }\n\n    .dataframe thead th {\n        text-align: right;\n    }\n</style>\n<table border=\"1\" class=\"dataframe\">\n  <thead>\n    <tr style=\"text-align: right;\">\n      <th></th>\n      <th>source</th>\n      <th>target</th>\n      <th>weight</th>\n      <th>global_chapter</th>\n      <th>Local Chapter</th>\n      <th>Title</th>\n      <th>Approx Story Time</th>\n    </tr>\n  </thead>\n  <tbody>\n    <tr>\n      <th>0</th>\n      <td>Albus</td>\n      <td>Minerva</td>\n      <td>2.197225</td>\n      <td>1</td>\n      <td>1</td>\n      <td>The Boy Who Lived</td>\n      <td>1981-11-01</td>\n    </tr>\n    <tr>\n      <th>1</th>\n      <td>Albus</td>\n      <td>Rubeus</td>\n      <td>1.386294</td>\n      <td>1</td>\n      <td>1</td>\n      <td>The Boy Who Lived</td>\n      <td>1981-11-01</td>\n    </tr>\n    <tr>\n      <th>2</th>\n      <td>Albus</td>\n      <td>Harry</td>\n      <td>1.945910</td>\n      <td>1</td>\n      <td>1</td>\n      <td>The Boy Who Lived</td>\n      <td>1981-11-01</td>\n    </tr>\n    <tr>\n      <th>3</th>\n      <td>Albus</td>\n      <td>Voldemort</td>\n      <td>0.693147</td>\n      <td>1</td>\n      <td>1</td>\n      <td>The Boy Who Lived</td>\n      <td>1981-11-01</td>\n    </tr>\n    <tr>\n      <th>4</th>\n      <td>Minerva</td>\n      <td>Rubeus</td>\n      <td>1.386294</td>\n      <td>1</td>\n      <td>1</td>\n      <td>The Boy Who Lived</td>\n      <td>1981-11-01</td>\n    </tr>\n    <tr>\n      <th>5</th>\n      <td>Minerva</td>\n      <td>Harry</td>\n      <td>1.945910</td>\n      <td>1</td>\n      <td>1</td>\n      <td>The Boy Who Lived</td>\n      <td>1981-11-01</td>\n    </tr>\n    <tr>\n      <th>6</th>\n      <td>Minerva</td>\n      <td>Voldemort</td>\n      <td>0.693147</td>\n      <td>1</td>\n      <td>1</td>\n      <td>The Boy Who Lived</td>\n      <td>1981-11-01</td>\n    </tr>\n    <tr>\n      <th>7</th>\n      <td>Rubeus</td>\n      <td>Harry</td>\n      <td>1.386294</td>\n      <td>1</td>\n      <td>1</td>\n      <td>The Boy Who Lived</td>\n      <td>1981-11-01</td>\n    </tr>\n    <tr>\n      <th>8</th>\n      <td>Rubeus</td>\n      <td>Voldemort</td>\n      <td>0.693147</td>\n      <td>1</td>\n      <td>1</td>\n      <td>The Boy Who Lived</td>\n      <td>1981-11-01</td>\n    </tr>\n    <tr>\n      <th>9</th>\n      <td>Harry</td>\n      <td>Voldemort</td>\n      <td>0.693147</td>\n      <td>1</td>\n      <td>1</td>\n      <td>The Boy Who Lived</td>\n      <td>1981-11-01</td>\n    </tr>\n    <tr>\n      <th>10</th>\n      <td>Dennis</td>\n      <td>Malcolm</td>\n      <td>0.000000</td>\n      <td>3</td>\n      <td>3</td>\n      <td>The Letters from No One</td>\n      <td>1991-07-23</td>\n    </tr>\n    <tr>\n      <th>11</th>\n      <td>Dennis</td>\n      <td>Harry</td>\n      <td>0.000000</td>\n      <td>3</td>\n      <td>3</td>\n      <td>The Letters from No One</td>\n      <td>1991-07-23</td>\n    </tr>\n    <tr>\n      <th>12</th>\n      <td>Malcolm</td>\n      <td>Harry</td>\n      <td>0.000000</td>\n      <td>3</td>\n      <td>3</td>\n      <td>The Letters from No One</td>\n      <td>1991-07-23</td>\n    </tr>\n    <tr>\n      <th>13</th>\n      <td>Albus</td>\n      <td>James</td>\n      <td>0.000000</td>\n      <td>4</td>\n      <td>4</td>\n      <td>The Keeper of Keys</td>\n      <td>1991-07-31</td>\n    </tr>\n    <tr>\n      <th>14</th>\n      <td>Albus</td>\n      <td>Susan</td>\n      <td>0.000000</td>\n      <td>4</td>\n      <td>4</td>\n      <td>The Keeper of Keys</td>\n      <td>1991-07-31</td>\n    </tr>\n    <tr>\n      <th>15</th>\n      <td>Albus</td>\n      <td>Minerva</td>\n      <td>0.000000</td>\n      <td>4</td>\n      <td>4</td>\n      <td>The Keeper of Keys</td>\n      <td>1991-07-31</td>\n    </tr>\n    <tr>\n      <th>16</th>\n      <td>Albus</td>\n      <td>Rubeus</td>\n      <td>0.693147</td>\n      <td>4</td>\n      <td>4</td>\n      <td>The Keeper of Keys</td>\n      <td>1991-07-31</td>\n    </tr>\n    <tr>\n      <th>17</th>\n      <td>Albus</td>\n      <td>Harry</td>\n      <td>0.693147</td>\n      <td>4</td>\n      <td>4</td>\n      <td>The Keeper of Keys</td>\n      <td>1991-07-31</td>\n    </tr>\n    <tr>\n      <th>18</th>\n      <td>Albus</td>\n      <td>Voldemort</td>\n      <td>0.000000</td>\n      <td>4</td>\n      <td>4</td>\n      <td>The Keeper of Keys</td>\n      <td>1991-07-31</td>\n    </tr>\n    <tr>\n      <th>19</th>\n      <td>James</td>\n      <td>Susan</td>\n      <td>0.000000</td>\n      <td>4</td>\n      <td>4</td>\n      <td>The Keeper of Keys</td>\n      <td>1991-07-31</td>\n    </tr>\n  </tbody>\n</table>\n</div>"
          },
          "metadata": {},
          "execution_count": 178
        }
      ]
    },
    {
      "cell_type": "code",
      "metadata": {
        "tags": [],
        "cell_id": "00023-f2e899a9-dc50-468d-a715-55208a49f860",
        "deepnote_to_be_reexecuted": false,
        "source_hash": "585f12b",
        "execution_millis": 22,
        "execution_start": 1618397075098,
        "deepnote_cell_type": "code"
      },
      "source": "# G = nx.convert_matrix.from_pandas_edgelist(df[:], source = \"source\", target = \"target\", edge_attr  = 'weight', create_using=nx.Graph)\n# del characters_by_communities_reverse['Albus Potter']\n\nC = {val:characters_by_communities_reverse[key] for key, val in names.items() if key in characters_by_communities_reverse.keys()}\nnx.set_node_attributes(G, C, 'house')\nS = []\nfor node, data in G.nodes(data = True):\n    edges = G.out_edges(node, data = True)\n    houses = {'Gryffindor': [], 'Slytherin': [], 'Hufflepuff': [], 'Ravenclaw': []}\n    \n    for _, target, data2 in edges:\n        \n        houses[C[target]].append(data2['weight'])\n    for key in houses.keys():\n        houses[key] = np.sum(houses[key])\n        # print(np.mean(houses[key]))\n    S.append((node, houses))",
      "execution_count": 130,
      "outputs": []
    },
    {
      "cell_type": "code",
      "metadata": {
        "tags": [],
        "cell_id": "00024-c3fe3703-d303-4c22-89c6-8e78425e19c9",
        "deepnote_to_be_reexecuted": false,
        "source_hash": "ad6bb0ff",
        "execution_millis": 0,
        "execution_start": 1618395824982,
        "deepnote_cell_type": "code"
      },
      "source": "houses = {'Gryffindor': [], 'Slytherin': [], 'Hufflepuff': [], 'Ravenclaw': []}\nfor H in houses.keys():\n    houses = {'Gryffindor': [], 'Slytherin': [], 'Hufflepuff': [], 'Ravenclaw': []}\n    [houses[house].append(vader) for name, data in S if C[name] == H for house, vader in data.items()]\n    for key in houses.keys():\n        houses[key] = np.mean(houses[key])\n    print(H, houses)",
      "execution_count": 133,
      "outputs": [
        {
          "output_type": "stream",
          "name": "stdout",
          "text": "Gryffindor {'Gryffindor': 1.027252674551362, 'Slytherin': 0.07712578877633786, 'Hufflepuff': 0.10398528446115289, 'Ravenclaw': 0.15620372866137905}\nSlytherin {'Gryffindor': 0.40907336356295115, 'Slytherin': 0.37645027226041927, 'Hufflepuff': 0.12896470588235295, 'Ravenclaw': -0.0236764705882353}\nHufflepuff {'Gryffindor': 0.5522438743451799, 'Slytherin': 0.04259999999999999, 'Hufflepuff': -0.061918750000000015, 'Ravenclaw': 0.091615}\nRavenclaw {'Gryffindor': 0.34604502101901363, 'Slytherin': 0.18309702380952383, 'Hufflepuff': -0.0039133333333333286, 'Ravenclaw': 0.010775000000000026}\n"
        }
      ]
    },
    {
      "cell_type": "markdown",
      "source": "<a style='text-decoration:none;line-height:16px;display:flex;color:#5B5B62;padding:10px;justify-content:end;' href='https://deepnote.com?utm_source=created-in-deepnote-cell&projectId=85fb65b4-b596-4730-837e-04e86eafe419' target=\"_blank\">\n<img alt='Created in deepnote.com' style='display:inline;max-height:16px;margin:0px;margin-right:7.5px;' src='data:image/svg+xml;base64,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' > </img>\nCreated in <span style='font-weight:600;margin-left:4px;'>Deepnote</span></a>",
      "metadata": {
        "tags": [],
        "created_in_deepnote_cell": true,
        "deepnote_cell_type": "markdown"
      }
    }
  ],
  "nbformat": 4,
  "nbformat_minor": 2,
  "metadata": {
    "orig_nbformat": 2,
    "deepnote_notebook_id": "253b8311-4ad2-46a6-a216-14d708b89b81",
    "deepnote": {},
    "deepnote_execution_queue": [],
    "kernelspec": {
      "name": "python3",
      "display_name": "Python 3.9.4 64-bit ('env': venv)",
      "metadata": {
        "interpreter": {
          "hash": "36cbeea209a033ffca249d07085cb224d3b3a93f291cf5a03f0ca42984277c5c"
        }
      }
    }
  }
}
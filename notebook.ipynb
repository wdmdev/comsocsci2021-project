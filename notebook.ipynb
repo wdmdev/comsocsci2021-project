{
  "cells": [
    {
      "cell_type": "markdown",
      "source": [
        "# Network Analysis of Harry Potter Book Series"
      ],
      "metadata": {
        "tags": [],
        "cell_id": "00000-4d23abd9-b58b-4aea-a498-866116ddb763",
        "deepnote_cell_type": "markdown"
      }
    },
    {
      "cell_type": "markdown",
      "source": [
        "## Setup"
      ],
      "metadata": {
        "tags": [],
        "cell_id": "00001-27188239-fd56-4eb0-b754-1283ccba604b",
        "deepnote_cell_type": "markdown"
      }
    },
    {
      "cell_type": "code",
      "metadata": {
        "tags": [],
        "cell_id": "00001-be655e51-da84-4934-9889-166a2db6df9c",
        "deepnote_to_be_reexecuted": false,
        "source_hash": "eaaa5c1d",
        "execution_millis": 6357,
        "execution_start": 1617804700859,
        "deepnote_cell_type": "code"
      },
      "source": [
        "# !pip install -r requirements.txt\n",
        "!pip install matplotlib"
      ],
      "execution_count": 20,
      "outputs": [
        {
          "output_type": "stream",
          "name": "stdout",
          "text": [
            "Collecting matplotlib\n  Downloading matplotlib-3.4.1-cp39-cp39-win_amd64.whl (7.1 MB)\nCollecting pillow>=6.2.0\n  Downloading Pillow-8.2.0-cp39-cp39-win_amd64.whl (2.2 MB)\nCollecting cycler>=0.10\n  Using cached cycler-0.10.0-py2.py3-none-any.whl (6.5 kB)\nCollecting pyparsing>=2.2.1\n  Using cached pyparsing-2.4.7-py2.py3-none-any.whl (67 kB)\nRequirement already satisfied: python-dateutil>=2.7 in c:\\users\\peter\\onedrive - danmarks tekniske universitet\\dtu\\6. semester\\02467 - computational social science\\env\\lib\\site-packages (from matplotlib) (2.8.1)\nRequirement already satisfied: numpy>=1.16 in c:\\users\\peter\\onedrive - danmarks tekniske universitet\\dtu\\6. semester\\02467 - computational social science\\env\\lib\\site-packages (from matplotlib) (1.20.2)\nCollecting kiwisolver>=1.0.1\n  Downloading kiwisolver-1.3.1-cp39-cp39-win_amd64.whl (51 kB)\nRequirement already satisfied: six in c:\\users\\peter\\onedrive - danmarks tekniske universitet\\dtu\\6. semester\\02467 - computational social science\\env\\lib\\site-packages (from cycler>=0.10->matplotlib) (1.15.0)\nInstalling collected packages: pyparsing, pillow, kiwisolver, cycler, matplotlib\nSuccessfully installed cycler-0.10.0 kiwisolver-1.3.1 matplotlib-3.4.1 pillow-8.2.0 pyparsing-2.4.7\n"
          ]
        }
      ]
    },
    {
      "cell_type": "markdown",
      "source": [
        "## Function Definitions for Text Analysis"
      ],
      "metadata": {
        "tags": [],
        "cell_id": "00001-7260aeac-dc55-44c5-99cf-4627d2547e71",
        "deepnote_cell_type": "markdown"
      }
    },
    {
      "cell_type": "markdown",
      "source": [
        "`happiness(doc)` takes a list of words and computes the average happiness score using the Hedonometer\n",
        "\n",
        "`emotion_score(doc)` takes a list of words and computes a dictionary of average emotion scores among the emotions: _Anger, Anticipation,\tDisgust, Fear, Joy, Sadness, Surprise_ and _Trust_\n",
        "\n",
        "`vader_sentiment(doc)` takes a list of words and/or sentences and computes the average VADER compund score\n",
        "\n",
        "`TF_IDF(docs_to_analyse, all_docs)` computes TF and TF-IDF score of terms in docs_to_analyse. all_docs are used to comput IDF scores \n"
      ],
      "metadata": {
        "tags": [],
        "cell_id": "00002-661015eb-5176-421b-bac4-e5ad36546c5e",
        "deepnote_cell_type": "markdown"
      }
    },
    {
      "cell_type": "code",
      "execution_count": null,
      "metadata": {},
      "outputs": [],
      "source": [
        "\n"
      ]
    },
    {
      "cell_type": "code",
      "metadata": {
        "tags": [],
        "cell_id": "00004-0bbc3bd5-c43b-4217-9b83-4d5eba75832b",
        "deepnote_to_be_reexecuted": false,
        "source_hash": "e26e8fea",
        "execution_millis": 2,
        "execution_start": 1617804747297,
        "deepnote_cell_type": "code"
      },
      "source": [
        "import numpy as np\n",
        "import pickle as pkl\n",
        "import pandas as pd\n",
        "import nltk\n",
        "from clean_books import clean_book\n",
        "from sentiment import *\n",
        "import os, re\n",
        "from difflib import SequenceMatcher\n",
        "from tqdm.auto import tqdm"
      ],
      "execution_count": 5,
      "outputs": []
    },
    {
      "cell_type": "code",
      "metadata": {
        "tags": [],
        "cell_id": "00007-31995f99-1250-4f26-b933-74d9cc4bd16c",
        "deepnote_to_be_reexecuted": false,
        "source_hash": "131f3747",
        "execution_millis": 73,
        "execution_start": 1617807041068,
        "deepnote_cell_type": "code"
      },
      "source": [
        "chapter_info = pd.read_pickle('data/chapter_dataframe.pkl')\n",
        "#Add book number to chapters\n",
        "idx = chapter_info.index[chapter_info[\"Local Chapter\"] == 1]\n",
        "for i in range(7):\n",
        "    chapter_info.loc[idx[i]:(idx[i+1] if i+1 < len(idx) else None), \"Book\"] = int(i+1)\n",
        "chapter_info"
      ],
      "execution_count": 2,
      "outputs": [
        {
          "output_type": "execute_result",
          "data": {
            "text/plain": [
              "     Global Chapter  Local Chapter                    Title Approx Story Time  \\\n",
              "0                 1              1        The Boy Who Lived        1981-11-01   \n",
              "1                 2              2      The Vanishing Glass        1991-06-23   \n",
              "2                 3              3  The Letters from No One        1991-07-23   \n",
              "3                 4              4       The Keeper of Keys        1991-07-31   \n",
              "4                 5              5             Diagon Alley        1991-07-31   \n",
              "..              ...            ...                      ...               ...   \n",
              "194             195             33        The Prince’s Tale        1998-05-02   \n",
              "195             196             34         The Forest Again        1998-05-02   \n",
              "196             197             35             King’s Cross        1998-05-02   \n",
              "197             198             36     The Flaw in the Plan        1998-05-02   \n",
              "198             199             37                 Epilogue        2017-09-01   \n",
              "\n",
              "     Book  \n",
              "0     1.0  \n",
              "1     1.0  \n",
              "2     1.0  \n",
              "3     1.0  \n",
              "4     1.0  \n",
              "..    ...  \n",
              "194   7.0  \n",
              "195   7.0  \n",
              "196   7.0  \n",
              "197   7.0  \n",
              "198   7.0  \n",
              "\n",
              "[199 rows x 5 columns]"
            ],
            "text/html": "<div>\n<style scoped>\n    .dataframe tbody tr th:only-of-type {\n        vertical-align: middle;\n    }\n\n    .dataframe tbody tr th {\n        vertical-align: top;\n    }\n\n    .dataframe thead th {\n        text-align: right;\n    }\n</style>\n<table border=\"1\" class=\"dataframe\">\n  <thead>\n    <tr style=\"text-align: right;\">\n      <th></th>\n      <th>Global Chapter</th>\n      <th>Local Chapter</th>\n      <th>Title</th>\n      <th>Approx Story Time</th>\n      <th>Book</th>\n    </tr>\n  </thead>\n  <tbody>\n    <tr>\n      <th>0</th>\n      <td>1</td>\n      <td>1</td>\n      <td>The Boy Who Lived</td>\n      <td>1981-11-01</td>\n      <td>1.0</td>\n    </tr>\n    <tr>\n      <th>1</th>\n      <td>2</td>\n      <td>2</td>\n      <td>The Vanishing Glass</td>\n      <td>1991-06-23</td>\n      <td>1.0</td>\n    </tr>\n    <tr>\n      <th>2</th>\n      <td>3</td>\n      <td>3</td>\n      <td>The Letters from No One</td>\n      <td>1991-07-23</td>\n      <td>1.0</td>\n    </tr>\n    <tr>\n      <th>3</th>\n      <td>4</td>\n      <td>4</td>\n      <td>The Keeper of Keys</td>\n      <td>1991-07-31</td>\n      <td>1.0</td>\n    </tr>\n    <tr>\n      <th>4</th>\n      <td>5</td>\n      <td>5</td>\n      <td>Diagon Alley</td>\n      <td>1991-07-31</td>\n      <td>1.0</td>\n    </tr>\n    <tr>\n      <th>...</th>\n      <td>...</td>\n      <td>...</td>\n      <td>...</td>\n      <td>...</td>\n      <td>...</td>\n    </tr>\n    <tr>\n      <th>194</th>\n      <td>195</td>\n      <td>33</td>\n      <td>The Prince’s Tale</td>\n      <td>1998-05-02</td>\n      <td>7.0</td>\n    </tr>\n    <tr>\n      <th>195</th>\n      <td>196</td>\n      <td>34</td>\n      <td>The Forest Again</td>\n      <td>1998-05-02</td>\n      <td>7.0</td>\n    </tr>\n    <tr>\n      <th>196</th>\n      <td>197</td>\n      <td>35</td>\n      <td>King’s Cross</td>\n      <td>1998-05-02</td>\n      <td>7.0</td>\n    </tr>\n    <tr>\n      <th>197</th>\n      <td>198</td>\n      <td>36</td>\n      <td>The Flaw in the Plan</td>\n      <td>1998-05-02</td>\n      <td>7.0</td>\n    </tr>\n    <tr>\n      <th>198</th>\n      <td>199</td>\n      <td>37</td>\n      <td>Epilogue</td>\n      <td>2017-09-01</td>\n      <td>7.0</td>\n    </tr>\n  </tbody>\n</table>\n<p>199 rows × 5 columns</p>\n</div>"
          },
          "metadata": {},
          "execution_count": 2
        }
      ]
    },
    {
      "cell_type": "code",
      "metadata": {
        "tags": [],
        "cell_id": "00008-25f64887-dcfb-41c4-a821-b2cce3a45438",
        "deepnote_to_be_reexecuted": false,
        "source_hash": "b7be2013",
        "execution_millis": 17,
        "execution_start": 1617804755499,
        "deepnote_cell_type": "code"
      },
      "source": [
        "with open('data/characters_by_house.pkl', 'rb') as file:\n",
        "    characters_by_communities = pkl.load(file)\n",
        "\n",
        "# characters_by_communities"
      ],
      "execution_count": 3,
      "outputs": []
    },
    {
      "source": [
        "# Get a list of paths to books\n",
        "path = \"data/books/\"\n",
        "books = os.listdir(path)\n",
        "books.sort()\n",
        "books_in_chapters = []\n",
        "\n",
        "for i in tqdm(range(7), desc='Book Loop'): # For every book\n",
        "    # Remove HTML TAGS and double spacing\n",
        "    print(\"\\n\", file = sys.stderr)\n",
        "    book = clean_book(path + books[i]) \n",
        "    book = re.sub('\\n{2,}', '\\n', book)\n",
        "    # Get chapters of book\n",
        "    chapters = [chapter.upper() for chapter in chapter_info.loc[chapter_info[\"Book\"] == i+1, \"Title\"]]\n",
        "\n",
        "    # Split Lines and remove lines including page numbering or J.K. Rowling\n",
        "    lines[:] = [line for line in book.splitlines() if not re.search(r'Page \\| [0-9]{1,} | J.K. Rowling', line)]        \n",
        "\n",
        "    # Find lines with the title of the chapters\n",
        "    chapter_idx = []\n",
        "    for chapter in chapters:\n",
        "        # Use SequenceMatcher to find similarity between line and a given chapter. Threshold of 0.6\n",
        "        ties = [(i, line) for i, line in enumerate(lines) if SequenceMatcher(None, chapter, line).ratio() >.6]\n",
        "\n",
        "        # If 2 or more lines have a similarity of above .6 with the chapter find the most similar\n",
        "        idx, title = ties[np.argmax([SequenceMatcher(None, chapter, title).ratio() for _, title in ties])]\n",
        "        chapter_idx.append(idx)\n",
        "        print(title, chapter, file = sys.stderr)\n",
        "\n",
        "    print(\"\\n\", file = sys.stderr)  \n",
        "    # Get a list of chapters - List of strings\n",
        "    chapters = [\"\\n\".join(lines[chapter_idx[i]:chapter_idx[i+1] if len(chapters) > i+1 else None]) for i in range(len(chapter_idx))]\n",
        "    books_in_chapters.append(chapters)  \n",
        "\n",
        "pkl.dump(books_in_chapters, open(\"data/books_in_chapters.pkl\",\"wb\")) "
      ],
      "cell_type": "code",
      "metadata": {
        "tags": [],
        "cell_id": "00009-34c750b6-a480-4212-a3b1-042eb63037ac",
        "deepnote_to_be_reexecuted": false,
        "source_hash": "988e76c9",
        "execution_millis": 13,
        "execution_start": 1617808953187,
        "deepnote_cell_type": "code"
      },
      "execution_count": 440,
      "outputs": [
        {
          "output_type": "stream",
          "name": "stderr",
          "text": [
            "Book Loop:   0%|          | 0/7 [00:00<?, ?it/s]\n",
            "\n",
            "THE BOY WHO LIVED  THE BOY WHO LIVED\n",
            "THE VANASHING GLASS  THE VANISHING GLASS\n",
            "THE LETTERS FROM NO ONE  THE LETTERS FROM NO ONE\n",
            "THE KEEPER OF KEYS  THE KEEPER OF KEYS\n",
            "DIAGON ALLEY  DIAGON ALLEY\n",
            "Book Loop:   0%|          | 0/7 [00:03<?, ?it/s]\n"
          ]
        },
        {
          "output_type": "error",
          "ename": "KeyboardInterrupt",
          "evalue": "",
          "traceback": [
            "\u001b[1;31m---------------------------------------------------------------------------\u001b[0m",
            "\u001b[1;31mKeyboardInterrupt\u001b[0m                         Traceback (most recent call last)",
            "\u001b[1;32m<ipython-input-440-8d91df1bc763>\u001b[0m in \u001b[0;36m<module>\u001b[1;34m\u001b[0m\n\u001b[0;32m     20\u001b[0m     \u001b[1;32mfor\u001b[0m \u001b[0mchapter\u001b[0m \u001b[1;32min\u001b[0m \u001b[0mchapters\u001b[0m\u001b[1;33m:\u001b[0m\u001b[1;33m\u001b[0m\u001b[1;33m\u001b[0m\u001b[0m\n\u001b[0;32m     21\u001b[0m         \u001b[1;31m# Use SequenceMatcher to find similarity between line and a given chapter. Threshold of 0.6\u001b[0m\u001b[1;33m\u001b[0m\u001b[1;33m\u001b[0m\u001b[1;33m\u001b[0m\u001b[0m\n\u001b[1;32m---> 22\u001b[1;33m         \u001b[0mties\u001b[0m \u001b[1;33m=\u001b[0m \u001b[1;33m[\u001b[0m\u001b[1;33m(\u001b[0m\u001b[0mi\u001b[0m\u001b[1;33m,\u001b[0m \u001b[0mline\u001b[0m\u001b[1;33m)\u001b[0m \u001b[1;32mfor\u001b[0m \u001b[0mi\u001b[0m\u001b[1;33m,\u001b[0m \u001b[0mline\u001b[0m \u001b[1;32min\u001b[0m \u001b[0menumerate\u001b[0m\u001b[1;33m(\u001b[0m\u001b[0mlines\u001b[0m\u001b[1;33m)\u001b[0m \u001b[1;32mif\u001b[0m \u001b[0mSequenceMatcher\u001b[0m\u001b[1;33m(\u001b[0m\u001b[1;32mNone\u001b[0m\u001b[1;33m,\u001b[0m \u001b[0mchapter\u001b[0m\u001b[1;33m,\u001b[0m \u001b[0mline\u001b[0m\u001b[1;33m)\u001b[0m\u001b[1;33m.\u001b[0m\u001b[0mratio\u001b[0m\u001b[1;33m(\u001b[0m\u001b[1;33m)\u001b[0m \u001b[1;33m>\u001b[0m\u001b[1;36m.6\u001b[0m\u001b[1;33m]\u001b[0m\u001b[1;33m\u001b[0m\u001b[1;33m\u001b[0m\u001b[0m\n\u001b[0m\u001b[0;32m     23\u001b[0m \u001b[1;33m\u001b[0m\u001b[0m\n\u001b[0;32m     24\u001b[0m         \u001b[1;31m# If 2 or more lines have a similarity of above .8 with the chapter find the most similar\u001b[0m\u001b[1;33m\u001b[0m\u001b[1;33m\u001b[0m\u001b[1;33m\u001b[0m\u001b[0m\n",
            "\u001b[1;32m<ipython-input-440-8d91df1bc763>\u001b[0m in \u001b[0;36m<listcomp>\u001b[1;34m(.0)\u001b[0m\n\u001b[0;32m     20\u001b[0m     \u001b[1;32mfor\u001b[0m \u001b[0mchapter\u001b[0m \u001b[1;32min\u001b[0m \u001b[0mchapters\u001b[0m\u001b[1;33m:\u001b[0m\u001b[1;33m\u001b[0m\u001b[1;33m\u001b[0m\u001b[0m\n\u001b[0;32m     21\u001b[0m         \u001b[1;31m# Use SequenceMatcher to find similarity between line and a given chapter. Threshold of 0.6\u001b[0m\u001b[1;33m\u001b[0m\u001b[1;33m\u001b[0m\u001b[1;33m\u001b[0m\u001b[0m\n\u001b[1;32m---> 22\u001b[1;33m         \u001b[0mties\u001b[0m \u001b[1;33m=\u001b[0m \u001b[1;33m[\u001b[0m\u001b[1;33m(\u001b[0m\u001b[0mi\u001b[0m\u001b[1;33m,\u001b[0m \u001b[0mline\u001b[0m\u001b[1;33m)\u001b[0m \u001b[1;32mfor\u001b[0m \u001b[0mi\u001b[0m\u001b[1;33m,\u001b[0m \u001b[0mline\u001b[0m \u001b[1;32min\u001b[0m \u001b[0menumerate\u001b[0m\u001b[1;33m(\u001b[0m\u001b[0mlines\u001b[0m\u001b[1;33m)\u001b[0m \u001b[1;32mif\u001b[0m \u001b[0mSequenceMatcher\u001b[0m\u001b[1;33m(\u001b[0m\u001b[1;32mNone\u001b[0m\u001b[1;33m,\u001b[0m \u001b[0mchapter\u001b[0m\u001b[1;33m,\u001b[0m \u001b[0mline\u001b[0m\u001b[1;33m)\u001b[0m\u001b[1;33m.\u001b[0m\u001b[0mratio\u001b[0m\u001b[1;33m(\u001b[0m\u001b[1;33m)\u001b[0m \u001b[1;33m>\u001b[0m\u001b[1;36m.6\u001b[0m\u001b[1;33m]\u001b[0m\u001b[1;33m\u001b[0m\u001b[1;33m\u001b[0m\u001b[0m\n\u001b[0m\u001b[0;32m     23\u001b[0m \u001b[1;33m\u001b[0m\u001b[0m\n\u001b[0;32m     24\u001b[0m         \u001b[1;31m# If 2 or more lines have a similarity of above .8 with the chapter find the most similar\u001b[0m\u001b[1;33m\u001b[0m\u001b[1;33m\u001b[0m\u001b[1;33m\u001b[0m\u001b[0m\n",
            "\u001b[1;32m~\\AppData\\Local\\Programs\\Python\\Python39\\lib\\difflib.py\u001b[0m in \u001b[0;36mratio\u001b[1;34m(self)\u001b[0m\n\u001b[0;32m    649\u001b[0m         \"\"\"\n\u001b[0;32m    650\u001b[0m \u001b[1;33m\u001b[0m\u001b[0m\n\u001b[1;32m--> 651\u001b[1;33m         \u001b[0mmatches\u001b[0m \u001b[1;33m=\u001b[0m \u001b[0msum\u001b[0m\u001b[1;33m(\u001b[0m\u001b[0mtriple\u001b[0m\u001b[1;33m[\u001b[0m\u001b[1;33m-\u001b[0m\u001b[1;36m1\u001b[0m\u001b[1;33m]\u001b[0m \u001b[1;32mfor\u001b[0m \u001b[0mtriple\u001b[0m \u001b[1;32min\u001b[0m \u001b[0mself\u001b[0m\u001b[1;33m.\u001b[0m\u001b[0mget_matching_blocks\u001b[0m\u001b[1;33m(\u001b[0m\u001b[1;33m)\u001b[0m\u001b[1;33m)\u001b[0m\u001b[1;33m\u001b[0m\u001b[1;33m\u001b[0m\u001b[0m\n\u001b[0m\u001b[0;32m    652\u001b[0m         \u001b[1;32mreturn\u001b[0m \u001b[0m_calculate_ratio\u001b[0m\u001b[1;33m(\u001b[0m\u001b[0mmatches\u001b[0m\u001b[1;33m,\u001b[0m \u001b[0mlen\u001b[0m\u001b[1;33m(\u001b[0m\u001b[0mself\u001b[0m\u001b[1;33m.\u001b[0m\u001b[0ma\u001b[0m\u001b[1;33m)\u001b[0m \u001b[1;33m+\u001b[0m \u001b[0mlen\u001b[0m\u001b[1;33m(\u001b[0m\u001b[0mself\u001b[0m\u001b[1;33m.\u001b[0m\u001b[0mb\u001b[0m\u001b[1;33m)\u001b[0m\u001b[1;33m)\u001b[0m\u001b[1;33m\u001b[0m\u001b[1;33m\u001b[0m\u001b[0m\n\u001b[0;32m    653\u001b[0m \u001b[1;33m\u001b[0m\u001b[0m\n",
            "\u001b[1;31mKeyboardInterrupt\u001b[0m: "
          ]
        }
      ]
    },
    {
      "cell_type": "code",
      "execution_count": 62,
      "metadata": {},
      "outputs": [],
      "source": [
        "import matplotlib.pyplot as plt\n",
        "from nltk.tokenize import word_tokenize\n",
        "with open('data/books_in_chapters.pkl', 'rb') as file:\n",
        "    books_in_chapters = pkl.load(file)\n",
        "\n",
        "\n",
        "\n"
      ]
    }
  ],
  "nbformat": 4,
  "nbformat_minor": 2,
  "metadata": {
    "orig_nbformat": 2,
    "deepnote_notebook_id": "253b8311-4ad2-46a6-a216-14d708b89b81",
    "deepnote": {},
    "deepnote_execution_queue": [],
    "kernelspec": {
      "name": "python3",
      "display_name": "Python 3.9.4 64-bit ('env': venv)",
      "metadata": {
        "interpreter": {
          "hash": "36cbeea209a033ffca249d07085cb224d3b3a93f291cf5a03f0ca42984277c5c"
        }
      }
    }
  }
}
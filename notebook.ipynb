{
  "cells": [
    {
      "cell_type": "code",
      "metadata": {
        "tags": [],
        "cell_id": "00000-d53d44bb-a27f-4b9c-821e-9b8b73d3aa20",
        "deepnote_to_be_reexecuted": false,
        "source_hash": "e32522b7",
        "execution_millis": 250,
        "execution_start": 1617789262974,
        "deepnote_cell_type": "code"
      },
      "source": "#!pip install vaderSentiment\nimport pandas as pd\nimport nltk\nfrom vaderSentiment.vaderSentiment import SentimentIntensityAnalyzer\nimport numpy as np\n\nhedonometer, emotion_lex = pd.read_csv('Sentiment_tools/Hedonometer.csv'), pd.read_csv('Sentiment_tools/Emotion_lexicon.csv')\nanalyzer = SentimentIntensityAnalyzer()\n\nemotions = [a for a in emotion_lex][3:]\nh_score = {hedonometer.Word[i]:hedonometer[\"Happiness Score\"][i] for i in range(len(hedonometer))}\ne_score = {A[0]: tuple([a for a in A[3:]]) for A in emotion_lex.values}\n\ndef happiness(doc):\n    # Input: List of words\n    # Output: Average Happiness score of the list\n\n    fdist = nltk.FreqDist(doc)\n    doc_filtered = [word for word in doc if (word in h_score.keys())]\n    h_avg = [fdist[word]/len(doc_filtered)*h_score[word]  for word in set(doc_filtered)]\n\n    return sum(h_avg)\n\ndef emotion_score(doc):\n    # Input: List of words\n    # Output: Dictionary of average emotion score\n\n    fdist = nltk.FreqDist(doc)\n    doc_filtered = [word for word in doc if (word in e_score.keys())]\n    print(doc_filtered)\n    if doc_filtered:\n        emotion_score = np.mean([e_score[word] for word in doc_filtered], axis = 0)\n        emotion = {emotions[i]: emotion_score[i] for i in range(len(emotions))}\n        return emotion\n    else:\n        return {emotions[i]: 0 for i in range(len(emotions))}\n    return doc_filtered\n\ndef vader_sentiment(doc):\n    # Input: List of sentences (1 or more words and punctuatoin)\n    # Output: Average Vader sentiment - ie. the average compound score:\n    #         The compound score is computed by summing the valence scores of each word in the lexicon,\n    #         adjusted according to the rules, and then normalized to be between -1 (most extreme negative) and +1 (most extreme positive).\n    #         Positive sentiment: compound > 0.5\n    #         Neutral sentiment:  -0.5 < compound < 0.5\n    #         Negative sentiment:  compound < -0.5\n\n    return np.mean([analyzer.polarity_scores(sentence)['compound'] for sentence in doc])\n\ndef TF_IDF(docs_to_analyse, all_docs):\n    # Input: \n    #        - The documents to be analysed: each document as a list of words\n    #        - All documents to comput IDF score: each document as a list of words\n    # Output:\n    #        - TF score of words in documents to be analysed\n    #        - TF-IDF score of words in documents to be analysed\n    TF = []\n    for doc in docs_to_analyse:\n        N = len(doc)\n        freqdist = nltk.FreqDist(doc)\n        tf = {word: round(count/N,5) for word, count in list(freqdist.most_common())}\n        tf = nltk.FreqDist(tf)\n        TF.append(tf)\n\n    terms = set().union(*[doc for doc in docs_to_analyse])\n    N_docs = len(all_docs) \n\n    doc_sets = [set(doc) for doc in all_docs]\n    IDF = {}\n    for term in terms:\n        idf = np.log(N_docs/sum([term in doc_set for doc_set in doc_sets]))\n        IDF[term] = idf\n    return TF, IDF\ntext = [[\"love\"], [\"hej\", \"med\", \"dig\"]]\n# happiness(text)\n# emotion_score(text)\n# vader_sentiment(text)\nTF_IDF(text, text)\n\n\n\n\n\n",
      "execution_count": 115,
      "outputs": [
        {
          "output_type": "execute_result",
          "execution_count": 114,
          "data": {
            "text/plain": "[FreqDist({'love': 1.0}),\n FreqDist({'hej': 0.33333, 'med': 0.33333, 'dig': 0.33333})]"
          },
          "metadata": {}
        }
      ]
    },
    {
      "cell_type": "markdown",
      "source": "<a style='text-decoration:none;line-height:16px;display:flex;color:#5B5B62;padding:10px;justify-content:end;' href='https://deepnote.com?utm_source=created-in-deepnote-cell&projectId=85fb65b4-b596-4730-837e-04e86eafe419' target=\"_blank\">\n<img alt='Created in deepnote.com' style='display:inline;max-height:16px;margin:0px;margin-right:7.5px;' src='data:image/svg+xml;base64,PD94bWwgdmVyc2lvbj0iMS4wIiBlbmNvZGluZz0iVVRGLTgiPz4KPHN2ZyB3aWR0aD0iODBweCIgaGVpZ2h0PSI4MHB4IiB2aWV3Qm94PSIwIDAgODAgODAiIHZlcnNpb249IjEuMSIgeG1sbnM9Imh0dHA6Ly93d3cudzMub3JnLzIwMDAvc3ZnIiB4bWxuczp4bGluaz0iaHR0cDovL3d3dy53My5vcmcvMTk5OS94bGluayI+CiAgICA8IS0tIEdlbmVyYXRvcjogU2tldGNoIDU0LjEgKDc2NDkwKSAtIGh0dHBzOi8vc2tldGNoYXBwLmNvbSAtLT4KICAgIDx0aXRsZT5Hcm91cCAzPC90aXRsZT4KICAgIDxkZXNjPkNyZWF0ZWQgd2l0aCBTa2V0Y2guPC9kZXNjPgogICAgPGcgaWQ9IkxhbmRpbmciIHN0cm9rZT0ibm9uZSIgc3Ryb2tlLXdpZHRoPSIxIiBmaWxsPSJub25lIiBmaWxsLXJ1bGU9ImV2ZW5vZGQiPgogICAgICAgIDxnIGlkPSJBcnRib2FyZCIgdHJhbnNmb3JtPSJ0cmFuc2xhdGUoLTEyMzUuMDAwMDAwLCAtNzkuMDAwMDAwKSI+CiAgICAgICAgICAgIDxnIGlkPSJHcm91cC0zIiB0cmFuc2Zvcm09InRyYW5zbGF0ZSgxMjM1LjAwMDAwMCwgNzkuMDAwMDAwKSI+CiAgICAgICAgICAgICAgICA8cG9seWdvbiBpZD0iUGF0aC0yMCIgZmlsbD0iIzAyNjVCNCIgcG9pbnRzPSIyLjM3NjIzNzYyIDgwIDM4LjA0NzY2NjcgODAgNTcuODIxNzgyMiA3My44MDU3NTkyIDU3LjgyMTc4MjIgMzIuNzU5MjczOSAzOS4xNDAyMjc4IDMxLjY4MzE2ODMiPjwvcG9seWdvbj4KICAgICAgICAgICAgICAgIDxwYXRoIGQ9Ik0zNS4wMDc3MTgsODAgQzQyLjkwNjIwMDcsNzYuNDU0OTM1OCA0Ny41NjQ5MTY3LDcxLjU0MjI2NzEgNDguOTgzODY2LDY1LjI2MTk5MzkgQzUxLjExMjI4OTksNTUuODQxNTg0MiA0MS42NzcxNzk1LDQ5LjIxMjIyODQgMjUuNjIzOTg0Niw0OS4yMTIyMjg0IEMyNS40ODQ5Mjg5LDQ5LjEyNjg0NDggMjkuODI2MTI5Niw0My4yODM4MjQ4IDM4LjY0NzU4NjksMzEuNjgzMTY4MyBMNzIuODcxMjg3MSwzMi41NTQ0MjUgTDY1LjI4MDk3Myw2Ny42NzYzNDIxIEw1MS4xMTIyODk5LDc3LjM3NjE0NCBMMzUuMDA3NzE4LDgwIFoiIGlkPSJQYXRoLTIyIiBmaWxsPSIjMDAyODY4Ij48L3BhdGg+CiAgICAgICAgICAgICAgICA8cGF0aCBkPSJNMCwzNy43MzA0NDA1IEwyNy4xMTQ1MzcsMC4yNTcxMTE0MzYgQzYyLjM3MTUxMjMsLTEuOTkwNzE3MDEgODAsMTAuNTAwMzkyNyA4MCwzNy43MzA0NDA1IEM4MCw2NC45NjA0ODgyIDY0Ljc3NjUwMzgsNzkuMDUwMzQxNCAzNC4zMjk1MTEzLDgwIEM0Ny4wNTUzNDg5LDc3LjU2NzA4MDggNTMuNDE4MjY3Nyw3MC4zMTM2MTAzIDUzLjQxODI2NzcsNTguMjM5NTg4NSBDNTMuNDE4MjY3Nyw0MC4xMjg1NTU3IDM2LjMwMzk1NDQsMzcuNzMwNDQwNSAyNS4yMjc0MTcsMzcuNzMwNDQwNSBDMTcuODQzMDU4NiwzNy43MzA0NDA1IDkuNDMzOTE5NjYsMzcuNzMwNDQwNSAwLDM3LjczMDQ0MDUgWiIgaWQ9IlBhdGgtMTkiIGZpbGw9IiMzNzkzRUYiPjwvcGF0aD4KICAgICAgICAgICAgPC9nPgogICAgICAgIDwvZz4KICAgIDwvZz4KPC9zdmc+' > </img>\nCreated in <span style='font-weight:600;margin-left:4px;'>Deepnote</span></a>",
      "metadata": {
        "tags": [],
        "created_in_deepnote_cell": true,
        "deepnote_cell_type": "markdown"
      }
    }
  ],
  "nbformat": 4,
  "nbformat_minor": 2,
  "metadata": {
    "orig_nbformat": 2,
    "deepnote_notebook_id": "253b8311-4ad2-46a6-a216-14d708b89b81",
    "deepnote": {},
    "deepnote_execution_queue": []
  }
}
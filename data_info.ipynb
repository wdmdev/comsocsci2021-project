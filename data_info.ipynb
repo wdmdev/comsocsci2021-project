{
 "cells": [
  {
   "cell_type": "code",
   "metadata": {
    "tags": [],
    "cell_id": "00000-c84bfe35-7fd8-440d-88fc-2e0dac244a7d",
    "deepnote_to_be_reexecuted": false,
    "source_hash": "97f38ac3",
    "execution_start": 1620372952357,
    "execution_millis": 11565,
    "deepnote_cell_type": "code"
   },
   "source": "!pip install dash\nimport dash\nimport plotly\nimport dash_table\nimport matplotlib\nimport pandas as pd",
   "execution_count": 19,
   "outputs": [
    {
     "name": "stdout",
     "text": "Collecting dash\n  Downloading dash-1.20.0.tar.gz (77 kB)\n\u001b[K     |████████████████████████████████| 77 kB 11.9 MB/s \n\u001b[?25hCollecting Flask>=1.0.4\n  Downloading Flask-1.1.2-py2.py3-none-any.whl (94 kB)\n\u001b[K     |████████████████████████████████| 94 kB 8.9 MB/s \n\u001b[?25hCollecting flask-compress\n  Downloading Flask_Compress-1.9.0-py3-none-any.whl (7.3 kB)\nRequirement already satisfied: plotly in /shared-libs/python3.8/py/lib/python3.8/site-packages (from dash) (4.14.3)\nCollecting dash_renderer==1.9.1\n  Downloading dash_renderer-1.9.1.tar.gz (1.0 MB)\n\u001b[K     |████████████████████████████████| 1.0 MB 49.7 MB/s \n\u001b[?25hCollecting dash-core-components==1.16.0\n  Downloading dash_core_components-1.16.0.tar.gz (3.5 MB)\n\u001b[K     |████████████████████████████████| 3.5 MB 57.0 MB/s \n\u001b[?25hCollecting dash-html-components==1.1.3\n  Downloading dash_html_components-1.1.3.tar.gz (82 kB)\n\u001b[K     |████████████████████████████████| 82 kB 1.9 MB/s \n\u001b[?25hCollecting dash-table==4.11.3\n  Downloading dash_table-4.11.3.tar.gz (1.8 MB)\n\u001b[K     |████████████████████████████████| 1.8 MB 45.6 MB/s \n\u001b[?25hRequirement already satisfied: future in /shared-libs/python3.8/py/lib/python3.8/site-packages (from dash) (0.18.2)\nRequirement already satisfied: Jinja2>=2.10.1 in /shared-libs/python3.8/py-core/lib/python3.8/site-packages (from Flask>=1.0.4->dash) (2.11.3)\nCollecting itsdangerous>=0.24\n  Downloading itsdangerous-1.1.0-py2.py3-none-any.whl (16 kB)\nRequirement already satisfied: Werkzeug>=0.15 in /shared-libs/python3.8/py/lib/python3.8/site-packages (from Flask>=1.0.4->dash) (1.0.1)\nRequirement already satisfied: click>=5.1 in /shared-libs/python3.8/py/lib/python3.8/site-packages (from Flask>=1.0.4->dash) (7.1.2)\nRequirement already satisfied: MarkupSafe>=0.23 in /shared-libs/python3.8/py-core/lib/python3.8/site-packages (from Jinja2>=2.10.1->Flask>=1.0.4->dash) (1.1.1)\nCollecting brotli\n  Downloading Brotli-1.0.9-cp38-cp38-manylinux1_x86_64.whl (357 kB)\n\u001b[K     |████████████████████████████████| 357 kB 59.7 MB/s \n\u001b[?25hRequirement already satisfied: six in /shared-libs/python3.8/py-core/lib/python3.8/site-packages (from plotly->dash) (1.16.0)\nRequirement already satisfied: retrying>=1.3.3 in /shared-libs/python3.8/py/lib/python3.8/site-packages (from plotly->dash) (1.3.3)\nBuilding wheels for collected packages: dash, dash-core-components, dash-html-components, dash-renderer, dash-table\n  Building wheel for dash (setup.py) ... \u001b[?25ldone\n\u001b[?25h  Created wheel for dash: filename=dash-1.20.0-py3-none-any.whl size=85831 sha256=d3e8044c8d0d19c1509f46142acd47aa34a3aedde4aa79eb05d684d4c2c44eda\n  Stored in directory: /root/.cache/pip/wheels/e3/1e/fa/0c810b67f082a7b9f33a128f6374b03cf5245edc45e37adbf8\n  Building wheel for dash-core-components (setup.py) ... \u001b[?25ldone\n\u001b[?25h  Created wheel for dash-core-components: filename=dash_core_components-1.16.0-py3-none-any.whl size=3540991 sha256=27e938aed5900a10260d0ba720957e2307ef4c75235c305111ba98d33fa83508\n  Stored in directory: /root/.cache/pip/wheels/68/92/0c/4ac6d91639a754ebf3adfab7172c61fe408e7c71d00b8cbf66\n  Building wheel for dash-html-components (setup.py) ... \u001b[?25ldone\n\u001b[?25h  Created wheel for dash-html-components: filename=dash_html_components-1.1.3-py3-none-any.whl size=319471 sha256=cebc0e5229ee0151d84e725941c16af0c5d0b7efa7f4ad2cb2b81fc5a9ef38a4\n  Stored in directory: /root/.cache/pip/wheels/2a/a3/33/bf6842d5d279588f8989ee8c2f9d9d8feb7af82216493a1eea\n  Building wheel for dash-renderer (setup.py) ... \u001b[?25ldone\n\u001b[?25h  Created wheel for dash-renderer: filename=dash_renderer-1.9.1-py3-none-any.whl size=1014878 sha256=b879926468a6f56414d540ce1743fb59bdbeed527f4161a6d78a2b22f84e9d0b\n  Stored in directory: /root/.cache/pip/wheels/ac/7e/fd/807844722d79d8babcd27b16e5f7ecc7b476c45ca607c11729\n  Building wheel for dash-table (setup.py) ... \u001b[?25ldone\n\u001b[?25h  Created wheel for dash-table: filename=dash_table-4.11.3-py3-none-any.whl size=1827618 sha256=76691488b79afa0fbd6b124bee0d9c3bc30ff968148fe45ff67db765eccde126\n  Stored in directory: /root/.cache/pip/wheels/0c/9c/bd/06904831bdaa998ad1f53584553c5e06324814328666699128\nSuccessfully built dash dash-core-components dash-html-components dash-renderer dash-table\nInstalling collected packages: itsdangerous, Flask, brotli, flask-compress, dash-table, dash-renderer, dash-html-components, dash-core-components, dash\nSuccessfully installed Flask-1.1.2 brotli-1.0.9 dash-1.20.0 dash-core-components-1.16.0 dash-html-components-1.1.3 dash-renderer-1.9.1 dash-table-4.11.3 flask-compress-1.9.0 itsdangerous-1.1.0\n",
     "output_type": "stream"
    }
   ]
  },
  {
   "cell_type": "markdown",
   "source": "# Harry Potter Data Info",
   "metadata": {
    "tags": [],
    "cell_id": "00001-0f7bf232-1ba8-4d28-8e47-d5df3906d638",
    "deepnote_cell_type": "markdown"
   }
  },
  {
   "cell_type": "code",
   "source": "characters = pd.read_pickle('data/characters_by_house.pkl')\nclean_books = pd.read_pickle('data/books_in_chapters_clean.pkl')\ninteractions = pd.read_pickle('data/interaction_df.csv')",
   "metadata": {
    "tags": [],
    "cell_id": "00001-dc2d327e-1020-45a6-a300-78105db17296",
    "deepnote_to_be_reexecuted": false,
    "source_hash": "b0903c47",
    "execution_start": 1620371870956,
    "execution_millis": 51,
    "deepnote_cell_type": "code"
   },
   "outputs": [],
   "execution_count": 9
  },
  {
   "cell_type": "markdown",
   "source": "# Characters",
   "metadata": {
    "tags": [],
    "cell_id": "00004-99aa2e98-3852-4397-9053-b9fa73b99e0d",
    "deepnote_cell_type": "markdown"
   }
  },
  {
   "cell_type": "code",
   "source": "longest_character_list = max(characters.values(), key=len)\n\nfor hogw_house in characters.keys():\n    house_char_len = len(characters[hogw_house])\n    len_diff = len(longest_character_list) - house_char_len\n    characters[hogw_house] += [\"\"]*len_diff\n\ncharacters_df = pd.DataFrame(characters)\ncharacters_df",
   "metadata": {
    "tags": [],
    "cell_id": "00004-cc3a9dfd-d26f-4ba9-8ba7-d4434092dbff",
    "deepnote_to_be_reexecuted": false,
    "source_hash": "71a82d1d",
    "execution_start": 1620372833488,
    "execution_millis": 6,
    "deepnote_cell_type": "code"
   },
   "outputs": [
    {
     "output_type": "execute_result",
     "execution_count": 17,
     "data": {
      "application/vnd.deepnote.dataframe.v2+json": {
       "row_count": 49,
       "column_count": 5,
       "columns": [
        {
         "name": "Gryffindor",
         "dtype": "object",
         "stats": {
          "unique_count": 49,
          "nan_count": 0,
          "categories": [
           {
            "name": "Albus Dumbledore",
            "count": 1
           },
           {
            "name": "Alicia Spinnet",
            "count": 1
           },
           {
            "name": "47 others",
            "count": 47
           }
          ]
         }
        },
        {
         "name": "Hufflepuff",
         "dtype": "object",
         "stats": {
          "unique_count": 28,
          "nan_count": 0,
          "categories": [
           {
            "name": "",
            "count": 22
           },
           {
            "name": "Artemisia Lufkin",
            "count": 1
           },
           {
            "name": "26 others",
            "count": 26
           }
          ]
         }
        },
        {
         "name": "Ravenclaw",
         "dtype": "object",
         "stats": {
          "unique_count": 35,
          "nan_count": 0,
          "categories": [
           {
            "name": "",
            "count": 15
           },
           {
            "name": "Anthony Goldstein",
            "count": 1
           },
           {
            "name": "33 others",
            "count": 33
           }
          ]
         }
        },
        {
         "name": "Slytherin",
         "dtype": "object",
         "stats": {
          "unique_count": 48,
          "nan_count": 0,
          "categories": [
           {
            "name": "",
            "count": 2
           },
           {
            "name": "Abraxas Malfoy",
            "count": 1
           },
           {
            "name": "46 others",
            "count": 46
           }
          ]
         }
        },
        {
         "name": "House Unknown",
         "dtype": "object",
         "stats": {
          "unique_count": 14,
          "nan_count": 0,
          "categories": [
           {
            "name": "",
            "count": 36
           },
           {
            "name": "B. Dunstan",
            "count": 1
           },
           {
            "name": "12 others",
            "count": 12
           }
          ]
         }
        },
        {
         "name": "_deepnote_index_column",
         "dtype": "int64"
        }
       ],
       "rows_top": [
        {
         "Gryffindor": "Albus Dumbledore",
         "Hufflepuff": "Artemisia Lufkin",
         "Ravenclaw": "Anthony Goldstein",
         "Slytherin": "Abraxas Malfoy",
         "House Unknown": "B. Dunstan",
         "_deepnote_index_column": 0
        },
        {
         "Gryffindor": "Alicia Spinnet",
         "Hufflepuff": "Bridget Wenlock",
         "Ravenclaw": "Bradley",
         "Slytherin": "Adrian Pucey",
         "House Unknown": "Bertha Jorkins",
         "_deepnote_index_column": 1
        },
        {
         "Gryffindor": "Andrew Kirke",
         "Hufflepuff": "Cadwallader",
         "Ravenclaw": "Chambers",
         "Slytherin": "Albus Potter",
         "House Unknown": "Davey Gudgeon",
         "_deepnote_index_column": 2
        },
        {
         "Gryffindor": "Angelina Johnson",
         "Hufflepuff": "Cedric Diggory",
         "Ravenclaw": "Cho Chang",
         "Slytherin": "Andromeda Tonks",
         "House Unknown": "Derek",
         "_deepnote_index_column": 3
        },
        {
         "Gryffindor": "Bill Weasley",
         "Hufflepuff": "Dugald McPhail",
         "Ravenclaw": "Eddie Carmichael",
         "Slytherin": "Astoria Greengrass",
         "House Unknown": "Eloise Midgen/Eloise Midgeon",
         "_deepnote_index_column": 4
        },
        {
         "Gryffindor": "Celestina Warbeck",
         "Hufflepuff": "Eglantine Puffett",
         "Ravenclaw": "Filius Flitwick",
         "Slytherin": "Avery",
         "House Unknown": "Emma Dobbs",
         "_deepnote_index_column": 5
        },
        {
         "Gryffindor": "Charlie Weasley",
         "Hufflepuff": "Eleanor Branstone",
         "Ravenclaw": "Gilderoy Lockhart",
         "Slytherin": "Bellatrix Lestrange",
         "House Unknown": "Gwenog Jones",
         "_deepnote_index_column": 6
        },
        {
         "Gryffindor": "Cormac McLaggen",
         "Hufflepuff": "Ernie Macmillan",
         "Ravenclaw": "Helena Ravenclaw",
         "Slytherin": "Blaise Zabini",
         "House Unknown": "J. Dorny",
         "_deepnote_index_column": 7
        },
        {
         "Gryffindor": "Dean Thomas",
         "Hufflepuff": "Grogan Stump",
         "Ravenclaw": "Ignatia Wildsmith",
         "Slytherin": "Bole",
         "House Unknown": "K. Bundy",
         "_deepnote_index_column": 8
        },
        {
         "Gryffindor": "Demelza Robins",
         "Hufflepuff": "Hannah Abbott",
         "Ravenclaw": "Kevin Entwhistle",
         "Slytherin": "Corvinus Gaunt",
         "House Unknown": "Olive Hornby",
         "_deepnote_index_column": 9
        },
        {
         "Gryffindor": "Dennis Creevey",
         "Hufflepuff": "Helga Hufflepuff",
         "Ravenclaw": "Laverne de Montmorency",
         "Slytherin": "Crabbe Sr.",
         "House Unknown": "Polly Chapman",
         "_deepnote_index_column": 10
        },
        {
         "Gryffindor": "Euan Abercrombie",
         "Hufflepuff": "Hengist of Woodcroft",
         "Ravenclaw": "Lisa Turpin",
         "Slytherin": "Craig Bowker Jr.",
         "House Unknown": "S. Capper",
         "_deepnote_index_column": 11
        },
        {
         "Gryffindor": "Fred Weasley",
         "Hufflepuff": "Justin Finch-Fletchley",
         "Ravenclaw": "Luna Lovegood",
         "Slytherin": "Daphne Greengrass",
         "House Unknown": "Sally-Anne Perks",
         "_deepnote_index_column": 12
        },
        {
         "Gryffindor": "Geoffrey Hooper",
         "Hufflepuff": "Laura Madley",
         "Ravenclaw": "Mandy Brocklehurst",
         "Slytherin": "Derrick",
         "House Unknown": "",
         "_deepnote_index_column": 13
        },
        {
         "Gryffindor": "George Weasley",
         "Hufflepuff": "Megan Jones",
         "Ravenclaw": "Marcus Belby",
         "Slytherin": "Dolores Umbridge",
         "House Unknown": "",
         "_deepnote_index_column": 14
        },
        {
         "Gryffindor": "Ginny Weasley",
         "Hufflepuff": "Newt Scamander",
         "Ravenclaw": "Marietta Edgecombe",
         "Slytherin": "Draco Malfoy",
         "House Unknown": "",
         "_deepnote_index_column": 15
        },
        {
         "Gryffindor": "Godric Gryffindor",
         "Hufflepuff": "Nymphadora Tonks",
         "Ravenclaw": "Michael Corner",
         "Slytherin": "Gemma Farley",
         "House Unknown": "",
         "_deepnote_index_column": 16
        },
        {
         "Gryffindor": "Harry Potter",
         "Hufflepuff": "Owen Cauldwell",
         "Ravenclaw": "Millicent Bagnold",
         "Slytherin": "Graham Pritchard",
         "House Unknown": "",
         "_deepnote_index_column": 17
        },
        {
         "Gryffindor": "Jack Sloper",
         "Hufflepuff": "Pomona Sprout",
         "Ravenclaw": "Miss S. Fawcett",
         "Slytherin": "Gregory Goyle",
         "House Unknown": "",
         "_deepnote_index_column": 18
        },
        {
         "Gryffindor": "James Potter",
         "Hufflepuff": "Silvanus Kettleburn",
         "Ravenclaw": "Moaning Myrtle",
         "Slytherin": "Harper",
         "House Unknown": "",
         "_deepnote_index_column": 19
        },
        {
         "Gryffindor": "James Sirius Potter",
         "Hufflepuff": "Stebbins",
         "Ravenclaw": "Morag Macdougal",
         "Slytherin": "Horace Slughorn",
         "House Unknown": "",
         "_deepnote_index_column": 20
        },
        {
         "Gryffindor": "Jimmy Peakes",
         "Hufflepuff": "Summerby",
         "Ravenclaw": "Orla Quirke",
         "Slytherin": "Lucius Malfoy",
         "House Unknown": "",
         "_deepnote_index_column": 21
        },
        {
         "Gryffindor": "Katie Bell",
         "Hufflepuff": "Summers",
         "Ravenclaw": "Padma Patil",
         "Slytherin": "Malcolm Baddock",
         "House Unknown": "",
         "_deepnote_index_column": 22
        },
        {
         "Gryffindor": "Kenneth Towler",
         "Hufflepuff": "Susan Bones",
         "Ravenclaw": "Penelope Clearwater",
         "Slytherin": "Marcus Flint",
         "House Unknown": "",
         "_deepnote_index_column": 23
        },
        {
         "Gryffindor": "Lavender Brown",
         "Hufflepuff": "Teddy Lupin",
         "Ravenclaw": "Perpetua Fancourt",
         "Slytherin": "Merlin",
         "House Unknown": "",
         "_deepnote_index_column": 24
        },
        {
         "Gryffindor": "Lee Jordan",
         "Hufflepuff": "The Fat Friar",
         "Ravenclaw": "Robert Hilliard",
         "Slytherin": "Miles Bletchley",
         "House Unknown": "",
         "_deepnote_index_column": 25
        },
        {
         "Gryffindor": "Lily Potter",
         "Hufflepuff": "Zacharias Smith",
         "Ravenclaw": "Roger Davies",
         "Slytherin": "Millicent Bulstrode",
         "House Unknown": "",
         "_deepnote_index_column": 26
        },
        {
         "Gryffindor": "Minerva McGonagall",
         "Hufflepuff": "",
         "Ravenclaw": "Rowena Ravenclaw",
         "Slytherin": "Montague",
         "House Unknown": "",
         "_deepnote_index_column": 27
        },
        {
         "Gryffindor": "Natalie McDonald",
         "Hufflepuff": "",
         "Ravenclaw": "Stephen Cornfoot",
         "Slytherin": "Mulciber",
         "House Unknown": "",
         "_deepnote_index_column": 28
        },
        {
         "Gryffindor": "Nearly-Headless Nick",
         "Hufflepuff": "",
         "Ravenclaw": "Stewart Ackerley",
         "Slytherin": "Narcissa Malfoy",
         "House Unknown": "",
         "_deepnote_index_column": 29
        },
        {
         "Gryffindor": "Neville Longbottom",
         "Hufflepuff": "",
         "Ravenclaw": "Su Li",
         "Slytherin": "Nott",
         "House Unknown": "",
         "_deepnote_index_column": 30
        },
        {
         "Gryffindor": "Oliver Wood",
         "Hufflepuff": "",
         "Ravenclaw": "Terry Boot",
         "Slytherin": "Pansy Parkinson",
         "House Unknown": "",
         "_deepnote_index_column": 31
        },
        {
         "Gryffindor": "Panju Weasley",
         "Hufflepuff": "",
         "Ravenclaw": "The Grey Lady",
         "Slytherin": "Phineas Nigellus Black",
         "House Unknown": "",
         "_deepnote_index_column": 32
        },
        {
         "Gryffindor": "Parvati Patil",
         "Hufflepuff": "",
         "Ravenclaw": "Uric the Oddball",
         "Slytherin": "Rabastan Lestrange",
         "House Unknown": "",
         "_deepnote_index_column": 33
        },
        {
         "Gryffindor": "Patricia Stimpson",
         "Hufflepuff": "",
         "Ravenclaw": "",
         "Slytherin": "Regulus Black",
         "House Unknown": "",
         "_deepnote_index_column": 34
        },
        {
         "Gryffindor": "Percy Weasley",
         "Hufflepuff": "",
         "Ravenclaw": "",
         "Slytherin": "Rodolphus Lestrange",
         "House Unknown": "",
         "_deepnote_index_column": 35
        },
        {
         "Gryffindor": "Peter Pettigrew",
         "Hufflepuff": "",
         "Ravenclaw": "",
         "Slytherin": "Salazar Slytherin",
         "House Unknown": "",
         "_deepnote_index_column": 36
        },
        {
         "Gryffindor": "Remus Lupin",
         "Hufflepuff": "",
         "Ravenclaw": "",
         "Slytherin": "Scorpius Malfoy",
         "House Unknown": "",
         "_deepnote_index_column": 37
        },
        {
         "Gryffindor": "Ritchie Coote",
         "Hufflepuff": "",
         "Ravenclaw": "",
         "Slytherin": "Severus Snape",
         "House Unknown": "",
         "_deepnote_index_column": 38
        },
        {
         "Gryffindor": "Romilda Vane",
         "Hufflepuff": "",
         "Ravenclaw": "",
         "Slytherin": "Terence Higgs",
         "House Unknown": "",
         "_deepnote_index_column": 39
        },
        {
         "Gryffindor": "Ron Weasley",
         "Hufflepuff": "",
         "Ravenclaw": "",
         "Slytherin": "The Bloody Baron",
         "House Unknown": "",
         "_deepnote_index_column": 40
        },
        {
         "Gryffindor": "Rose Granger-Weasley",
         "Hufflepuff": "",
         "Ravenclaw": "",
         "Slytherin": "Theodore Nott",
         "House Unknown": "",
         "_deepnote_index_column": 41
        },
        {
         "Gryffindor": "Rubeus Hagrid",
         "Hufflepuff": "",
         "Ravenclaw": "",
         "Slytherin": "Tom Marvolo Riddle",
         "House Unknown": "",
         "_deepnote_index_column": 42
        },
        {
         "Gryffindor": "Seamus Finnigan",
         "Hufflepuff": "",
         "Ravenclaw": "",
         "Slytherin": "Urquhart",
         "House Unknown": "",
         "_deepnote_index_column": 43
        },
        {
         "Gryffindor": "Sir Cadogan",
         "Hufflepuff": "",
         "Ravenclaw": "",
         "Slytherin": "Vaisey",
         "House Unknown": "",
         "_deepnote_index_column": 44
        },
        {
         "Gryffindor": "Vicky Frobisher",
         "Hufflepuff": "",
         "Ravenclaw": "",
         "Slytherin": "Vincent Crabbe",
         "House Unknown": "",
         "_deepnote_index_column": 45
        },
        {
         "Gryffindor": "Wormtail",
         "Hufflepuff": "",
         "Ravenclaw": "",
         "Slytherin": "Warrington",
         "House Unknown": "",
         "_deepnote_index_column": 46
        },
        {
         "Gryffindor": "Yann Fredericks",
         "Hufflepuff": "",
         "Ravenclaw": "",
         "Slytherin": "",
         "House Unknown": "",
         "_deepnote_index_column": 47
        },
        {
         "Gryffindor": "Hermione Granger",
         "Hufflepuff": "",
         "Ravenclaw": "",
         "Slytherin": "",
         "House Unknown": "",
         "_deepnote_index_column": 48
        }
       ],
       "rows_bottom": null
      },
      "text/plain": "              Gryffindor              Hufflepuff               Ravenclaw  \\\n0       Albus Dumbledore        Artemisia Lufkin       Anthony Goldstein   \n1         Alicia Spinnet         Bridget Wenlock                 Bradley   \n2           Andrew Kirke             Cadwallader                Chambers   \n3       Angelina Johnson          Cedric Diggory               Cho Chang   \n4           Bill Weasley          Dugald McPhail        Eddie Carmichael   \n5      Celestina Warbeck       Eglantine Puffett         Filius Flitwick   \n6        Charlie Weasley       Eleanor Branstone       Gilderoy Lockhart   \n7        Cormac McLaggen         Ernie Macmillan        Helena Ravenclaw   \n8            Dean Thomas            Grogan Stump       Ignatia Wildsmith   \n9         Demelza Robins           Hannah Abbott        Kevin Entwhistle   \n10        Dennis Creevey        Helga Hufflepuff  Laverne de Montmorency   \n11      Euan Abercrombie    Hengist of Woodcroft             Lisa Turpin   \n12          Fred Weasley  Justin Finch-Fletchley           Luna Lovegood   \n13       Geoffrey Hooper            Laura Madley      Mandy Brocklehurst   \n14        George Weasley             Megan Jones            Marcus Belby   \n15         Ginny Weasley          Newt Scamander      Marietta Edgecombe   \n16     Godric Gryffindor        Nymphadora Tonks          Michael Corner   \n17          Harry Potter          Owen Cauldwell       Millicent Bagnold   \n18           Jack Sloper           Pomona Sprout         Miss S. Fawcett   \n19          James Potter     Silvanus Kettleburn          Moaning Myrtle   \n20   James Sirius Potter                Stebbins         Morag Macdougal   \n21          Jimmy Peakes                Summerby             Orla Quirke   \n22            Katie Bell                 Summers             Padma Patil   \n23        Kenneth Towler             Susan Bones     Penelope Clearwater   \n24        Lavender Brown             Teddy Lupin       Perpetua Fancourt   \n25            Lee Jordan           The Fat Friar         Robert Hilliard   \n26           Lily Potter         Zacharias Smith            Roger Davies   \n27    Minerva McGonagall                                Rowena Ravenclaw   \n28      Natalie McDonald                                Stephen Cornfoot   \n29  Nearly-Headless Nick                                Stewart Ackerley   \n30    Neville Longbottom                                           Su Li   \n31           Oliver Wood                                      Terry Boot   \n32         Panju Weasley                                   The Grey Lady   \n33         Parvati Patil                                Uric the Oddball   \n34     Patricia Stimpson                                                   \n35         Percy Weasley                                                   \n36       Peter Pettigrew                                                   \n37           Remus Lupin                                                   \n38         Ritchie Coote                                                   \n39          Romilda Vane                                                   \n40           Ron Weasley                                                   \n41  Rose Granger-Weasley                                                   \n42         Rubeus Hagrid                                                   \n43       Seamus Finnigan                                                   \n44           Sir Cadogan                                                   \n45       Vicky Frobisher                                                   \n46              Wormtail                                                   \n47       Yann Fredericks                                                   \n48      Hermione Granger                                                   \n\n                 Slytherin                 House Unknown  \n0           Abraxas Malfoy                    B. Dunstan  \n1             Adrian Pucey                Bertha Jorkins  \n2             Albus Potter                 Davey Gudgeon  \n3          Andromeda Tonks                         Derek  \n4       Astoria Greengrass  Eloise Midgen/Eloise Midgeon  \n5                    Avery                    Emma Dobbs  \n6      Bellatrix Lestrange                  Gwenog Jones  \n7            Blaise Zabini                      J. Dorny  \n8                     Bole                      K. Bundy  \n9           Corvinus Gaunt                  Olive Hornby  \n10              Crabbe Sr.                 Polly Chapman  \n11        Craig Bowker Jr.                     S. Capper  \n12       Daphne Greengrass              Sally-Anne Perks  \n13                 Derrick                                \n14        Dolores Umbridge                                \n15            Draco Malfoy                                \n16            Gemma Farley                                \n17        Graham Pritchard                                \n18           Gregory Goyle                                \n19                  Harper                                \n20         Horace Slughorn                                \n21           Lucius Malfoy                                \n22         Malcolm Baddock                                \n23            Marcus Flint                                \n24                  Merlin                                \n25         Miles Bletchley                                \n26     Millicent Bulstrode                                \n27                Montague                                \n28                Mulciber                                \n29         Narcissa Malfoy                                \n30                    Nott                                \n31         Pansy Parkinson                                \n32  Phineas Nigellus Black                                \n33      Rabastan Lestrange                                \n34           Regulus Black                                \n35     Rodolphus Lestrange                                \n36       Salazar Slytherin                                \n37         Scorpius Malfoy                                \n38           Severus Snape                                \n39           Terence Higgs                                \n40        The Bloody Baron                                \n41           Theodore Nott                                \n42      Tom Marvolo Riddle                                \n43                Urquhart                                \n44                  Vaisey                                \n45          Vincent Crabbe                                \n46              Warrington                                \n47                                                        \n48                                                        ",
      "text/html": "<div>\n<style scoped>\n    .dataframe tbody tr th:only-of-type {\n        vertical-align: middle;\n    }\n\n    .dataframe tbody tr th {\n        vertical-align: top;\n    }\n\n    .dataframe thead th {\n        text-align: right;\n    }\n</style>\n<table border=\"1\" class=\"dataframe\">\n  <thead>\n    <tr style=\"text-align: right;\">\n      <th></th>\n      <th>Gryffindor</th>\n      <th>Hufflepuff</th>\n      <th>Ravenclaw</th>\n      <th>Slytherin</th>\n      <th>House Unknown</th>\n    </tr>\n  </thead>\n  <tbody>\n    <tr>\n      <th>0</th>\n      <td>Albus Dumbledore</td>\n      <td>Artemisia Lufkin</td>\n      <td>Anthony Goldstein</td>\n      <td>Abraxas Malfoy</td>\n      <td>B. Dunstan</td>\n    </tr>\n    <tr>\n      <th>1</th>\n      <td>Alicia Spinnet</td>\n      <td>Bridget Wenlock</td>\n      <td>Bradley</td>\n      <td>Adrian Pucey</td>\n      <td>Bertha Jorkins</td>\n    </tr>\n    <tr>\n      <th>2</th>\n      <td>Andrew Kirke</td>\n      <td>Cadwallader</td>\n      <td>Chambers</td>\n      <td>Albus Potter</td>\n      <td>Davey Gudgeon</td>\n    </tr>\n    <tr>\n      <th>3</th>\n      <td>Angelina Johnson</td>\n      <td>Cedric Diggory</td>\n      <td>Cho Chang</td>\n      <td>Andromeda Tonks</td>\n      <td>Derek</td>\n    </tr>\n    <tr>\n      <th>4</th>\n      <td>Bill Weasley</td>\n      <td>Dugald McPhail</td>\n      <td>Eddie Carmichael</td>\n      <td>Astoria Greengrass</td>\n      <td>Eloise Midgen/Eloise Midgeon</td>\n    </tr>\n    <tr>\n      <th>5</th>\n      <td>Celestina Warbeck</td>\n      <td>Eglantine Puffett</td>\n      <td>Filius Flitwick</td>\n      <td>Avery</td>\n      <td>Emma Dobbs</td>\n    </tr>\n    <tr>\n      <th>6</th>\n      <td>Charlie Weasley</td>\n      <td>Eleanor Branstone</td>\n      <td>Gilderoy Lockhart</td>\n      <td>Bellatrix Lestrange</td>\n      <td>Gwenog Jones</td>\n    </tr>\n    <tr>\n      <th>7</th>\n      <td>Cormac McLaggen</td>\n      <td>Ernie Macmillan</td>\n      <td>Helena Ravenclaw</td>\n      <td>Blaise Zabini</td>\n      <td>J. Dorny</td>\n    </tr>\n    <tr>\n      <th>8</th>\n      <td>Dean Thomas</td>\n      <td>Grogan Stump</td>\n      <td>Ignatia Wildsmith</td>\n      <td>Bole</td>\n      <td>K. Bundy</td>\n    </tr>\n    <tr>\n      <th>9</th>\n      <td>Demelza Robins</td>\n      <td>Hannah Abbott</td>\n      <td>Kevin Entwhistle</td>\n      <td>Corvinus Gaunt</td>\n      <td>Olive Hornby</td>\n    </tr>\n    <tr>\n      <th>10</th>\n      <td>Dennis Creevey</td>\n      <td>Helga Hufflepuff</td>\n      <td>Laverne de Montmorency</td>\n      <td>Crabbe Sr.</td>\n      <td>Polly Chapman</td>\n    </tr>\n    <tr>\n      <th>11</th>\n      <td>Euan Abercrombie</td>\n      <td>Hengist of Woodcroft</td>\n      <td>Lisa Turpin</td>\n      <td>Craig Bowker Jr.</td>\n      <td>S. Capper</td>\n    </tr>\n    <tr>\n      <th>12</th>\n      <td>Fred Weasley</td>\n      <td>Justin Finch-Fletchley</td>\n      <td>Luna Lovegood</td>\n      <td>Daphne Greengrass</td>\n      <td>Sally-Anne Perks</td>\n    </tr>\n    <tr>\n      <th>13</th>\n      <td>Geoffrey Hooper</td>\n      <td>Laura Madley</td>\n      <td>Mandy Brocklehurst</td>\n      <td>Derrick</td>\n      <td></td>\n    </tr>\n    <tr>\n      <th>14</th>\n      <td>George Weasley</td>\n      <td>Megan Jones</td>\n      <td>Marcus Belby</td>\n      <td>Dolores Umbridge</td>\n      <td></td>\n    </tr>\n    <tr>\n      <th>15</th>\n      <td>Ginny Weasley</td>\n      <td>Newt Scamander</td>\n      <td>Marietta Edgecombe</td>\n      <td>Draco Malfoy</td>\n      <td></td>\n    </tr>\n    <tr>\n      <th>16</th>\n      <td>Godric Gryffindor</td>\n      <td>Nymphadora Tonks</td>\n      <td>Michael Corner</td>\n      <td>Gemma Farley</td>\n      <td></td>\n    </tr>\n    <tr>\n      <th>17</th>\n      <td>Harry Potter</td>\n      <td>Owen Cauldwell</td>\n      <td>Millicent Bagnold</td>\n      <td>Graham Pritchard</td>\n      <td></td>\n    </tr>\n    <tr>\n      <th>18</th>\n      <td>Jack Sloper</td>\n      <td>Pomona Sprout</td>\n      <td>Miss S. Fawcett</td>\n      <td>Gregory Goyle</td>\n      <td></td>\n    </tr>\n    <tr>\n      <th>19</th>\n      <td>James Potter</td>\n      <td>Silvanus Kettleburn</td>\n      <td>Moaning Myrtle</td>\n      <td>Harper</td>\n      <td></td>\n    </tr>\n    <tr>\n      <th>20</th>\n      <td>James Sirius Potter</td>\n      <td>Stebbins</td>\n      <td>Morag Macdougal</td>\n      <td>Horace Slughorn</td>\n      <td></td>\n    </tr>\n    <tr>\n      <th>21</th>\n      <td>Jimmy Peakes</td>\n      <td>Summerby</td>\n      <td>Orla Quirke</td>\n      <td>Lucius Malfoy</td>\n      <td></td>\n    </tr>\n    <tr>\n      <th>22</th>\n      <td>Katie Bell</td>\n      <td>Summers</td>\n      <td>Padma Patil</td>\n      <td>Malcolm Baddock</td>\n      <td></td>\n    </tr>\n    <tr>\n      <th>23</th>\n      <td>Kenneth Towler</td>\n      <td>Susan Bones</td>\n      <td>Penelope Clearwater</td>\n      <td>Marcus Flint</td>\n      <td></td>\n    </tr>\n    <tr>\n      <th>24</th>\n      <td>Lavender Brown</td>\n      <td>Teddy Lupin</td>\n      <td>Perpetua Fancourt</td>\n      <td>Merlin</td>\n      <td></td>\n    </tr>\n    <tr>\n      <th>25</th>\n      <td>Lee Jordan</td>\n      <td>The Fat Friar</td>\n      <td>Robert Hilliard</td>\n      <td>Miles Bletchley</td>\n      <td></td>\n    </tr>\n    <tr>\n      <th>26</th>\n      <td>Lily Potter</td>\n      <td>Zacharias Smith</td>\n      <td>Roger Davies</td>\n      <td>Millicent Bulstrode</td>\n      <td></td>\n    </tr>\n    <tr>\n      <th>27</th>\n      <td>Minerva McGonagall</td>\n      <td></td>\n      <td>Rowena Ravenclaw</td>\n      <td>Montague</td>\n      <td></td>\n    </tr>\n    <tr>\n      <th>28</th>\n      <td>Natalie McDonald</td>\n      <td></td>\n      <td>Stephen Cornfoot</td>\n      <td>Mulciber</td>\n      <td></td>\n    </tr>\n    <tr>\n      <th>29</th>\n      <td>Nearly-Headless Nick</td>\n      <td></td>\n      <td>Stewart Ackerley</td>\n      <td>Narcissa Malfoy</td>\n      <td></td>\n    </tr>\n    <tr>\n      <th>30</th>\n      <td>Neville Longbottom</td>\n      <td></td>\n      <td>Su Li</td>\n      <td>Nott</td>\n      <td></td>\n    </tr>\n    <tr>\n      <th>31</th>\n      <td>Oliver Wood</td>\n      <td></td>\n      <td>Terry Boot</td>\n      <td>Pansy Parkinson</td>\n      <td></td>\n    </tr>\n    <tr>\n      <th>32</th>\n      <td>Panju Weasley</td>\n      <td></td>\n      <td>The Grey Lady</td>\n      <td>Phineas Nigellus Black</td>\n      <td></td>\n    </tr>\n    <tr>\n      <th>33</th>\n      <td>Parvati Patil</td>\n      <td></td>\n      <td>Uric the Oddball</td>\n      <td>Rabastan Lestrange</td>\n      <td></td>\n    </tr>\n    <tr>\n      <th>34</th>\n      <td>Patricia Stimpson</td>\n      <td></td>\n      <td></td>\n      <td>Regulus Black</td>\n      <td></td>\n    </tr>\n    <tr>\n      <th>35</th>\n      <td>Percy Weasley</td>\n      <td></td>\n      <td></td>\n      <td>Rodolphus Lestrange</td>\n      <td></td>\n    </tr>\n    <tr>\n      <th>36</th>\n      <td>Peter Pettigrew</td>\n      <td></td>\n      <td></td>\n      <td>Salazar Slytherin</td>\n      <td></td>\n    </tr>\n    <tr>\n      <th>37</th>\n      <td>Remus Lupin</td>\n      <td></td>\n      <td></td>\n      <td>Scorpius Malfoy</td>\n      <td></td>\n    </tr>\n    <tr>\n      <th>38</th>\n      <td>Ritchie Coote</td>\n      <td></td>\n      <td></td>\n      <td>Severus Snape</td>\n      <td></td>\n    </tr>\n    <tr>\n      <th>39</th>\n      <td>Romilda Vane</td>\n      <td></td>\n      <td></td>\n      <td>Terence Higgs</td>\n      <td></td>\n    </tr>\n    <tr>\n      <th>40</th>\n      <td>Ron Weasley</td>\n      <td></td>\n      <td></td>\n      <td>The Bloody Baron</td>\n      <td></td>\n    </tr>\n    <tr>\n      <th>41</th>\n      <td>Rose Granger-Weasley</td>\n      <td></td>\n      <td></td>\n      <td>Theodore Nott</td>\n      <td></td>\n    </tr>\n    <tr>\n      <th>42</th>\n      <td>Rubeus Hagrid</td>\n      <td></td>\n      <td></td>\n      <td>Tom Marvolo Riddle</td>\n      <td></td>\n    </tr>\n    <tr>\n      <th>43</th>\n      <td>Seamus Finnigan</td>\n      <td></td>\n      <td></td>\n      <td>Urquhart</td>\n      <td></td>\n    </tr>\n    <tr>\n      <th>44</th>\n      <td>Sir Cadogan</td>\n      <td></td>\n      <td></td>\n      <td>Vaisey</td>\n      <td></td>\n    </tr>\n    <tr>\n      <th>45</th>\n      <td>Vicky Frobisher</td>\n      <td></td>\n      <td></td>\n      <td>Vincent Crabbe</td>\n      <td></td>\n    </tr>\n    <tr>\n      <th>46</th>\n      <td>Wormtail</td>\n      <td></td>\n      <td></td>\n      <td>Warrington</td>\n      <td></td>\n    </tr>\n    <tr>\n      <th>47</th>\n      <td>Yann Fredericks</td>\n      <td></td>\n      <td></td>\n      <td></td>\n      <td></td>\n    </tr>\n    <tr>\n      <th>48</th>\n      <td>Hermione Granger</td>\n      <td></td>\n      <td></td>\n      <td></td>\n      <td></td>\n    </tr>\n  </tbody>\n</table>\n</div>"
     },
     "metadata": {}
    }
   ],
   "execution_count": 17
  },
  {
   "cell_type": "code",
   "source": "# Save it to show on website\napp = dash.Dash(__name__)\n\napp.layout = dash_table.DataTable(\n    id='table',\n    columns=[{\"name\": i, \"id\": i} for i in df.columns],\n    data=df.to_dict('records'),\n)",
   "metadata": {
    "tags": [],
    "cell_id": "00005-9ef92c56-7db6-406c-b613-3596d95ce99f",
    "deepnote_cell_type": "code"
   },
   "outputs": [],
   "execution_count": null
  },
  {
   "cell_type": "markdown",
   "source": "<a style='text-decoration:none;line-height:16px;display:flex;color:#5B5B62;padding:10px;justify-content:end;' href='https://deepnote.com?utm_source=created-in-deepnote-cell&projectId=85fb65b4-b596-4730-837e-04e86eafe419' target=\"_blank\">\n<img alt='Created in deepnote.com' style='display:inline;max-height:16px;margin:0px;margin-right:7.5px;' src='data:image/svg+xml;base64,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' > </img>\nCreated in <span style='font-weight:600;margin-left:4px;'>Deepnote</span></a>",
   "metadata": {
    "tags": [],
    "created_in_deepnote_cell": true,
    "deepnote_cell_type": "markdown"
   }
  }
 ],
 "nbformat": 4,
 "nbformat_minor": 2,
 "metadata": {
  "orig_nbformat": 2,
  "deepnote": {
   "is_reactive": false
  },
  "deepnote_notebook_id": "11f1f308-a13b-4cf0-a465-f4669442ca0a",
  "deepnote_execution_queue": []
 }
}